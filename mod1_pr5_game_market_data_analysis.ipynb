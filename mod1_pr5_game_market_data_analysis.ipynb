{
 "cells": [
  {
   "cell_type": "markdown",
   "metadata": {},
   "source": [
    "# Сборный проект"
   ]
  },
  {
   "cell_type": "markdown",
   "metadata": {},
   "source": [
    "## Описание\n",
    "Работа с данными для интернет-магазина «Стримчик», который занимается продажей компьютерных игр. Необходимо по данным из открытых источников выявить определяющие успешность игры закономерности. Это позволит сделать ставку на потенциально популярный продукт и спланировать рекламные кампании. Работа проводится в декабре 2016 года с целью проведения рекламной компании на 2017 г.\n"
   ]
  },
  {
   "cell_type": "markdown",
   "metadata": {},
   "source": [
    "## План исследования\n",
    "* Подготовка данных\n",
    "* Исследовательский анализ данных\n",
    "* Подготовка портрета пользователя для разных регионов\n",
    "* Проверка гипотез"
   ]
  },
  {
   "cell_type": "markdown",
   "metadata": {},
   "source": [
    "## Данные\n",
    "Из открытых источников доступны исторические данные о продажах игр, оценки пользователей и экспертов, жанры и платформы (например, Xbox или PlayStation).\n",
    "\n",
    "**Особенности:**\n",
    "* Данные до 2016 года. Данные за 2016 год могут быть неполными.\n",
    "* В наборе данных попадается аббревиатура ESRB (Entertainment Software Rating Board) — это ассоциация, определяющая возрастной рейтинг компьютерных игр. ESRB оценивает игровой контент и присваивает ему подходящую возрастную категорию, например, «Для взрослых», «Для детей младшего возраста» или «Для подростков».\n",
    "\n"
   ]
  },
  {
   "cell_type": "code",
   "execution_count": 1,
   "metadata": {},
   "outputs": [],
   "source": [
    "# Импорты\n",
    "import pandas as pd\n",
    "import numpy as np\n",
    "import scipy.stats as st\n",
    "from scipy.stats import binom, norm\n",
    "from matplotlib import pyplot as plt"
   ]
  },
  {
   "cell_type": "code",
   "execution_count": 2,
   "metadata": {},
   "outputs": [],
   "source": [
    "# Настройки\n",
    "pd.set_option('display.max_columns', None)\n",
    "pd.set_option('display.max_rows', None)\n",
    "pd.set_option('display.float_format', '{:.2f}'.format)"
   ]
  },
  {
   "cell_type": "markdown",
   "metadata": {},
   "source": [
    "## Загрузка данных"
   ]
  },
  {
   "cell_type": "code",
   "execution_count": 3,
   "metadata": {},
   "outputs": [
    {
     "data": {
      "text/plain": [
       "'Датасеты из Практикума загружены.'"
      ]
     },
     "metadata": {},
     "output_type": "display_data"
    },
    {
     "data": {
      "text/plain": [
       "(16715, 11)"
      ]
     },
     "execution_count": 3,
     "metadata": {},
     "output_type": "execute_result"
    }
   ],
   "source": [
    "# Загрузка данных\n",
    "try:\n",
    "    # Практикум\n",
    "    original_df = pd.read_csv('/datasets/games.csv')\n",
    "    display('Датасеты из Практикума загружены.')\n",
    "except:\n",
    "    # Локальный проект\n",
    "    original_df = pd.read_csv('datasets/games.csv')\n",
    "    display('Локальные датасеты загружены.')\n",
    "\n",
    "original_df.shape"
   ]
  },
  {
   "cell_type": "markdown",
   "metadata": {},
   "source": [
    "**Описание столбцов:**\n",
    "* Name — название игры\n",
    "* Platform — платформа\n",
    "* Year_of_Release — год выпуска\n",
    "* Genre — жанр игры\n",
    "* NA_sales — продажи в Северной Америке (миллионы проданных копий)\n",
    "* EU_sales — продажи в Европе (миллионы проданных копий)\n",
    "* JP_sales — продажи в Японии (миллионы проданных копий)\n",
    "* Other_sales — продажи в других странах (миллионы проданных копий)\n",
    "* Critic_Score — оценка критиков (максимум 100)\n",
    "* User_Score — оценка пользователей (максимум 10)\n",
    "* Rating — рейтинг от организации ESRB (англ. Entertainment Software Rating Board). Эта ассоциация определяет рейтинг компьютерных игр и присваивает им подходящую возрастную категорию."
   ]
  },
  {
   "cell_type": "code",
   "execution_count": 4,
   "metadata": {},
   "outputs": [
    {
     "data": {
      "text/html": [
       "<div>\n",
       "<style scoped>\n",
       "    .dataframe tbody tr th:only-of-type {\n",
       "        vertical-align: middle;\n",
       "    }\n",
       "\n",
       "    .dataframe tbody tr th {\n",
       "        vertical-align: top;\n",
       "    }\n",
       "\n",
       "    .dataframe thead th {\n",
       "        text-align: right;\n",
       "    }\n",
       "</style>\n",
       "<table border=\"1\" class=\"dataframe\">\n",
       "  <thead>\n",
       "    <tr style=\"text-align: right;\">\n",
       "      <th></th>\n",
       "      <th>Name</th>\n",
       "      <th>Platform</th>\n",
       "      <th>Year_of_Release</th>\n",
       "      <th>Genre</th>\n",
       "      <th>NA_sales</th>\n",
       "      <th>EU_sales</th>\n",
       "      <th>JP_sales</th>\n",
       "      <th>Other_sales</th>\n",
       "      <th>Critic_Score</th>\n",
       "      <th>User_Score</th>\n",
       "      <th>Rating</th>\n",
       "    </tr>\n",
       "  </thead>\n",
       "  <tbody>\n",
       "    <tr>\n",
       "      <th>0</th>\n",
       "      <td>Wii Sports</td>\n",
       "      <td>Wii</td>\n",
       "      <td>2006.00</td>\n",
       "      <td>Sports</td>\n",
       "      <td>41.36</td>\n",
       "      <td>28.96</td>\n",
       "      <td>3.77</td>\n",
       "      <td>8.45</td>\n",
       "      <td>76.00</td>\n",
       "      <td>8</td>\n",
       "      <td>E</td>\n",
       "    </tr>\n",
       "    <tr>\n",
       "      <th>1</th>\n",
       "      <td>Super Mario Bros.</td>\n",
       "      <td>NES</td>\n",
       "      <td>1985.00</td>\n",
       "      <td>Platform</td>\n",
       "      <td>29.08</td>\n",
       "      <td>3.58</td>\n",
       "      <td>6.81</td>\n",
       "      <td>0.77</td>\n",
       "      <td>NaN</td>\n",
       "      <td>NaN</td>\n",
       "      <td>NaN</td>\n",
       "    </tr>\n",
       "    <tr>\n",
       "      <th>2</th>\n",
       "      <td>Mario Kart Wii</td>\n",
       "      <td>Wii</td>\n",
       "      <td>2008.00</td>\n",
       "      <td>Racing</td>\n",
       "      <td>15.68</td>\n",
       "      <td>12.76</td>\n",
       "      <td>3.79</td>\n",
       "      <td>3.29</td>\n",
       "      <td>82.00</td>\n",
       "      <td>8.3</td>\n",
       "      <td>E</td>\n",
       "    </tr>\n",
       "    <tr>\n",
       "      <th>3</th>\n",
       "      <td>Wii Sports Resort</td>\n",
       "      <td>Wii</td>\n",
       "      <td>2009.00</td>\n",
       "      <td>Sports</td>\n",
       "      <td>15.61</td>\n",
       "      <td>10.93</td>\n",
       "      <td>3.28</td>\n",
       "      <td>2.95</td>\n",
       "      <td>80.00</td>\n",
       "      <td>8</td>\n",
       "      <td>E</td>\n",
       "    </tr>\n",
       "    <tr>\n",
       "      <th>4</th>\n",
       "      <td>Pokemon Red/Pokemon Blue</td>\n",
       "      <td>GB</td>\n",
       "      <td>1996.00</td>\n",
       "      <td>Role-Playing</td>\n",
       "      <td>11.27</td>\n",
       "      <td>8.89</td>\n",
       "      <td>10.22</td>\n",
       "      <td>1.00</td>\n",
       "      <td>NaN</td>\n",
       "      <td>NaN</td>\n",
       "      <td>NaN</td>\n",
       "    </tr>\n",
       "  </tbody>\n",
       "</table>\n",
       "</div>"
      ],
      "text/plain": [
       "                       Name Platform  Year_of_Release         Genre  NA_sales  \\\n",
       "0                Wii Sports      Wii          2006.00        Sports     41.36   \n",
       "1         Super Mario Bros.      NES          1985.00      Platform     29.08   \n",
       "2            Mario Kart Wii      Wii          2008.00        Racing     15.68   \n",
       "3         Wii Sports Resort      Wii          2009.00        Sports     15.61   \n",
       "4  Pokemon Red/Pokemon Blue       GB          1996.00  Role-Playing     11.27   \n",
       "\n",
       "   EU_sales  JP_sales  Other_sales  Critic_Score User_Score Rating  \n",
       "0     28.96      3.77         8.45         76.00          8      E  \n",
       "1      3.58      6.81         0.77           NaN        NaN    NaN  \n",
       "2     12.76      3.79         3.29         82.00        8.3      E  \n",
       "3     10.93      3.28         2.95         80.00          8      E  \n",
       "4      8.89     10.22         1.00           NaN        NaN    NaN  "
      ]
     },
     "execution_count": 4,
     "metadata": {},
     "output_type": "execute_result"
    }
   ],
   "source": [
    "original_df.head()"
   ]
  },
  {
   "cell_type": "code",
   "execution_count": 5,
   "metadata": {},
   "outputs": [
    {
     "name": "stdout",
     "output_type": "stream",
     "text": [
      "<class 'pandas.core.frame.DataFrame'>\n",
      "RangeIndex: 16715 entries, 0 to 16714\n",
      "Data columns (total 11 columns):\n",
      " #   Column           Non-Null Count  Dtype  \n",
      "---  ------           --------------  -----  \n",
      " 0   Name             16713 non-null  object \n",
      " 1   Platform         16715 non-null  object \n",
      " 2   Year_of_Release  16446 non-null  float64\n",
      " 3   Genre            16713 non-null  object \n",
      " 4   NA_sales         16715 non-null  float64\n",
      " 5   EU_sales         16715 non-null  float64\n",
      " 6   JP_sales         16715 non-null  float64\n",
      " 7   Other_sales      16715 non-null  float64\n",
      " 8   Critic_Score     8137 non-null   float64\n",
      " 9   User_Score       10014 non-null  object \n",
      " 10  Rating           9949 non-null   object \n",
      "dtypes: float64(6), object(5)\n",
      "memory usage: 1.4+ MB\n"
     ]
    }
   ],
   "source": [
    "original_df.info()"
   ]
  },
  {
   "cell_type": "markdown",
   "metadata": {},
   "source": [
    "**Необходимо провести подготовку данных:**\n",
    "* Наименования столбцов лучше привести к стандарту\n",
    "* Необходимо убедиться в отсутствии дублей (явных и неявных)\n",
    "* Некорректно определились типы по некоторым столбцам\n",
    "* Имеются столбцы со значительной долей пропусков"
   ]
  },
  {
   "cell_type": "markdown",
   "metadata": {},
   "source": [
    "## Подготовка данных"
   ]
  },
  {
   "cell_type": "code",
   "execution_count": 6,
   "metadata": {},
   "outputs": [
    {
     "data": {
      "text/html": [
       "<div>\n",
       "<style scoped>\n",
       "    .dataframe tbody tr th:only-of-type {\n",
       "        vertical-align: middle;\n",
       "    }\n",
       "\n",
       "    .dataframe tbody tr th {\n",
       "        vertical-align: top;\n",
       "    }\n",
       "\n",
       "    .dataframe thead th {\n",
       "        text-align: right;\n",
       "    }\n",
       "</style>\n",
       "<table border=\"1\" class=\"dataframe\">\n",
       "  <thead>\n",
       "    <tr style=\"text-align: right;\">\n",
       "      <th></th>\n",
       "      <th>Name</th>\n",
       "      <th>Platform</th>\n",
       "      <th>Year_of_Release</th>\n",
       "      <th>Genre</th>\n",
       "      <th>NA_sales</th>\n",
       "      <th>EU_sales</th>\n",
       "      <th>JP_sales</th>\n",
       "      <th>Other_sales</th>\n",
       "      <th>Critic_Score</th>\n",
       "      <th>User_Score</th>\n",
       "      <th>Rating</th>\n",
       "    </tr>\n",
       "  </thead>\n",
       "  <tbody>\n",
       "    <tr>\n",
       "      <th>0</th>\n",
       "      <td>Wii Sports</td>\n",
       "      <td>Wii</td>\n",
       "      <td>2006.00</td>\n",
       "      <td>Sports</td>\n",
       "      <td>41.36</td>\n",
       "      <td>28.96</td>\n",
       "      <td>3.77</td>\n",
       "      <td>8.45</td>\n",
       "      <td>76.00</td>\n",
       "      <td>8</td>\n",
       "      <td>E</td>\n",
       "    </tr>\n",
       "    <tr>\n",
       "      <th>1</th>\n",
       "      <td>Super Mario Bros.</td>\n",
       "      <td>NES</td>\n",
       "      <td>1985.00</td>\n",
       "      <td>Platform</td>\n",
       "      <td>29.08</td>\n",
       "      <td>3.58</td>\n",
       "      <td>6.81</td>\n",
       "      <td>0.77</td>\n",
       "      <td>NaN</td>\n",
       "      <td>NaN</td>\n",
       "      <td>NaN</td>\n",
       "    </tr>\n",
       "    <tr>\n",
       "      <th>2</th>\n",
       "      <td>Mario Kart Wii</td>\n",
       "      <td>Wii</td>\n",
       "      <td>2008.00</td>\n",
       "      <td>Racing</td>\n",
       "      <td>15.68</td>\n",
       "      <td>12.76</td>\n",
       "      <td>3.79</td>\n",
       "      <td>3.29</td>\n",
       "      <td>82.00</td>\n",
       "      <td>8.3</td>\n",
       "      <td>E</td>\n",
       "    </tr>\n",
       "    <tr>\n",
       "      <th>3</th>\n",
       "      <td>Wii Sports Resort</td>\n",
       "      <td>Wii</td>\n",
       "      <td>2009.00</td>\n",
       "      <td>Sports</td>\n",
       "      <td>15.61</td>\n",
       "      <td>10.93</td>\n",
       "      <td>3.28</td>\n",
       "      <td>2.95</td>\n",
       "      <td>80.00</td>\n",
       "      <td>8</td>\n",
       "      <td>E</td>\n",
       "    </tr>\n",
       "    <tr>\n",
       "      <th>4</th>\n",
       "      <td>Pokemon Red/Pokemon Blue</td>\n",
       "      <td>GB</td>\n",
       "      <td>1996.00</td>\n",
       "      <td>Role-Playing</td>\n",
       "      <td>11.27</td>\n",
       "      <td>8.89</td>\n",
       "      <td>10.22</td>\n",
       "      <td>1.00</td>\n",
       "      <td>NaN</td>\n",
       "      <td>NaN</td>\n",
       "      <td>NaN</td>\n",
       "    </tr>\n",
       "  </tbody>\n",
       "</table>\n",
       "</div>"
      ],
      "text/plain": [
       "                       Name Platform  Year_of_Release         Genre  NA_sales  \\\n",
       "0                Wii Sports      Wii          2006.00        Sports     41.36   \n",
       "1         Super Mario Bros.      NES          1985.00      Platform     29.08   \n",
       "2            Mario Kart Wii      Wii          2008.00        Racing     15.68   \n",
       "3         Wii Sports Resort      Wii          2009.00        Sports     15.61   \n",
       "4  Pokemon Red/Pokemon Blue       GB          1996.00  Role-Playing     11.27   \n",
       "\n",
       "   EU_sales  JP_sales  Other_sales  Critic_Score User_Score Rating  \n",
       "0     28.96      3.77         8.45         76.00          8      E  \n",
       "1      3.58      6.81         0.77           NaN        NaN    NaN  \n",
       "2     12.76      3.79         3.29         82.00        8.3      E  \n",
       "3     10.93      3.28         2.95         80.00          8      E  \n",
       "4      8.89     10.22         1.00           NaN        NaN    NaN  "
      ]
     },
     "execution_count": 6,
     "metadata": {},
     "output_type": "execute_result"
    }
   ],
   "source": [
    "# Создаем рабочий датафрейм\n",
    "df = original_df.copy()\n",
    "df.head()"
   ]
  },
  {
   "cell_type": "code",
   "execution_count": 7,
   "metadata": {},
   "outputs": [
    {
     "name": "stdout",
     "output_type": "stream",
     "text": [
      "<class 'pandas.core.frame.DataFrame'>\n",
      "RangeIndex: 16715 entries, 0 to 16714\n",
      "Data columns (total 11 columns):\n",
      " #   Column           Non-Null Count  Dtype  \n",
      "---  ------           --------------  -----  \n",
      " 0   name             16713 non-null  object \n",
      " 1   platform         16715 non-null  object \n",
      " 2   year_of_release  16446 non-null  float64\n",
      " 3   genre            16713 non-null  object \n",
      " 4   na_sales         16715 non-null  float64\n",
      " 5   eu_sales         16715 non-null  float64\n",
      " 6   jp_sales         16715 non-null  float64\n",
      " 7   other_sales      16715 non-null  float64\n",
      " 8   critic_score     8137 non-null   float64\n",
      " 9   user_score       10014 non-null  object \n",
      " 10  rating           9949 non-null   object \n",
      "dtypes: float64(6), object(5)\n",
      "memory usage: 1.4+ MB\n"
     ]
    }
   ],
   "source": [
    "# Переименовываем столбцы\n",
    "df.columns = ['name', 'platform', 'year_of_release', 'genre', 'na_sales', 'eu_sales',\n",
    "       'jp_sales', 'other_sales', 'critic_score', 'user_score', 'rating']\n",
    "df.info()"
   ]
  },
  {
   "cell_type": "code",
   "execution_count": 8,
   "metadata": {},
   "outputs": [
    {
     "data": {
      "text/plain": [
       "0"
      ]
     },
     "execution_count": 8,
     "metadata": {},
     "output_type": "execute_result"
    }
   ],
   "source": [
    "# Проверяем на наличие прямых дублей\n",
    "df.duplicated().sum()"
   ]
  },
  {
   "cell_type": "code",
   "execution_count": 9,
   "metadata": {},
   "outputs": [
    {
     "data": {
      "text/html": [
       "<div>\n",
       "<style scoped>\n",
       "    .dataframe tbody tr th:only-of-type {\n",
       "        vertical-align: middle;\n",
       "    }\n",
       "\n",
       "    .dataframe tbody tr th {\n",
       "        vertical-align: top;\n",
       "    }\n",
       "\n",
       "    .dataframe thead th {\n",
       "        text-align: right;\n",
       "    }\n",
       "</style>\n",
       "<table border=\"1\" class=\"dataframe\">\n",
       "  <thead>\n",
       "    <tr style=\"text-align: right;\">\n",
       "      <th></th>\n",
       "      <th>name</th>\n",
       "      <th>platform</th>\n",
       "      <th>year_of_release</th>\n",
       "      <th>genre</th>\n",
       "      <th>na_sales</th>\n",
       "      <th>eu_sales</th>\n",
       "      <th>jp_sales</th>\n",
       "      <th>other_sales</th>\n",
       "      <th>critic_score</th>\n",
       "      <th>user_score</th>\n",
       "      <th>rating</th>\n",
       "    </tr>\n",
       "  </thead>\n",
       "  <tbody>\n",
       "    <tr>\n",
       "      <th>604</th>\n",
       "      <td>Madden NFL 13</td>\n",
       "      <td>PS3</td>\n",
       "      <td>2012.00</td>\n",
       "      <td>Sports</td>\n",
       "      <td>2.11</td>\n",
       "      <td>0.22</td>\n",
       "      <td>0.00</td>\n",
       "      <td>0.23</td>\n",
       "      <td>83.00</td>\n",
       "      <td>5.5</td>\n",
       "      <td>E</td>\n",
       "    </tr>\n",
       "    <tr>\n",
       "      <th>659</th>\n",
       "      <td>NaN</td>\n",
       "      <td>GEN</td>\n",
       "      <td>1993.00</td>\n",
       "      <td>NaN</td>\n",
       "      <td>1.78</td>\n",
       "      <td>0.53</td>\n",
       "      <td>0.00</td>\n",
       "      <td>0.08</td>\n",
       "      <td>NaN</td>\n",
       "      <td>NaN</td>\n",
       "      <td>NaN</td>\n",
       "    </tr>\n",
       "    <tr>\n",
       "      <th>1190</th>\n",
       "      <td>Need for Speed: Most Wanted</td>\n",
       "      <td>X360</td>\n",
       "      <td>2012.00</td>\n",
       "      <td>Racing</td>\n",
       "      <td>0.62</td>\n",
       "      <td>0.78</td>\n",
       "      <td>0.01</td>\n",
       "      <td>0.15</td>\n",
       "      <td>83.00</td>\n",
       "      <td>8.5</td>\n",
       "      <td>T</td>\n",
       "    </tr>\n",
       "    <tr>\n",
       "      <th>1591</th>\n",
       "      <td>Need for Speed: Most Wanted</td>\n",
       "      <td>X360</td>\n",
       "      <td>2005.00</td>\n",
       "      <td>Racing</td>\n",
       "      <td>1.00</td>\n",
       "      <td>0.13</td>\n",
       "      <td>0.02</td>\n",
       "      <td>0.10</td>\n",
       "      <td>83.00</td>\n",
       "      <td>8.5</td>\n",
       "      <td>T</td>\n",
       "    </tr>\n",
       "    <tr>\n",
       "      <th>1745</th>\n",
       "      <td>Sonic the Hedgehog</td>\n",
       "      <td>PS3</td>\n",
       "      <td>2006.00</td>\n",
       "      <td>Platform</td>\n",
       "      <td>0.41</td>\n",
       "      <td>0.06</td>\n",
       "      <td>0.04</td>\n",
       "      <td>0.66</td>\n",
       "      <td>43.00</td>\n",
       "      <td>4.1</td>\n",
       "      <td>E10+</td>\n",
       "    </tr>\n",
       "    <tr>\n",
       "      <th>4127</th>\n",
       "      <td>Sonic the Hedgehog</td>\n",
       "      <td>PS3</td>\n",
       "      <td>NaN</td>\n",
       "      <td>Platform</td>\n",
       "      <td>0.00</td>\n",
       "      <td>0.48</td>\n",
       "      <td>0.00</td>\n",
       "      <td>0.00</td>\n",
       "      <td>43.00</td>\n",
       "      <td>4.1</td>\n",
       "      <td>E10+</td>\n",
       "    </tr>\n",
       "    <tr>\n",
       "      <th>5972</th>\n",
       "      <td>Need for Speed: Most Wanted</td>\n",
       "      <td>PC</td>\n",
       "      <td>2005.00</td>\n",
       "      <td>Racing</td>\n",
       "      <td>0.02</td>\n",
       "      <td>0.23</td>\n",
       "      <td>0.00</td>\n",
       "      <td>0.04</td>\n",
       "      <td>82.00</td>\n",
       "      <td>8.5</td>\n",
       "      <td>T</td>\n",
       "    </tr>\n",
       "    <tr>\n",
       "      <th>11715</th>\n",
       "      <td>Need for Speed: Most Wanted</td>\n",
       "      <td>PC</td>\n",
       "      <td>2012.00</td>\n",
       "      <td>Racing</td>\n",
       "      <td>0.00</td>\n",
       "      <td>0.06</td>\n",
       "      <td>0.00</td>\n",
       "      <td>0.02</td>\n",
       "      <td>82.00</td>\n",
       "      <td>8.5</td>\n",
       "      <td>T</td>\n",
       "    </tr>\n",
       "    <tr>\n",
       "      <th>14244</th>\n",
       "      <td>NaN</td>\n",
       "      <td>GEN</td>\n",
       "      <td>1993.00</td>\n",
       "      <td>NaN</td>\n",
       "      <td>0.00</td>\n",
       "      <td>0.00</td>\n",
       "      <td>0.03</td>\n",
       "      <td>0.00</td>\n",
       "      <td>NaN</td>\n",
       "      <td>NaN</td>\n",
       "      <td>NaN</td>\n",
       "    </tr>\n",
       "    <tr>\n",
       "      <th>16230</th>\n",
       "      <td>Madden NFL 13</td>\n",
       "      <td>PS3</td>\n",
       "      <td>2012.00</td>\n",
       "      <td>Sports</td>\n",
       "      <td>0.00</td>\n",
       "      <td>0.01</td>\n",
       "      <td>0.00</td>\n",
       "      <td>0.00</td>\n",
       "      <td>83.00</td>\n",
       "      <td>5.5</td>\n",
       "      <td>E</td>\n",
       "    </tr>\n",
       "  </tbody>\n",
       "</table>\n",
       "</div>"
      ],
      "text/plain": [
       "                              name platform  year_of_release     genre  \\\n",
       "604                  Madden NFL 13      PS3          2012.00    Sports   \n",
       "659                            NaN      GEN          1993.00       NaN   \n",
       "1190   Need for Speed: Most Wanted     X360          2012.00    Racing   \n",
       "1591   Need for Speed: Most Wanted     X360          2005.00    Racing   \n",
       "1745            Sonic the Hedgehog      PS3          2006.00  Platform   \n",
       "4127            Sonic the Hedgehog      PS3              NaN  Platform   \n",
       "5972   Need for Speed: Most Wanted       PC          2005.00    Racing   \n",
       "11715  Need for Speed: Most Wanted       PC          2012.00    Racing   \n",
       "14244                          NaN      GEN          1993.00       NaN   \n",
       "16230                Madden NFL 13      PS3          2012.00    Sports   \n",
       "\n",
       "       na_sales  eu_sales  jp_sales  other_sales  critic_score user_score  \\\n",
       "604        2.11      0.22      0.00         0.23         83.00        5.5   \n",
       "659        1.78      0.53      0.00         0.08           NaN        NaN   \n",
       "1190       0.62      0.78      0.01         0.15         83.00        8.5   \n",
       "1591       1.00      0.13      0.02         0.10         83.00        8.5   \n",
       "1745       0.41      0.06      0.04         0.66         43.00        4.1   \n",
       "4127       0.00      0.48      0.00         0.00         43.00        4.1   \n",
       "5972       0.02      0.23      0.00         0.04         82.00        8.5   \n",
       "11715      0.00      0.06      0.00         0.02         82.00        8.5   \n",
       "14244      0.00      0.00      0.03         0.00           NaN        NaN   \n",
       "16230      0.00      0.01      0.00         0.00         83.00        5.5   \n",
       "\n",
       "      rating  \n",
       "604        E  \n",
       "659      NaN  \n",
       "1190       T  \n",
       "1591       T  \n",
       "1745    E10+  \n",
       "4127    E10+  \n",
       "5972       T  \n",
       "11715      T  \n",
       "14244    NaN  \n",
       "16230      E  "
      ]
     },
     "execution_count": 9,
     "metadata": {},
     "output_type": "execute_result"
    }
   ],
   "source": [
    "# Проверим на дубли связки имя+платформа.\n",
    "df[df[['name', 'platform']].duplicated(keep=False)]"
   ]
  },
  {
   "cell_type": "code",
   "execution_count": 10,
   "metadata": {},
   "outputs": [
    {
     "data": {
      "text/html": [
       "<div>\n",
       "<style scoped>\n",
       "    .dataframe tbody tr th:only-of-type {\n",
       "        vertical-align: middle;\n",
       "    }\n",
       "\n",
       "    .dataframe tbody tr th {\n",
       "        vertical-align: top;\n",
       "    }\n",
       "\n",
       "    .dataframe thead th {\n",
       "        text-align: right;\n",
       "    }\n",
       "</style>\n",
       "<table border=\"1\" class=\"dataframe\">\n",
       "  <thead>\n",
       "    <tr style=\"text-align: right;\">\n",
       "      <th></th>\n",
       "      <th>name</th>\n",
       "      <th>platform</th>\n",
       "      <th>year_of_release</th>\n",
       "      <th>genre</th>\n",
       "      <th>na_sales</th>\n",
       "      <th>eu_sales</th>\n",
       "      <th>jp_sales</th>\n",
       "      <th>other_sales</th>\n",
       "      <th>critic_score</th>\n",
       "      <th>user_score</th>\n",
       "      <th>rating</th>\n",
       "    </tr>\n",
       "  </thead>\n",
       "  <tbody>\n",
       "    <tr>\n",
       "      <th>1190</th>\n",
       "      <td>Need for Speed: Most Wanted</td>\n",
       "      <td>X360</td>\n",
       "      <td>2012.00</td>\n",
       "      <td>Racing</td>\n",
       "      <td>0.62</td>\n",
       "      <td>0.78</td>\n",
       "      <td>0.01</td>\n",
       "      <td>0.15</td>\n",
       "      <td>83.00</td>\n",
       "      <td>8.5</td>\n",
       "      <td>T</td>\n",
       "    </tr>\n",
       "    <tr>\n",
       "      <th>1591</th>\n",
       "      <td>Need for Speed: Most Wanted</td>\n",
       "      <td>X360</td>\n",
       "      <td>2005.00</td>\n",
       "      <td>Racing</td>\n",
       "      <td>1.00</td>\n",
       "      <td>0.13</td>\n",
       "      <td>0.02</td>\n",
       "      <td>0.10</td>\n",
       "      <td>83.00</td>\n",
       "      <td>8.5</td>\n",
       "      <td>T</td>\n",
       "    </tr>\n",
       "  </tbody>\n",
       "</table>\n",
       "</div>"
      ],
      "text/plain": [
       "                             name platform  year_of_release   genre  na_sales  \\\n",
       "1190  Need for Speed: Most Wanted     X360          2012.00  Racing      0.62   \n",
       "1591  Need for Speed: Most Wanted     X360          2005.00  Racing      1.00   \n",
       "\n",
       "      eu_sales  jp_sales  other_sales  critic_score user_score rating  \n",
       "1190      0.78      0.01         0.15         83.00        8.5      T  \n",
       "1591      0.13      0.02         0.10         83.00        8.5      T  "
      ]
     },
     "metadata": {},
     "output_type": "display_data"
    },
    {
     "data": {
      "text/html": [
       "<div>\n",
       "<style scoped>\n",
       "    .dataframe tbody tr th:only-of-type {\n",
       "        vertical-align: middle;\n",
       "    }\n",
       "\n",
       "    .dataframe tbody tr th {\n",
       "        vertical-align: top;\n",
       "    }\n",
       "\n",
       "    .dataframe thead th {\n",
       "        text-align: right;\n",
       "    }\n",
       "</style>\n",
       "<table border=\"1\" class=\"dataframe\">\n",
       "  <thead>\n",
       "    <tr style=\"text-align: right;\">\n",
       "      <th></th>\n",
       "      <th>name</th>\n",
       "      <th>platform</th>\n",
       "      <th>year_of_release</th>\n",
       "      <th>genre</th>\n",
       "      <th>na_sales</th>\n",
       "      <th>eu_sales</th>\n",
       "      <th>jp_sales</th>\n",
       "      <th>other_sales</th>\n",
       "      <th>critic_score</th>\n",
       "      <th>user_score</th>\n",
       "      <th>rating</th>\n",
       "    </tr>\n",
       "  </thead>\n",
       "  <tbody>\n",
       "    <tr>\n",
       "      <th>5972</th>\n",
       "      <td>Need for Speed: Most Wanted</td>\n",
       "      <td>PC</td>\n",
       "      <td>2005.00</td>\n",
       "      <td>Racing</td>\n",
       "      <td>0.02</td>\n",
       "      <td>0.23</td>\n",
       "      <td>0.00</td>\n",
       "      <td>0.04</td>\n",
       "      <td>82.00</td>\n",
       "      <td>8.5</td>\n",
       "      <td>T</td>\n",
       "    </tr>\n",
       "    <tr>\n",
       "      <th>11715</th>\n",
       "      <td>Need for Speed: Most Wanted</td>\n",
       "      <td>PC</td>\n",
       "      <td>2012.00</td>\n",
       "      <td>Racing</td>\n",
       "      <td>0.00</td>\n",
       "      <td>0.06</td>\n",
       "      <td>0.00</td>\n",
       "      <td>0.02</td>\n",
       "      <td>82.00</td>\n",
       "      <td>8.5</td>\n",
       "      <td>T</td>\n",
       "    </tr>\n",
       "  </tbody>\n",
       "</table>\n",
       "</div>"
      ],
      "text/plain": [
       "                              name platform  year_of_release   genre  \\\n",
       "5972   Need for Speed: Most Wanted       PC          2005.00  Racing   \n",
       "11715  Need for Speed: Most Wanted       PC          2012.00  Racing   \n",
       "\n",
       "       na_sales  eu_sales  jp_sales  other_sales  critic_score user_score  \\\n",
       "5972       0.02      0.23      0.00         0.04         82.00        8.5   \n",
       "11715      0.00      0.06      0.00         0.02         82.00        8.5   \n",
       "\n",
       "      rating  \n",
       "5972       T  \n",
       "11715      T  "
      ]
     },
     "execution_count": 10,
     "metadata": {},
     "output_type": "execute_result"
    }
   ],
   "source": [
    "# NFS MV 2012 года это перезапуск на новом движке. Не трогаем как на X360, так и на PC.\n",
    "display(df[(df['name'] == 'Need for Speed: Most Wanted') & (df['platform'] == 'X360')])\n",
    "df[(df['name'] == 'Need for Speed: Most Wanted') & (df['platform'] == 'PC')]"
   ]
  },
  {
   "cell_type": "code",
   "execution_count": 11,
   "metadata": {},
   "outputs": [
    {
     "data": {
      "text/html": [
       "<div>\n",
       "<style scoped>\n",
       "    .dataframe tbody tr th:only-of-type {\n",
       "        vertical-align: middle;\n",
       "    }\n",
       "\n",
       "    .dataframe tbody tr th {\n",
       "        vertical-align: top;\n",
       "    }\n",
       "\n",
       "    .dataframe thead th {\n",
       "        text-align: right;\n",
       "    }\n",
       "</style>\n",
       "<table border=\"1\" class=\"dataframe\">\n",
       "  <thead>\n",
       "    <tr style=\"text-align: right;\">\n",
       "      <th></th>\n",
       "      <th>name</th>\n",
       "      <th>platform</th>\n",
       "      <th>year_of_release</th>\n",
       "      <th>genre</th>\n",
       "      <th>na_sales</th>\n",
       "      <th>eu_sales</th>\n",
       "      <th>jp_sales</th>\n",
       "      <th>other_sales</th>\n",
       "      <th>critic_score</th>\n",
       "      <th>user_score</th>\n",
       "      <th>rating</th>\n",
       "    </tr>\n",
       "  </thead>\n",
       "  <tbody>\n",
       "    <tr>\n",
       "      <th>1745</th>\n",
       "      <td>Sonic the Hedgehog</td>\n",
       "      <td>PS3</td>\n",
       "      <td>2006.00</td>\n",
       "      <td>Platform</td>\n",
       "      <td>0.41</td>\n",
       "      <td>0.06</td>\n",
       "      <td>0.04</td>\n",
       "      <td>0.66</td>\n",
       "      <td>43.00</td>\n",
       "      <td>4.1</td>\n",
       "      <td>E10+</td>\n",
       "    </tr>\n",
       "    <tr>\n",
       "      <th>4127</th>\n",
       "      <td>Sonic the Hedgehog</td>\n",
       "      <td>PS3</td>\n",
       "      <td>NaN</td>\n",
       "      <td>Platform</td>\n",
       "      <td>0.00</td>\n",
       "      <td>0.48</td>\n",
       "      <td>0.00</td>\n",
       "      <td>0.00</td>\n",
       "      <td>43.00</td>\n",
       "      <td>4.1</td>\n",
       "      <td>E10+</td>\n",
       "    </tr>\n",
       "  </tbody>\n",
       "</table>\n",
       "</div>"
      ],
      "text/plain": [
       "                    name platform  year_of_release     genre  na_sales  \\\n",
       "1745  Sonic the Hedgehog      PS3          2006.00  Platform      0.41   \n",
       "4127  Sonic the Hedgehog      PS3              NaN  Platform      0.00   \n",
       "\n",
       "      eu_sales  jp_sales  other_sales  critic_score user_score rating  \n",
       "1745      0.06      0.04         0.66         43.00        4.1   E10+  \n",
       "4127      0.48      0.00         0.00         43.00        4.1   E10+  "
      ]
     },
     "metadata": {},
     "output_type": "display_data"
    },
    {
     "data": {
      "text/plain": [
       "(16715, 11)"
      ]
     },
     "metadata": {},
     "output_type": "display_data"
    },
    {
     "data": {
      "text/plain": [
       "(16714, 11)"
      ]
     },
     "metadata": {},
     "output_type": "display_data"
    },
    {
     "data": {
      "text/html": [
       "<div>\n",
       "<style scoped>\n",
       "    .dataframe tbody tr th:only-of-type {\n",
       "        vertical-align: middle;\n",
       "    }\n",
       "\n",
       "    .dataframe tbody tr th {\n",
       "        vertical-align: top;\n",
       "    }\n",
       "\n",
       "    .dataframe thead th {\n",
       "        text-align: right;\n",
       "    }\n",
       "</style>\n",
       "<table border=\"1\" class=\"dataframe\">\n",
       "  <thead>\n",
       "    <tr style=\"text-align: right;\">\n",
       "      <th></th>\n",
       "      <th>name</th>\n",
       "      <th>platform</th>\n",
       "      <th>year_of_release</th>\n",
       "      <th>genre</th>\n",
       "      <th>na_sales</th>\n",
       "      <th>eu_sales</th>\n",
       "      <th>jp_sales</th>\n",
       "      <th>other_sales</th>\n",
       "      <th>critic_score</th>\n",
       "      <th>user_score</th>\n",
       "      <th>rating</th>\n",
       "    </tr>\n",
       "  </thead>\n",
       "  <tbody>\n",
       "    <tr>\n",
       "      <th>1745</th>\n",
       "      <td>Sonic the Hedgehog</td>\n",
       "      <td>PS3</td>\n",
       "      <td>2006.00</td>\n",
       "      <td>Platform</td>\n",
       "      <td>0.41</td>\n",
       "      <td>0.06</td>\n",
       "      <td>0.04</td>\n",
       "      <td>0.66</td>\n",
       "      <td>43.00</td>\n",
       "      <td>4.1</td>\n",
       "      <td>E10+</td>\n",
       "    </tr>\n",
       "  </tbody>\n",
       "</table>\n",
       "</div>"
      ],
      "text/plain": [
       "                    name platform  year_of_release     genre  na_sales  \\\n",
       "1745  Sonic the Hedgehog      PS3          2006.00  Platform      0.41   \n",
       "\n",
       "      eu_sales  jp_sales  other_sales  critic_score user_score rating  \n",
       "1745      0.06      0.04         0.66         43.00        4.1   E10+  "
      ]
     },
     "metadata": {},
     "output_type": "display_data"
    }
   ],
   "source": [
    "# По Cонику, по открытым данным итоговые продажи на PS3 в мире были около 1 млн копий. Удаляем вторую строку. https://vgsales.fandom.com/wiki/Sonic\n",
    "display(df[(df['name'] == 'Sonic the Hedgehog') & (df['platform'] == 'PS3')])\n",
    "display(df.shape)\n",
    "df.drop(index=4127, inplace=True)\n",
    "df.reset_index(drop=True, inplace=True)\n",
    "display(df.shape)\n",
    "display(df[(df['name'] == 'Sonic the Hedgehog') & (df['platform'] == 'PS3')])"
   ]
  },
  {
   "cell_type": "code",
   "execution_count": 12,
   "metadata": {},
   "outputs": [
    {
     "data": {
      "text/html": [
       "<div>\n",
       "<style scoped>\n",
       "    .dataframe tbody tr th:only-of-type {\n",
       "        vertical-align: middle;\n",
       "    }\n",
       "\n",
       "    .dataframe tbody tr th {\n",
       "        vertical-align: top;\n",
       "    }\n",
       "\n",
       "    .dataframe thead th {\n",
       "        text-align: right;\n",
       "    }\n",
       "</style>\n",
       "<table border=\"1\" class=\"dataframe\">\n",
       "  <thead>\n",
       "    <tr style=\"text-align: right;\">\n",
       "      <th></th>\n",
       "      <th>name</th>\n",
       "      <th>platform</th>\n",
       "      <th>year_of_release</th>\n",
       "      <th>genre</th>\n",
       "      <th>na_sales</th>\n",
       "      <th>eu_sales</th>\n",
       "      <th>jp_sales</th>\n",
       "      <th>other_sales</th>\n",
       "      <th>critic_score</th>\n",
       "      <th>user_score</th>\n",
       "      <th>rating</th>\n",
       "    </tr>\n",
       "  </thead>\n",
       "  <tbody>\n",
       "    <tr>\n",
       "      <th>659</th>\n",
       "      <td>NaN</td>\n",
       "      <td>GEN</td>\n",
       "      <td>1993.00</td>\n",
       "      <td>NaN</td>\n",
       "      <td>1.78</td>\n",
       "      <td>0.53</td>\n",
       "      <td>0.00</td>\n",
       "      <td>0.08</td>\n",
       "      <td>NaN</td>\n",
       "      <td>NaN</td>\n",
       "      <td>NaN</td>\n",
       "    </tr>\n",
       "    <tr>\n",
       "      <th>14243</th>\n",
       "      <td>NaN</td>\n",
       "      <td>GEN</td>\n",
       "      <td>1993.00</td>\n",
       "      <td>NaN</td>\n",
       "      <td>0.00</td>\n",
       "      <td>0.00</td>\n",
       "      <td>0.03</td>\n",
       "      <td>0.00</td>\n",
       "      <td>NaN</td>\n",
       "      <td>NaN</td>\n",
       "      <td>NaN</td>\n",
       "    </tr>\n",
       "  </tbody>\n",
       "</table>\n",
       "</div>"
      ],
      "text/plain": [
       "      name platform  year_of_release genre  na_sales  eu_sales  jp_sales  \\\n",
       "659    NaN      GEN          1993.00   NaN      1.78      0.53      0.00   \n",
       "14243  NaN      GEN          1993.00   NaN      0.00      0.00      0.03   \n",
       "\n",
       "       other_sales  critic_score user_score rating  \n",
       "659           0.08           NaN        NaN    NaN  \n",
       "14243         0.00           NaN        NaN    NaN  "
      ]
     },
     "metadata": {},
     "output_type": "display_data"
    },
    {
     "data": {
      "text/plain": [
       "30.769999999999996"
      ]
     },
     "metadata": {},
     "output_type": "display_data"
    },
    {
     "data": {
      "text/html": [
       "<div>\n",
       "<style scoped>\n",
       "    .dataframe tbody tr th:only-of-type {\n",
       "        vertical-align: middle;\n",
       "    }\n",
       "\n",
       "    .dataframe tbody tr th {\n",
       "        vertical-align: top;\n",
       "    }\n",
       "\n",
       "    .dataframe thead th {\n",
       "        text-align: right;\n",
       "    }\n",
       "</style>\n",
       "<table border=\"1\" class=\"dataframe\">\n",
       "  <thead>\n",
       "    <tr style=\"text-align: right;\">\n",
       "      <th></th>\n",
       "      <th>name</th>\n",
       "      <th>platform</th>\n",
       "      <th>year_of_release</th>\n",
       "      <th>genre</th>\n",
       "      <th>na_sales</th>\n",
       "      <th>eu_sales</th>\n",
       "      <th>jp_sales</th>\n",
       "      <th>other_sales</th>\n",
       "      <th>critic_score</th>\n",
       "      <th>user_score</th>\n",
       "      <th>rating</th>\n",
       "    </tr>\n",
       "  </thead>\n",
       "  <tbody>\n",
       "    <tr>\n",
       "      <th>1453</th>\n",
       "      <td>Mortal Kombat 3</td>\n",
       "      <td>GEN</td>\n",
       "      <td>1994.00</td>\n",
       "      <td>Fighting</td>\n",
       "      <td>1.03</td>\n",
       "      <td>0.27</td>\n",
       "      <td>0.00</td>\n",
       "      <td>0.04</td>\n",
       "      <td>NaN</td>\n",
       "      <td>NaN</td>\n",
       "      <td>NaN</td>\n",
       "    </tr>\n",
       "    <tr>\n",
       "      <th>564</th>\n",
       "      <td>Mortal Kombat</td>\n",
       "      <td>GEN</td>\n",
       "      <td>1992.00</td>\n",
       "      <td>Fighting</td>\n",
       "      <td>1.95</td>\n",
       "      <td>0.63</td>\n",
       "      <td>0.00</td>\n",
       "      <td>0.09</td>\n",
       "      <td>NaN</td>\n",
       "      <td>NaN</td>\n",
       "      <td>NaN</td>\n",
       "    </tr>\n",
       "    <tr>\n",
       "      <th>1842</th>\n",
       "      <td>NBA Jam Tournament Edition</td>\n",
       "      <td>GEN</td>\n",
       "      <td>1994.00</td>\n",
       "      <td>Sports</td>\n",
       "      <td>0.95</td>\n",
       "      <td>0.14</td>\n",
       "      <td>0.00</td>\n",
       "      <td>0.03</td>\n",
       "      <td>NaN</td>\n",
       "      <td>NaN</td>\n",
       "      <td>NaN</td>\n",
       "    </tr>\n",
       "    <tr>\n",
       "      <th>659</th>\n",
       "      <td>NaN</td>\n",
       "      <td>GEN</td>\n",
       "      <td>1993.00</td>\n",
       "      <td>NaN</td>\n",
       "      <td>1.78</td>\n",
       "      <td>0.53</td>\n",
       "      <td>0.00</td>\n",
       "      <td>0.08</td>\n",
       "      <td>NaN</td>\n",
       "      <td>NaN</td>\n",
       "      <td>NaN</td>\n",
       "    </tr>\n",
       "    <tr>\n",
       "      <th>832</th>\n",
       "      <td>NBA Jam</td>\n",
       "      <td>GEN</td>\n",
       "      <td>1992.00</td>\n",
       "      <td>Sports</td>\n",
       "      <td>1.75</td>\n",
       "      <td>0.25</td>\n",
       "      <td>0.00</td>\n",
       "      <td>0.05</td>\n",
       "      <td>NaN</td>\n",
       "      <td>NaN</td>\n",
       "      <td>NaN</td>\n",
       "    </tr>\n",
       "    <tr>\n",
       "      <th>14243</th>\n",
       "      <td>NaN</td>\n",
       "      <td>GEN</td>\n",
       "      <td>1993.00</td>\n",
       "      <td>NaN</td>\n",
       "      <td>0.00</td>\n",
       "      <td>0.00</td>\n",
       "      <td>0.03</td>\n",
       "      <td>0.00</td>\n",
       "      <td>NaN</td>\n",
       "      <td>NaN</td>\n",
       "      <td>NaN</td>\n",
       "    </tr>\n",
       "    <tr>\n",
       "      <th>1365</th>\n",
       "      <td>Disney's The Lion King</td>\n",
       "      <td>GEN</td>\n",
       "      <td>1994.00</td>\n",
       "      <td>Platform</td>\n",
       "      <td>0.97</td>\n",
       "      <td>0.37</td>\n",
       "      <td>0.03</td>\n",
       "      <td>0.05</td>\n",
       "      <td>NaN</td>\n",
       "      <td>NaN</td>\n",
       "      <td>NaN</td>\n",
       "    </tr>\n",
       "    <tr>\n",
       "      <th>14487</th>\n",
       "      <td>Puzzle &amp; Action: Tant-R</td>\n",
       "      <td>GEN</td>\n",
       "      <td>1994.00</td>\n",
       "      <td>Misc</td>\n",
       "      <td>0.00</td>\n",
       "      <td>0.00</td>\n",
       "      <td>0.03</td>\n",
       "      <td>0.00</td>\n",
       "      <td>NaN</td>\n",
       "      <td>NaN</td>\n",
       "      <td>NaN</td>\n",
       "    </tr>\n",
       "    <tr>\n",
       "      <th>960</th>\n",
       "      <td>Sonic &amp; Knuckles</td>\n",
       "      <td>GEN</td>\n",
       "      <td>1994.00</td>\n",
       "      <td>Platform</td>\n",
       "      <td>1.24</td>\n",
       "      <td>0.43</td>\n",
       "      <td>0.03</td>\n",
       "      <td>0.12</td>\n",
       "      <td>NaN</td>\n",
       "      <td>NaN</td>\n",
       "      <td>NaN</td>\n",
       "    </tr>\n",
       "    <tr>\n",
       "      <th>14131</th>\n",
       "      <td>Castlevania Bloodlines</td>\n",
       "      <td>GEN</td>\n",
       "      <td>1994.00</td>\n",
       "      <td>Platform</td>\n",
       "      <td>0.00</td>\n",
       "      <td>0.00</td>\n",
       "      <td>0.04</td>\n",
       "      <td>0.00</td>\n",
       "      <td>NaN</td>\n",
       "      <td>NaN</td>\n",
       "      <td>NaN</td>\n",
       "    </tr>\n",
       "  </tbody>\n",
       "</table>\n",
       "</div>"
      ],
      "text/plain": [
       "                             name platform  year_of_release     genre  \\\n",
       "1453              Mortal Kombat 3      GEN          1994.00  Fighting   \n",
       "564                 Mortal Kombat      GEN          1992.00  Fighting   \n",
       "1842   NBA Jam Tournament Edition      GEN          1994.00    Sports   \n",
       "659                           NaN      GEN          1993.00       NaN   \n",
       "832                       NBA Jam      GEN          1992.00    Sports   \n",
       "14243                         NaN      GEN          1993.00       NaN   \n",
       "1365       Disney's The Lion King      GEN          1994.00  Platform   \n",
       "14487     Puzzle & Action: Tant-R      GEN          1994.00      Misc   \n",
       "960              Sonic & Knuckles      GEN          1994.00  Platform   \n",
       "14131      Castlevania Bloodlines      GEN          1994.00  Platform   \n",
       "\n",
       "       na_sales  eu_sales  jp_sales  other_sales  critic_score user_score  \\\n",
       "1453       1.03      0.27      0.00         0.04           NaN        NaN   \n",
       "564        1.95      0.63      0.00         0.09           NaN        NaN   \n",
       "1842       0.95      0.14      0.00         0.03           NaN        NaN   \n",
       "659        1.78      0.53      0.00         0.08           NaN        NaN   \n",
       "832        1.75      0.25      0.00         0.05           NaN        NaN   \n",
       "14243      0.00      0.00      0.03         0.00           NaN        NaN   \n",
       "1365       0.97      0.37      0.03         0.05           NaN        NaN   \n",
       "14487      0.00      0.00      0.03         0.00           NaN        NaN   \n",
       "960        1.24      0.43      0.03         0.12           NaN        NaN   \n",
       "14131      0.00      0.00      0.04         0.00           NaN        NaN   \n",
       "\n",
       "      rating  \n",
       "1453     NaN  \n",
       "564      NaN  \n",
       "1842     NaN  \n",
       "659      NaN  \n",
       "832      NaN  \n",
       "14243    NaN  \n",
       "1365     NaN  \n",
       "14487    NaN  \n",
       "960      NaN  \n",
       "14131    NaN  "
      ]
     },
     "execution_count": 12,
     "metadata": {},
     "output_type": "execute_result"
    }
   ],
   "source": [
    "# По неизвестной игре две строчки с nan по имени и жанру на примерно 2.4 млн продаж из 31 млн продаж по платформе GEN. По платформе GEN нет похожих строк с аналогичными продажами или с аналогичным годом выхода. Это вряд ли дубли. Ничего с этим строками делать не будем. В контексте работы влияния на выводы этих строк не должно быть.\n",
    "display(df[(df['name'].isna()) & (df['platform'] == 'GEN')])\n",
    "display(df[(df['platform'] == 'GEN')][['eu_sales', 'na_sales', 'jp_sales', 'other_sales']].sum().sum())\n",
    "df[(df['platform'] == 'GEN')].sort_values('jp_sales').head(10)"
   ]
  },
  {
   "cell_type": "code",
   "execution_count": 13,
   "metadata": {},
   "outputs": [
    {
     "data": {
      "text/html": [
       "<div>\n",
       "<style scoped>\n",
       "    .dataframe tbody tr th:only-of-type {\n",
       "        vertical-align: middle;\n",
       "    }\n",
       "\n",
       "    .dataframe tbody tr th {\n",
       "        vertical-align: top;\n",
       "    }\n",
       "\n",
       "    .dataframe thead th {\n",
       "        text-align: right;\n",
       "    }\n",
       "</style>\n",
       "<table border=\"1\" class=\"dataframe\">\n",
       "  <thead>\n",
       "    <tr style=\"text-align: right;\">\n",
       "      <th></th>\n",
       "      <th>name</th>\n",
       "      <th>platform</th>\n",
       "      <th>year_of_release</th>\n",
       "      <th>genre</th>\n",
       "      <th>na_sales</th>\n",
       "      <th>eu_sales</th>\n",
       "      <th>jp_sales</th>\n",
       "      <th>other_sales</th>\n",
       "      <th>critic_score</th>\n",
       "      <th>user_score</th>\n",
       "      <th>rating</th>\n",
       "    </tr>\n",
       "  </thead>\n",
       "  <tbody>\n",
       "    <tr>\n",
       "      <th>604</th>\n",
       "      <td>Madden NFL 13</td>\n",
       "      <td>PS3</td>\n",
       "      <td>2012.00</td>\n",
       "      <td>Sports</td>\n",
       "      <td>2.11</td>\n",
       "      <td>0.22</td>\n",
       "      <td>0.00</td>\n",
       "      <td>0.23</td>\n",
       "      <td>83.00</td>\n",
       "      <td>5.5</td>\n",
       "      <td>E</td>\n",
       "    </tr>\n",
       "    <tr>\n",
       "      <th>16229</th>\n",
       "      <td>Madden NFL 13</td>\n",
       "      <td>PS3</td>\n",
       "      <td>2012.00</td>\n",
       "      <td>Sports</td>\n",
       "      <td>0.00</td>\n",
       "      <td>0.01</td>\n",
       "      <td>0.00</td>\n",
       "      <td>0.00</td>\n",
       "      <td>83.00</td>\n",
       "      <td>5.5</td>\n",
       "      <td>E</td>\n",
       "    </tr>\n",
       "  </tbody>\n",
       "</table>\n",
       "</div>"
      ],
      "text/plain": [
       "                name platform  year_of_release   genre  na_sales  eu_sales  \\\n",
       "604    Madden NFL 13      PS3          2012.00  Sports      2.11      0.22   \n",
       "16229  Madden NFL 13      PS3          2012.00  Sports      0.00      0.01   \n",
       "\n",
       "       jp_sales  other_sales  critic_score user_score rating  \n",
       "604        0.00         0.23         83.00        5.5      E  \n",
       "16229      0.00         0.00         83.00        5.5      E  "
      ]
     },
     "metadata": {},
     "output_type": "display_data"
    },
    {
     "data": {
      "text/plain": [
       "(16714, 11)"
      ]
     },
     "metadata": {},
     "output_type": "display_data"
    },
    {
     "data": {
      "text/plain": [
       "(16713, 11)"
      ]
     },
     "metadata": {},
     "output_type": "display_data"
    },
    {
     "data": {
      "text/html": [
       "<div>\n",
       "<style scoped>\n",
       "    .dataframe tbody tr th:only-of-type {\n",
       "        vertical-align: middle;\n",
       "    }\n",
       "\n",
       "    .dataframe tbody tr th {\n",
       "        vertical-align: top;\n",
       "    }\n",
       "\n",
       "    .dataframe thead th {\n",
       "        text-align: right;\n",
       "    }\n",
       "</style>\n",
       "<table border=\"1\" class=\"dataframe\">\n",
       "  <thead>\n",
       "    <tr style=\"text-align: right;\">\n",
       "      <th></th>\n",
       "      <th>name</th>\n",
       "      <th>platform</th>\n",
       "      <th>year_of_release</th>\n",
       "      <th>genre</th>\n",
       "      <th>na_sales</th>\n",
       "      <th>eu_sales</th>\n",
       "      <th>jp_sales</th>\n",
       "      <th>other_sales</th>\n",
       "      <th>critic_score</th>\n",
       "      <th>user_score</th>\n",
       "      <th>rating</th>\n",
       "    </tr>\n",
       "  </thead>\n",
       "  <tbody>\n",
       "    <tr>\n",
       "      <th>604</th>\n",
       "      <td>Madden NFL 13</td>\n",
       "      <td>PS3</td>\n",
       "      <td>2012.00</td>\n",
       "      <td>Sports</td>\n",
       "      <td>2.11</td>\n",
       "      <td>0.22</td>\n",
       "      <td>0.00</td>\n",
       "      <td>0.23</td>\n",
       "      <td>83.00</td>\n",
       "      <td>5.5</td>\n",
       "      <td>E</td>\n",
       "    </tr>\n",
       "  </tbody>\n",
       "</table>\n",
       "</div>"
      ],
      "text/plain": [
       "              name platform  year_of_release   genre  na_sales  eu_sales  \\\n",
       "604  Madden NFL 13      PS3          2012.00  Sports      2.11      0.22   \n",
       "\n",
       "     jp_sales  other_sales  critic_score user_score rating  \n",
       "604      0.00         0.23         83.00        5.5      E  "
      ]
     },
     "metadata": {},
     "output_type": "display_data"
    }
   ],
   "source": [
    "# Madden - удалим дубль. Незначительные продажи.\n",
    "display(df[(df['name'] == 'Madden NFL 13') & (df['platform'] == 'PS3')])\n",
    "display(df.shape)\n",
    "df.drop(index=16229, inplace=True)\n",
    "df.reset_index(drop=True, inplace=True)\n",
    "display(df.shape)\n",
    "display(df[(df['name'] == 'Madden NFL 13') & (df['platform'] == 'PS3')])"
   ]
  },
  {
   "cell_type": "code",
   "execution_count": 14,
   "metadata": {},
   "outputs": [
    {
     "data": {
      "text/plain": [
       "Need for Speed: Most Wanted                12\n",
       "Ratatouille                                 9\n",
       "FIFA 14                                     9\n",
       "Madden NFL 07                               9\n",
       "LEGO Marvel Super Heroes                    9\n",
       "Monopoly                                    8\n",
       "LEGO The Hobbit                             8\n",
       "LEGO Harry Potter: Years 5-7                8\n",
       "Cars                                        8\n",
       "FIFA 15                                     8\n",
       "Angry Birds Star Wars                       8\n",
       "Lego Batman 3: Beyond Gotham                8\n",
       "Madden NFL 08                               8\n",
       "LEGO Jurassic World                         8\n",
       "LEGO Star Wars II: The Original Trilogy     8\n",
       "The LEGO Movie Videogame                    8\n",
       "Terraria                                    8\n",
       "FIFA Soccer 13                              8\n",
       "Madden NFL 06                               7\n",
       "Skylanders: Trap Team                       7\n",
       "Name: name, dtype: int64"
      ]
     },
     "execution_count": 14,
     "metadata": {},
     "output_type": "execute_result"
    }
   ],
   "source": [
    "# Посмотрим на имена\n",
    "df['name'].value_counts(dropna=False).head(20)"
   ]
  },
  {
   "cell_type": "code",
   "execution_count": 15,
   "metadata": {},
   "outputs": [
    {
     "data": {
      "text/html": [
       "<div>\n",
       "<style scoped>\n",
       "    .dataframe tbody tr th:only-of-type {\n",
       "        vertical-align: middle;\n",
       "    }\n",
       "\n",
       "    .dataframe tbody tr th {\n",
       "        vertical-align: top;\n",
       "    }\n",
       "\n",
       "    .dataframe thead th {\n",
       "        text-align: right;\n",
       "    }\n",
       "</style>\n",
       "<table border=\"1\" class=\"dataframe\">\n",
       "  <thead>\n",
       "    <tr style=\"text-align: right;\">\n",
       "      <th></th>\n",
       "      <th>name</th>\n",
       "      <th>platform</th>\n",
       "      <th>year_of_release</th>\n",
       "      <th>genre</th>\n",
       "      <th>na_sales</th>\n",
       "      <th>eu_sales</th>\n",
       "      <th>jp_sales</th>\n",
       "      <th>other_sales</th>\n",
       "      <th>critic_score</th>\n",
       "      <th>user_score</th>\n",
       "      <th>rating</th>\n",
       "    </tr>\n",
       "  </thead>\n",
       "  <tbody>\n",
       "    <tr>\n",
       "      <th>253</th>\n",
       "      <td>Need for Speed: Most Wanted</td>\n",
       "      <td>PS2</td>\n",
       "      <td>2005.00</td>\n",
       "      <td>Racing</td>\n",
       "      <td>2.03</td>\n",
       "      <td>1.79</td>\n",
       "      <td>0.08</td>\n",
       "      <td>0.47</td>\n",
       "      <td>82.00</td>\n",
       "      <td>9.1</td>\n",
       "      <td>T</td>\n",
       "    </tr>\n",
       "    <tr>\n",
       "      <th>523</th>\n",
       "      <td>Need for Speed: Most Wanted</td>\n",
       "      <td>PS3</td>\n",
       "      <td>2012.00</td>\n",
       "      <td>Racing</td>\n",
       "      <td>0.71</td>\n",
       "      <td>1.46</td>\n",
       "      <td>0.06</td>\n",
       "      <td>0.58</td>\n",
       "      <td>NaN</td>\n",
       "      <td>NaN</td>\n",
       "      <td>NaN</td>\n",
       "    </tr>\n",
       "    <tr>\n",
       "      <th>1190</th>\n",
       "      <td>Need for Speed: Most Wanted</td>\n",
       "      <td>X360</td>\n",
       "      <td>2012.00</td>\n",
       "      <td>Racing</td>\n",
       "      <td>0.62</td>\n",
       "      <td>0.78</td>\n",
       "      <td>0.01</td>\n",
       "      <td>0.15</td>\n",
       "      <td>83.00</td>\n",
       "      <td>8.5</td>\n",
       "      <td>T</td>\n",
       "    </tr>\n",
       "    <tr>\n",
       "      <th>1591</th>\n",
       "      <td>Need for Speed: Most Wanted</td>\n",
       "      <td>X360</td>\n",
       "      <td>2005.00</td>\n",
       "      <td>Racing</td>\n",
       "      <td>1.00</td>\n",
       "      <td>0.13</td>\n",
       "      <td>0.02</td>\n",
       "      <td>0.10</td>\n",
       "      <td>83.00</td>\n",
       "      <td>8.5</td>\n",
       "      <td>T</td>\n",
       "    </tr>\n",
       "    <tr>\n",
       "      <th>1998</th>\n",
       "      <td>Need for Speed: Most Wanted</td>\n",
       "      <td>XB</td>\n",
       "      <td>2005.00</td>\n",
       "      <td>Racing</td>\n",
       "      <td>0.53</td>\n",
       "      <td>0.46</td>\n",
       "      <td>0.00</td>\n",
       "      <td>0.05</td>\n",
       "      <td>83.00</td>\n",
       "      <td>8.8</td>\n",
       "      <td>T</td>\n",
       "    </tr>\n",
       "    <tr>\n",
       "      <th>2048</th>\n",
       "      <td>Need for Speed: Most Wanted</td>\n",
       "      <td>PSV</td>\n",
       "      <td>2012.00</td>\n",
       "      <td>Racing</td>\n",
       "      <td>0.33</td>\n",
       "      <td>0.45</td>\n",
       "      <td>0.01</td>\n",
       "      <td>0.22</td>\n",
       "      <td>NaN</td>\n",
       "      <td>NaN</td>\n",
       "      <td>NaN</td>\n",
       "    </tr>\n",
       "    <tr>\n",
       "      <th>3581</th>\n",
       "      <td>Need for Speed: Most Wanted</td>\n",
       "      <td>GC</td>\n",
       "      <td>2005.00</td>\n",
       "      <td>Racing</td>\n",
       "      <td>0.43</td>\n",
       "      <td>0.11</td>\n",
       "      <td>0.00</td>\n",
       "      <td>0.02</td>\n",
       "      <td>80.00</td>\n",
       "      <td>9.1</td>\n",
       "      <td>T</td>\n",
       "    </tr>\n",
       "    <tr>\n",
       "      <th>5971</th>\n",
       "      <td>Need for Speed: Most Wanted</td>\n",
       "      <td>PC</td>\n",
       "      <td>2005.00</td>\n",
       "      <td>Racing</td>\n",
       "      <td>0.02</td>\n",
       "      <td>0.23</td>\n",
       "      <td>0.00</td>\n",
       "      <td>0.04</td>\n",
       "      <td>82.00</td>\n",
       "      <td>8.5</td>\n",
       "      <td>T</td>\n",
       "    </tr>\n",
       "    <tr>\n",
       "      <th>6272</th>\n",
       "      <td>Need for Speed: Most Wanted</td>\n",
       "      <td>WiiU</td>\n",
       "      <td>2013.00</td>\n",
       "      <td>Racing</td>\n",
       "      <td>0.13</td>\n",
       "      <td>0.12</td>\n",
       "      <td>0.00</td>\n",
       "      <td>0.02</td>\n",
       "      <td>NaN</td>\n",
       "      <td>NaN</td>\n",
       "      <td>NaN</td>\n",
       "    </tr>\n",
       "    <tr>\n",
       "      <th>6409</th>\n",
       "      <td>Need for Speed: Most Wanted</td>\n",
       "      <td>DS</td>\n",
       "      <td>2005.00</td>\n",
       "      <td>Racing</td>\n",
       "      <td>0.24</td>\n",
       "      <td>0.01</td>\n",
       "      <td>0.00</td>\n",
       "      <td>0.02</td>\n",
       "      <td>45.00</td>\n",
       "      <td>6.1</td>\n",
       "      <td>E</td>\n",
       "    </tr>\n",
       "    <tr>\n",
       "      <th>6472</th>\n",
       "      <td>Need for Speed: Most Wanted</td>\n",
       "      <td>GBA</td>\n",
       "      <td>2005.00</td>\n",
       "      <td>Racing</td>\n",
       "      <td>0.19</td>\n",
       "      <td>0.07</td>\n",
       "      <td>0.00</td>\n",
       "      <td>0.00</td>\n",
       "      <td>NaN</td>\n",
       "      <td>8.3</td>\n",
       "      <td>E</td>\n",
       "    </tr>\n",
       "    <tr>\n",
       "      <th>11714</th>\n",
       "      <td>Need for Speed: Most Wanted</td>\n",
       "      <td>PC</td>\n",
       "      <td>2012.00</td>\n",
       "      <td>Racing</td>\n",
       "      <td>0.00</td>\n",
       "      <td>0.06</td>\n",
       "      <td>0.00</td>\n",
       "      <td>0.02</td>\n",
       "      <td>82.00</td>\n",
       "      <td>8.5</td>\n",
       "      <td>T</td>\n",
       "    </tr>\n",
       "  </tbody>\n",
       "</table>\n",
       "</div>"
      ],
      "text/plain": [
       "                              name platform  year_of_release   genre  \\\n",
       "253    Need for Speed: Most Wanted      PS2          2005.00  Racing   \n",
       "523    Need for Speed: Most Wanted      PS3          2012.00  Racing   \n",
       "1190   Need for Speed: Most Wanted     X360          2012.00  Racing   \n",
       "1591   Need for Speed: Most Wanted     X360          2005.00  Racing   \n",
       "1998   Need for Speed: Most Wanted       XB          2005.00  Racing   \n",
       "2048   Need for Speed: Most Wanted      PSV          2012.00  Racing   \n",
       "3581   Need for Speed: Most Wanted       GC          2005.00  Racing   \n",
       "5971   Need for Speed: Most Wanted       PC          2005.00  Racing   \n",
       "6272   Need for Speed: Most Wanted     WiiU          2013.00  Racing   \n",
       "6409   Need for Speed: Most Wanted       DS          2005.00  Racing   \n",
       "6472   Need for Speed: Most Wanted      GBA          2005.00  Racing   \n",
       "11714  Need for Speed: Most Wanted       PC          2012.00  Racing   \n",
       "\n",
       "       na_sales  eu_sales  jp_sales  other_sales  critic_score user_score  \\\n",
       "253        2.03      1.79      0.08         0.47         82.00        9.1   \n",
       "523        0.71      1.46      0.06         0.58           NaN        NaN   \n",
       "1190       0.62      0.78      0.01         0.15         83.00        8.5   \n",
       "1591       1.00      0.13      0.02         0.10         83.00        8.5   \n",
       "1998       0.53      0.46      0.00         0.05         83.00        8.8   \n",
       "2048       0.33      0.45      0.01         0.22           NaN        NaN   \n",
       "3581       0.43      0.11      0.00         0.02         80.00        9.1   \n",
       "5971       0.02      0.23      0.00         0.04         82.00        8.5   \n",
       "6272       0.13      0.12      0.00         0.02           NaN        NaN   \n",
       "6409       0.24      0.01      0.00         0.02         45.00        6.1   \n",
       "6472       0.19      0.07      0.00         0.00           NaN        8.3   \n",
       "11714      0.00      0.06      0.00         0.02         82.00        8.5   \n",
       "\n",
       "      rating  \n",
       "253        T  \n",
       "523      NaN  \n",
       "1190       T  \n",
       "1591       T  \n",
       "1998       T  \n",
       "2048     NaN  \n",
       "3581       T  \n",
       "5971       T  \n",
       "6272     NaN  \n",
       "6409       E  \n",
       "6472       E  \n",
       "11714      T  "
      ]
     },
     "execution_count": 15,
     "metadata": {},
     "output_type": "execute_result"
    }
   ],
   "source": [
    "# Как видим одна игра может выпускаться в разные годы на разных платформах. Так же игра может перезапускаться в качестве ремейка или ремастера даже в рамках одной платформы.\n",
    "df[df['name'] == 'Need for Speed: Most Wanted']"
   ]
  },
  {
   "cell_type": "code",
   "execution_count": 16,
   "metadata": {},
   "outputs": [
    {
     "data": {
      "text/html": [
       "<div>\n",
       "<style scoped>\n",
       "    .dataframe tbody tr th:only-of-type {\n",
       "        vertical-align: middle;\n",
       "    }\n",
       "\n",
       "    .dataframe tbody tr th {\n",
       "        vertical-align: top;\n",
       "    }\n",
       "\n",
       "    .dataframe thead th {\n",
       "        text-align: right;\n",
       "    }\n",
       "</style>\n",
       "<table border=\"1\" class=\"dataframe\">\n",
       "  <thead>\n",
       "    <tr style=\"text-align: right;\">\n",
       "      <th></th>\n",
       "      <th>count</th>\n",
       "      <th>mean</th>\n",
       "      <th>std</th>\n",
       "      <th>min</th>\n",
       "      <th>25%</th>\n",
       "      <th>50%</th>\n",
       "      <th>75%</th>\n",
       "      <th>max</th>\n",
       "    </tr>\n",
       "  </thead>\n",
       "  <tbody>\n",
       "    <tr>\n",
       "      <th>na_sales</th>\n",
       "      <td>16713.00</td>\n",
       "      <td>0.26</td>\n",
       "      <td>0.81</td>\n",
       "      <td>0.00</td>\n",
       "      <td>0.00</td>\n",
       "      <td>0.08</td>\n",
       "      <td>0.24</td>\n",
       "      <td>41.36</td>\n",
       "    </tr>\n",
       "    <tr>\n",
       "      <th>eu_sales</th>\n",
       "      <td>16713.00</td>\n",
       "      <td>0.15</td>\n",
       "      <td>0.50</td>\n",
       "      <td>0.00</td>\n",
       "      <td>0.00</td>\n",
       "      <td>0.02</td>\n",
       "      <td>0.11</td>\n",
       "      <td>28.96</td>\n",
       "    </tr>\n",
       "    <tr>\n",
       "      <th>jp_sales</th>\n",
       "      <td>16713.00</td>\n",
       "      <td>0.08</td>\n",
       "      <td>0.31</td>\n",
       "      <td>0.00</td>\n",
       "      <td>0.00</td>\n",
       "      <td>0.00</td>\n",
       "      <td>0.04</td>\n",
       "      <td>10.22</td>\n",
       "    </tr>\n",
       "    <tr>\n",
       "      <th>other_sales</th>\n",
       "      <td>16713.00</td>\n",
       "      <td>0.05</td>\n",
       "      <td>0.19</td>\n",
       "      <td>0.00</td>\n",
       "      <td>0.00</td>\n",
       "      <td>0.01</td>\n",
       "      <td>0.03</td>\n",
       "      <td>10.57</td>\n",
       "    </tr>\n",
       "  </tbody>\n",
       "</table>\n",
       "</div>"
      ],
      "text/plain": [
       "               count  mean  std  min  25%  50%  75%   max\n",
       "na_sales    16713.00  0.26 0.81 0.00 0.00 0.08 0.24 41.36\n",
       "eu_sales    16713.00  0.15 0.50 0.00 0.00 0.02 0.11 28.96\n",
       "jp_sales    16713.00  0.08 0.31 0.00 0.00 0.00 0.04 10.22\n",
       "other_sales 16713.00  0.05 0.19 0.00 0.00 0.01 0.03 10.57"
      ]
     },
     "execution_count": 16,
     "metadata": {},
     "output_type": "execute_result"
    }
   ],
   "source": [
    "# Данные по продажам выглядят разумно. Десятки миллионов проданных игр по одному тайтлу - вполне реальные цифры.\n",
    "df[['na_sales', 'eu_sales', 'jp_sales', 'other_sales']].describe().T"
   ]
  },
  {
   "cell_type": "code",
   "execution_count": 17,
   "metadata": {},
   "outputs": [
    {
     "data": {
      "text/plain": [
       "name                  2\n",
       "platform              0\n",
       "year_of_release     268\n",
       "genre                 2\n",
       "na_sales              0\n",
       "eu_sales              0\n",
       "jp_sales              0\n",
       "other_sales           0\n",
       "critic_score       8578\n",
       "user_score         6701\n",
       "rating             6766\n",
       "dtype: int64"
      ]
     },
     "metadata": {},
     "output_type": "display_data"
    },
    {
     "data": {
      "text/plain": [
       "'Количество tbd: 2424'"
      ]
     },
     "metadata": {},
     "output_type": "display_data"
    },
    {
     "data": {
      "text/plain": [
       "'Количество итоговых пропусков в user_score: 9125'"
      ]
     },
     "metadata": {},
     "output_type": "display_data"
    },
    {
     "data": {
      "text/plain": [
       "name                  2\n",
       "platform              0\n",
       "year_of_release     268\n",
       "genre                 2\n",
       "na_sales              0\n",
       "eu_sales              0\n",
       "jp_sales              0\n",
       "other_sales           0\n",
       "critic_score       8578\n",
       "user_score         9125\n",
       "rating             6766\n",
       "tbd                   0\n",
       "dtype: int64"
      ]
     },
     "metadata": {},
     "output_type": "display_data"
    }
   ],
   "source": [
    "# Преобразуем типы\n",
    "display(df.isna().sum())\n",
    "df['year_of_release'] = df['year_of_release'].astype('Int64')\n",
    "df['critic_score'] = df['critic_score'].astype('Int64')\n",
    "\n",
    "# Добавляем столбец tbd\n",
    "display(f'Количество tbd: {df[df[\"user_score\"] == \"tbd\"].shape[0]}')\n",
    "df['tbd'] = df.apply(lambda x: True if x['user_score'] ==\n",
    "                     'tbd' else False, axis='columns')\n",
    "display(f'Количество итоговых пропусков в user_score: {df[\"tbd\"].sum() + df[\"user_score\"].isna().sum()}')\n",
    "\n",
    "# Меняем tbd на nan в user_score\n",
    "df['user_score'] = df['user_score'].apply(lambda x: x if x != 'tbd' else float('nan'))\n",
    "\n",
    "# Преобразуем тип\n",
    "df['user_score'] = df['user_score'].astype(float)\n",
    "display(df.isna().sum())"
   ]
  },
  {
   "cell_type": "markdown",
   "metadata": {},
   "source": [
    "Для преобразования user_score столбца необходимо заменить tbd на nan, т.к. to be determined - это отсутствие оценки. Чтобы не потерять данные, добавим столбец tbd, где отметим True/False для замен."
   ]
  },
  {
   "cell_type": "code",
   "execution_count": 18,
   "metadata": {},
   "outputs": [
    {
     "data": {
      "text/html": [
       "<div>\n",
       "<style scoped>\n",
       "    .dataframe tbody tr th:only-of-type {\n",
       "        vertical-align: middle;\n",
       "    }\n",
       "\n",
       "    .dataframe tbody tr th {\n",
       "        vertical-align: top;\n",
       "    }\n",
       "\n",
       "    .dataframe thead th {\n",
       "        text-align: right;\n",
       "    }\n",
       "</style>\n",
       "<table border=\"1\" class=\"dataframe\">\n",
       "  <thead>\n",
       "    <tr style=\"text-align: right;\">\n",
       "      <th></th>\n",
       "      <th>name</th>\n",
       "      <th>platform</th>\n",
       "      <th>year_of_release</th>\n",
       "      <th>genre</th>\n",
       "      <th>na_sales</th>\n",
       "      <th>eu_sales</th>\n",
       "      <th>jp_sales</th>\n",
       "      <th>other_sales</th>\n",
       "      <th>critic_score</th>\n",
       "      <th>user_score</th>\n",
       "      <th>rating</th>\n",
       "      <th>tbd</th>\n",
       "    </tr>\n",
       "  </thead>\n",
       "  <tbody>\n",
       "    <tr>\n",
       "      <th>0</th>\n",
       "      <td>Wii Sports</td>\n",
       "      <td>Wii</td>\n",
       "      <td>2006</td>\n",
       "      <td>Sports</td>\n",
       "      <td>41.36</td>\n",
       "      <td>28.96</td>\n",
       "      <td>3.77</td>\n",
       "      <td>8.45</td>\n",
       "      <td>76</td>\n",
       "      <td>8.00</td>\n",
       "      <td>E</td>\n",
       "      <td>False</td>\n",
       "    </tr>\n",
       "    <tr>\n",
       "      <th>1</th>\n",
       "      <td>Super Mario Bros.</td>\n",
       "      <td>NES</td>\n",
       "      <td>1985</td>\n",
       "      <td>Platform</td>\n",
       "      <td>29.08</td>\n",
       "      <td>3.58</td>\n",
       "      <td>6.81</td>\n",
       "      <td>0.77</td>\n",
       "      <td>&lt;NA&gt;</td>\n",
       "      <td>NaN</td>\n",
       "      <td>NaN</td>\n",
       "      <td>False</td>\n",
       "    </tr>\n",
       "    <tr>\n",
       "      <th>2</th>\n",
       "      <td>Mario Kart Wii</td>\n",
       "      <td>Wii</td>\n",
       "      <td>2008</td>\n",
       "      <td>Racing</td>\n",
       "      <td>15.68</td>\n",
       "      <td>12.76</td>\n",
       "      <td>3.79</td>\n",
       "      <td>3.29</td>\n",
       "      <td>82</td>\n",
       "      <td>8.30</td>\n",
       "      <td>E</td>\n",
       "      <td>False</td>\n",
       "    </tr>\n",
       "    <tr>\n",
       "      <th>3</th>\n",
       "      <td>Wii Sports Resort</td>\n",
       "      <td>Wii</td>\n",
       "      <td>2009</td>\n",
       "      <td>Sports</td>\n",
       "      <td>15.61</td>\n",
       "      <td>10.93</td>\n",
       "      <td>3.28</td>\n",
       "      <td>2.95</td>\n",
       "      <td>80</td>\n",
       "      <td>8.00</td>\n",
       "      <td>E</td>\n",
       "      <td>False</td>\n",
       "    </tr>\n",
       "    <tr>\n",
       "      <th>4</th>\n",
       "      <td>Pokemon Red/Pokemon Blue</td>\n",
       "      <td>GB</td>\n",
       "      <td>1996</td>\n",
       "      <td>Role-Playing</td>\n",
       "      <td>11.27</td>\n",
       "      <td>8.89</td>\n",
       "      <td>10.22</td>\n",
       "      <td>1.00</td>\n",
       "      <td>&lt;NA&gt;</td>\n",
       "      <td>NaN</td>\n",
       "      <td>NaN</td>\n",
       "      <td>False</td>\n",
       "    </tr>\n",
       "  </tbody>\n",
       "</table>\n",
       "</div>"
      ],
      "text/plain": [
       "                       name platform  year_of_release         genre  na_sales  \\\n",
       "0                Wii Sports      Wii             2006        Sports     41.36   \n",
       "1         Super Mario Bros.      NES             1985      Platform     29.08   \n",
       "2            Mario Kart Wii      Wii             2008        Racing     15.68   \n",
       "3         Wii Sports Resort      Wii             2009        Sports     15.61   \n",
       "4  Pokemon Red/Pokemon Blue       GB             1996  Role-Playing     11.27   \n",
       "\n",
       "   eu_sales  jp_sales  other_sales  critic_score  user_score rating    tbd  \n",
       "0     28.96      3.77         8.45            76        8.00      E  False  \n",
       "1      3.58      6.81         0.77          <NA>         NaN    NaN  False  \n",
       "2     12.76      3.79         3.29            82        8.30      E  False  \n",
       "3     10.93      3.28         2.95            80        8.00      E  False  \n",
       "4      8.89     10.22         1.00          <NA>         NaN    NaN  False  "
      ]
     },
     "metadata": {},
     "output_type": "display_data"
    },
    {
     "name": "stdout",
     "output_type": "stream",
     "text": [
      "<class 'pandas.core.frame.DataFrame'>\n",
      "RangeIndex: 16713 entries, 0 to 16712\n",
      "Data columns (total 12 columns):\n",
      " #   Column           Non-Null Count  Dtype  \n",
      "---  ------           --------------  -----  \n",
      " 0   name             16711 non-null  object \n",
      " 1   platform         16713 non-null  object \n",
      " 2   year_of_release  16445 non-null  Int64  \n",
      " 3   genre            16711 non-null  object \n",
      " 4   na_sales         16713 non-null  float64\n",
      " 5   eu_sales         16713 non-null  float64\n",
      " 6   jp_sales         16713 non-null  float64\n",
      " 7   other_sales      16713 non-null  float64\n",
      " 8   critic_score     8135 non-null   Int64  \n",
      " 9   user_score       7588 non-null   float64\n",
      " 10  rating           9947 non-null   object \n",
      " 11  tbd              16713 non-null  bool   \n",
      "dtypes: Int64(2), bool(1), float64(5), object(4)\n",
      "memory usage: 1.5+ MB\n"
     ]
    }
   ],
   "source": [
    "# Проверка\n",
    "display(df.head())\n",
    "df.info()"
   ]
  },
  {
   "cell_type": "code",
   "execution_count": 19,
   "metadata": {},
   "outputs": [],
   "source": [
    "# Считаем суммарные продажи\n",
    "df[['na_sales', 'eu_sales', 'jp_sales', 'other_sales']] = df[['na_sales', 'eu_sales', 'jp_sales', 'other_sales']].round(6) # Округлим до 6 знака, чтобы убрать некрасивые хвосты. Это величина в млн штук, так что это будет корректно.\n",
    "df['total_sales'] = df['na_sales'] + df['eu_sales'] + df['jp_sales'] + df['other_sales']"
   ]
  },
  {
   "cell_type": "markdown",
   "metadata": {},
   "source": [
    "**Комментарии по типам:**\n",
    "* Типы приведены в порядок.\n",
    "* Добавлены новые столбцы total_sales и tbd."
   ]
  },
  {
   "cell_type": "code",
   "execution_count": 20,
   "metadata": {},
   "outputs": [
    {
     "data": {
      "text/plain": [
       "user_score         9125\n",
       "critic_score       8578\n",
       "rating             6766\n",
       "year_of_release     268\n",
       "name                  2\n",
       "genre                 2\n",
       "platform              0\n",
       "na_sales              0\n",
       "eu_sales              0\n",
       "jp_sales              0\n",
       "other_sales           0\n",
       "tbd                   0\n",
       "total_sales           0\n",
       "dtype: int64"
      ]
     },
     "execution_count": 20,
     "metadata": {},
     "output_type": "execute_result"
    }
   ],
   "source": [
    "# Пропуски\n",
    "df.isna().sum().sort_values(ascending=False)"
   ]
  },
  {
   "cell_type": "code",
   "execution_count": 21,
   "metadata": {},
   "outputs": [
    {
     "data": {
      "text/html": [
       "<div>\n",
       "<style scoped>\n",
       "    .dataframe tbody tr th:only-of-type {\n",
       "        vertical-align: middle;\n",
       "    }\n",
       "\n",
       "    .dataframe tbody tr th {\n",
       "        vertical-align: top;\n",
       "    }\n",
       "\n",
       "    .dataframe thead th {\n",
       "        text-align: right;\n",
       "    }\n",
       "</style>\n",
       "<table border=\"1\" class=\"dataframe\">\n",
       "  <thead>\n",
       "    <tr style=\"text-align: right;\">\n",
       "      <th></th>\n",
       "      <th>name</th>\n",
       "      <th>platform</th>\n",
       "      <th>year_of_release</th>\n",
       "      <th>genre</th>\n",
       "      <th>na_sales</th>\n",
       "      <th>eu_sales</th>\n",
       "      <th>jp_sales</th>\n",
       "      <th>other_sales</th>\n",
       "      <th>critic_score</th>\n",
       "      <th>user_score</th>\n",
       "      <th>rating</th>\n",
       "      <th>tbd</th>\n",
       "      <th>total_sales</th>\n",
       "    </tr>\n",
       "  </thead>\n",
       "  <tbody>\n",
       "    <tr>\n",
       "      <th>659</th>\n",
       "      <td>NaN</td>\n",
       "      <td>GEN</td>\n",
       "      <td>1993</td>\n",
       "      <td>NaN</td>\n",
       "      <td>1.78</td>\n",
       "      <td>0.53</td>\n",
       "      <td>0.00</td>\n",
       "      <td>0.08</td>\n",
       "      <td>&lt;NA&gt;</td>\n",
       "      <td>NaN</td>\n",
       "      <td>NaN</td>\n",
       "      <td>False</td>\n",
       "      <td>2.39</td>\n",
       "    </tr>\n",
       "    <tr>\n",
       "      <th>14243</th>\n",
       "      <td>NaN</td>\n",
       "      <td>GEN</td>\n",
       "      <td>1993</td>\n",
       "      <td>NaN</td>\n",
       "      <td>0.00</td>\n",
       "      <td>0.00</td>\n",
       "      <td>0.03</td>\n",
       "      <td>0.00</td>\n",
       "      <td>&lt;NA&gt;</td>\n",
       "      <td>NaN</td>\n",
       "      <td>NaN</td>\n",
       "      <td>False</td>\n",
       "      <td>0.03</td>\n",
       "    </tr>\n",
       "  </tbody>\n",
       "</table>\n",
       "</div>"
      ],
      "text/plain": [
       "      name platform  year_of_release genre  na_sales  eu_sales  jp_sales  \\\n",
       "659    NaN      GEN             1993   NaN      1.78      0.53      0.00   \n",
       "14243  NaN      GEN             1993   NaN      0.00      0.00      0.03   \n",
       "\n",
       "       other_sales  critic_score  user_score rating    tbd  total_sales  \n",
       "659           0.08          <NA>         NaN    NaN  False         2.39  \n",
       "14243         0.00          <NA>         NaN    NaN  False         0.03  "
      ]
     },
     "execution_count": 21,
     "metadata": {},
     "output_type": "execute_result"
    }
   ],
   "source": [
    "# Последние 2 пропуска за счёт 2 игр на платформе GEN\n",
    "df[df['name'].isna()]"
   ]
  },
  {
   "cell_type": "code",
   "execution_count": 22,
   "metadata": {},
   "outputs": [
    {
     "data": {
      "text/plain": [
       "Wii     34\n",
       "PS2     34\n",
       "X360    30\n",
       "DS      30\n",
       "PS3     24\n",
       "XB      21\n",
       "PC      17\n",
       "2600    17\n",
       "PSP     16\n",
       "GC      14\n",
       "GBA     11\n",
       "3DS      8\n",
       "PS       7\n",
       "N64      3\n",
       "PSV      1\n",
       "GB       1\n",
       "Name: platform, dtype: int64"
      ]
     },
     "execution_count": 22,
     "metadata": {},
     "output_type": "execute_result"
    }
   ],
   "source": [
    "# Платформы с пропущенным годом релиза\n",
    "df[df['year_of_release'].isna()]['platform'].value_counts()"
   ]
  },
  {
   "cell_type": "code",
   "execution_count": 23,
   "metadata": {},
   "outputs": [
    {
     "data": {
      "text/plain": [
       "(1980, 2016)"
      ]
     },
     "execution_count": 23,
     "metadata": {},
     "output_type": "execute_result"
    }
   ],
   "source": [
    "# Диапазон в 36 лет. Есть очень старые данные.\n",
    "df['year_of_release'].min(), df['year_of_release'].max()"
   ]
  },
  {
   "cell_type": "code",
   "execution_count": 24,
   "metadata": {},
   "outputs": [
    {
     "data": {
      "image/png": "[encoded data removed]",
      "text/plain": [
       "<Figure size 432x288 with 1 Axes>"
      ]
     },
     "metadata": {
      "needs_background": "light"
     },
     "output_type": "display_data"
    }
   ],
   "source": [
    "# Количество пропусков в данных по user_score и количество релизов в году\n",
    "games_released = df['year_of_release'].value_counts().sort_index()\n",
    "games_with_no_user_score = df[df['user_score'].isna()]['year_of_release'].value_counts().sort_index()\n",
    "\n",
    "fig, ax = plt.subplots()\n",
    "ax.set_title('Доля игр без оценки')\n",
    "ax.set_xlabel('Год')\n",
    "ax.set_ylabel('Число релизов, шт.')\n",
    "plt.bar(games_released.index , games_released, label='released', alpha = 0.5)\n",
    "plt.bar(games_with_no_user_score.index , games_with_no_user_score, label='no user score', alpha = 0.5)\n",
    "ax.legend()\n",
    "plt.show()"
   ]
  },
  {
   "cell_type": "code",
   "execution_count": 25,
   "metadata": {},
   "outputs": [
    {
     "data": {
      "text/plain": [
       "8005"
      ]
     },
     "execution_count": 25,
     "metadata": {},
     "output_type": "execute_result"
    }
   ],
   "source": [
    "# Пропуски в оценке пользователей и критиков\n",
    "df[df['user_score'].isna() & df['critic_score'].isna()].shape[0]"
   ]
  },
  {
   "cell_type": "code",
   "execution_count": 26,
   "metadata": {},
   "outputs": [
    {
     "data": {
      "text/plain": [
       "6667"
      ]
     },
     "execution_count": 26,
     "metadata": {},
     "output_type": "execute_result"
    }
   ],
   "source": [
    "# Пропуски в оценке и в рейтинге\n",
    "df[df['user_score'].isna() & df['critic_score'].isna() & df['rating'].isna()].shape[0]"
   ]
  },
  {
   "cell_type": "markdown",
   "metadata": {},
   "source": [
    "**Комментарий по пропускам и дублям:**\n",
    "* Удалены две строки с неявными дублями.\n",
    "* Пропуски по первым трём столбцам (рейтинг и оценки) никак не заменить. Эти параметры невозможно предсказать на основе других столбцов даже примерно. Удалить - потеряем слишком большую долю данных. Даже несмотря на то, что пропущенные строки по рейтингам пересекаются с пропущенными строками по оценкам.\n",
    "* Наличие таких пропусков связано с несовершенством механизма формирования таких данных. Как видно из графика выше, до 1995 года практически не существовало аггрегаторов оценок для игр и данные полностью отсутствуют. Но даже когда такие аггрегаторы появились - далеко не все игры на них попадали, и даже те игры, которые попадали на аггрегаторы не всегда были достаточно интересны публики для формирования итоговой оценки.\n",
    "* Большое количество пропусков по возрастному рейтингу - тоже объяснимо. Это рейтинг всего лишь одной ассоциации. Далеко не все игры подают заявки для такой оценки, далеко не всем играм нужна такая оценка.\n",
    "* Пропуски по году релиза можно очень приблизительно предсказать по названию платформы (взять средний год жизни конкретной платформы), но это очень приблизительная оценка и делать этого мы не будем. Просто оставим как есть. Наличие таких пропусков вероятнее всего связано с не очень высоким качеством сбора информации в тех местах, откуда она была выгружена. Скорее всего это ручшые ошибки сбора инфомрации и они происходили как с играми на очень старых платформах (N64), так и с играми на платформах прошлого поколения (XB).\n",
    "* 2 пропуска с именем игры - тоже оставим на случай, если нам понадобится получить важные цифры по платформе GEN. Скорее всего это просто человеческая ошибка.\n",
    "* **Итого:** С пропусками решено **не делать пока ничего**. Просто оставить."
   ]
  },
  {
   "cell_type": "markdown",
   "metadata": {},
   "source": [
    "## Еда"
   ]
  },
  {
   "cell_type": "markdown",
   "metadata": {},
   "source": [
    "### Выпуск игр по годам"
   ]
  },
  {
   "cell_type": "code",
   "execution_count": 28,
   "metadata": {},
   "outputs": [
    {
     "data": {
      "image/png": "[encoded data removed]",
      "text/plain": [
       "<Figure size 432x288 with 1 Axes>"
      ]
     },
     "metadata": {
      "needs_background": "light"
     },
     "output_type": "display_data"
    },
    {
     "data": {
      "text/plain": [
       "count     37.00\n",
       "mean     444.46\n",
       "std      451.54\n",
       "min        9.00\n",
       "25%       36.00\n",
       "50%      338.00\n",
       "75%      762.00\n",
       "max     1427.00\n",
       "Name: year_of_release, dtype: float64"
      ]
     },
     "metadata": {},
     "output_type": "display_data"
    },
    {
     "data": {
      "text/plain": [
       "16445"
      ]
     },
     "execution_count": 28,
     "metadata": {},
     "output_type": "execute_result"
    }
   ],
   "source": [
    "# График выпуска игр по годам\n",
    "fig, ax = plt.subplots()\n",
    "ax.set_title('Выпуск игр по годам')\n",
    "ax.set_xlabel('Год')\n",
    "ax.set_ylabel('Число релизов, шт.')\n",
    "plt.bar(games_released.index , games_released)\n",
    "plt.show()\n",
    "display(games_released.describe().T)\n",
    "\n",
    "# Сколько суммарно выпущено игр.\n",
    "games_released.sum()"
   ]
  },
  {
   "cell_type": "code",
   "execution_count": 29,
   "metadata": {},
   "outputs": [
    {
     "data": {
      "text/plain": [
       "221"
      ]
     },
     "execution_count": 29,
     "metadata": {},
     "output_type": "execute_result"
    }
   ],
   "source": [
    "# Количество игр, выпущенных до 1990 года включительно.\n",
    "df.query('year_of_release <= 1990').shape[0]"
   ]
  },
  {
   "cell_type": "markdown",
   "metadata": {},
   "source": [
    "**Вывод:**\n",
    "* За период c 1980 по 2016 год (не полный) было выпущено более 16 тыс. игр.\n",
    "* Пик пришелся на 2008-9 гг. В эти годы выпускалось более 1,4 тыс. игр. В 2012 году произошел резкий спад.\n",
    "* За период до 1990 года включительно было выпущено всего 221 игр. Игровая индустрия в тот период только начинала формироваться. Тем не менее данные и за этот период могут представлять интерес.\n",
    "* Тем не менее наиболее отражает текущее состояние игровой индустрии период начиная с 2012 года включительно."
   ]
  },
  {
   "cell_type": "markdown",
   "metadata": {},
   "source": [
    "### Продажи игр"
   ]
  },
  {
   "cell_type": "code",
   "execution_count": 30,
   "metadata": {},
   "outputs": [
    {
     "data": {
      "image/png": "[encoded data removed]",
      "text/plain": [
       "<Figure size 432x288 with 1 Axes>"
      ]
     },
     "metadata": {
      "needs_background": "light"
     },
     "output_type": "display_data"
    }
   ],
   "source": [
    "# График суммарной продажи игр по годам релиза.\n",
    "fig, ax = plt.subplots()\n",
    "ax.set_title('Продажи игр по годам релиза')\n",
    "ax.set_xlabel('Год')\n",
    "ax.set_ylabel('Продажи, млн шт.')\n",
    "plt.bar(df.groupby('year_of_release')['total_sales'].sum().index , df.groupby('year_of_release')['total_sales'].sum())\n",
    "plt.show()"
   ]
  },
  {
   "cell_type": "code",
   "execution_count": 31,
   "metadata": {},
   "outputs": [
    {
     "data": {
      "text/plain": [
       "platform\n",
       "PS2    1255.77\n",
       "X360    971.42\n",
       "PS3     939.16\n",
       "Wii     907.51\n",
       "DS      806.12\n",
       "Name: total_sales, dtype: float64"
      ]
     },
     "metadata": {},
     "output_type": "display_data"
    },
    {
     "data": {
      "image/png": "[encoded data removed]",
      "text/plain": [
       "<Figure size 1440x144 with 1 Axes>"
      ]
     },
     "metadata": {
      "needs_background": "light"
     },
     "output_type": "display_data"
    }
   ],
   "source": [
    "# Топ5 платформ по продажам.\n",
    "display(df.groupby('platform')['total_sales'].sum().sort_values(ascending=False).head())\n",
    "\n",
    "fig, ax = plt.subplots(figsize=(20,2))\n",
    "ax.set_title(f'Продажи по платформам')\n",
    "ax.set_xlabel('Год')\n",
    "ax.set_ylabel('Продажи, млн шт.')\n",
    "plt.bar(df.groupby('platform')['total_sales'].sum().sort_values(ascending=False).index , df.groupby('platform')['total_sales'].sum().sort_values(ascending=False))\n",
    "plt.show()"
   ]
  },
  {
   "cell_type": "code",
   "execution_count": 32,
   "metadata": {},
   "outputs": [
    {
     "data": {
      "image/png": "[encoded data removed]",
      "text/plain": [
       "<Figure size 1440x144 with 1 Axes>"
      ]
     },
     "metadata": {
      "needs_background": "light"
     },
     "output_type": "display_data"
    },
    {
     "data": {
      "image/png": "[encoded data removed]",
      "text/plain": [
       "<Figure size 1440x144 with 1 Axes>"
      ]
     },
     "metadata": {
      "needs_background": "light"
     },
     "output_type": "display_data"
    },
    {
     "data": {
      "image/png": "[encoded data removed]",
      "text/plain": [
       "<Figure size 1440x144 with 1 Axes>"
      ]
     },
     "metadata": {
      "needs_background": "light"
     },
     "output_type": "display_data"
    },
    {
     "data": {
      "image/png": "[encoded data removed]",
      "text/plain": [
       "<Figure size 1440x144 with 1 Axes>"
      ]
     },
     "metadata": {
      "needs_background": "light"
     },
     "output_type": "display_data"
    },
    {
     "data": {
      "image/png": "[encoded data removed]",
      "text/plain": [
       "<Figure size 1440x144 with 1 Axes>"
      ]
     },
     "metadata": {
      "needs_background": "light"
     },
     "output_type": "display_data"
    }
   ],
   "source": [
    "# Продажи игр на основных платформах.\n",
    "top_5_platform = df.groupby('platform')['total_sales'].sum().sort_values(ascending=False).head().index\n",
    "for platform in top_5_platform:\n",
    "    data_for_graph = df.query(f'platform == \"{platform}\"').groupby('year_of_release')['total_sales'].sum()\n",
    "    # Поправка на ошибочный тайтл в DS.\n",
    "    if platform == 'DS':\n",
    "        data_for_graph = df[df['year_of_release'] >= 2004].query(f'platform == \"{platform}\"').groupby('year_of_release')['total_sales'].sum()\n",
    "\n",
    "    # Строим график\n",
    "    fig, ax = plt.subplots(figsize=(20,2))\n",
    "    ax.set_title(f'Продажи игр на {platform}.')\n",
    "    ax.set_xlabel('Год')\n",
    "    ax.set_ylabel('Продажи, млн шт.')\n",
    "    plt.bar(data_for_graph.index , data_for_graph)\n",
    "    plt.show()"
   ]
  },
  {
   "cell_type": "code",
   "execution_count": 33,
   "metadata": {},
   "outputs": [
    {
     "data": {
      "text/html": [
       "<div>\n",
       "<style scoped>\n",
       "    .dataframe tbody tr th:only-of-type {\n",
       "        vertical-align: middle;\n",
       "    }\n",
       "\n",
       "    .dataframe tbody tr th {\n",
       "        vertical-align: top;\n",
       "    }\n",
       "\n",
       "    .dataframe thead th {\n",
       "        text-align: right;\n",
       "    }\n",
       "</style>\n",
       "<table border=\"1\" class=\"dataframe\">\n",
       "  <thead>\n",
       "    <tr style=\"text-align: right;\">\n",
       "      <th></th>\n",
       "      <th>name</th>\n",
       "      <th>platform</th>\n",
       "      <th>year_of_release</th>\n",
       "      <th>genre</th>\n",
       "      <th>na_sales</th>\n",
       "      <th>eu_sales</th>\n",
       "      <th>jp_sales</th>\n",
       "      <th>other_sales</th>\n",
       "      <th>critic_score</th>\n",
       "      <th>user_score</th>\n",
       "      <th>rating</th>\n",
       "      <th>tbd</th>\n",
       "      <th>total_sales</th>\n",
       "    </tr>\n",
       "  </thead>\n",
       "  <tbody>\n",
       "    <tr>\n",
       "      <th>15956</th>\n",
       "      <td>Strongest Tokyo University Shogi DS</td>\n",
       "      <td>DS</td>\n",
       "      <td>1985</td>\n",
       "      <td>Action</td>\n",
       "      <td>0.00</td>\n",
       "      <td>0.00</td>\n",
       "      <td>0.02</td>\n",
       "      <td>0.00</td>\n",
       "      <td>&lt;NA&gt;</td>\n",
       "      <td>NaN</td>\n",
       "      <td>NaN</td>\n",
       "      <td>False</td>\n",
       "      <td>0.02</td>\n",
       "    </tr>\n",
       "  </tbody>\n",
       "</table>\n",
       "</div>"
      ],
      "text/plain": [
       "                                      name platform  year_of_release   genre  \\\n",
       "15956  Strongest Tokyo University Shogi DS       DS             1985  Action   \n",
       "\n",
       "       na_sales  eu_sales  jp_sales  other_sales  critic_score  user_score  \\\n",
       "15956      0.00      0.00      0.02         0.00          <NA>         NaN   \n",
       "\n",
       "      rating    tbd  total_sales  \n",
       "15956    NaN  False         0.02  "
      ]
     },
     "execution_count": 33,
     "metadata": {},
     "output_type": "execute_result"
    }
   ],
   "source": [
    "# Тут явно ошибка, DS вышла после 2004 года. Сделаем поправку на этот тайтл при построении графиков.\n",
    "df.query('platform == \"DS\"').sort_values('year_of_release').head(1)"
   ]
  },
  {
   "cell_type": "markdown",
   "metadata": {},
   "source": [
    "**Вывод:**\n",
    "* График количества проданных игр по годам релиза примерно повторяет график выпуска новых игр, за исключением того, что хвост у этого графика срезан в конце т.к. это график не продаж в год, а график продаж игр выпущенных в конкретном году. Таки образом игры, выпущенные ближе к концу рассматриваемого периода еще доберут в продажах в течение нескольких лет позже.\n",
    "* **В целом данные по продажам вызывают опасения. Исходя из новостного фона сложно поверить в их правдивость. Консоли из поколения в поколение продаются всё большими тиражами, их доступность растёт, база игроков тоже. Игровая индустрия выбилась из чего-то нишевого и стремительно захыватывает мир. А продажи после 2009 года в штуках падают. Это очень странно и сложно объяснить только финансовым кризисом. Стоит обязательно проконсультироваться с предоставившими данные, должно быть какое-то объяснение такому феномену.**\n",
    "* В топ 5 платформ по количеству проданных игр выпущенных в рассматриваемый период входят (в скобках год появления платформы): PS2 - 2000 год, X360 - 2006 год, PS3 - 2006 год, Wii - 2006 год, DS - 2004 год.\n",
    "* Как видно из графиков характерный срок жизни платформы составляет примерно 8-9 лет.\n",
    "* Долгожителями являются платформы PS2 и X360. Некоторые игры для них выпускались даже через 12 лет после появляения платформы. В расчёт, конечно, не берется PC, где время жизни платформы - вечность."
   ]
  },
  {
   "cell_type": "markdown",
   "metadata": {},
   "source": [
    "### Актуальные платформы-лидеры"
   ]
  },
  {
   "cell_type": "code",
   "execution_count": 35,
   "metadata": {},
   "outputs": [
    {
     "data": {
      "text/plain": [
       "(2885, 13)"
      ]
     },
     "metadata": {},
     "output_type": "display_data"
    },
    {
     "data": {
      "text/html": [
       "<div>\n",
       "<style scoped>\n",
       "    .dataframe tbody tr th:only-of-type {\n",
       "        vertical-align: middle;\n",
       "    }\n",
       "\n",
       "    .dataframe tbody tr th {\n",
       "        vertical-align: top;\n",
       "    }\n",
       "\n",
       "    .dataframe thead th {\n",
       "        text-align: right;\n",
       "    }\n",
       "</style>\n",
       "<table border=\"1\" class=\"dataframe\">\n",
       "  <thead>\n",
       "    <tr style=\"text-align: right;\">\n",
       "      <th></th>\n",
       "      <th>name</th>\n",
       "      <th>platform</th>\n",
       "      <th>year_of_release</th>\n",
       "      <th>genre</th>\n",
       "      <th>na_sales</th>\n",
       "      <th>eu_sales</th>\n",
       "      <th>jp_sales</th>\n",
       "      <th>other_sales</th>\n",
       "      <th>critic_score</th>\n",
       "      <th>user_score</th>\n",
       "      <th>rating</th>\n",
       "      <th>tbd</th>\n",
       "      <th>total_sales</th>\n",
       "    </tr>\n",
       "  </thead>\n",
       "  <tbody>\n",
       "    <tr>\n",
       "      <th>16</th>\n",
       "      <td>Grand Theft Auto V</td>\n",
       "      <td>PS3</td>\n",
       "      <td>2013</td>\n",
       "      <td>Action</td>\n",
       "      <td>7.02</td>\n",
       "      <td>9.09</td>\n",
       "      <td>0.98</td>\n",
       "      <td>3.96</td>\n",
       "      <td>97</td>\n",
       "      <td>8.20</td>\n",
       "      <td>M</td>\n",
       "      <td>False</td>\n",
       "      <td>21.05</td>\n",
       "    </tr>\n",
       "    <tr>\n",
       "      <th>23</th>\n",
       "      <td>Grand Theft Auto V</td>\n",
       "      <td>X360</td>\n",
       "      <td>2013</td>\n",
       "      <td>Action</td>\n",
       "      <td>9.66</td>\n",
       "      <td>5.14</td>\n",
       "      <td>0.06</td>\n",
       "      <td>1.41</td>\n",
       "      <td>97</td>\n",
       "      <td>8.10</td>\n",
       "      <td>M</td>\n",
       "      <td>False</td>\n",
       "      <td>16.27</td>\n",
       "    </tr>\n",
       "    <tr>\n",
       "      <th>31</th>\n",
       "      <td>Call of Duty: Black Ops 3</td>\n",
       "      <td>PS4</td>\n",
       "      <td>2015</td>\n",
       "      <td>Shooter</td>\n",
       "      <td>6.03</td>\n",
       "      <td>5.86</td>\n",
       "      <td>0.36</td>\n",
       "      <td>2.38</td>\n",
       "      <td>&lt;NA&gt;</td>\n",
       "      <td>NaN</td>\n",
       "      <td>NaN</td>\n",
       "      <td>False</td>\n",
       "      <td>14.63</td>\n",
       "    </tr>\n",
       "    <tr>\n",
       "      <th>33</th>\n",
       "      <td>Pokemon X/Pokemon Y</td>\n",
       "      <td>3DS</td>\n",
       "      <td>2013</td>\n",
       "      <td>Role-Playing</td>\n",
       "      <td>5.28</td>\n",
       "      <td>4.19</td>\n",
       "      <td>4.35</td>\n",
       "      <td>0.78</td>\n",
       "      <td>&lt;NA&gt;</td>\n",
       "      <td>NaN</td>\n",
       "      <td>NaN</td>\n",
       "      <td>False</td>\n",
       "      <td>14.60</td>\n",
       "    </tr>\n",
       "    <tr>\n",
       "      <th>34</th>\n",
       "      <td>Call of Duty: Black Ops II</td>\n",
       "      <td>PS3</td>\n",
       "      <td>2012</td>\n",
       "      <td>Shooter</td>\n",
       "      <td>4.99</td>\n",
       "      <td>5.73</td>\n",
       "      <td>0.65</td>\n",
       "      <td>2.42</td>\n",
       "      <td>83</td>\n",
       "      <td>5.30</td>\n",
       "      <td>M</td>\n",
       "      <td>False</td>\n",
       "      <td>13.79</td>\n",
       "    </tr>\n",
       "  </tbody>\n",
       "</table>\n",
       "</div>"
      ],
      "text/plain": [
       "                          name platform  year_of_release         genre  \\\n",
       "16          Grand Theft Auto V      PS3             2013        Action   \n",
       "23          Grand Theft Auto V     X360             2013        Action   \n",
       "31   Call of Duty: Black Ops 3      PS4             2015       Shooter   \n",
       "33         Pokemon X/Pokemon Y      3DS             2013  Role-Playing   \n",
       "34  Call of Duty: Black Ops II      PS3             2012       Shooter   \n",
       "\n",
       "    na_sales  eu_sales  jp_sales  other_sales  critic_score  user_score  \\\n",
       "16      7.02      9.09      0.98         3.96            97        8.20   \n",
       "23      9.66      5.14      0.06         1.41            97        8.10   \n",
       "31      6.03      5.86      0.36         2.38          <NA>         NaN   \n",
       "33      5.28      4.19      4.35         0.78          <NA>         NaN   \n",
       "34      4.99      5.73      0.65         2.42            83        5.30   \n",
       "\n",
       "   rating    tbd  total_sales  \n",
       "16      M  False        21.05  \n",
       "23      M  False        16.27  \n",
       "31    NaN  False        14.63  \n",
       "33    NaN  False        14.60  \n",
       "34      M  False        13.79  "
      ]
     },
     "execution_count": 35,
     "metadata": {},
     "output_type": "execute_result"
    }
   ],
   "source": [
    "# Возьмем данные за последниее 4 с небольшим года. Будем считать это актуальным периодом.\n",
    "year_of_actuality = 2012\n",
    "actual_df = df.copy().query('year_of_release >= @year_of_actuality')\n",
    "display(actual_df.shape)\n",
    "actual_df.head()"
   ]
  },
  {
   "cell_type": "markdown",
   "metadata": {},
   "source": [
    "Берем за актуальный - период с 2012 года включительно. Это год после перелома тенденции к росту и период, когда показатели как по продажам, так и по релизам относительно стабилизируются."
   ]
  },
  {
   "cell_type": "code",
   "execution_count": 36,
   "metadata": {},
   "outputs": [
    {
     "data": {
      "text/html": [
       "<div>\n",
       "<style scoped>\n",
       "    .dataframe tbody tr th:only-of-type {\n",
       "        vertical-align: middle;\n",
       "    }\n",
       "\n",
       "    .dataframe tbody tr th {\n",
       "        vertical-align: top;\n",
       "    }\n",
       "\n",
       "    .dataframe thead th {\n",
       "        text-align: right;\n",
       "    }\n",
       "</style>\n",
       "<table border=\"1\" class=\"dataframe\">\n",
       "  <thead>\n",
       "    <tr style=\"text-align: right;\">\n",
       "      <th>platform</th>\n",
       "      <th>3DS</th>\n",
       "      <th>DS</th>\n",
       "      <th>PC</th>\n",
       "      <th>PS3</th>\n",
       "      <th>PS4</th>\n",
       "      <th>PSP</th>\n",
       "      <th>PSV</th>\n",
       "      <th>Wii</th>\n",
       "      <th>WiiU</th>\n",
       "      <th>X360</th>\n",
       "      <th>XOne</th>\n",
       "    </tr>\n",
       "    <tr>\n",
       "      <th>year_of_release</th>\n",
       "      <th></th>\n",
       "      <th></th>\n",
       "      <th></th>\n",
       "      <th></th>\n",
       "      <th></th>\n",
       "      <th></th>\n",
       "      <th></th>\n",
       "      <th></th>\n",
       "      <th></th>\n",
       "      <th></th>\n",
       "      <th></th>\n",
       "    </tr>\n",
       "  </thead>\n",
       "  <tbody>\n",
       "    <tr>\n",
       "      <th>2012</th>\n",
       "      <td>51.36</td>\n",
       "      <td>11.01</td>\n",
       "      <td>23.22</td>\n",
       "      <td>107.35</td>\n",
       "      <td>NaN</td>\n",
       "      <td>7.69</td>\n",
       "      <td>16.19</td>\n",
       "      <td>21.71</td>\n",
       "      <td>17.56</td>\n",
       "      <td>99.74</td>\n",
       "      <td>NaN</td>\n",
       "    </tr>\n",
       "    <tr>\n",
       "      <th>2013</th>\n",
       "      <td>56.57</td>\n",
       "      <td>1.54</td>\n",
       "      <td>12.38</td>\n",
       "      <td>113.25</td>\n",
       "      <td>25.99</td>\n",
       "      <td>3.14</td>\n",
       "      <td>10.59</td>\n",
       "      <td>8.59</td>\n",
       "      <td>21.65</td>\n",
       "      <td>88.58</td>\n",
       "      <td>18.96</td>\n",
       "    </tr>\n",
       "    <tr>\n",
       "      <th>2014</th>\n",
       "      <td>43.76</td>\n",
       "      <td>NaN</td>\n",
       "      <td>13.28</td>\n",
       "      <td>47.76</td>\n",
       "      <td>100.00</td>\n",
       "      <td>0.24</td>\n",
       "      <td>11.90</td>\n",
       "      <td>3.75</td>\n",
       "      <td>22.03</td>\n",
       "      <td>34.74</td>\n",
       "      <td>54.07</td>\n",
       "    </tr>\n",
       "    <tr>\n",
       "      <th>2015</th>\n",
       "      <td>27.78</td>\n",
       "      <td>NaN</td>\n",
       "      <td>8.52</td>\n",
       "      <td>16.82</td>\n",
       "      <td>118.90</td>\n",
       "      <td>0.12</td>\n",
       "      <td>6.25</td>\n",
       "      <td>1.14</td>\n",
       "      <td>16.35</td>\n",
       "      <td>11.96</td>\n",
       "      <td>60.14</td>\n",
       "    </tr>\n",
       "    <tr>\n",
       "      <th>2016</th>\n",
       "      <td>15.14</td>\n",
       "      <td>NaN</td>\n",
       "      <td>5.25</td>\n",
       "      <td>3.60</td>\n",
       "      <td>69.25</td>\n",
       "      <td>NaN</td>\n",
       "      <td>4.25</td>\n",
       "      <td>0.18</td>\n",
       "      <td>4.60</td>\n",
       "      <td>1.52</td>\n",
       "      <td>26.15</td>\n",
       "    </tr>\n",
       "  </tbody>\n",
       "</table>\n",
       "</div>"
      ],
      "text/plain": [
       "platform          3DS    DS    PC    PS3    PS4  PSP   PSV   Wii  WiiU  X360  \\\n",
       "year_of_release                                                                \n",
       "2012            51.36 11.01 23.22 107.35    NaN 7.69 16.19 21.71 17.56 99.74   \n",
       "2013            56.57  1.54 12.38 113.25  25.99 3.14 10.59  8.59 21.65 88.58   \n",
       "2014            43.76   NaN 13.28  47.76 100.00 0.24 11.90  3.75 22.03 34.74   \n",
       "2015            27.78   NaN  8.52  16.82 118.90 0.12  6.25  1.14 16.35 11.96   \n",
       "2016            15.14   NaN  5.25   3.60  69.25  NaN  4.25  0.18  4.60  1.52   \n",
       "\n",
       "platform         XOne  \n",
       "year_of_release        \n",
       "2012              NaN  \n",
       "2013            18.96  \n",
       "2014            54.07  \n",
       "2015            60.14  \n",
       "2016            26.15  "
      ]
     },
     "execution_count": 36,
     "metadata": {},
     "output_type": "execute_result"
    }
   ],
   "source": [
    "# Построим пивот по годам в разрезе платформ\n",
    "current_pivot = actual_df[~actual_df['year_of_release'].isna()].pivot_table(index='year_of_release', columns='platform', aggfunc='sum', values='total_sales')\n",
    "current_pivot"
   ]
  },
  {
   "cell_type": "code",
   "execution_count": 37,
   "metadata": {},
   "outputs": [
    {
     "data": {
      "image/png": "[encoded data removed]",
      "text/plain": [
       "<Figure size 432x288 with 1 Axes>"
      ]
     },
     "metadata": {
      "needs_background": "light"
     },
     "output_type": "display_data"
    }
   ],
   "source": [
    "# Рисуем график с долями платформ по годам\n",
    "ax = current_pivot.divide(current_pivot.sum(axis='columns'), axis='index').sort_index(ascending=False).plot(kind='barh', stacked=True)\n",
    "ax.set_title('Продажи игр в разрезе платформ')\n",
    "ax.set_xlabel('Доля, %')\n",
    "ax.set_ylabel('Год')\n",
    "ax.legend(bbox_to_anchor=(1.2, 0.5), loc='right')\n",
    "plt.show()"
   ]
  },
  {
   "cell_type": "markdown",
   "metadata": {},
   "source": [
    "* Как видно из графика рынок игр динамично меняется. К 2016 году даже на неполных данных видно, что лидерство среди платформ занимают PS4, XOne и 3DS.\n",
    "* Бывшие в 2012 году в лидерах платформы PS3 и X360 сменили поколение, при этом долгоиграющая 3DS не показывает на выбранном периоде явной нисходящей тенденции.\n",
    "* Так же на графике мы можем увидеть смерть платформ DS, PSP и Wii.\n",
    "* Остальные платформы так или иначе присутствуют на данном отрезке в небольших долях."
   ]
  },
  {
   "cell_type": "code",
   "execution_count": 38,
   "metadata": {},
   "outputs": [
    {
     "data": {
      "text/plain": [
       "'Топ 5 игр по продажам на платформе PS4:'"
      ]
     },
     "metadata": {},
     "output_type": "display_data"
    },
    {
     "data": {
      "text/html": [
       "<div>\n",
       "<style scoped>\n",
       "    .dataframe tbody tr th:only-of-type {\n",
       "        vertical-align: middle;\n",
       "    }\n",
       "\n",
       "    .dataframe tbody tr th {\n",
       "        vertical-align: top;\n",
       "    }\n",
       "\n",
       "    .dataframe thead th {\n",
       "        text-align: right;\n",
       "    }\n",
       "</style>\n",
       "<table border=\"1\" class=\"dataframe\">\n",
       "  <thead>\n",
       "    <tr style=\"text-align: right;\">\n",
       "      <th></th>\n",
       "      <th>name</th>\n",
       "      <th>total_sales</th>\n",
       "    </tr>\n",
       "  </thead>\n",
       "  <tbody>\n",
       "    <tr>\n",
       "      <th>31</th>\n",
       "      <td>Call of Duty: Black Ops 3</td>\n",
       "      <td>14.63</td>\n",
       "    </tr>\n",
       "    <tr>\n",
       "      <th>42</th>\n",
       "      <td>Grand Theft Auto V</td>\n",
       "      <td>12.62</td>\n",
       "    </tr>\n",
       "    <tr>\n",
       "      <th>77</th>\n",
       "      <td>FIFA 16</td>\n",
       "      <td>8.58</td>\n",
       "    </tr>\n",
       "    <tr>\n",
       "      <th>87</th>\n",
       "      <td>Star Wars Battlefront (2015)</td>\n",
       "      <td>7.98</td>\n",
       "    </tr>\n",
       "    <tr>\n",
       "      <th>92</th>\n",
       "      <td>Call of Duty: Advanced Warfare</td>\n",
       "      <td>7.66</td>\n",
       "    </tr>\n",
       "  </tbody>\n",
       "</table>\n",
       "</div>"
      ],
      "text/plain": [
       "                              name  total_sales\n",
       "31       Call of Duty: Black Ops 3        14.63\n",
       "42              Grand Theft Auto V        12.62\n",
       "77                         FIFA 16         8.58\n",
       "87    Star Wars Battlefront (2015)         7.98\n",
       "92  Call of Duty: Advanced Warfare         7.66"
      ]
     },
     "metadata": {},
     "output_type": "display_data"
    },
    {
     "data": {
      "text/plain": [
       "'Топ 5 игр по продажам на платформе XOne:'"
      ]
     },
     "metadata": {},
     "output_type": "display_data"
    },
    {
     "data": {
      "text/html": [
       "<div>\n",
       "<style scoped>\n",
       "    .dataframe tbody tr th:only-of-type {\n",
       "        vertical-align: middle;\n",
       "    }\n",
       "\n",
       "    .dataframe tbody tr th {\n",
       "        vertical-align: top;\n",
       "    }\n",
       "\n",
       "    .dataframe thead th {\n",
       "        text-align: right;\n",
       "    }\n",
       "</style>\n",
       "<table border=\"1\" class=\"dataframe\">\n",
       "  <thead>\n",
       "    <tr style=\"text-align: right;\">\n",
       "      <th></th>\n",
       "      <th>name</th>\n",
       "      <th>total_sales</th>\n",
       "    </tr>\n",
       "  </thead>\n",
       "  <tbody>\n",
       "    <tr>\n",
       "      <th>99</th>\n",
       "      <td>Call of Duty: Black Ops 3</td>\n",
       "      <td>7.39</td>\n",
       "    </tr>\n",
       "    <tr>\n",
       "      <th>165</th>\n",
       "      <td>Grand Theft Auto V</td>\n",
       "      <td>5.47</td>\n",
       "    </tr>\n",
       "    <tr>\n",
       "      <th>179</th>\n",
       "      <td>Call of Duty: Advanced Warfare</td>\n",
       "      <td>5.26</td>\n",
       "    </tr>\n",
       "    <tr>\n",
       "      <th>242</th>\n",
       "      <td>Halo 5: Guardians</td>\n",
       "      <td>4.49</td>\n",
       "    </tr>\n",
       "    <tr>\n",
       "      <th>270</th>\n",
       "      <td>Fallout 4</td>\n",
       "      <td>4.22</td>\n",
       "    </tr>\n",
       "  </tbody>\n",
       "</table>\n",
       "</div>"
      ],
      "text/plain": [
       "                               name  total_sales\n",
       "99        Call of Duty: Black Ops 3         7.39\n",
       "165              Grand Theft Auto V         5.47\n",
       "179  Call of Duty: Advanced Warfare         5.26\n",
       "242               Halo 5: Guardians         4.49\n",
       "270                       Fallout 4         4.22"
      ]
     },
     "metadata": {},
     "output_type": "display_data"
    },
    {
     "data": {
      "text/plain": [
       "'Топ 5 игр по продажам на платформе 3DS:'"
      ]
     },
     "metadata": {},
     "output_type": "display_data"
    },
    {
     "data": {
      "text/html": [
       "<div>\n",
       "<style scoped>\n",
       "    .dataframe tbody tr th:only-of-type {\n",
       "        vertical-align: middle;\n",
       "    }\n",
       "\n",
       "    .dataframe tbody tr th {\n",
       "        vertical-align: top;\n",
       "    }\n",
       "\n",
       "    .dataframe thead th {\n",
       "        text-align: right;\n",
       "    }\n",
       "</style>\n",
       "<table border=\"1\" class=\"dataframe\">\n",
       "  <thead>\n",
       "    <tr style=\"text-align: right;\">\n",
       "      <th></th>\n",
       "      <th>name</th>\n",
       "      <th>total_sales</th>\n",
       "    </tr>\n",
       "  </thead>\n",
       "  <tbody>\n",
       "    <tr>\n",
       "      <th>33</th>\n",
       "      <td>Pokemon X/Pokemon Y</td>\n",
       "      <td>14.60</td>\n",
       "    </tr>\n",
       "    <tr>\n",
       "      <th>47</th>\n",
       "      <td>Pokemon Omega Ruby/Pokemon Alpha Sapphire</td>\n",
       "      <td>11.68</td>\n",
       "    </tr>\n",
       "    <tr>\n",
       "      <th>62</th>\n",
       "      <td>New Super Mario Bros. 2</td>\n",
       "      <td>9.90</td>\n",
       "    </tr>\n",
       "    <tr>\n",
       "      <th>73</th>\n",
       "      <td>Animal Crossing: New Leaf</td>\n",
       "      <td>9.17</td>\n",
       "    </tr>\n",
       "    <tr>\n",
       "      <th>96</th>\n",
       "      <td>Super Smash Bros. for Wii U and 3DS</td>\n",
       "      <td>7.55</td>\n",
       "    </tr>\n",
       "  </tbody>\n",
       "</table>\n",
       "</div>"
      ],
      "text/plain": [
       "                                         name  total_sales\n",
       "33                        Pokemon X/Pokemon Y        14.60\n",
       "47  Pokemon Omega Ruby/Pokemon Alpha Sapphire        11.68\n",
       "62                    New Super Mario Bros. 2         9.90\n",
       "73                  Animal Crossing: New Leaf         9.17\n",
       "96        Super Smash Bros. for Wii U and 3DS         7.55"
      ]
     },
     "metadata": {},
     "output_type": "display_data"
    }
   ],
   "source": [
    "# Посмотрим на продажи по топ3 платформам\n",
    "top3_platforms = ['PS4', 'XOne', '3DS']\n",
    "for platform in top3_platforms:\n",
    "    display(f'Топ 5 игр по продажам на платформе {platform}:')\n",
    "    display(actual_df[actual_df['platform'] == platform][['name', 'total_sales']].sort_values('total_sales', ascending=False).head())"
   ]
  },
  {
   "cell_type": "code",
   "execution_count": 39,
   "metadata": {},
   "outputs": [
    {
     "data": {
      "image/png": "[encoded data removed]",
      "text/plain": [
       "<Figure size 1440x432 with 2 Axes>"
      ]
     },
     "metadata": {
      "needs_background": "light"
     },
     "output_type": "display_data"
    }
   ],
   "source": [
    "# Построим боксплоты по всем актуальным платформам.\n",
    "# Формируем данные для графика.\n",
    "total_sales_by_platform = actual_df.groupby('platform')['total_sales'].max().sort_values(ascending=False)\n",
    "platforms = total_sales_by_platform.index\n",
    "data_for_graph = []\n",
    "for platform in platforms:\n",
    "    data_for_graph.append(actual_df.query('platform == @platform')['total_sales'])\n",
    "\n",
    "#Рисуем график.\n",
    "fig, (ax1, ax2) = plt.subplots(1, 2, figsize=(20, 6))\n",
    "ax1.set_title('Распределение продаж игр на актуальных платформах')\n",
    "ax1.set_ylabel('млн шт.')\n",
    "ax1.set_xlabel('Платформа')\n",
    "ax1.yaxis.grid(True)\n",
    "ax1.boxplot(data_for_graph, labels=platforms)\n",
    "ax2.set_title('Распределение продаж игр на актуальных платформах')\n",
    "ax2.set_ylabel('млн шт.')\n",
    "ax2.set_xlabel('Платформа')\n",
    "ax2.set_ylim(0, 2.2)\n",
    "ax2.yaxis.grid(True)\n",
    "ax2.boxplot(data_for_graph, labels=platforms);"
   ]
  },
  {
   "cell_type": "code",
   "execution_count": 40,
   "metadata": {},
   "outputs": [
    {
     "data": {
      "text/plain": [
       "'PS3'"
      ]
     },
     "metadata": {},
     "output_type": "display_data"
    },
    {
     "data": {
      "text/html": [
       "<div>\n",
       "<style scoped>\n",
       "    .dataframe tbody tr th:only-of-type {\n",
       "        vertical-align: middle;\n",
       "    }\n",
       "\n",
       "    .dataframe tbody tr th {\n",
       "        vertical-align: top;\n",
       "    }\n",
       "\n",
       "    .dataframe thead th {\n",
       "        text-align: right;\n",
       "    }\n",
       "</style>\n",
       "<table border=\"1\" class=\"dataframe\">\n",
       "  <thead>\n",
       "    <tr style=\"text-align: right;\">\n",
       "      <th></th>\n",
       "      <th>name</th>\n",
       "      <th>platform</th>\n",
       "      <th>year_of_release</th>\n",
       "      <th>genre</th>\n",
       "      <th>na_sales</th>\n",
       "      <th>eu_sales</th>\n",
       "      <th>jp_sales</th>\n",
       "      <th>other_sales</th>\n",
       "      <th>critic_score</th>\n",
       "      <th>user_score</th>\n",
       "      <th>rating</th>\n",
       "      <th>tbd</th>\n",
       "      <th>total_sales</th>\n",
       "    </tr>\n",
       "  </thead>\n",
       "  <tbody>\n",
       "    <tr>\n",
       "      <th>16</th>\n",
       "      <td>Grand Theft Auto V</td>\n",
       "      <td>PS3</td>\n",
       "      <td>2013</td>\n",
       "      <td>Action</td>\n",
       "      <td>7.02</td>\n",
       "      <td>9.09</td>\n",
       "      <td>0.98</td>\n",
       "      <td>3.96</td>\n",
       "      <td>97</td>\n",
       "      <td>8.20</td>\n",
       "      <td>M</td>\n",
       "      <td>False</td>\n",
       "      <td>21.05</td>\n",
       "    </tr>\n",
       "  </tbody>\n",
       "</table>\n",
       "</div>"
      ],
      "text/plain": [
       "                  name platform  year_of_release   genre  na_sales  eu_sales  \\\n",
       "16  Grand Theft Auto V      PS3             2013  Action      7.02      9.09   \n",
       "\n",
       "    jp_sales  other_sales  critic_score  user_score rating    tbd  total_sales  \n",
       "16      0.98         3.96            97        8.20      M  False        21.05  "
      ]
     },
     "metadata": {},
     "output_type": "display_data"
    },
    {
     "data": {
      "text/plain": [
       "'X360'"
      ]
     },
     "metadata": {},
     "output_type": "display_data"
    },
    {
     "data": {
      "text/html": [
       "<div>\n",
       "<style scoped>\n",
       "    .dataframe tbody tr th:only-of-type {\n",
       "        vertical-align: middle;\n",
       "    }\n",
       "\n",
       "    .dataframe tbody tr th {\n",
       "        vertical-align: top;\n",
       "    }\n",
       "\n",
       "    .dataframe thead th {\n",
       "        text-align: right;\n",
       "    }\n",
       "</style>\n",
       "<table border=\"1\" class=\"dataframe\">\n",
       "  <thead>\n",
       "    <tr style=\"text-align: right;\">\n",
       "      <th></th>\n",
       "      <th>name</th>\n",
       "      <th>platform</th>\n",
       "      <th>year_of_release</th>\n",
       "      <th>genre</th>\n",
       "      <th>na_sales</th>\n",
       "      <th>eu_sales</th>\n",
       "      <th>jp_sales</th>\n",
       "      <th>other_sales</th>\n",
       "      <th>critic_score</th>\n",
       "      <th>user_score</th>\n",
       "      <th>rating</th>\n",
       "      <th>tbd</th>\n",
       "      <th>total_sales</th>\n",
       "    </tr>\n",
       "  </thead>\n",
       "  <tbody>\n",
       "    <tr>\n",
       "      <th>23</th>\n",
       "      <td>Grand Theft Auto V</td>\n",
       "      <td>X360</td>\n",
       "      <td>2013</td>\n",
       "      <td>Action</td>\n",
       "      <td>9.66</td>\n",
       "      <td>5.14</td>\n",
       "      <td>0.06</td>\n",
       "      <td>1.41</td>\n",
       "      <td>97</td>\n",
       "      <td>8.10</td>\n",
       "      <td>M</td>\n",
       "      <td>False</td>\n",
       "      <td>16.27</td>\n",
       "    </tr>\n",
       "  </tbody>\n",
       "</table>\n",
       "</div>"
      ],
      "text/plain": [
       "                  name platform  year_of_release   genre  na_sales  eu_sales  \\\n",
       "23  Grand Theft Auto V     X360             2013  Action      9.66      5.14   \n",
       "\n",
       "    jp_sales  other_sales  critic_score  user_score rating    tbd  total_sales  \n",
       "23      0.06         1.41            97        8.10      M  False        16.27  "
      ]
     },
     "metadata": {},
     "output_type": "display_data"
    },
    {
     "data": {
      "text/plain": [
       "'PS4'"
      ]
     },
     "metadata": {},
     "output_type": "display_data"
    },
    {
     "data": {
      "text/html": [
       "<div>\n",
       "<style scoped>\n",
       "    .dataframe tbody tr th:only-of-type {\n",
       "        vertical-align: middle;\n",
       "    }\n",
       "\n",
       "    .dataframe tbody tr th {\n",
       "        vertical-align: top;\n",
       "    }\n",
       "\n",
       "    .dataframe thead th {\n",
       "        text-align: right;\n",
       "    }\n",
       "</style>\n",
       "<table border=\"1\" class=\"dataframe\">\n",
       "  <thead>\n",
       "    <tr style=\"text-align: right;\">\n",
       "      <th></th>\n",
       "      <th>name</th>\n",
       "      <th>platform</th>\n",
       "      <th>year_of_release</th>\n",
       "      <th>genre</th>\n",
       "      <th>na_sales</th>\n",
       "      <th>eu_sales</th>\n",
       "      <th>jp_sales</th>\n",
       "      <th>other_sales</th>\n",
       "      <th>critic_score</th>\n",
       "      <th>user_score</th>\n",
       "      <th>rating</th>\n",
       "      <th>tbd</th>\n",
       "      <th>total_sales</th>\n",
       "    </tr>\n",
       "  </thead>\n",
       "  <tbody>\n",
       "    <tr>\n",
       "      <th>31</th>\n",
       "      <td>Call of Duty: Black Ops 3</td>\n",
       "      <td>PS4</td>\n",
       "      <td>2015</td>\n",
       "      <td>Shooter</td>\n",
       "      <td>6.03</td>\n",
       "      <td>5.86</td>\n",
       "      <td>0.36</td>\n",
       "      <td>2.38</td>\n",
       "      <td>&lt;NA&gt;</td>\n",
       "      <td>NaN</td>\n",
       "      <td>NaN</td>\n",
       "      <td>False</td>\n",
       "      <td>14.63</td>\n",
       "    </tr>\n",
       "  </tbody>\n",
       "</table>\n",
       "</div>"
      ],
      "text/plain": [
       "                         name platform  year_of_release    genre  na_sales  \\\n",
       "31  Call of Duty: Black Ops 3      PS4             2015  Shooter      6.03   \n",
       "\n",
       "    eu_sales  jp_sales  other_sales  critic_score  user_score rating    tbd  \\\n",
       "31      5.86      0.36         2.38          <NA>         NaN    NaN  False   \n",
       "\n",
       "    total_sales  \n",
       "31        14.63  "
      ]
     },
     "metadata": {},
     "output_type": "display_data"
    },
    {
     "data": {
      "text/plain": [
       "'3DS'"
      ]
     },
     "metadata": {},
     "output_type": "display_data"
    },
    {
     "data": {
      "text/html": [
       "<div>\n",
       "<style scoped>\n",
       "    .dataframe tbody tr th:only-of-type {\n",
       "        vertical-align: middle;\n",
       "    }\n",
       "\n",
       "    .dataframe tbody tr th {\n",
       "        vertical-align: top;\n",
       "    }\n",
       "\n",
       "    .dataframe thead th {\n",
       "        text-align: right;\n",
       "    }\n",
       "</style>\n",
       "<table border=\"1\" class=\"dataframe\">\n",
       "  <thead>\n",
       "    <tr style=\"text-align: right;\">\n",
       "      <th></th>\n",
       "      <th>name</th>\n",
       "      <th>platform</th>\n",
       "      <th>year_of_release</th>\n",
       "      <th>genre</th>\n",
       "      <th>na_sales</th>\n",
       "      <th>eu_sales</th>\n",
       "      <th>jp_sales</th>\n",
       "      <th>other_sales</th>\n",
       "      <th>critic_score</th>\n",
       "      <th>user_score</th>\n",
       "      <th>rating</th>\n",
       "      <th>tbd</th>\n",
       "      <th>total_sales</th>\n",
       "    </tr>\n",
       "  </thead>\n",
       "  <tbody>\n",
       "    <tr>\n",
       "      <th>33</th>\n",
       "      <td>Pokemon X/Pokemon Y</td>\n",
       "      <td>3DS</td>\n",
       "      <td>2013</td>\n",
       "      <td>Role-Playing</td>\n",
       "      <td>5.28</td>\n",
       "      <td>4.19</td>\n",
       "      <td>4.35</td>\n",
       "      <td>0.78</td>\n",
       "      <td>&lt;NA&gt;</td>\n",
       "      <td>NaN</td>\n",
       "      <td>NaN</td>\n",
       "      <td>False</td>\n",
       "      <td>14.60</td>\n",
       "    </tr>\n",
       "  </tbody>\n",
       "</table>\n",
       "</div>"
      ],
      "text/plain": [
       "                   name platform  year_of_release         genre  na_sales  \\\n",
       "33  Pokemon X/Pokemon Y      3DS             2013  Role-Playing      5.28   \n",
       "\n",
       "    eu_sales  jp_sales  other_sales  critic_score  user_score rating    tbd  \\\n",
       "33      4.19      4.35         0.78          <NA>         NaN    NaN  False   \n",
       "\n",
       "    total_sales  \n",
       "33        14.60  "
      ]
     },
     "metadata": {},
     "output_type": "display_data"
    }
   ],
   "source": [
    "# Посмотрим на самые продаваемые игры первых 4 платформ с самыми продаваемыми играми.\n",
    "for i, platform in enumerate(platforms):\n",
    "    if i >=4:\n",
    "        break\n",
    "    display(platform)\n",
    "    platform_df = actual_df[actual_df['platform'] == platform]\n",
    "    display(platform_df[platform_df['total_sales'] == platform_df['total_sales'].max()])"
   ]
  },
  {
   "cell_type": "markdown",
   "metadata": {},
   "source": [
    "* Из анализа боксплотов по продажам игр на актуальных платформ мы видим, что данные по продажам и популярность игр в целом распределены очень неравномерно. Есть абсолютное большинство игр, показывающих довольно посредственные результаты, и есть ряд \"шедевров\", которые на хайпе покупают все, у кого есть консоль определенной платформы.\n",
    "* Среди таких счастливчиков стоит выделить суперхит GTA5, игры серии CoD. Мир 3DS ожидаемо не пересекается с консолями, рассчитанными на западный рынок. Здесь в топе продаж игры по Pokemon."
   ]
  },
  {
   "cell_type": "markdown",
   "metadata": {},
   "source": [
    "### Отзывы пользователей и критиков\n",
    "Изучим влияние на продажи игр оценок пользователей и критиков. Оганичимся наиболее популярной платформой на 2016 год - PS4."
   ]
  },
  {
   "cell_type": "code",
   "execution_count": 41,
   "metadata": {},
   "outputs": [
    {
     "data": {
      "text/html": [
       "<div>\n",
       "<style scoped>\n",
       "    .dataframe tbody tr th:only-of-type {\n",
       "        vertical-align: middle;\n",
       "    }\n",
       "\n",
       "    .dataframe tbody tr th {\n",
       "        vertical-align: top;\n",
       "    }\n",
       "\n",
       "    .dataframe thead th {\n",
       "        text-align: right;\n",
       "    }\n",
       "</style>\n",
       "<table border=\"1\" class=\"dataframe\">\n",
       "  <thead>\n",
       "    <tr style=\"text-align: right;\">\n",
       "      <th></th>\n",
       "      <th>total_sales</th>\n",
       "      <th>critic_score</th>\n",
       "      <th>user_score</th>\n",
       "    </tr>\n",
       "  </thead>\n",
       "  <tbody>\n",
       "    <tr>\n",
       "      <th>total_sales</th>\n",
       "      <td>1.00</td>\n",
       "      <td>0.41</td>\n",
       "      <td>-0.03</td>\n",
       "    </tr>\n",
       "    <tr>\n",
       "      <th>critic_score</th>\n",
       "      <td>0.41</td>\n",
       "      <td>1.00</td>\n",
       "      <td>0.56</td>\n",
       "    </tr>\n",
       "    <tr>\n",
       "      <th>user_score</th>\n",
       "      <td>-0.03</td>\n",
       "      <td>0.56</td>\n",
       "      <td>1.00</td>\n",
       "    </tr>\n",
       "  </tbody>\n",
       "</table>\n",
       "</div>"
      ],
      "text/plain": [
       "              total_sales  critic_score  user_score\n",
       "total_sales          1.00          0.41       -0.03\n",
       "critic_score         0.41          1.00        0.56\n",
       "user_score          -0.03          0.56        1.00"
      ]
     },
     "execution_count": 41,
     "metadata": {},
     "output_type": "execute_result"
    }
   ],
   "source": [
    "# Построим матрицу корреляций для продаж и оценок самой популярной актуальной платформы PS4. Nan можно игнорировать, т.к. при расчёте корелляции строки, в которых есть nan - игнорируются.\n",
    "actual_df[actual_df['platform'] == 'PS4'][['total_sales', 'critic_score', 'user_score']].corr()"
   ]
  },
  {
   "cell_type": "code",
   "execution_count": 42,
   "metadata": {},
   "outputs": [
    {
     "data": {
      "image/png": "[encoded data removed]",
      "text/plain": [
       "<Figure size 1440x432 with 2 Axes>"
      ]
     },
     "metadata": {
      "needs_background": "light"
     },
     "output_type": "display_data"
    }
   ],
   "source": [
    "# Построим диаграммы рассеяния\n",
    "fig, (ax1, ax2) = plt.subplots(1, 2, figsize=(20, 6))\n",
    "\n",
    "ax1.set_title('Диаграмма рассеяния для critic_score и total_sales')\n",
    "ax1.set_xlabel('Оценка критиков')\n",
    "ax1.set_ylabel('Суммарные продажи, млн шт.')\n",
    "ax1.scatter(x=actual_df[actual_df['platform'] == 'PS4'][['critic_score', 'total_sales']].dropna()['critic_score'], y=actual_df[actual_df['platform'] == 'PS4'][['critic_score', 'total_sales']].dropna()['total_sales'])\n",
    "\n",
    "ax2.set_title('Диаграмма рассеяния для user_score и total_sales')\n",
    "ax2.set_xlabel('Оценка пользователей')\n",
    "ax2.set_ylabel('Суммарные продажи, млн шт.')\n",
    "ax2.scatter(x=actual_df[actual_df['platform'] == 'PS4'][['user_score', 'total_sales']].dropna()['user_score'], y=actual_df[actual_df['platform'] == 'PS4'][['user_score', 'total_sales']].dropna()['total_sales']);"
   ]
  },
  {
   "cell_type": "markdown",
   "metadata": {},
   "source": [
    "* Анализ показывает наличие невысокой корреляции продаж с оценками критиков. Это так же можно увидеть и на диаграмме рассеянния - чем больше оценка критиков, тем чаще встречаются игры с большим количеством продаж.\n",
    "* Корреляции продаж с пользовательской оценкой практически нет. Это так же заметно на диаграмме рассеянния - несмотря на то, что среди тайтлов с очень низкой пользовательской оценкой почти нет бестселлеров, их можно часто встретить и среди игр с оценкой от низкой до средней. Хорошая пользовательская оценка - не гарантия высоких продаж.\n"
   ]
  },
  {
   "cell_type": "code",
   "execution_count": 44,
   "metadata": {},
   "outputs": [
    {
     "data": {
      "text/plain": [
       "'Платформа PS4.'"
      ]
     },
     "metadata": {},
     "output_type": "display_data"
    },
    {
     "data": {
      "text/html": [
       "<div>\n",
       "<style scoped>\n",
       "    .dataframe tbody tr th:only-of-type {\n",
       "        vertical-align: middle;\n",
       "    }\n",
       "\n",
       "    .dataframe tbody tr th {\n",
       "        vertical-align: top;\n",
       "    }\n",
       "\n",
       "    .dataframe thead th {\n",
       "        text-align: right;\n",
       "    }\n",
       "</style>\n",
       "<table border=\"1\" class=\"dataframe\">\n",
       "  <thead>\n",
       "    <tr style=\"text-align: right;\">\n",
       "      <th></th>\n",
       "      <th>total_sales</th>\n",
       "      <th>critic_score</th>\n",
       "      <th>user_score</th>\n",
       "    </tr>\n",
       "  </thead>\n",
       "  <tbody>\n",
       "    <tr>\n",
       "      <th>total_sales</th>\n",
       "      <td>1.00</td>\n",
       "      <td>0.41</td>\n",
       "      <td>-0.03</td>\n",
       "    </tr>\n",
       "    <tr>\n",
       "      <th>critic_score</th>\n",
       "      <td>0.41</td>\n",
       "      <td>1.00</td>\n",
       "      <td>0.56</td>\n",
       "    </tr>\n",
       "    <tr>\n",
       "      <th>user_score</th>\n",
       "      <td>-0.03</td>\n",
       "      <td>0.56</td>\n",
       "      <td>1.00</td>\n",
       "    </tr>\n",
       "  </tbody>\n",
       "</table>\n",
       "</div>"
      ],
      "text/plain": [
       "              total_sales  critic_score  user_score\n",
       "total_sales          1.00          0.41       -0.03\n",
       "critic_score         0.41          1.00        0.56\n",
       "user_score          -0.03          0.56        1.00"
      ]
     },
     "metadata": {},
     "output_type": "display_data"
    },
    {
     "data": {
      "image/png": "[encoded data removed]",
      "text/plain": [
       "<Figure size 1440x216 with 2 Axes>"
      ]
     },
     "metadata": {
      "needs_background": "light"
     },
     "output_type": "display_data"
    },
    {
     "data": {
      "text/plain": [
       "'Платформа XOne.'"
      ]
     },
     "metadata": {},
     "output_type": "display_data"
    },
    {
     "data": {
      "text/html": [
       "<div>\n",
       "<style scoped>\n",
       "    .dataframe tbody tr th:only-of-type {\n",
       "        vertical-align: middle;\n",
       "    }\n",
       "\n",
       "    .dataframe tbody tr th {\n",
       "        vertical-align: top;\n",
       "    }\n",
       "\n",
       "    .dataframe thead th {\n",
       "        text-align: right;\n",
       "    }\n",
       "</style>\n",
       "<table border=\"1\" class=\"dataframe\">\n",
       "  <thead>\n",
       "    <tr style=\"text-align: right;\">\n",
       "      <th></th>\n",
       "      <th>total_sales</th>\n",
       "      <th>critic_score</th>\n",
       "      <th>user_score</th>\n",
       "    </tr>\n",
       "  </thead>\n",
       "  <tbody>\n",
       "    <tr>\n",
       "      <th>total_sales</th>\n",
       "      <td>1.00</td>\n",
       "      <td>0.42</td>\n",
       "      <td>-0.07</td>\n",
       "    </tr>\n",
       "    <tr>\n",
       "      <th>critic_score</th>\n",
       "      <td>0.42</td>\n",
       "      <td>1.00</td>\n",
       "      <td>0.47</td>\n",
       "    </tr>\n",
       "    <tr>\n",
       "      <th>user_score</th>\n",
       "      <td>-0.07</td>\n",
       "      <td>0.47</td>\n",
       "      <td>1.00</td>\n",
       "    </tr>\n",
       "  </tbody>\n",
       "</table>\n",
       "</div>"
      ],
      "text/plain": [
       "              total_sales  critic_score  user_score\n",
       "total_sales          1.00          0.42       -0.07\n",
       "critic_score         0.42          1.00        0.47\n",
       "user_score          -0.07          0.47        1.00"
      ]
     },
     "metadata": {},
     "output_type": "display_data"
    },
    {
     "data": {
      "image/png": "[encoded data removed]",
      "text/plain": [
       "<Figure size 1440x216 with 2 Axes>"
      ]
     },
     "metadata": {
      "needs_background": "light"
     },
     "output_type": "display_data"
    },
    {
     "data": {
      "text/plain": [
       "'Платформа 3DS.'"
      ]
     },
     "metadata": {},
     "output_type": "display_data"
    },
    {
     "data": {
      "text/html": [
       "<div>\n",
       "<style scoped>\n",
       "    .dataframe tbody tr th:only-of-type {\n",
       "        vertical-align: middle;\n",
       "    }\n",
       "\n",
       "    .dataframe tbody tr th {\n",
       "        vertical-align: top;\n",
       "    }\n",
       "\n",
       "    .dataframe thead th {\n",
       "        text-align: right;\n",
       "    }\n",
       "</style>\n",
       "<table border=\"1\" class=\"dataframe\">\n",
       "  <thead>\n",
       "    <tr style=\"text-align: right;\">\n",
       "      <th></th>\n",
       "      <th>total_sales</th>\n",
       "      <th>critic_score</th>\n",
       "      <th>user_score</th>\n",
       "    </tr>\n",
       "  </thead>\n",
       "  <tbody>\n",
       "    <tr>\n",
       "      <th>total_sales</th>\n",
       "      <td>1.00</td>\n",
       "      <td>0.32</td>\n",
       "      <td>0.20</td>\n",
       "    </tr>\n",
       "    <tr>\n",
       "      <th>critic_score</th>\n",
       "      <td>0.32</td>\n",
       "      <td>1.00</td>\n",
       "      <td>0.72</td>\n",
       "    </tr>\n",
       "    <tr>\n",
       "      <th>user_score</th>\n",
       "      <td>0.20</td>\n",
       "      <td>0.72</td>\n",
       "      <td>1.00</td>\n",
       "    </tr>\n",
       "  </tbody>\n",
       "</table>\n",
       "</div>"
      ],
      "text/plain": [
       "              total_sales  critic_score  user_score\n",
       "total_sales          1.00          0.32        0.20\n",
       "critic_score         0.32          1.00        0.72\n",
       "user_score           0.20          0.72        1.00"
      ]
     },
     "metadata": {},
     "output_type": "display_data"
    },
    {
     "data": {
      "image/png": "[encoded data removed]",
      "text/plain": [
       "<Figure size 1440x216 with 2 Axes>"
      ]
     },
     "metadata": {
      "needs_background": "light"
     },
     "output_type": "display_data"
    },
    {
     "data": {
      "text/plain": [
       "'Платформа PC.'"
      ]
     },
     "metadata": {},
     "output_type": "display_data"
    },
    {
     "data": {
      "text/html": [
       "<div>\n",
       "<style scoped>\n",
       "    .dataframe tbody tr th:only-of-type {\n",
       "        vertical-align: middle;\n",
       "    }\n",
       "\n",
       "    .dataframe tbody tr th {\n",
       "        vertical-align: top;\n",
       "    }\n",
       "\n",
       "    .dataframe thead th {\n",
       "        text-align: right;\n",
       "    }\n",
       "</style>\n",
       "<table border=\"1\" class=\"dataframe\">\n",
       "  <thead>\n",
       "    <tr style=\"text-align: right;\">\n",
       "      <th></th>\n",
       "      <th>total_sales</th>\n",
       "      <th>critic_score</th>\n",
       "      <th>user_score</th>\n",
       "    </tr>\n",
       "  </thead>\n",
       "  <tbody>\n",
       "    <tr>\n",
       "      <th>total_sales</th>\n",
       "      <td>1.00</td>\n",
       "      <td>0.24</td>\n",
       "      <td>-0.12</td>\n",
       "    </tr>\n",
       "    <tr>\n",
       "      <th>critic_score</th>\n",
       "      <td>0.24</td>\n",
       "      <td>1.00</td>\n",
       "      <td>0.43</td>\n",
       "    </tr>\n",
       "    <tr>\n",
       "      <th>user_score</th>\n",
       "      <td>-0.12</td>\n",
       "      <td>0.43</td>\n",
       "      <td>1.00</td>\n",
       "    </tr>\n",
       "  </tbody>\n",
       "</table>\n",
       "</div>"
      ],
      "text/plain": [
       "              total_sales  critic_score  user_score\n",
       "total_sales          1.00          0.24       -0.12\n",
       "critic_score         0.24          1.00        0.43\n",
       "user_score          -0.12          0.43        1.00"
      ]
     },
     "metadata": {},
     "output_type": "display_data"
    },
    {
     "data": {
      "image/png": "[encoded data removed]",
      "text/plain": [
       "<Figure size 1440x216 with 2 Axes>"
      ]
     },
     "metadata": {
      "needs_background": "light"
     },
     "output_type": "display_data"
    },
    {
     "data": {
      "text/plain": [
       "'Платформа PSV.'"
      ]
     },
     "metadata": {},
     "output_type": "display_data"
    },
    {
     "data": {
      "text/html": [
       "<div>\n",
       "<style scoped>\n",
       "    .dataframe tbody tr th:only-of-type {\n",
       "        vertical-align: middle;\n",
       "    }\n",
       "\n",
       "    .dataframe tbody tr th {\n",
       "        vertical-align: top;\n",
       "    }\n",
       "\n",
       "    .dataframe thead th {\n",
       "        text-align: right;\n",
       "    }\n",
       "</style>\n",
       "<table border=\"1\" class=\"dataframe\">\n",
       "  <thead>\n",
       "    <tr style=\"text-align: right;\">\n",
       "      <th></th>\n",
       "      <th>total_sales</th>\n",
       "      <th>critic_score</th>\n",
       "      <th>user_score</th>\n",
       "    </tr>\n",
       "  </thead>\n",
       "  <tbody>\n",
       "    <tr>\n",
       "      <th>total_sales</th>\n",
       "      <td>1.00</td>\n",
       "      <td>0.09</td>\n",
       "      <td>-0.00</td>\n",
       "    </tr>\n",
       "    <tr>\n",
       "      <th>critic_score</th>\n",
       "      <td>0.09</td>\n",
       "      <td>1.00</td>\n",
       "      <td>0.70</td>\n",
       "    </tr>\n",
       "    <tr>\n",
       "      <th>user_score</th>\n",
       "      <td>-0.00</td>\n",
       "      <td>0.70</td>\n",
       "      <td>1.00</td>\n",
       "    </tr>\n",
       "  </tbody>\n",
       "</table>\n",
       "</div>"
      ],
      "text/plain": [
       "              total_sales  critic_score  user_score\n",
       "total_sales          1.00          0.09       -0.00\n",
       "critic_score         0.09          1.00        0.70\n",
       "user_score          -0.00          0.70        1.00"
      ]
     },
     "metadata": {},
     "output_type": "display_data"
    },
    {
     "data": {
      "image/png": "[encoded data removed]",
      "text/plain": [
       "<Figure size 1440x216 with 2 Axes>"
      ]
     },
     "metadata": {
      "needs_background": "light"
     },
     "output_type": "display_data"
    },
    {
     "data": {
      "text/plain": [
       "'Платформа PS3.'"
      ]
     },
     "metadata": {},
     "output_type": "display_data"
    },
    {
     "data": {
      "text/html": [
       "<div>\n",
       "<style scoped>\n",
       "    .dataframe tbody tr th:only-of-type {\n",
       "        vertical-align: middle;\n",
       "    }\n",
       "\n",
       "    .dataframe tbody tr th {\n",
       "        vertical-align: top;\n",
       "    }\n",
       "\n",
       "    .dataframe thead th {\n",
       "        text-align: right;\n",
       "    }\n",
       "</style>\n",
       "<table border=\"1\" class=\"dataframe\">\n",
       "  <thead>\n",
       "    <tr style=\"text-align: right;\">\n",
       "      <th></th>\n",
       "      <th>total_sales</th>\n",
       "      <th>critic_score</th>\n",
       "      <th>user_score</th>\n",
       "    </tr>\n",
       "  </thead>\n",
       "  <tbody>\n",
       "    <tr>\n",
       "      <th>total_sales</th>\n",
       "      <td>1.00</td>\n",
       "      <td>0.33</td>\n",
       "      <td>-0.01</td>\n",
       "    </tr>\n",
       "    <tr>\n",
       "      <th>critic_score</th>\n",
       "      <td>0.33</td>\n",
       "      <td>1.00</td>\n",
       "      <td>0.54</td>\n",
       "    </tr>\n",
       "    <tr>\n",
       "      <th>user_score</th>\n",
       "      <td>-0.01</td>\n",
       "      <td>0.54</td>\n",
       "      <td>1.00</td>\n",
       "    </tr>\n",
       "  </tbody>\n",
       "</table>\n",
       "</div>"
      ],
      "text/plain": [
       "              total_sales  critic_score  user_score\n",
       "total_sales          1.00          0.33       -0.01\n",
       "critic_score         0.33          1.00        0.54\n",
       "user_score          -0.01          0.54        1.00"
      ]
     },
     "metadata": {},
     "output_type": "display_data"
    },
    {
     "data": {
      "image/png": "[encoded data removed]",
      "text/plain": [
       "<Figure size 1440x216 with 2 Axes>"
      ]
     },
     "metadata": {
      "needs_background": "light"
     },
     "output_type": "display_data"
    },
    {
     "data": {
      "text/plain": [
       "'Платформа X360.'"
      ]
     },
     "metadata": {},
     "output_type": "display_data"
    },
    {
     "data": {
      "text/html": [
       "<div>\n",
       "<style scoped>\n",
       "    .dataframe tbody tr th:only-of-type {\n",
       "        vertical-align: middle;\n",
       "    }\n",
       "\n",
       "    .dataframe tbody tr th {\n",
       "        vertical-align: top;\n",
       "    }\n",
       "\n",
       "    .dataframe thead th {\n",
       "        text-align: right;\n",
       "    }\n",
       "</style>\n",
       "<table border=\"1\" class=\"dataframe\">\n",
       "  <thead>\n",
       "    <tr style=\"text-align: right;\">\n",
       "      <th></th>\n",
       "      <th>total_sales</th>\n",
       "      <th>critic_score</th>\n",
       "      <th>user_score</th>\n",
       "    </tr>\n",
       "  </thead>\n",
       "  <tbody>\n",
       "    <tr>\n",
       "      <th>total_sales</th>\n",
       "      <td>1.00</td>\n",
       "      <td>0.36</td>\n",
       "      <td>0.01</td>\n",
       "    </tr>\n",
       "    <tr>\n",
       "      <th>critic_score</th>\n",
       "      <td>0.36</td>\n",
       "      <td>1.00</td>\n",
       "      <td>0.56</td>\n",
       "    </tr>\n",
       "    <tr>\n",
       "      <th>user_score</th>\n",
       "      <td>0.01</td>\n",
       "      <td>0.56</td>\n",
       "      <td>1.00</td>\n",
       "    </tr>\n",
       "  </tbody>\n",
       "</table>\n",
       "</div>"
      ],
      "text/plain": [
       "              total_sales  critic_score  user_score\n",
       "total_sales          1.00          0.36        0.01\n",
       "critic_score         0.36          1.00        0.56\n",
       "user_score           0.01          0.56        1.00"
      ]
     },
     "metadata": {},
     "output_type": "display_data"
    },
    {
     "data": {
      "image/png": "[encoded data removed]",
      "text/plain": [
       "<Figure size 1440x216 with 2 Axes>"
      ]
     },
     "metadata": {
      "needs_background": "light"
     },
     "output_type": "display_data"
    }
   ],
   "source": [
    "# Взглянем на диаграммы рассеяния и матрицу корреляций по платформам по продажам игр к концу рассматриваемого периода, по которым есть хотя бы сотня отзывов.\n",
    "# Формируем топ\n",
    "top_platforms = actual_df.query('year_of_release == 2016').groupby('platform')['total_sales'].sum().sort_values(ascending=False).index\n",
    "for i, platform in enumerate(top_platforms):\n",
    "    # Берем те платформы, у которых хотя бы 100 отзывов критиков и 100 отзывов пользователей\n",
    "    critics_100_minus = actual_df[actual_df['platform'] == platform].dropna(subset=['critic_score', 'total_sales'])['critic_score'].shape[0] < 100\n",
    "    users_100_minus = actual_df[actual_df['platform'] == platform].dropna(subset=['user_score', 'total_sales'])['user_score'].shape[0] < 100\n",
    "    if critics_100_minus or users_100_minus:\n",
    "        continue\n",
    "\n",
    "    display(f'Платформа {platform}.')\n",
    "    # Строим матрицу корреляции\n",
    "    display(actual_df[actual_df['platform'] == platform][['total_sales', 'critic_score', 'user_score']].corr())\n",
    "\n",
    "    # Рисуем диаграммы рассеянния\n",
    "    fig, (ax1, ax2) = plt.subplots(1, 2, figsize=(20, 3))\n",
    "    ax1.set_title(f'Диаграмма рассеяния для critic_score и total_sales на {platform}')\n",
    "    ax1.set_xlabel('Оценка критиков')\n",
    "    ax1.set_ylabel('Суммарные продажи, млн шт.')\n",
    "    ax1.scatter(x=actual_df[actual_df['platform'] == platform].dropna(subset=['critic_score', 'total_sales'])['critic_score'], y=actual_df[actual_df['platform'] == platform].dropna(subset=['critic_score', 'total_sales'])['total_sales'])\n",
    "    ax2.set_title(f'Диаграмма рассеяния для user_score и total_sales на {platform}')\n",
    "    ax2.set_xlabel('Оценка пользователей')\n",
    "    ax2.set_ylabel('Суммарные продажи, млн шт.')\n",
    "    ax2.scatter(x=actual_df[actual_df['platform'] == platform].dropna(subset=['user_score', 'total_sales'])['user_score'], y=actual_df[actual_df['platform'] == platform].dropna(subset=['user_score', 'total_sales'])['total_sales'])\n",
    "    plt.show()"
   ]
  },
  {
   "cell_type": "markdown",
   "metadata": {},
   "source": [
    "Как видно из диаграмм рассеяния и матриц корреляций на всех актуальных платформах с достаточным количеством оценок - картина в целом не меняется, но есть исключения. В целом корреляция с оценкой критиков на уровне 24-42% (исключение - PSV, корреляция  на уровне 9%). Корреляция с оценкой пользователей околонулевая (исключение - 3DS, корреляция на уровне 20%). Вероятно, в сборе оценок по играм PSV и 3DS есть какие-то особенности, изучение которых оставим за пределами данной работы. Радикально на картину связи оценок и продаж эти исключения не влияют."
   ]
  },
  {
   "cell_type": "markdown",
   "metadata": {},
   "source": [
    "### Жанры"
   ]
  },
  {
   "cell_type": "code",
   "execution_count": 45,
   "metadata": {},
   "outputs": [
    {
     "data": {
      "image/png": "[encoded data removed]",
      "text/plain": [
       "<Figure size 432x288 with 1 Axes>"
      ]
     },
     "metadata": {
      "needs_background": "light"
     },
     "output_type": "display_data"
    }
   ],
   "source": [
    "# Посмотрим на продажи и количество выпускаемых игр по жанрам\n",
    "genres = actual_df.groupby('genre')['total_sales'].agg({'count', 'sum'}).sort_values('sum', ascending=False)\n",
    "genres.columns = ['Продажи, млн шт.', 'Количество, шт.']\n",
    "ax = genres.plot(kind='bar')\n",
    "ax.set_title(\"Количество и продажи игр по жанрам\")\n",
    "ax.set_ylabel('шт./млн шт.')\n",
    "ax.set_xlabel('Жанр')\n",
    "plt.show()"
   ]
  },
  {
   "cell_type": "code",
   "execution_count": 46,
   "metadata": {},
   "outputs": [
    {
     "data": {
      "image/png": "[encoded data removed]",
      "text/plain": [
       "<Figure size 1440x432 with 2 Axes>"
      ]
     },
     "metadata": {
      "needs_background": "light"
     },
     "output_type": "display_data"
    }
   ],
   "source": [
    "# Построим боксплоты по всем актуальным жанрам.\n",
    "# Формируем данные для графика.\n",
    "total_sales_by_genre = actual_df.groupby('genre')['total_sales'].median().sort_values(ascending=False)\n",
    "genres = total_sales_by_genre.index\n",
    "data_for_graph = []\n",
    "for genre in genres:\n",
    "    data_for_graph.append(actual_df.query('genre == @genre')['total_sales'])\n",
    "\n",
    "#Рисуем график.\n",
    "fig, (ax1, ax2) = plt.subplots(1, 2, figsize=(20, 6))\n",
    "ax1.set_title('Распределение продаж игр по жанрам')\n",
    "ax1.set_ylabel('млн шт.')\n",
    "ax1.set_xlabel('Жанр')\n",
    "ax1.yaxis.grid(True)\n",
    "ax1.tick_params(axis='x', rotation=-45)\n",
    "ax1.boxplot(data_for_graph, labels=genres)\n",
    "ax2.set_title('Распределение продаж игр по жанрам')\n",
    "ax2.set_ylabel('млн шт.')\n",
    "ax2.set_xlabel('Жанр')\n",
    "ax2.set_ylim(0, 4)\n",
    "ax2.yaxis.grid(True)\n",
    "ax2.tick_params(axis='x', rotation=-45)\n",
    "ax2.boxplot(data_for_graph, labels=genres);"
   ]
  },
  {
   "cell_type": "markdown",
   "metadata": {},
   "source": [
    "**Продажи:**\n",
    "* Жанром с самым большим числом продаж является Action. Так же это жанр с наибольшим числом выпускающихся игр.\n",
    "* Топ4 как по релизам так и по продажам составляют жанры:\n",
    "    * Action\n",
    "    * Shooter\n",
    "    * Role-playing\n",
    "    * Sports\n",
    "* За ними следует категория \"Прочие\".\n",
    "* Из аутсайдеров можно выделить нишевые паззлы, стратегии и адвенчуры, которые до сих пор продаются на консолях, но по которым уже почти не выпускают новых игр.\n",
    "\n",
    "**Прибыльность:**\n",
    "* Самые высокие медианные продажи у шутеров, спортивных игр и платформеров. Это говорит об устойчивом спросе на игры жанра, а значит - является косвенным подтверждением его прибыльности.\n",
    "* Аутсайдерами по медианным продажам так же являются паззлы, стратегии и адвенчуры."
   ]
  },
  {
   "cell_type": "markdown",
   "metadata": {},
   "source": [
    "## Региональные особенности"
   ]
  },
  {
   "cell_type": "markdown",
   "metadata": {},
   "source": [
    "### Популярность платформ"
   ]
  },
  {
   "cell_type": "code",
   "execution_count": 47,
   "metadata": {},
   "outputs": [
    {
     "data": {
      "text/plain": [
       "'Регион NA - Топ 5'"
      ]
     },
     "metadata": {},
     "output_type": "display_data"
    },
    {
     "data": {
      "text/plain": [
       "platform\n",
       "X360   140.05\n",
       "PS4    108.74\n",
       "PS3    103.38\n",
       "XOne    93.12\n",
       "3DS     55.31\n",
       "Name: na_sales, dtype: float64"
      ]
     },
     "metadata": {},
     "output_type": "display_data"
    },
    {
     "data": {
      "text/plain": [
       "'Регион EU - Топ 5'"
      ]
     },
     "metadata": {},
     "output_type": "display_data"
    },
    {
     "data": {
      "text/plain": [
       "platform\n",
       "PS4    141.09\n",
       "PS3    106.85\n",
       "X360    74.52\n",
       "XOne    51.59\n",
       "3DS     42.64\n",
       "Name: eu_sales, dtype: float64"
      ]
     },
     "metadata": {},
     "output_type": "display_data"
    },
    {
     "data": {
      "text/plain": [
       "'Регион JP - Топ 5'"
      ]
     },
     "metadata": {},
     "output_type": "display_data"
    },
    {
     "data": {
      "text/plain": [
       "platform\n",
       "3DS    87.79\n",
       "PS3    35.29\n",
       "PSV    21.04\n",
       "PS4    15.96\n",
       "WiiU   13.01\n",
       "Name: jp_sales, dtype: float64"
      ]
     },
     "metadata": {},
     "output_type": "display_data"
    },
    {
     "data": {
      "text/plain": [
       "Text(0.5, 1.0, 'Популярные платформы в регионе JP, %')"
      ]
     },
     "execution_count": 47,
     "metadata": {},
     "output_type": "execute_result"
    },
    {
     "data": {
      "image/png": "[encoded data removed]",
      "text/plain": [
       "<Figure size 1440x432 with 3 Axes>"
      ]
     },
     "metadata": {},
     "output_type": "display_data"
    }
   ],
   "source": [
    "# Будем так же использовать актуальные данные\n",
    "# Расчёт данных\n",
    "na_platform_sales_other = actual_df.groupby('platform')['na_sales'].sum().sort_values(ascending=False).sum() - actual_df.groupby('platform')['na_sales'].sum().sort_values(ascending=False).head().sum()\n",
    "na_platform_sales = pd.concat([actual_df.groupby('platform')['na_sales'].sum().sort_values(ascending=False).head(), pd.Series(data=na_platform_sales_other, index=[\"Other\"])])\n",
    "eu_platform_sales_other = actual_df.groupby('platform')['eu_sales'].sum().sort_values(ascending=False).sum() - actual_df.groupby('platform')['eu_sales'].sum().sort_values(ascending=False).head().sum()\n",
    "eu_platform_sales = pd.concat([actual_df.groupby('platform')['eu_sales'].sum().sort_values(ascending=False).head(), pd.Series(data=eu_platform_sales_other, index=[\"Other\"])])\n",
    "jp_platform_sales_other = actual_df.groupby('platform')['jp_sales'].sum().sort_values(ascending=False).sum() - actual_df.groupby('platform')['jp_sales'].sum().sort_values(ascending=False).head().sum()\n",
    "jp_platform_sales = pd.concat([actual_df.groupby('platform')['jp_sales'].sum().sort_values(ascending=False).head(), pd.Series(data=jp_platform_sales_other, index=[\"Other\"])])\n",
    "\n",
    "# Выводим топы таблицами\n",
    "display(\"Регион NA - Топ 5\")\n",
    "display(actual_df.groupby('platform')['na_sales'].sum().sort_values(ascending=False).head())\n",
    "display(\"Регион EU - Топ 5\")\n",
    "display(actual_df.groupby('platform')['eu_sales'].sum().sort_values(ascending=False).head())\n",
    "display(\"Регион JP - Топ 5\")\n",
    "display(actual_df.groupby('platform')['jp_sales'].sum().sort_values(ascending=False).head())\n",
    "\n",
    "# Рисуем графики\n",
    "fig, (ax1, ax2, ax3) = plt.subplots(1, 3, figsize=(20, 6))\n",
    "ax1.pie(na_platform_sales, labels=na_platform_sales.index, autopct='%.2f')\n",
    "ax1.set_ylabel(None)\n",
    "ax1.set_title('Популярные платформы в регионе NA, %')\n",
    "ax2.pie(eu_platform_sales, labels=eu_platform_sales.index, autopct='%.2f')\n",
    "ax2.set_ylabel(None)\n",
    "ax2.set_title('Популярные платформы в регионе EU, %')\n",
    "ax3.pie(jp_platform_sales, labels=jp_platform_sales.index, autopct='%.2f')\n",
    "ax3.set_ylabel(None)\n",
    "ax3.set_title('Популярные платформы в регионе JP, %')"
   ]
  },
  {
   "cell_type": "markdown",
   "metadata": {},
   "source": [
    "* Популярность платформ варьируется от региона к региону.\n",
    "* В северной америке наиболее популярна платформа XBox. Не удивительно, ведь именно в США базируется компания-разработчик этой платформы. Консоль прошлого поколения X360 на первом месте, XOne еще на взлете и суммарные продажи по ним превышают суммарные продажи на консолях Sony (так же двух поколений PS3 и PS4).\n",
    "* Влияние Sony в европе сильнее. Топ здесь занимают два поколения PS (3 и 4), причем PS4 явно является суперхитом, а Xbox и Нинтендо сильно отстают.\n",
    "* В Японии традиционно сильны позиции Nintendo, эта платформа лидер с большим отрывом. Про иксбокс тут не слышали, а Sony всё еще любят по историческим причинам."
   ]
  },
  {
   "cell_type": "markdown",
   "metadata": {},
   "source": [
    "### Популярность жанров"
   ]
  },
  {
   "cell_type": "code",
   "execution_count": 48,
   "metadata": {},
   "outputs": [
    {
     "data": {
      "text/plain": [
       "'Регион NA - Топ 5'"
      ]
     },
     "metadata": {},
     "output_type": "display_data"
    },
    {
     "data": {
      "text/plain": [
       "genre\n",
       "Action         177.84\n",
       "Shooter        144.77\n",
       "Sports          81.53\n",
       "Role-Playing    64.00\n",
       "Misc            38.19\n",
       "Name: na_sales, dtype: float64"
      ]
     },
     "metadata": {},
     "output_type": "display_data"
    },
    {
     "data": {
      "text/plain": [
       "'Регион EU - Топ 5'"
      ]
     },
     "metadata": {},
     "output_type": "display_data"
    },
    {
     "data": {
      "text/plain": [
       "genre\n",
       "Action         159.34\n",
       "Shooter        113.47\n",
       "Sports          69.08\n",
       "Role-Playing    48.53\n",
       "Racing          27.29\n",
       "Name: eu_sales, dtype: float64"
      ]
     },
     "metadata": {},
     "output_type": "display_data"
    },
    {
     "data": {
      "text/plain": [
       "'Регион JP - Топ 5'"
      ]
     },
     "metadata": {},
     "output_type": "display_data"
    },
    {
     "data": {
      "text/plain": [
       "genre\n",
       "Role-Playing   65.44\n",
       "Action         52.80\n",
       "Misc           12.86\n",
       "Simulation     10.41\n",
       "Fighting        9.44\n",
       "Name: jp_sales, dtype: float64"
      ]
     },
     "metadata": {},
     "output_type": "display_data"
    },
    {
     "data": {
      "text/plain": [
       "Text(0.5, 1.0, 'Популярные жанры в регионе JP, %')"
      ]
     },
     "execution_count": 48,
     "metadata": {},
     "output_type": "execute_result"
    },
    {
     "data": {
      "image/png": "[encoded data removed]",
      "text/plain": [
       "<Figure size 1440x432 with 3 Axes>"
      ]
     },
     "metadata": {},
     "output_type": "display_data"
    }
   ],
   "source": [
    "# Будем так же использовать актуальные данные\n",
    "# Расчёт данных\n",
    "na_genre_sales_other = actual_df.groupby('genre')['na_sales'].sum().sort_values(ascending=False).sum() - actual_df.groupby('genre')['na_sales'].sum().sort_values(ascending=False).head().sum()\n",
    "na_genre_sales = pd.concat([actual_df.groupby('genre')['na_sales'].sum().sort_values(ascending=False).head(), pd.Series(data=na_genre_sales_other, index=[\"Other\"])])\n",
    "eu_genre_sales_other = actual_df.groupby('genre')['eu_sales'].sum().sort_values(ascending=False).sum() - actual_df.groupby('genre')['eu_sales'].sum().sort_values(ascending=False).head().sum()\n",
    "eu_genre_sales = pd.concat([actual_df.groupby('genre')['eu_sales'].sum().sort_values(ascending=False).head(), pd.Series(data=eu_genre_sales_other, index=[\"Other\"])])\n",
    "jp_genre_sales_other = actual_df.groupby('genre')['jp_sales'].sum().sort_values(ascending=False).sum() - actual_df.groupby('genre')['jp_sales'].sum().sort_values(ascending=False).head().sum()\n",
    "jp_genre_sales = pd.concat([actual_df.groupby('genre')['jp_sales'].sum().sort_values(ascending=False).head(), pd.Series(data=jp_genre_sales_other, index=[\"Other\"])])\n",
    "\n",
    "# Выводим топы таблицами\n",
    "display(\"Регион NA - Топ 5\")\n",
    "display(actual_df.groupby('genre')['na_sales'].sum().sort_values(ascending=False).head())\n",
    "display(\"Регион EU - Топ 5\")\n",
    "display(actual_df.groupby('genre')['eu_sales'].sum().sort_values(ascending=False).head())\n",
    "display(\"Регион JP - Топ 5\")\n",
    "display(actual_df.groupby('genre')['jp_sales'].sum().sort_values(ascending=False).head())\n",
    "\n",
    "# Рисуем графики\n",
    "fig, (ax1, ax2, ax3) = plt.subplots(1, 3, figsize=(20, 6))\n",
    "ax1.pie(na_genre_sales, labels=na_genre_sales.index, autopct='%.2f')\n",
    "ax1.set_ylabel(None)\n",
    "ax1.set_title('Популярные жанры в регионе NA, %')\n",
    "ax2.pie(eu_genre_sales, labels=eu_genre_sales.index, autopct='%.2f')\n",
    "ax2.set_ylabel(None)\n",
    "ax2.set_title('Популярные жанры в регионе EU, %')\n",
    "ax3.pie(jp_genre_sales, labels=jp_genre_sales.index, autopct='%.2f')\n",
    "ax3.set_ylabel(None)\n",
    "ax3.set_title('Популярные жанры в регионе JP, %')"
   ]
  },
  {
   "cell_type": "markdown",
   "metadata": {},
   "source": [
    "* Популярность жанров в регионах NA и EU практически не отличается. Это культурно близкие регионы, которые находятся практически в одном информационном поле.\n",
    "* Можно лишь отметить слега повышенный интерес к играм в жанре Racing в Европе.\n",
    "* В Японии же картина радикально другая. Ролевые игры - на первом месте, так же очень популярны экшн-игры, но совсем непопулярны шутеры и игры про спорт.\n",
    "* Почти 7 процентов продаж приходится на игры категории \"Прочее\", что сопоставимо с долями в других регионах."
   ]
  },
  {
   "cell_type": "markdown",
   "metadata": {},
   "source": [
    "### Рейтинг ESRB\n",
    "**Справка:**\n",
    "* E - для всех\n",
    "* E10+ - от 10 лет и старше\n",
    "* T - от 13 лет и старше\n",
    "* M - для взрослых"
   ]
  },
  {
   "cell_type": "code",
   "execution_count": 49,
   "metadata": {},
   "outputs": [
    {
     "data": {
      "text/plain": [
       "Text(0.5, 1.0, 'Доля продаж по рейтингу в регионе JP, %')"
      ]
     },
     "execution_count": 49,
     "metadata": {},
     "output_type": "execute_result"
    },
    {
     "data": {
      "image/png": "[encoded data removed]",
      "text/plain": [
       "<Figure size 1440x864 with 8 Axes>"
      ]
     },
     "metadata": {
      "needs_background": "light"
     },
     "output_type": "display_data"
    }
   ],
   "source": [
    "# Рассчитаем среднюю продажу на одну игру определенного рейтинга\n",
    "ax1_data = actual_df.groupby('rating', dropna=False)['total_sales'].mean().sort_index().set_axis(['E (для всех)', 'E10+ (10+)', 'M (для взрослых)', 'T (13+)', 'No Rating'])\n",
    "ax2_data = actual_df.groupby('rating', dropna=False)['na_sales'].mean().sort_index().set_axis(['E (для всех)', 'E10+ (10+)', 'M (для взрослых)', 'T (13+)', 'No Rating'])\n",
    "ax3_data = actual_df.groupby('rating', dropna=False)['eu_sales'].mean().sort_index().set_axis(['E (для всех)', 'E10+ (10+)', 'M (для взрослых)', 'T (13+)', 'No Rating'])\n",
    "ax4_data = actual_df.groupby('rating', dropna=False)['jp_sales'].mean().sort_index().set_axis(['E (для всех)', 'E10+ (10+)', 'M (для взрослых)', 'T (13+)', 'No Rating'])\n",
    "ax5_data = actual_df.groupby('rating', dropna=False)['total_sales'].sum().sort_index().set_axis(['E (для всех)', 'E10+ (10+)', 'M (для взрослых)', 'T (13+)', 'No Rating'])\n",
    "ax6_data = actual_df.groupby('rating', dropna=False)['na_sales'].sum().sort_index().set_axis(['E (для всех)', 'E10+ (10+)', 'M (для взрослых)', 'T (13+)', 'No Rating'])\n",
    "ax7_data = actual_df.groupby('rating', dropna=False)['eu_sales'].sum().sort_index().set_axis(['E (для всех)', 'E10+ (10+)', 'M (для взрослых)', 'T (13+)', 'No Rating'])\n",
    "ax8_data = actual_df.groupby('rating', dropna=False)['jp_sales'].sum().sort_index().set_axis(['E (для всех)', 'E10+ (10+)', 'M (для взрослых)', 'T (13+)', 'No Rating'])\n",
    "\n",
    "fig, ax = plt.subplots(4, 2, figsize=(20,12))\n",
    "fig.tight_layout(pad=2)\n",
    "\n",
    "ax[0][0].barh(ax1_data.index, ax1_data)\n",
    "ax[1][0].barh(ax2_data.index, ax2_data)\n",
    "ax[2][0].barh(ax3_data.index, ax3_data)\n",
    "ax[3][0].barh(ax4_data.index, ax4_data)\n",
    "ax[0][1].pie(ax5_data, labels=ax5_data.index, autopct='%.2f')\n",
    "ax[1][1].pie(ax6_data, labels=ax5_data.index, autopct='%.2f')\n",
    "ax[2][1].pie(ax7_data, labels=ax5_data.index, autopct='%.2f')\n",
    "ax[3][1].pie(ax8_data, labels=ax5_data.index, autopct='%.2f')\n",
    "\n",
    "ax[0][0].set_title('Среднее количество проданных копий на игру по рейтингу во всех регионах, млн шт.')\n",
    "ax[1][0].set_title('Среднее количество проданных копий на игру по рейтингу в регионе NA, млн шт.')\n",
    "ax[2][0].set_title('Среднее количество проданных копий на игру по рейтингу в регионе EU, млн шт.')\n",
    "ax[3][0].set_title('Среднее количество проданных копий на игру по рейтингу в регионе JP, млн шт.')\n",
    "ax[0][1].set_title('Доля продаж по рейтингу во всех регионах, %')\n",
    "ax[1][1].set_title('Доля продаж по рейтингу в регионе NA, %')\n",
    "ax[2][1].set_title('Доля продаж по рейтингу в регионе EU, %')\n",
    "ax[3][1].set_title('Доля продаж по рейтингу в регионе JP, %')"
   ]
  },
  {
   "cell_type": "markdown",
   "metadata": {},
   "source": [
    "* Как видно из приведенных выше графиков Япония снова сильно отличается от регионов EU и NA.\n",
    "* В регионах NA и EU влияние рейтинга на вероятность высоких продаж примерно одинакова. Лучше всего продаются игры с рейтингом для взрослых. Игры без рейтинга продаются хуже всего. В Европе игры для всех (или доступные для самых маленьких) имеют чуть больше шансов на продажу, чем в NA.\n",
    "* В японии в целом влияние рейтинга на продажи ниже. Почти 60% игр вообще его не имеют и при этом это лучшая категория по продажам. На втором месте - игры без ограничений, что не удивительно на родном рынке Nintendo. Также относительно рынков EU и NA местами поменялись игры от 10 лет и от 13. В Японии лучше покупают вторые.\n",
    "* Таким образом можно заключить, что определенное влияние рейтинга на продажи есть и в регионах NA и EU оно больше, чем в JP (в Японии наличие возрастных ограничений скорее минус для продаж игры)."
   ]
  },
  {
   "cell_type": "markdown",
   "metadata": {},
   "source": [
    "## Гипотезы"
   ]
  },
  {
   "cell_type": "markdown",
   "metadata": {},
   "source": [
    "### Рейтинги на платформах Xbox One и PC\n",
    "**Задача:** Средние пользовательские рейтинги платформ Xbox One и PC одинаковые\n",
    "В данном случае применяем проверку гипотезы равенства среднего по двум генеральным совокупностям, используем для этого двусторонний метод st.ttest_ind().\n",
    "Первая совокупность - выборка по платформе XOne, вторая - выборка по платформе PC.\n",
    "Значимость установим на уровне 0.01.\n",
    "\n",
    "**Гипотезы:**\n",
    "**Н0:** Средние пользовательские рейтинги платформ Xbox One и PC одинаковые.\n",
    "**Н1:** Средние пользовательские рейтинги платформ Xbox One и PC различаются.\n"
   ]
  },
  {
   "cell_type": "code",
   "execution_count": 50,
   "metadata": {},
   "outputs": [
    {
     "data": {
      "text/plain": [
       "'Средний пользовательский рейтинг на платформе XOne:'"
      ]
     },
     "metadata": {},
     "output_type": "display_data"
    },
    {
     "data": {
      "text/plain": [
       "6.521428571428572"
      ]
     },
     "metadata": {},
     "output_type": "display_data"
    },
    {
     "data": {
      "text/plain": [
       "'Средний пользовательский рейтинг на платформе PC:'"
      ]
     },
     "metadata": {},
     "output_type": "display_data"
    },
    {
     "data": {
      "text/plain": [
       "6.4286407766990274"
      ]
     },
     "metadata": {},
     "output_type": "display_data"
    }
   ],
   "source": [
    "# Посмотрим на абсолютные значения средних по обоим совокупностям.\n",
    "display(\"Средний пользовательский рейтинг на платформе XOne:\")\n",
    "display(actual_df.query('platform == \"XOne\"')[\"user_score\"].dropna().mean())\n",
    "display(\"Средний пользовательский рейтинг на платформе PC:\")\n",
    "display(actual_df.query('platform == \"PC\"')[\"user_score\"].dropna().mean())"
   ]
  },
  {
   "cell_type": "code",
   "execution_count": 51,
   "metadata": {},
   "outputs": [
    {
     "data": {
      "text/plain": [
       "'Pvalue:0.5535080500643661'"
      ]
     },
     "metadata": {},
     "output_type": "display_data"
    },
    {
     "data": {
      "text/plain": [
       "'Нет оснований отвергать нулевую гипотезу.'"
      ]
     },
     "metadata": {},
     "output_type": "display_data"
    }
   ],
   "source": [
    "alpha = 0.01\n",
    "result = st.ttest_ind(actual_df.query('platform == \"XOne\"')['user_score'].dropna(), actual_df.query('platform == \"PC\"')['user_score'].dropna(), alternative='two-sided')\n",
    "display('Pvalue:' + str(result.pvalue))\n",
    "if result.pvalue > alpha:\n",
    "    display('Нет оснований отвергать нулевую гипотезу.')\n",
    "else:\n",
    "    display('Отвергаем нулевую гипотезу.')"
   ]
  },
  {
   "cell_type": "markdown",
   "metadata": {},
   "source": [
    "**Вывод:**\n",
    "* Разница в абсолютных значениях средних составляет всего 1 десятую балла.\n",
    "* **Нет оснований предполагать, что средние пользовательские рейтинги платформ XOne и PC различаются.**\n",
    "* При изменении уровня значимости до 0.05 вывод не поменяется."
   ]
  },
  {
   "cell_type": "markdown",
   "metadata": {},
   "source": [
    "### Рейтинги жанров Action и Sports\n",
    "**Задача:** Средние пользовательские рейтинги жанров Action (англ. «действие», экшен-игры) и Sports (англ. «спортивные соревнования») разные.\n",
    "\n",
    "Тут так же вопрос о равенстве или неравенстве среднего по двум ген. совокупностям. Задача аналогичная, но сформулирована от обратного. Поэтому в данном случае так же применяем проверку гипотезы равенства среднего по двум генеральным совокупностям, используем для этого двусторонний метод st.ttest_ind().\n",
    "Первая совокупность - выборка по жанру Action, вторая - выборка по жанру Sports.\n",
    "Значимость установим на уровне 0.01.\n",
    "\n",
    "**Гипотезы:**\n",
    "**Н0:** Средние пользовательские рейтинги жанров Action и Sports одинаковые.\n",
    "**Н1:** Средние пользовательские рейтинги жанров Action и Sports различаются."
   ]
  },
  {
   "cell_type": "code",
   "execution_count": 53,
   "metadata": {},
   "outputs": [
    {
     "data": {
      "text/plain": [
       "'Средний пользовательский рейтинг по жанру Action:'"
      ]
     },
     "metadata": {},
     "output_type": "display_data"
    },
    {
     "data": {
      "text/plain": [
       "6.825047801147227"
      ]
     },
     "metadata": {},
     "output_type": "display_data"
    },
    {
     "data": {
      "text/plain": [
       "'Средний пользовательский рейтинг по жанру Sports:'"
      ]
     },
     "metadata": {},
     "output_type": "display_data"
    },
    {
     "data": {
      "text/plain": [
       "5.455670103092784"
      ]
     },
     "metadata": {},
     "output_type": "display_data"
    }
   ],
   "source": [
    "# Посмотрим на абсолютные значения средних по обоим совокупностям.\n",
    "display(\"Средний пользовательский рейтинг по жанру Action:\")\n",
    "display(actual_df.query('genre == \"Action\"')[\"user_score\"].dropna().mean())\n",
    "display(\"Средний пользовательский рейтинг по жанру Sports:\")\n",
    "display(actual_df.query('genre == \"Sports\"')[\"user_score\"].dropna().mean())"
   ]
  },
  {
   "cell_type": "code",
   "execution_count": 54,
   "metadata": {},
   "outputs": [
    {
     "data": {
      "text/plain": [
       "'Pvalue:4.8045233804629176e-26'"
      ]
     },
     "metadata": {},
     "output_type": "display_data"
    },
    {
     "data": {
      "text/plain": [
       "'Отвергаем нулевую гипотезу.'"
      ]
     },
     "metadata": {},
     "output_type": "display_data"
    }
   ],
   "source": [
    "alpha = 0.01\n",
    "result = st.ttest_ind(actual_df.query('genre == \"Action\"')['user_score'].dropna(), actual_df.query('genre == \"Sports\"')['user_score'].dropna(), alternative='two-sided')\n",
    "display('Pvalue:' + str(result.pvalue))\n",
    "if result.pvalue > alpha:\n",
    "    display('Нет оснований отвергать нулевую гипотезу.')\n",
    "else:\n",
    "    display('Отвергаем нулевую гипотезу.')"
   ]
  },
  {
   "cell_type": "markdown",
   "metadata": {},
   "source": [
    "**Вывод:**\n",
    "* Разница в абсолютных значениях пользовательских рейтингов между жанрами составляет существенные 1.4 балла.\n",
    "* **Средние пользовательские рейтинги жанров Action и Sports различаются.**\n",
    "* При изменении уровня значимости до 0.05 вывод не поменяется."
   ]
  },
  {
   "cell_type": "markdown",
   "metadata": {},
   "source": [
    "## Выводы по работе\n",
    "* В работе проанализированы данные из открытых источников по продаже компьютерных игр за период с 1980 по 2016 гг. Данные за 2016 год представлены не полностью.\n",
    "* В данных имеется ряд существенных неустранимых пропусков, преимущественно в части оценок пользователей и критиков, а так же пропуски по возрастному рейтингу. По части тайтлов не заполненых даты релизов, выявлены так же незначительные несоответствия в дате релиза и обозначенной платформе (платформа не существовала в обозначенную дату релиза).Эти несоответствия были учтены при формировании выводов.\n",
    "* Так же были удалены 2 неявных дубля в данных.\n",
    "&nbsp;\n",
    "\n",
    "Весь период наблюдения:\n",
    "* Анализ общемировых продаж в количественных показателях показывает не совсем ожидаемую динамику. **Необходимо более подрообно разобраться в причинах резкого спада продаж после 2009 года и подтвердить, что влияние финансового кризиса действительно оказалось настолько существенным для игровой индустрии.**\n",
    "* За весь период наблюдения самыми популярными платформами оказались: PS2, X360, PS3, WiiU, DS. Характерный срок жизни платформы составил 8-9 лет.\n",
    "* На основе графика продаж определен период, который можно условно определить как \"актуальный\": период с 2012 года включительно. Это период после резких изменений в объемах продаж, период в течении которого динамика изменений относительно спокойна. Все дальнейшие выводы строятся на основе данных за \"актуальный период\".\n",
    "&nbsp;\n",
    "\n",
    "Актуальный период:\n",
    "* Актуальными платформами-лидерами к 2016 году являются платформы PS4, XOne, 3DS.\n",
    "* Продажи игр в целом распределены очень неравномерно (основная масса игр имеет средне-низкие продажи, единицы превосходят по продажам все остальные на порядки). Актуальными играми-лидерами являются игры серии CoD, GTA5, FIFA, Halo, а так же ряд эксклюзивов Nintendo.\n",
    "* Изучено влияние оценок на продажи игр. За редким исключением оценки пользователей не связаны с продажами, а оценки критиков при этом имеют умеренное влияние на продажи.\n",
    "* Выявлены наиболее популярные жанры видеоигр: Action, Shooter, Role-playing, Sports. Так же выявлены умирающие жанры, среди них: паззлы, стратегии и адвенчуры.\n",
    "* Самые высокие медианные продажи показывают игры жанров шутер, спорт, платформер, что является косвенным свидетельством прибыльности этих жанров. Аутсайдеры по медианным продажам - те же паззлы, стратегии, адвенчуры.\n",
    "\n",
    "Проанализированы региональные особенности:\n",
    "* Различия имеются по популярности платформ, жанров и по влиянию возрастного рейтинга на продажи.\n",
    "* В NA лидирует Xbox, в EU - PS, в JP - Нинтендо.\n",
    "* В NA и EU наиболее популярны жанры Action и Shooter, в JP - Role-Playing и Action.\n",
    "* В NA и EU возрастной рейтинг участвует в формировании продаж. Здесь наибольшие продажи у игр для взрослых. В JP наличие рейтинга скорее снижает продажи, но если рейтинг выдан - лучшие продажи показывают игры в категории \"для всех\".\n",
    "\n",
    "В завершающей части работы проверены две гипотезы. Выводы:\n",
    "1. Нет оснований предполагать, что средние пользовательские рейтинги платформ XOne и PC различаются.\n",
    "2. Средние пользовательские рейтинги жанров Action и Sports различаются.\n",
    "\n",
    "Итоговые рекомендации по проведению маркетинговой компании на 2017 год:\n",
    "* Сосредоточить маркетинговые усилия на наиболее массовых и актуальных платформах: регионах NA, EU - PS4 и XOne; в регионе JP - 3DS.\n",
    "* Из жанров предпочтения отдавать: в регионах NA и EU - шутерам (наиболее прибыльный жанр) и экшн-ирам(наиболее популярный жанр), в JP - ролевым и экшн играм (наиболее популярные жанры).\n",
    "* В регионах EU и NA - ориентироваться на возрастной рейтинг ESRB M(для взрослых). В JP - ориентироваться на игры категории для всех и игры без возрастного рейтинга ESRB.\n",
    "* Приоритет так же стоит отдавать играм с высокой оценкой от критиков."
   ]
  }
 ],
 "metadata": {
  "ExecuteTimeLog": [
   {
    "duration": 1448,
    "start_time": "2023-11-04T09:52:39.886Z"
   },
   {
    "duration": 3,
    "start_time": "2023-11-04T09:52:41.336Z"
   },
   {
    "duration": 244,
    "start_time": "2023-11-04T09:52:41.340Z"
   },
   {
    "duration": 17,
    "start_time": "2023-11-04T09:52:41.590Z"
   },
   {
    "duration": 18,
    "start_time": "2023-11-04T09:52:41.610Z"
   },
   {
    "duration": 11,
    "start_time": "2023-11-04T09:52:41.630Z"
   },
   {
    "duration": 32,
    "start_time": "2023-11-04T09:52:41.643Z"
   },
   {
    "duration": 19,
    "start_time": "2023-11-04T09:52:41.682Z"
   },
   {
    "duration": 10,
    "start_time": "2023-11-04T09:52:41.703Z"
   },
   {
    "duration": 23,
    "start_time": "2023-11-04T09:52:41.716Z"
   },
   {
    "duration": 56,
    "start_time": "2023-11-04T09:52:41.741Z"
   },
   {
    "duration": 201,
    "start_time": "2023-11-04T09:52:41.799Z"
   },
   {
    "duration": 23,
    "start_time": "2023-11-04T09:52:42.001Z"
   },
   {
    "duration": 9,
    "start_time": "2023-11-04T09:52:42.027Z"
   },
   {
    "duration": 22,
    "start_time": "2023-11-04T09:52:42.037Z"
   },
   {
    "duration": 23,
    "start_time": "2023-11-04T09:52:42.061Z"
   },
   {
    "duration": 13,
    "start_time": "2023-11-04T09:52:42.087Z"
   },
   {
    "duration": 6,
    "start_time": "2023-11-04T09:52:42.105Z"
   },
   {
    "duration": 396,
    "start_time": "2023-11-04T09:52:42.113Z"
   },
   {
    "duration": 9,
    "start_time": "2023-11-04T09:52:42.511Z"
   },
   {
    "duration": 39,
    "start_time": "2023-11-04T09:52:42.522Z"
   },
   {
    "duration": 244,
    "start_time": "2023-11-04T09:52:42.562Z"
   },
   {
    "duration": 8,
    "start_time": "2023-11-04T09:52:42.808Z"
   },
   {
    "duration": 260,
    "start_time": "2023-11-04T09:52:42.818Z"
   },
   {
    "duration": 12,
    "start_time": "2023-11-04T09:52:43.079Z"
   },
   {
    "duration": 846,
    "start_time": "2023-11-04T09:52:43.094Z"
   },
   {
    "duration": 21,
    "start_time": "2023-11-04T09:52:43.943Z"
   },
   {
    "duration": 25,
    "start_time": "2023-11-04T09:52:43.965Z"
   },
   {
    "duration": 26,
    "start_time": "2023-11-04T09:52:43.992Z"
   },
   {
    "duration": 479,
    "start_time": "2023-11-04T09:52:44.020Z"
   },
   {
    "duration": 589,
    "start_time": "2023-11-04T09:52:44.502Z"
   },
   {
    "duration": 750,
    "start_time": "2023-11-04T09:52:45.093Z"
   },
   {
    "duration": 856,
    "start_time": "2023-11-04T09:52:45.845Z"
   },
   {
    "duration": 397,
    "start_time": "2023-11-04T09:52:46.703Z"
   },
   {
    "duration": 204,
    "start_time": "2023-11-04T09:52:47.106Z"
   },
   {
    "duration": 197,
    "start_time": "2023-11-04T09:52:47.312Z"
   },
   {
    "duration": 199,
    "start_time": "2023-11-04T09:52:47.510Z"
   },
   {
    "duration": 194,
    "start_time": "2023-11-04T09:52:47.710Z"
   },
   {
    "duration": 203,
    "start_time": "2023-11-04T09:52:47.905Z"
   },
   {
    "duration": 217,
    "start_time": "2023-11-04T09:52:48.110Z"
   },
   {
    "duration": 1470,
    "start_time": "2023-11-04T09:52:48.331Z"
   },
   {
    "duration": 15,
    "start_time": "2023-11-04T09:52:49.803Z"
   },
   {
    "duration": 64,
    "start_time": "2023-11-04T09:52:49.820Z"
   },
   {
    "duration": 137,
    "start_time": "2023-11-04T11:11:27.015Z"
   },
   {
    "duration": 37,
    "start_time": "2023-11-04T11:16:18.871Z"
   },
   {
    "duration": 1190,
    "start_time": "2023-11-05T16:37:19.681Z"
   },
   {
    "duration": 3,
    "start_time": "2023-11-05T16:37:20.873Z"
   },
   {
    "duration": 173,
    "start_time": "2023-11-05T16:37:20.878Z"
   },
   {
    "duration": 16,
    "start_time": "2023-11-05T16:37:21.053Z"
   },
   {
    "duration": 31,
    "start_time": "2023-11-05T16:37:21.071Z"
   },
   {
    "duration": 23,
    "start_time": "2023-11-05T16:37:21.104Z"
   },
   {
    "duration": 36,
    "start_time": "2023-11-05T16:37:21.129Z"
   },
   {
    "duration": 26,
    "start_time": "2023-11-05T16:37:21.167Z"
   },
   {
    "duration": 26,
    "start_time": "2023-11-05T16:37:21.195Z"
   },
   {
    "duration": 48,
    "start_time": "2023-11-05T16:37:21.223Z"
   },
   {
    "duration": 47,
    "start_time": "2023-11-05T16:37:21.273Z"
   },
   {
    "duration": 39,
    "start_time": "2023-11-05T16:37:21.321Z"
   },
   {
    "duration": 33,
    "start_time": "2023-11-05T16:37:21.362Z"
   },
   {
    "duration": 12,
    "start_time": "2023-11-05T16:37:21.398Z"
   },
   {
    "duration": 46,
    "start_time": "2023-11-05T16:37:21.411Z"
   },
   {
    "duration": 30,
    "start_time": "2023-11-05T16:37:21.459Z"
   },
   {
    "duration": 165,
    "start_time": "2023-11-05T16:37:21.490Z"
   },
   {
    "duration": 22,
    "start_time": "2023-11-05T16:37:21.657Z"
   },
   {
    "duration": 15,
    "start_time": "2023-11-05T16:37:21.681Z"
   },
   {
    "duration": 13,
    "start_time": "2023-11-05T16:37:21.697Z"
   },
   {
    "duration": 36,
    "start_time": "2023-11-05T16:37:21.712Z"
   },
   {
    "duration": 8,
    "start_time": "2023-11-05T16:37:21.750Z"
   },
   {
    "duration": 32,
    "start_time": "2023-11-05T16:37:21.759Z"
   },
   {
    "duration": 343,
    "start_time": "2023-11-05T16:37:21.793Z"
   },
   {
    "duration": 14,
    "start_time": "2023-11-05T16:37:22.138Z"
   },
   {
    "duration": 20,
    "start_time": "2023-11-05T16:37:22.153Z"
   },
   {
    "duration": 118,
    "start_time": "2023-11-05T16:37:22.175Z"
   },
   {
    "duration": 208,
    "start_time": "2023-11-05T16:37:22.295Z"
   },
   {
    "duration": 7,
    "start_time": "2023-11-05T16:37:22.505Z"
   },
   {
    "duration": 221,
    "start_time": "2023-11-05T16:37:22.514Z"
   },
   {
    "duration": 282,
    "start_time": "2023-11-05T16:37:22.737Z"
   },
   {
    "duration": 815,
    "start_time": "2023-11-05T16:37:23.021Z"
   },
   {
    "duration": 20,
    "start_time": "2023-11-05T16:37:23.838Z"
   },
   {
    "duration": 203,
    "start_time": "2023-11-05T16:37:23.859Z"
   },
   {
    "duration": 156,
    "start_time": "2023-11-05T16:37:24.064Z"
   },
   {
    "duration": 52,
    "start_time": "2023-11-05T16:37:24.222Z"
   },
   {
    "duration": 289,
    "start_time": "2023-11-05T16:37:24.276Z"
   },
   {
    "duration": 29,
    "start_time": "2023-11-05T16:37:24.567Z"
   },
   {
    "duration": 509,
    "start_time": "2023-11-05T16:37:24.597Z"
   },
   {
    "duration": 65,
    "start_time": "2023-11-05T16:37:25.108Z"
   },
   {
    "duration": 10,
    "start_time": "2023-11-05T16:37:25.178Z"
   },
   {
    "duration": 429,
    "start_time": "2023-11-05T16:37:25.190Z"
   },
   {
    "duration": 1639,
    "start_time": "2023-11-05T16:37:25.621Z"
   },
   {
    "duration": 234,
    "start_time": "2023-11-05T16:37:27.262Z"
   },
   {
    "duration": 527,
    "start_time": "2023-11-05T16:37:27.497Z"
   },
   {
    "duration": 439,
    "start_time": "2023-11-05T16:37:28.026Z"
   },
   {
    "duration": 369,
    "start_time": "2023-11-05T16:37:28.467Z"
   },
   {
    "duration": 1403,
    "start_time": "2023-11-05T16:37:28.846Z"
   },
   {
    "duration": 14,
    "start_time": "2023-11-05T16:37:30.251Z"
   },
   {
    "duration": 64,
    "start_time": "2023-11-05T16:37:30.267Z"
   },
   {
    "duration": 63,
    "start_time": "2023-11-05T16:37:30.333Z"
   },
   {
    "duration": 44,
    "start_time": "2023-11-05T16:37:30.398Z"
   },
   {
    "duration": 123,
    "start_time": "2023-11-05T17:41:06.094Z"
   },
   {
    "duration": 15,
    "start_time": "2023-11-05T17:41:21.423Z"
   },
   {
    "duration": 1139,
    "start_time": "2023-11-06T09:58:25.957Z"
   },
   {
    "duration": 4,
    "start_time": "2023-11-06T09:58:27.098Z"
   },
   {
    "duration": 149,
    "start_time": "2023-11-06T09:58:27.103Z"
   },
   {
    "duration": 15,
    "start_time": "2023-11-06T09:58:27.254Z"
   },
   {
    "duration": 45,
    "start_time": "2023-11-06T09:58:27.271Z"
   },
   {
    "duration": 14,
    "start_time": "2023-11-06T09:58:27.318Z"
   },
   {
    "duration": 30,
    "start_time": "2023-11-06T09:58:27.334Z"
   },
   {
    "duration": 22,
    "start_time": "2023-11-06T09:58:27.365Z"
   },
   {
    "duration": 31,
    "start_time": "2023-11-06T09:58:27.388Z"
   },
   {
    "duration": 28,
    "start_time": "2023-11-06T09:58:27.420Z"
   },
   {
    "duration": 62,
    "start_time": "2023-11-06T09:58:27.450Z"
   },
   {
    "duration": 33,
    "start_time": "2023-11-06T09:58:27.514Z"
   },
   {
    "duration": 66,
    "start_time": "2023-11-06T09:58:27.549Z"
   },
   {
    "duration": 14,
    "start_time": "2023-11-06T09:58:27.619Z"
   },
   {
    "duration": 24,
    "start_time": "2023-11-06T09:58:27.635Z"
   },
   {
    "duration": 48,
    "start_time": "2023-11-06T09:58:27.661Z"
   },
   {
    "duration": 156,
    "start_time": "2023-11-06T09:58:27.711Z"
   },
   {
    "duration": 42,
    "start_time": "2023-11-06T09:58:27.868Z"
   },
   {
    "duration": 10,
    "start_time": "2023-11-06T09:58:27.912Z"
   },
   {
    "duration": 15,
    "start_time": "2023-11-06T09:58:27.924Z"
   },
   {
    "duration": 35,
    "start_time": "2023-11-06T09:58:27.941Z"
   },
   {
    "duration": 25,
    "start_time": "2023-11-06T09:58:27.978Z"
   },
   {
    "duration": 6,
    "start_time": "2023-11-06T09:58:28.005Z"
   },
   {
    "duration": 330,
    "start_time": "2023-11-06T09:58:28.013Z"
   },
   {
    "duration": 8,
    "start_time": "2023-11-06T09:58:28.345Z"
   },
   {
    "duration": 32,
    "start_time": "2023-11-06T09:58:28.354Z"
   },
   {
    "duration": 115,
    "start_time": "2023-11-06T09:58:28.387Z"
   },
   {
    "duration": 245,
    "start_time": "2023-11-06T09:58:28.504Z"
   },
   {
    "duration": 9,
    "start_time": "2023-11-06T09:58:28.751Z"
   },
   {
    "duration": 256,
    "start_time": "2023-11-06T09:58:28.763Z"
   },
   {
    "duration": 300,
    "start_time": "2023-11-06T09:58:29.022Z"
   },
   {
    "duration": 914,
    "start_time": "2023-11-06T09:58:29.325Z"
   },
   {
    "duration": 16,
    "start_time": "2023-11-06T09:58:30.241Z"
   },
   {
    "duration": 69,
    "start_time": "2023-11-06T09:58:30.259Z"
   },
   {
    "duration": 59,
    "start_time": "2023-11-06T09:58:30.330Z"
   },
   {
    "duration": 52,
    "start_time": "2023-11-06T09:58:30.391Z"
   },
   {
    "duration": 389,
    "start_time": "2023-11-06T09:58:30.445Z"
   },
   {
    "duration": 28,
    "start_time": "2023-11-06T09:58:30.836Z"
   },
   {
    "duration": 530,
    "start_time": "2023-11-06T09:58:30.866Z"
   },
   {
    "duration": 50,
    "start_time": "2023-11-06T09:58:31.401Z"
   },
   {
    "duration": 11,
    "start_time": "2023-11-06T09:58:31.455Z"
   },
   {
    "duration": 423,
    "start_time": "2023-11-06T09:58:31.502Z"
   },
   {
    "duration": 15,
    "start_time": "2023-11-06T09:58:31.927Z"
   },
   {
    "duration": 2445,
    "start_time": "2023-11-06T09:58:31.944Z"
   },
   {
    "duration": 283,
    "start_time": "2023-11-06T09:58:34.401Z"
   },
   {
    "duration": 541,
    "start_time": "2023-11-06T09:58:34.686Z"
   },
   {
    "duration": 413,
    "start_time": "2023-11-06T09:58:35.229Z"
   },
   {
    "duration": 349,
    "start_time": "2023-11-06T09:58:35.644Z"
   },
   {
    "duration": 1434,
    "start_time": "2023-11-06T09:58:35.995Z"
   },
   {
    "duration": 16,
    "start_time": "2023-11-06T09:58:37.431Z"
   },
   {
    "duration": 13,
    "start_time": "2023-11-06T09:58:37.449Z"
   },
   {
    "duration": 93,
    "start_time": "2023-11-06T09:58:37.464Z"
   },
   {
    "duration": 41,
    "start_time": "2023-11-06T09:58:37.560Z"
   },
   {
    "duration": 14,
    "start_time": "2023-11-06T09:58:37.604Z"
   },
   {
    "duration": 89,
    "start_time": "2023-11-06T09:58:37.620Z"
   }
  ],
  "kernelspec": {
   "display_name": "Python 3 (ipykernel)",
   "language": "python",
   "name": "python3"
  },
  "language_info": {
   "codemirror_mode": {
    "name": "ipython",
    "version": 3
   },
   "file_extension": ".py",
   "mimetype": "text/x-python",
   "name": "python",
   "nbconvert_exporter": "python",
   "pygments_lexer": "ipython3",
   "version": "3.9.5"
  },
  "toc": {
   "base_numbering": 1,
   "nav_menu": {},
   "number_sections": true,
   "sideBar": true,
   "skip_h1_title": false,
   "title_cell": "Table of Contents",
   "title_sidebar": "Contents",
   "toc_cell": false,
   "toc_position": {
    "height": "calc(100% - 180px)",
    "left": "10px",
    "top": "150px",
    "width": "220.943px"
   },
   "toc_section_display": true,
   "toc_window_display": true
  }
 },
 "nbformat": 4,
 "nbformat_minor": 1
}
