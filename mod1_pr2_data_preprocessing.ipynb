{
 "cells": [
  {
   "cell_type": "markdown",
   "id": "507bfb29",
   "metadata": {},
   "source": [
    "<b>Привет!</b>\n",
    "\n",
    "Меня зовут Харочкина Екатерина, и я буду проверять твой проект. Давай общаться на «ты», но если это неудобно, пожалуйста, сообщи. Моя основная цель — не указать на совершенные тобою ошибки, а поделиться своим опытом и помочь тебе совершенствоваться как профессионалу.\n",
    "\n",
    "Ты подготовил замечательный проект, но есть аспекты, которые еще можно улучшить. Я буду использовать комментарии с цветовой разметкой. Пожалуйста, **не перемещай, не изменяй и не удаляй их**. Это поможет выполнить повторную проверку твоего проекта оперативнее.\n",
    "\n",
    "<div class=\"alert alert-danger\">\n",
    "<b>Комментарий ревьюера №1</b> ❌\n",
    "    \n",
    "Таким комментарием выделены самые важные замечания. Без их отработки проект не будет принят.\n",
    "</div>\n",
    "\n",
    "<div class=\"alert alert-warning\">\n",
    "<b>Комментарий ревьюера №1</b> ⚠️\n",
    "    \n",
    "Таким комментарием выделены небольшие замечания и рекомендации, которые будет хорошо учесть.\n",
    "</div>\n",
    "\n",
    "<div class=\"alert alert-success\">\n",
    "<b>Комментарий ревьюера №1</b> ✅\n",
    "    \n",
    "Таким комментарием выделены удачные решения🙂\n",
    "</div>\n",
    "\n",
    "Свои комментарии ты можешь помечать синим цветом.\n",
    "\n",
    "<div class=\"alert alert-info\">\n",
    "<b>Комментарий студента №1</b>\n",
    "    \n",
    "Так ты можешь оформить свой комментарий\n",
    "</div>\n",
    "\n",
    "Давай работать над проектом в диалоге: если ты **что-то меняешь** в проекте по моим рекомендациям — **пиши об этом**. После того, как ты все доработаешь, я смогу принять твой проект!) "
   ]
  },
  {
   "cell_type": "markdown",
   "id": "fbe04d1d",
   "metadata": {
    "deletable": false,
    "editable": false,
    "id": "c81daeeb"
   },
   "source": [
    "# Исследование надежности заемщиков\n"
   ]
  },
  {
   "cell_type": "markdown",
   "id": "f432cb6f",
   "metadata": {},
   "source": [
    "<div class=\"alert alert-success\">\n",
    "<b>Комментарий ревьюера №1</b> ✅\n",
    "    \n",
    "Можно оформить описание проекта\n",
    "</div>"
   ]
  },
  {
   "cell_type": "markdown",
   "id": "d4fb2268",
   "metadata": {
    "deletable": false,
    "editable": false,
    "id": "827c20bf"
   },
   "source": [
    "Во второй части проекта вы выполните шаги 3 и 4. Их вручную проверит ревьюер.\n",
    "Чтобы вам не пришлось писать код заново для шагов 1 и 2, мы добавили авторские решения в ячейки с кодом. \n",
    "\n"
   ]
  },
  {
   "cell_type": "markdown",
   "id": "8cf93374",
   "metadata": {
    "deletable": false,
    "editable": false,
    "id": "744d7639"
   },
   "source": [
    "## Откройте таблицу и изучите общую информацию о данных"
   ]
  },
  {
   "cell_type": "markdown",
   "id": "9de2d8c5",
   "metadata": {
    "deletable": false,
    "editable": false,
    "id": "e7a14c31"
   },
   "source": [
    "**Задание 1. Импортируйте библиотеку pandas. Считайте данные из csv-файла в датафрейм и сохраните в переменную `data`. Путь к файлу:**\n",
    "\n",
    "`/datasets/data.csv`"
   ]
  },
  {
   "cell_type": "code",
   "execution_count": 1,
   "id": "fd6f9469",
   "metadata": {
    "deletable": false,
    "id": "7bcf75c9"
   },
   "outputs": [],
   "source": [
    "import pandas as pd\n",
    "\n",
    "try:\n",
    "    data = pd.read_csv('/datasets/data.csv')\n",
    "except:\n",
    "    data = pd.read_csv('https://code.s3.yandex.net/datasets/data.csv')"
   ]
  },
  {
   "cell_type": "markdown",
   "id": "a5dbc997",
   "metadata": {
    "deletable": false,
    "editable": false,
    "id": "b8038fe3"
   },
   "source": [
    "**Задание 2. Выведите первые 20 строчек датафрейма `data` на экран.**"
   ]
  },
  {
   "cell_type": "code",
   "execution_count": 2,
   "id": "f77560e9",
   "metadata": {
    "deletable": false,
    "id": "2a7cab99",
    "outputId": "1a8f3ef2-d323-4ec2-ddf7-89670b5944c4"
   },
   "outputs": [
    {
     "data": {
      "text/html": [
       "<div>\n",
       "<style scoped>\n",
       "    .dataframe tbody tr th:only-of-type {\n",
       "        vertical-align: middle;\n",
       "    }\n",
       "\n",
       "    .dataframe tbody tr th {\n",
       "        vertical-align: top;\n",
       "    }\n",
       "\n",
       "    .dataframe thead th {\n",
       "        text-align: right;\n",
       "    }\n",
       "</style>\n",
       "<table border=\"1\" class=\"dataframe\">\n",
       "  <thead>\n",
       "    <tr style=\"text-align: right;\">\n",
       "      <th></th>\n",
       "      <th>children</th>\n",
       "      <th>days_employed</th>\n",
       "      <th>dob_years</th>\n",
       "      <th>education</th>\n",
       "      <th>education_id</th>\n",
       "      <th>family_status</th>\n",
       "      <th>family_status_id</th>\n",
       "      <th>gender</th>\n",
       "      <th>income_type</th>\n",
       "      <th>debt</th>\n",
       "      <th>total_income</th>\n",
       "      <th>purpose</th>\n",
       "    </tr>\n",
       "  </thead>\n",
       "  <tbody>\n",
       "    <tr>\n",
       "      <th>0</th>\n",
       "      <td>1</td>\n",
       "      <td>-8437.673028</td>\n",
       "      <td>42</td>\n",
       "      <td>высшее</td>\n",
       "      <td>0</td>\n",
       "      <td>женат / замужем</td>\n",
       "      <td>0</td>\n",
       "      <td>F</td>\n",
       "      <td>сотрудник</td>\n",
       "      <td>0</td>\n",
       "      <td>253875.639453</td>\n",
       "      <td>покупка жилья</td>\n",
       "    </tr>\n",
       "    <tr>\n",
       "      <th>1</th>\n",
       "      <td>1</td>\n",
       "      <td>-4024.803754</td>\n",
       "      <td>36</td>\n",
       "      <td>среднее</td>\n",
       "      <td>1</td>\n",
       "      <td>женат / замужем</td>\n",
       "      <td>0</td>\n",
       "      <td>F</td>\n",
       "      <td>сотрудник</td>\n",
       "      <td>0</td>\n",
       "      <td>112080.014102</td>\n",
       "      <td>приобретение автомобиля</td>\n",
       "    </tr>\n",
       "    <tr>\n",
       "      <th>2</th>\n",
       "      <td>0</td>\n",
       "      <td>-5623.422610</td>\n",
       "      <td>33</td>\n",
       "      <td>Среднее</td>\n",
       "      <td>1</td>\n",
       "      <td>женат / замужем</td>\n",
       "      <td>0</td>\n",
       "      <td>M</td>\n",
       "      <td>сотрудник</td>\n",
       "      <td>0</td>\n",
       "      <td>145885.952297</td>\n",
       "      <td>покупка жилья</td>\n",
       "    </tr>\n",
       "    <tr>\n",
       "      <th>3</th>\n",
       "      <td>3</td>\n",
       "      <td>-4124.747207</td>\n",
       "      <td>32</td>\n",
       "      <td>среднее</td>\n",
       "      <td>1</td>\n",
       "      <td>женат / замужем</td>\n",
       "      <td>0</td>\n",
       "      <td>M</td>\n",
       "      <td>сотрудник</td>\n",
       "      <td>0</td>\n",
       "      <td>267628.550329</td>\n",
       "      <td>дополнительное образование</td>\n",
       "    </tr>\n",
       "    <tr>\n",
       "      <th>4</th>\n",
       "      <td>0</td>\n",
       "      <td>340266.072047</td>\n",
       "      <td>53</td>\n",
       "      <td>среднее</td>\n",
       "      <td>1</td>\n",
       "      <td>гражданский брак</td>\n",
       "      <td>1</td>\n",
       "      <td>F</td>\n",
       "      <td>пенсионер</td>\n",
       "      <td>0</td>\n",
       "      <td>158616.077870</td>\n",
       "      <td>сыграть свадьбу</td>\n",
       "    </tr>\n",
       "    <tr>\n",
       "      <th>5</th>\n",
       "      <td>0</td>\n",
       "      <td>-926.185831</td>\n",
       "      <td>27</td>\n",
       "      <td>высшее</td>\n",
       "      <td>0</td>\n",
       "      <td>гражданский брак</td>\n",
       "      <td>1</td>\n",
       "      <td>M</td>\n",
       "      <td>компаньон</td>\n",
       "      <td>0</td>\n",
       "      <td>255763.565419</td>\n",
       "      <td>покупка жилья</td>\n",
       "    </tr>\n",
       "    <tr>\n",
       "      <th>6</th>\n",
       "      <td>0</td>\n",
       "      <td>-2879.202052</td>\n",
       "      <td>43</td>\n",
       "      <td>высшее</td>\n",
       "      <td>0</td>\n",
       "      <td>женат / замужем</td>\n",
       "      <td>0</td>\n",
       "      <td>F</td>\n",
       "      <td>компаньон</td>\n",
       "      <td>0</td>\n",
       "      <td>240525.971920</td>\n",
       "      <td>операции с жильем</td>\n",
       "    </tr>\n",
       "    <tr>\n",
       "      <th>7</th>\n",
       "      <td>0</td>\n",
       "      <td>-152.779569</td>\n",
       "      <td>50</td>\n",
       "      <td>СРЕДНЕЕ</td>\n",
       "      <td>1</td>\n",
       "      <td>женат / замужем</td>\n",
       "      <td>0</td>\n",
       "      <td>M</td>\n",
       "      <td>сотрудник</td>\n",
       "      <td>0</td>\n",
       "      <td>135823.934197</td>\n",
       "      <td>образование</td>\n",
       "    </tr>\n",
       "    <tr>\n",
       "      <th>8</th>\n",
       "      <td>2</td>\n",
       "      <td>-6929.865299</td>\n",
       "      <td>35</td>\n",
       "      <td>ВЫСШЕЕ</td>\n",
       "      <td>0</td>\n",
       "      <td>гражданский брак</td>\n",
       "      <td>1</td>\n",
       "      <td>F</td>\n",
       "      <td>сотрудник</td>\n",
       "      <td>0</td>\n",
       "      <td>95856.832424</td>\n",
       "      <td>на проведение свадьбы</td>\n",
       "    </tr>\n",
       "    <tr>\n",
       "      <th>9</th>\n",
       "      <td>0</td>\n",
       "      <td>-2188.756445</td>\n",
       "      <td>41</td>\n",
       "      <td>среднее</td>\n",
       "      <td>1</td>\n",
       "      <td>женат / замужем</td>\n",
       "      <td>0</td>\n",
       "      <td>M</td>\n",
       "      <td>сотрудник</td>\n",
       "      <td>0</td>\n",
       "      <td>144425.938277</td>\n",
       "      <td>покупка жилья для семьи</td>\n",
       "    </tr>\n",
       "    <tr>\n",
       "      <th>10</th>\n",
       "      <td>2</td>\n",
       "      <td>-4171.483647</td>\n",
       "      <td>36</td>\n",
       "      <td>высшее</td>\n",
       "      <td>0</td>\n",
       "      <td>женат / замужем</td>\n",
       "      <td>0</td>\n",
       "      <td>M</td>\n",
       "      <td>компаньон</td>\n",
       "      <td>0</td>\n",
       "      <td>113943.491460</td>\n",
       "      <td>покупка недвижимости</td>\n",
       "    </tr>\n",
       "    <tr>\n",
       "      <th>11</th>\n",
       "      <td>0</td>\n",
       "      <td>-792.701887</td>\n",
       "      <td>40</td>\n",
       "      <td>среднее</td>\n",
       "      <td>1</td>\n",
       "      <td>женат / замужем</td>\n",
       "      <td>0</td>\n",
       "      <td>F</td>\n",
       "      <td>сотрудник</td>\n",
       "      <td>0</td>\n",
       "      <td>77069.234271</td>\n",
       "      <td>покупка коммерческой недвижимости</td>\n",
       "    </tr>\n",
       "    <tr>\n",
       "      <th>12</th>\n",
       "      <td>0</td>\n",
       "      <td>NaN</td>\n",
       "      <td>65</td>\n",
       "      <td>среднее</td>\n",
       "      <td>1</td>\n",
       "      <td>гражданский брак</td>\n",
       "      <td>1</td>\n",
       "      <td>M</td>\n",
       "      <td>пенсионер</td>\n",
       "      <td>0</td>\n",
       "      <td>NaN</td>\n",
       "      <td>сыграть свадьбу</td>\n",
       "    </tr>\n",
       "    <tr>\n",
       "      <th>13</th>\n",
       "      <td>0</td>\n",
       "      <td>-1846.641941</td>\n",
       "      <td>54</td>\n",
       "      <td>неоконченное высшее</td>\n",
       "      <td>2</td>\n",
       "      <td>женат / замужем</td>\n",
       "      <td>0</td>\n",
       "      <td>F</td>\n",
       "      <td>сотрудник</td>\n",
       "      <td>0</td>\n",
       "      <td>130458.228857</td>\n",
       "      <td>приобретение автомобиля</td>\n",
       "    </tr>\n",
       "    <tr>\n",
       "      <th>14</th>\n",
       "      <td>0</td>\n",
       "      <td>-1844.956182</td>\n",
       "      <td>56</td>\n",
       "      <td>высшее</td>\n",
       "      <td>0</td>\n",
       "      <td>гражданский брак</td>\n",
       "      <td>1</td>\n",
       "      <td>F</td>\n",
       "      <td>компаньон</td>\n",
       "      <td>1</td>\n",
       "      <td>165127.911772</td>\n",
       "      <td>покупка жилой недвижимости</td>\n",
       "    </tr>\n",
       "    <tr>\n",
       "      <th>15</th>\n",
       "      <td>1</td>\n",
       "      <td>-972.364419</td>\n",
       "      <td>26</td>\n",
       "      <td>среднее</td>\n",
       "      <td>1</td>\n",
       "      <td>женат / замужем</td>\n",
       "      <td>0</td>\n",
       "      <td>F</td>\n",
       "      <td>сотрудник</td>\n",
       "      <td>0</td>\n",
       "      <td>116820.904450</td>\n",
       "      <td>строительство собственной недвижимости</td>\n",
       "    </tr>\n",
       "    <tr>\n",
       "      <th>16</th>\n",
       "      <td>0</td>\n",
       "      <td>-1719.934226</td>\n",
       "      <td>35</td>\n",
       "      <td>среднее</td>\n",
       "      <td>1</td>\n",
       "      <td>женат / замужем</td>\n",
       "      <td>0</td>\n",
       "      <td>F</td>\n",
       "      <td>сотрудник</td>\n",
       "      <td>0</td>\n",
       "      <td>289202.704229</td>\n",
       "      <td>недвижимость</td>\n",
       "    </tr>\n",
       "    <tr>\n",
       "      <th>17</th>\n",
       "      <td>0</td>\n",
       "      <td>-2369.999720</td>\n",
       "      <td>33</td>\n",
       "      <td>высшее</td>\n",
       "      <td>0</td>\n",
       "      <td>гражданский брак</td>\n",
       "      <td>1</td>\n",
       "      <td>M</td>\n",
       "      <td>сотрудник</td>\n",
       "      <td>0</td>\n",
       "      <td>90410.586745</td>\n",
       "      <td>строительство недвижимости</td>\n",
       "    </tr>\n",
       "    <tr>\n",
       "      <th>18</th>\n",
       "      <td>0</td>\n",
       "      <td>400281.136913</td>\n",
       "      <td>53</td>\n",
       "      <td>среднее</td>\n",
       "      <td>1</td>\n",
       "      <td>вдовец / вдова</td>\n",
       "      <td>2</td>\n",
       "      <td>F</td>\n",
       "      <td>пенсионер</td>\n",
       "      <td>0</td>\n",
       "      <td>56823.777243</td>\n",
       "      <td>на покупку подержанного автомобиля</td>\n",
       "    </tr>\n",
       "    <tr>\n",
       "      <th>19</th>\n",
       "      <td>0</td>\n",
       "      <td>-10038.818549</td>\n",
       "      <td>48</td>\n",
       "      <td>СРЕДНЕЕ</td>\n",
       "      <td>1</td>\n",
       "      <td>в разводе</td>\n",
       "      <td>3</td>\n",
       "      <td>F</td>\n",
       "      <td>сотрудник</td>\n",
       "      <td>0</td>\n",
       "      <td>242831.107982</td>\n",
       "      <td>на покупку своего автомобиля</td>\n",
       "    </tr>\n",
       "  </tbody>\n",
       "</table>\n",
       "</div>"
      ],
      "text/plain": [
       "    children  days_employed  dob_years            education  education_id  \\\n",
       "0          1   -8437.673028         42               высшее             0   \n",
       "1          1   -4024.803754         36              среднее             1   \n",
       "2          0   -5623.422610         33              Среднее             1   \n",
       "3          3   -4124.747207         32              среднее             1   \n",
       "4          0  340266.072047         53              среднее             1   \n",
       "5          0    -926.185831         27               высшее             0   \n",
       "6          0   -2879.202052         43               высшее             0   \n",
       "7          0    -152.779569         50              СРЕДНЕЕ             1   \n",
       "8          2   -6929.865299         35               ВЫСШЕЕ             0   \n",
       "9          0   -2188.756445         41              среднее             1   \n",
       "10         2   -4171.483647         36               высшее             0   \n",
       "11         0    -792.701887         40              среднее             1   \n",
       "12         0            NaN         65              среднее             1   \n",
       "13         0   -1846.641941         54  неоконченное высшее             2   \n",
       "14         0   -1844.956182         56               высшее             0   \n",
       "15         1    -972.364419         26              среднее             1   \n",
       "16         0   -1719.934226         35              среднее             1   \n",
       "17         0   -2369.999720         33               высшее             0   \n",
       "18         0  400281.136913         53              среднее             1   \n",
       "19         0  -10038.818549         48              СРЕДНЕЕ             1   \n",
       "\n",
       "       family_status  family_status_id gender income_type  debt  \\\n",
       "0    женат / замужем                 0      F   сотрудник     0   \n",
       "1    женат / замужем                 0      F   сотрудник     0   \n",
       "2    женат / замужем                 0      M   сотрудник     0   \n",
       "3    женат / замужем                 0      M   сотрудник     0   \n",
       "4   гражданский брак                 1      F   пенсионер     0   \n",
       "5   гражданский брак                 1      M   компаньон     0   \n",
       "6    женат / замужем                 0      F   компаньон     0   \n",
       "7    женат / замужем                 0      M   сотрудник     0   \n",
       "8   гражданский брак                 1      F   сотрудник     0   \n",
       "9    женат / замужем                 0      M   сотрудник     0   \n",
       "10   женат / замужем                 0      M   компаньон     0   \n",
       "11   женат / замужем                 0      F   сотрудник     0   \n",
       "12  гражданский брак                 1      M   пенсионер     0   \n",
       "13   женат / замужем                 0      F   сотрудник     0   \n",
       "14  гражданский брак                 1      F   компаньон     1   \n",
       "15   женат / замужем                 0      F   сотрудник     0   \n",
       "16   женат / замужем                 0      F   сотрудник     0   \n",
       "17  гражданский брак                 1      M   сотрудник     0   \n",
       "18    вдовец / вдова                 2      F   пенсионер     0   \n",
       "19         в разводе                 3      F   сотрудник     0   \n",
       "\n",
       "     total_income                                 purpose  \n",
       "0   253875.639453                           покупка жилья  \n",
       "1   112080.014102                 приобретение автомобиля  \n",
       "2   145885.952297                           покупка жилья  \n",
       "3   267628.550329              дополнительное образование  \n",
       "4   158616.077870                         сыграть свадьбу  \n",
       "5   255763.565419                           покупка жилья  \n",
       "6   240525.971920                       операции с жильем  \n",
       "7   135823.934197                             образование  \n",
       "8    95856.832424                   на проведение свадьбы  \n",
       "9   144425.938277                 покупка жилья для семьи  \n",
       "10  113943.491460                    покупка недвижимости  \n",
       "11   77069.234271       покупка коммерческой недвижимости  \n",
       "12            NaN                         сыграть свадьбу  \n",
       "13  130458.228857                 приобретение автомобиля  \n",
       "14  165127.911772              покупка жилой недвижимости  \n",
       "15  116820.904450  строительство собственной недвижимости  \n",
       "16  289202.704229                            недвижимость  \n",
       "17   90410.586745              строительство недвижимости  \n",
       "18   56823.777243      на покупку подержанного автомобиля  \n",
       "19  242831.107982            на покупку своего автомобиля  "
      ]
     },
     "execution_count": 2,
     "metadata": {},
     "output_type": "execute_result"
    }
   ],
   "source": [
    "data.head(20)"
   ]
  },
  {
   "cell_type": "markdown",
   "id": "c740c98f",
   "metadata": {
    "deletable": false,
    "editable": false,
    "id": "1c12e233"
   },
   "source": [
    "**Задание 3. Выведите основную информацию о датафрейме с помощью метода `info()`.**"
   ]
  },
  {
   "cell_type": "code",
   "execution_count": 3,
   "id": "3da78d13",
   "metadata": {
    "deletable": false,
    "id": "2b757bca",
    "outputId": "15376089-8dad-46c9-b520-c05248d43158"
   },
   "outputs": [
    {
     "name": "stdout",
     "output_type": "stream",
     "text": [
      "<class 'pandas.core.frame.DataFrame'>\n",
      "RangeIndex: 21525 entries, 0 to 21524\n",
      "Data columns (total 12 columns):\n",
      " #   Column            Non-Null Count  Dtype  \n",
      "---  ------            --------------  -----  \n",
      " 0   children          21525 non-null  int64  \n",
      " 1   days_employed     19351 non-null  float64\n",
      " 2   dob_years         21525 non-null  int64  \n",
      " 3   education         21525 non-null  object \n",
      " 4   education_id      21525 non-null  int64  \n",
      " 5   family_status     21525 non-null  object \n",
      " 6   family_status_id  21525 non-null  int64  \n",
      " 7   gender            21525 non-null  object \n",
      " 8   income_type       21525 non-null  object \n",
      " 9   debt              21525 non-null  int64  \n",
      " 10  total_income      19351 non-null  float64\n",
      " 11  purpose           21525 non-null  object \n",
      "dtypes: float64(2), int64(5), object(5)\n",
      "memory usage: 2.0+ MB\n"
     ]
    }
   ],
   "source": [
    "data.info()"
   ]
  },
  {
   "cell_type": "markdown",
   "id": "18a5d3c0",
   "metadata": {},
   "source": [
    "<div class=\"alert alert-success\">\n",
    "<b>Комментарий ревьюера №1</b> ✅\n",
    "    \n",
    "Разделы работы можно заканчивать промежуточными выводами\n",
    "</div>"
   ]
  },
  {
   "cell_type": "markdown",
   "id": "c19110fe",
   "metadata": {
    "deletable": false,
    "editable": false,
    "id": "333ec665"
   },
   "source": [
    "## Предобработка данных"
   ]
  },
  {
   "cell_type": "markdown",
   "id": "44be2f4c",
   "metadata": {
    "deletable": false,
    "editable": false,
    "id": "02d92d53"
   },
   "source": [
    "### Удаление пропусков"
   ]
  },
  {
   "cell_type": "markdown",
   "id": "63f0e026",
   "metadata": {
    "deletable": false,
    "editable": false,
    "id": "cd84967c"
   },
   "source": [
    "**Задание 4. Выведите количество пропущенных значений для каждого столбца. Используйте комбинацию двух методов.**"
   ]
  },
  {
   "cell_type": "code",
   "execution_count": 4,
   "id": "abc701b1",
   "metadata": {
    "deletable": false,
    "id": "7f9b2309",
    "outputId": "81f4d817-781c-465c-ed15-91ce4446810d"
   },
   "outputs": [
    {
     "data": {
      "text/plain": [
       "children               0\n",
       "days_employed       2174\n",
       "dob_years              0\n",
       "education              0\n",
       "education_id           0\n",
       "family_status          0\n",
       "family_status_id       0\n",
       "gender                 0\n",
       "income_type            0\n",
       "debt                   0\n",
       "total_income        2174\n",
       "purpose                0\n",
       "dtype: int64"
      ]
     },
     "execution_count": 4,
     "metadata": {},
     "output_type": "execute_result"
    }
   ],
   "source": [
    "data.isna().sum()"
   ]
  },
  {
   "cell_type": "markdown",
   "id": "94babd4a",
   "metadata": {
    "deletable": false,
    "editable": false,
    "id": "db86e27b"
   },
   "source": [
    "**Задание 5. В двух столбцах есть пропущенные значения. Один из них — `days_employed`. Пропуски в этом столбце вы обработаете на следующем этапе. Другой столбец с пропущенными значениями — `total_income` — хранит данные о доходах. На сумму дохода сильнее всего влияет тип занятости, поэтому заполнить пропуски в этом столбце нужно медианным значением по каждому типу из столбца `income_type`. Например, у человека с типом занятости `сотрудник` пропуск в столбце `total_income` должен быть заполнен медианным доходом среди всех записей с тем же типом.**"
   ]
  },
  {
   "cell_type": "code",
   "execution_count": 5,
   "id": "16ccb125",
   "metadata": {
    "deletable": false,
    "id": "42006a93"
   },
   "outputs": [],
   "source": [
    "for t in data['income_type'].unique():\n",
    "    data.loc[(data['income_type'] == t) & (data['total_income'].isna()), 'total_income'] = \\\n",
    "    data.loc[(data['income_type'] == t), 'total_income'].median()"
   ]
  },
  {
   "cell_type": "markdown",
   "id": "66ac296f",
   "metadata": {
    "deletable": false,
    "editable": false,
    "id": "89da5ece"
   },
   "source": [
    "### Обработка аномальных значений"
   ]
  },
  {
   "cell_type": "markdown",
   "id": "90a17725",
   "metadata": {
    "deletable": false,
    "editable": false,
    "id": "57964554"
   },
   "source": [
    "**Задание 6. В данных могут встречаться артефакты (аномалии) — значения, которые не отражают действительность и появились по какой-то ошибке. таким артефактом будет отрицательное количество дней трудового стажа в столбце `days_employed`. Для реальных данных это нормально. Обработайте значения в этом столбце: замените все отрицательные значения положительными с помощью метода `abs()`.**"
   ]
  },
  {
   "cell_type": "code",
   "execution_count": 6,
   "id": "351a87c3",
   "metadata": {
    "deletable": false,
    "id": "f6f055bf"
   },
   "outputs": [],
   "source": [
    "data['days_employed'] = data['days_employed'].abs()"
   ]
  },
  {
   "cell_type": "markdown",
   "id": "fbf95820",
   "metadata": {
    "deletable": false,
    "editable": false,
    "id": "6107dd2f"
   },
   "source": [
    "**Задание 7. Для каждого типа занятости выведите медианное значение трудового стажа `days_employed` в днях.**"
   ]
  },
  {
   "cell_type": "code",
   "execution_count": 7,
   "id": "79d5988e",
   "metadata": {
    "deletable": false,
    "id": "85a5faf6",
    "outputId": "801ef80e-522b-4668-f34e-565af7432bcf"
   },
   "outputs": [
    {
     "data": {
      "text/plain": [
       "income_type\n",
       "безработный        366413.652744\n",
       "в декрете            3296.759962\n",
       "госслужащий          2689.368353\n",
       "компаньон            1547.382223\n",
       "пенсионер          365213.306266\n",
       "предприниматель       520.848083\n",
       "сотрудник            1574.202821\n",
       "студент               578.751554\n",
       "Name: days_employed, dtype: float64"
      ]
     },
     "execution_count": 7,
     "metadata": {},
     "output_type": "execute_result"
    }
   ],
   "source": [
    "data.groupby('income_type')['days_employed'].agg('median')"
   ]
  },
  {
   "cell_type": "markdown",
   "id": "dd944f23",
   "metadata": {
    "deletable": false,
    "editable": false,
    "id": "38d1a030"
   },
   "source": [
    "У двух типов (безработные и пенсионеры) получатся аномально большие значения. Исправить такие значения сложно, поэтому оставьте их как есть. Тем более этот столбец не понадобится вам для исследования."
   ]
  },
  {
   "cell_type": "markdown",
   "id": "dd36f424",
   "metadata": {
    "deletable": false,
    "editable": false,
    "id": "d8a9f147"
   },
   "source": [
    "**Задание 8. Выведите перечень уникальных значений столбца `children`.**"
   ]
  },
  {
   "cell_type": "code",
   "execution_count": 8,
   "id": "13b20305",
   "metadata": {
    "deletable": false,
    "id": "ef5056eb",
    "outputId": "6975b15c-7f95-4697-d16d-a0c79b657b03"
   },
   "outputs": [
    {
     "data": {
      "text/plain": [
       "array([ 1,  0,  3,  2, -1,  4, 20,  5])"
      ]
     },
     "execution_count": 8,
     "metadata": {},
     "output_type": "execute_result"
    }
   ],
   "source": [
    "data['children'].unique()"
   ]
  },
  {
   "cell_type": "markdown",
   "id": "0a3383f4",
   "metadata": {
    "deletable": false,
    "editable": false,
    "id": "40b9ebf2"
   },
   "source": [
    "**Задание 9. В столбце `children` есть два аномальных значения. Удалите строки, в которых встречаются такие аномальные значения из датафрейма `data`.**"
   ]
  },
  {
   "cell_type": "code",
   "execution_count": 9,
   "id": "02896534",
   "metadata": {
    "deletable": false,
    "id": "3ff9801d"
   },
   "outputs": [],
   "source": [
    "data = data[(data['children'] != -1) & (data['children'] != 20)]"
   ]
  },
  {
   "cell_type": "markdown",
   "id": "23ae4730",
   "metadata": {
    "deletable": false,
    "editable": false,
    "id": "bbc4d0ce"
   },
   "source": [
    "**Задание 10. Ещё раз выведите перечень уникальных значений столбца `children`, чтобы убедиться, что артефакты удалены.**"
   ]
  },
  {
   "cell_type": "code",
   "execution_count": 10,
   "id": "143a9b5d",
   "metadata": {
    "deletable": false,
    "id": "ad4fa8b7",
    "outputId": "b2097101-d49d-44d9-901b-32a65c9463d1"
   },
   "outputs": [
    {
     "data": {
      "text/plain": [
       "array([1, 0, 3, 2, 4, 5])"
      ]
     },
     "execution_count": 10,
     "metadata": {},
     "output_type": "execute_result"
    }
   ],
   "source": [
    "data['children'].unique()"
   ]
  },
  {
   "cell_type": "markdown",
   "id": "7edb9339",
   "metadata": {
    "deletable": false,
    "editable": false,
    "id": "75440b63"
   },
   "source": [
    "### Удаление пропусков (продолжение)"
   ]
  },
  {
   "cell_type": "markdown",
   "id": "8eebc3be",
   "metadata": {
    "deletable": false,
    "editable": false,
    "id": "f4ea573f"
   },
   "source": [
    "**Задание 11. Заполните пропуски в столбце `days_employed` медианными значениями по каждого типа занятости `income_type`.**"
   ]
  },
  {
   "cell_type": "code",
   "execution_count": 11,
   "id": "73a97294",
   "metadata": {
    "deletable": false,
    "id": "af6b1a7e"
   },
   "outputs": [],
   "source": [
    "for t in data['income_type'].unique():\n",
    "    data.loc[(data['income_type'] == t) & (data['days_employed'].isna()), 'days_employed'] = \\\n",
    "    data.loc[(data['income_type'] == t), 'days_employed'].median()"
   ]
  },
  {
   "cell_type": "markdown",
   "id": "e5e37ab7",
   "metadata": {
    "deletable": false,
    "editable": false,
    "id": "2753f40d"
   },
   "source": [
    "**Задание 12. Убедитесь, что все пропуски заполнены. Проверьте себя и ещё раз выведите количество пропущенных значений для каждого столбца с помощью двух методов.**"
   ]
  },
  {
   "cell_type": "code",
   "execution_count": 12,
   "id": "233a529f",
   "metadata": {
    "deletable": false,
    "id": "55f78bc2",
    "outputId": "8da1e4e1-358e-4e87-98c9-f261bce0a7b2"
   },
   "outputs": [
    {
     "data": {
      "text/plain": [
       "children            0\n",
       "days_employed       0\n",
       "dob_years           0\n",
       "education           0\n",
       "education_id        0\n",
       "family_status       0\n",
       "family_status_id    0\n",
       "gender              0\n",
       "income_type         0\n",
       "debt                0\n",
       "total_income        0\n",
       "purpose             0\n",
       "dtype: int64"
      ]
     },
     "execution_count": 12,
     "metadata": {},
     "output_type": "execute_result"
    }
   ],
   "source": [
    "data.isna().sum()"
   ]
  },
  {
   "cell_type": "markdown",
   "id": "34f8ce3e",
   "metadata": {
    "deletable": false,
    "editable": false,
    "id": "ddc81e43"
   },
   "source": [
    "### Изменение типов данных"
   ]
  },
  {
   "cell_type": "markdown",
   "id": "df08ef87",
   "metadata": {
    "deletable": false,
    "editable": false,
    "id": "42d19d24"
   },
   "source": [
    "**Задание 13. Замените вещественный тип данных в столбце `total_income` на целочисленный с помощью метода `astype()`.**"
   ]
  },
  {
   "cell_type": "code",
   "execution_count": 13,
   "id": "239759fe",
   "metadata": {
    "deletable": false,
    "id": "920b65ad"
   },
   "outputs": [],
   "source": [
    "data['total_income'] = data['total_income'].astype(int)"
   ]
  },
  {
   "cell_type": "markdown",
   "id": "edd90768",
   "metadata": {
    "deletable": false,
    "editable": false,
    "id": "80c420ba"
   },
   "source": [
    "### Обработка дубликатов"
   ]
  },
  {
   "cell_type": "markdown",
   "id": "9769e95e",
   "metadata": {
    "deletable": false,
    "editable": false
   },
   "source": [
    "**Задание 14. Обработайте неявные дубликаты в столбце `education`. В этом столбце есть одни и те же значения, но записанные по-разному: с использованием заглавных и строчных букв. Приведите их к нижнему регистру. Проверьте остальные столбцы.**"
   ]
  },
  {
   "cell_type": "code",
   "execution_count": 14,
   "id": "b8dce8cd",
   "metadata": {
    "deletable": false
   },
   "outputs": [],
   "source": [
    "data['education'] = data['education'].str.lower()"
   ]
  },
  {
   "cell_type": "markdown",
   "id": "b973420d",
   "metadata": {
    "deletable": false,
    "editable": false,
    "id": "dc587695"
   },
   "source": [
    "**Задание 15. Выведите на экран количество строк-дубликатов в данных. Если такие строки присутствуют, удалите их.**"
   ]
  },
  {
   "cell_type": "code",
   "execution_count": 15,
   "id": "d73a1ed2",
   "metadata": {
    "deletable": false,
    "id": "3ee445e4",
    "outputId": "9684deba-1934-42d1-99e1-cda61740f822"
   },
   "outputs": [
    {
     "data": {
      "text/plain": [
       "71"
      ]
     },
     "execution_count": 15,
     "metadata": {},
     "output_type": "execute_result"
    }
   ],
   "source": [
    "data.duplicated().sum()"
   ]
  },
  {
   "cell_type": "code",
   "execution_count": 16,
   "id": "fc936b00",
   "metadata": {
    "deletable": false,
    "id": "8575fe05"
   },
   "outputs": [],
   "source": [
    "data = data.drop_duplicates()"
   ]
  },
  {
   "cell_type": "markdown",
   "id": "85fad79d",
   "metadata": {
    "deletable": false,
    "editable": false,
    "id": "9904cf55"
   },
   "source": [
    "### Категоризация данных"
   ]
  },
  {
   "cell_type": "markdown",
   "id": "2cbeacca",
   "metadata": {
    "deletable": false,
    "editable": false,
    "id": "72fcc8a2"
   },
   "source": [
    "**Задание 16. На основании диапазонов, указанных ниже, создайте в датафрейме `data` столбец `total_income_category` с категориями:**\n",
    "\n",
    "- 0–30000 — `'E'`;\n",
    "- 30001–50000 — `'D'`;\n",
    "- 50001–200000 — `'C'`;\n",
    "- 200001–1000000 — `'B'`;\n",
    "- 1000001 и выше — `'A'`.\n",
    "\n",
    "\n",
    "**Например, кредитополучателю с доходом 25000 нужно назначить категорию `'E'`, а клиенту, получающему 235000, — `'B'`. Используйте собственную функцию с именем `categorize_income()` и метод `apply()`.**"
   ]
  },
  {
   "cell_type": "code",
   "execution_count": 17,
   "id": "10db3e1e",
   "metadata": {
    "deletable": false,
    "id": "e1771346"
   },
   "outputs": [],
   "source": [
    "def categorize_income(income):\n",
    "    try:\n",
    "        if 0 <= income <= 30000:\n",
    "            return 'E'\n",
    "        elif 30001 <= income <= 50000:\n",
    "            return 'D'\n",
    "        elif 50001 <= income <= 200000:\n",
    "            return 'C'\n",
    "        elif 200001 <= income <= 1000000:\n",
    "            return 'B'\n",
    "        elif income >= 1000001:\n",
    "            return 'A'\n",
    "    except:\n",
    "        pass"
   ]
  },
  {
   "cell_type": "code",
   "execution_count": 18,
   "id": "21ef2c95",
   "metadata": {
    "deletable": false,
    "id": "d5f3586d"
   },
   "outputs": [],
   "source": [
    "data['total_income_category'] = data['total_income'].apply(categorize_income)"
   ]
  },
  {
   "cell_type": "markdown",
   "id": "048a6573",
   "metadata": {
    "deletable": false,
    "editable": false,
    "id": "dde49b5c"
   },
   "source": [
    "**Задание 17. Выведите на экран перечень уникальных целей взятия кредита из столбца `purpose`.**"
   ]
  },
  {
   "cell_type": "code",
   "execution_count": 19,
   "id": "65a52634",
   "metadata": {
    "deletable": false,
    "id": "f67ce9b3",
    "outputId": "673c12d9-7d7e-4ae0-9812-c622c89dd244"
   },
   "outputs": [
    {
     "data": {
      "text/plain": [
       "array(['покупка жилья', 'приобретение автомобиля',\n",
       "       'дополнительное образование', 'сыграть свадьбу',\n",
       "       'операции с жильем', 'образование', 'на проведение свадьбы',\n",
       "       'покупка жилья для семьи', 'покупка недвижимости',\n",
       "       'покупка коммерческой недвижимости', 'покупка жилой недвижимости',\n",
       "       'строительство собственной недвижимости', 'недвижимость',\n",
       "       'строительство недвижимости', 'на покупку подержанного автомобиля',\n",
       "       'на покупку своего автомобиля',\n",
       "       'операции с коммерческой недвижимостью',\n",
       "       'строительство жилой недвижимости', 'жилье',\n",
       "       'операции со своей недвижимостью', 'автомобили',\n",
       "       'заняться образованием', 'сделка с подержанным автомобилем',\n",
       "       'получение образования', 'автомобиль', 'свадьба',\n",
       "       'получение дополнительного образования', 'покупка своего жилья',\n",
       "       'операции с недвижимостью', 'получение высшего образования',\n",
       "       'свой автомобиль', 'сделка с автомобилем',\n",
       "       'профильное образование', 'высшее образование',\n",
       "       'покупка жилья для сдачи', 'на покупку автомобиля', 'ремонт жилью',\n",
       "       'заняться высшим образованием'], dtype=object)"
      ]
     },
     "execution_count": 19,
     "metadata": {},
     "output_type": "execute_result"
    }
   ],
   "source": [
    "data['purpose'].unique()"
   ]
  },
  {
   "cell_type": "markdown",
   "id": "209f0380",
   "metadata": {
    "deletable": false,
    "editable": false,
    "id": "85d0aef0"
   },
   "source": [
    "**Задание 18. Создайте функцию, которая на основании данных из столбца `purpose` сформирует новый столбец `purpose_category`, в который войдут следующие категории:**\n",
    "\n",
    "- `'операции с автомобилем'`,\n",
    "- `'операции с недвижимостью'`,\n",
    "- `'проведение свадьбы'`,\n",
    "- `'получение образования'`.\n",
    "\n",
    "**Например, если в столбце `purpose` находится подстрока `'на покупку автомобиля'`, то в столбце `purpose_category` должна появиться строка `'операции с автомобилем'`.**\n",
    "\n",
    "**Используйте собственную функцию с именем `categorize_purpose()` и метод `apply()`. Изучите данные в столбце `purpose` и определите, какие подстроки помогут вам правильно определить категорию.**"
   ]
  },
  {
   "cell_type": "code",
   "execution_count": 20,
   "id": "180f0a73",
   "metadata": {
    "deletable": false,
    "id": "e149fab4"
   },
   "outputs": [],
   "source": [
    "def categorize_purpose(row):\n",
    "    try:\n",
    "        if 'автом' in row:\n",
    "            return 'операции с автомобилем'\n",
    "        elif 'жил' in row or 'недвиж' in row:\n",
    "            return 'операции с недвижимостью'\n",
    "        elif 'свад' in row:\n",
    "            return 'проведение свадьбы'\n",
    "        elif 'образов' in row:\n",
    "            return 'получение образования'\n",
    "    except:\n",
    "        return 'нет категории'"
   ]
  },
  {
   "cell_type": "code",
   "execution_count": 21,
   "id": "9d0db328",
   "metadata": {
    "deletable": false,
    "id": "bf36e69b"
   },
   "outputs": [],
   "source": [
    "data['purpose_category'] = data['purpose'].apply(categorize_purpose)"
   ]
  },
  {
   "cell_type": "markdown",
   "id": "3ba49d77",
   "metadata": {
    "deletable": false,
    "editable": false,
    "id": "09b242bf"
   },
   "source": [
    "### Шаг 3. Исследуйте данные и ответьте на вопросы"
   ]
  },
  {
   "cell_type": "markdown",
   "id": "3f33291b",
   "metadata": {
    "deletable": false,
    "editable": false,
    "id": "c5d66278"
   },
   "source": [
    "#### 3.1 Есть ли зависимость между количеством детей и возвратом кредита в срок?"
   ]
  },
  {
   "cell_type": "code",
   "execution_count": 22,
   "id": "093f3a41",
   "metadata": {
    "deletable": false,
    "id": "2cacfc4a"
   },
   "outputs": [
    {
     "data": {
      "text/html": [
       "<div>\n",
       "<style scoped>\n",
       "    .dataframe tbody tr th:only-of-type {\n",
       "        vertical-align: middle;\n",
       "    }\n",
       "\n",
       "    .dataframe tbody tr th {\n",
       "        vertical-align: top;\n",
       "    }\n",
       "\n",
       "    .dataframe thead th {\n",
       "        text-align: right;\n",
       "    }\n",
       "</style>\n",
       "<table border=\"1\" class=\"dataframe\">\n",
       "  <thead>\n",
       "    <tr style=\"text-align: right;\">\n",
       "      <th></th>\n",
       "      <th>count</th>\n",
       "      <th>sum</th>\n",
       "      <th>debt_overdue_fraction</th>\n",
       "    </tr>\n",
       "    <tr>\n",
       "      <th>children</th>\n",
       "      <th></th>\n",
       "      <th></th>\n",
       "      <th></th>\n",
       "    </tr>\n",
       "  </thead>\n",
       "  <tbody>\n",
       "    <tr>\n",
       "      <th>0</th>\n",
       "      <td>14091</td>\n",
       "      <td>1063</td>\n",
       "      <td>0.075438</td>\n",
       "    </tr>\n",
       "    <tr>\n",
       "      <th>1</th>\n",
       "      <td>4808</td>\n",
       "      <td>444</td>\n",
       "      <td>0.092346</td>\n",
       "    </tr>\n",
       "    <tr>\n",
       "      <th>2</th>\n",
       "      <td>2052</td>\n",
       "      <td>194</td>\n",
       "      <td>0.094542</td>\n",
       "    </tr>\n",
       "    <tr>\n",
       "      <th>3</th>\n",
       "      <td>330</td>\n",
       "      <td>27</td>\n",
       "      <td>0.081818</td>\n",
       "    </tr>\n",
       "    <tr>\n",
       "      <th>4</th>\n",
       "      <td>41</td>\n",
       "      <td>4</td>\n",
       "      <td>0.097561</td>\n",
       "    </tr>\n",
       "    <tr>\n",
       "      <th>5</th>\n",
       "      <td>9</td>\n",
       "      <td>0</td>\n",
       "      <td>0.000000</td>\n",
       "    </tr>\n",
       "  </tbody>\n",
       "</table>\n",
       "</div>"
      ],
      "text/plain": [
       "          count   sum  debt_overdue_fraction\n",
       "children                                    \n",
       "0         14091  1063               0.075438\n",
       "1          4808   444               0.092346\n",
       "2          2052   194               0.094542\n",
       "3           330    27               0.081818\n",
       "4            41     4               0.097561\n",
       "5             9     0               0.000000"
      ]
     },
     "execution_count": 22,
     "metadata": {},
     "output_type": "execute_result"
    }
   ],
   "source": [
    "# Посмотрим доли просроченных кредитов в зависимости от количества детей.\n",
    "debts_grouped = data.groupby('children')['debt'].agg(['count', 'sum'])\n",
    "debts_grouped['debt_overdue_fraction'] = debts_grouped['sum'] / debts_grouped['count']\n",
    "debts_grouped"
   ]
  },
  {
   "cell_type": "markdown",
   "id": "6914a837",
   "metadata": {},
   "source": [
    "<div class=\"alert alert-success\">\n",
    "<b>Комментарий ревьюера №1</b> ✅\n",
    "    \n",
    "Могу посоветовать переименовать столбцы и написать функцию для построения сводных во всех вопросах.\n",
    "</div>"
   ]
  },
  {
   "cell_type": "code",
   "execution_count": 23,
   "id": "0f8862a2",
   "metadata": {},
   "outputs": [
    {
     "data": {
      "text/html": [
       "<div>\n",
       "<style scoped>\n",
       "    .dataframe tbody tr th:only-of-type {\n",
       "        vertical-align: middle;\n",
       "    }\n",
       "\n",
       "    .dataframe tbody tr th {\n",
       "        vertical-align: top;\n",
       "    }\n",
       "\n",
       "    .dataframe thead th {\n",
       "        text-align: right;\n",
       "    }\n",
       "</style>\n",
       "<table border=\"1\" class=\"dataframe\">\n",
       "  <thead>\n",
       "    <tr style=\"text-align: right;\">\n",
       "      <th></th>\n",
       "      <th>count</th>\n",
       "      <th>sum</th>\n",
       "      <th>debt_overdue_fraction</th>\n",
       "    </tr>\n",
       "    <tr>\n",
       "      <th>has_children</th>\n",
       "      <th></th>\n",
       "      <th></th>\n",
       "      <th></th>\n",
       "    </tr>\n",
       "  </thead>\n",
       "  <tbody>\n",
       "    <tr>\n",
       "      <th>False</th>\n",
       "      <td>14091</td>\n",
       "      <td>1063</td>\n",
       "      <td>0.075438</td>\n",
       "    </tr>\n",
       "    <tr>\n",
       "      <th>True</th>\n",
       "      <td>7240</td>\n",
       "      <td>669</td>\n",
       "      <td>0.092403</td>\n",
       "    </tr>\n",
       "  </tbody>\n",
       "</table>\n",
       "</div>"
      ],
      "text/plain": [
       "              count   sum  debt_overdue_fraction\n",
       "has_children                                    \n",
       "False         14091  1063               0.075438\n",
       "True           7240   669               0.092403"
      ]
     },
     "execution_count": 23,
     "metadata": {},
     "output_type": "execute_result"
    }
   ],
   "source": [
    "# Посмотрим доли просроченных кредитов в зависимости от того есть ли у заёмщика дети или нет.\n",
    "data['has_children'] = data['children'].apply(lambda x: True if x > 0 else False)\n",
    "debts_grouped = data.groupby('has_children')['debt'].agg(['count', 'sum'])\n",
    "debts_grouped['debt_overdue_fraction'] = debts_grouped['sum'] / debts_grouped['count']\n",
    "debts_grouped"
   ]
  },
  {
   "cell_type": "code",
   "execution_count": 24,
   "id": "ab000476",
   "metadata": {},
   "outputs": [
    {
     "data": {
      "text/plain": [
       "'Доля кредиторов с 3 и более детьми: 1.8%'"
      ]
     },
     "execution_count": 24,
     "metadata": {},
     "output_type": "execute_result"
    }
   ],
   "source": [
    "frac_with_three_plus_children = data[data['children'] >= 3].groupby('children')['debt'].count().sum() / data.shape[0]\n",
    "f'Доля кредиторов с 3 и более детьми: {frac_with_three_plus_children:.1%}'\n"
   ]
  },
  {
   "cell_type": "markdown",
   "id": "079d9429",
   "metadata": {},
   "source": [
    "<div class=\"alert alert-warning\">\n",
    "<b>Комментарий ревьюера №1</b> ⚠️\n",
    "    \n",
    "Значения лучше не считать вручную, а использовать срезы сводной\n",
    "</div>"
   ]
  },
  {
   "cell_type": "markdown",
   "id": "da6f401f",
   "metadata": {},
   "source": [
    "<div class=\"alert alert-info\">\n",
    "<b>Комментарий студента</b>\n",
    "    \n",
    "Поправил.\n",
    "</div>"
   ]
  },
  {
   "cell_type": "markdown",
   "id": "42638d5c",
   "metadata": {},
   "source": [
    "<div class=\"alert alert-success\">\n",
    "<b>Комментарий ревьюера №2</b> ✅\n",
    "    \n",
    "Вот как можно было сделать\n",
    "\n",
    "    debts_grouped['count'][3:].sum()/len(data)\n",
    "\n",
    "Или так\n",
    "    \n",
    "    len(data[data['children'] >= 3])/len(data)\n",
    "</div>"
   ]
  },
  {
   "cell_type": "markdown",
   "id": "de9ad987",
   "metadata": {
    "deletable": false,
    "id": "3a6b99ec"
   },
   "source": [
    "**Вывод:** \n",
    "- Как видно из представленных выше таблиц наибольшее количество заёмщиков не имеет детей. Доля займов от заёмщиков с 3 и более детьми составляет всего 1,8%. \n",
    "- В связи с немногочисленностью таких кредитов оценка доли просроченных кредитов среди этих заёмщиков может быть непредставительной. Так на заёмщиков с 5 детьми приходится всего лишь 9 кредитов, каждый из которых был возвращен без просрочки. Однако, это не означает, что если у кредитора 5 детей - вероятность его возврата в срок будет 100%. Просто данных для корректной оценки этой категории недостаточно.\n",
    "- Мы можем исключить эти категории из рассмотрения и заключить, что <u>**зависимость между количеством детей и возвратом кредита есть**</u>. Чем больше детей у заёмщика, тем выше вероятность невозврата кредита в срок. \n",
    "- Разниа между категориями невелика, но она есть и при увеличении количества детей с 0, до 1, а затем до 2 она снижается. Другими словами, каждый дополнительный ребенок приносит всё меньший вклад в вероятность неисполнения заёмщиком своих обязательств в срок.\n",
    "- Можно предположить что зависимость связана со значительным ростом финансовой нагрузки в связи с необходимостью воспитывать детей и её большей важностью над всеми другими финансовыми приоритетами. Воспитание детей сопряжено со значительными дополнительными затрами на пищу, медобслуживание, покупку вещей, учёбу, транспорт и прочее. Так же затраты на воспитание детей подвержены эффекту масштаба. \n",
    "- Дргим подходом может быть рассмотрение фактора наличия хоть одного ребенка у заёмщика. В таком случае выборка разделится в пропорции примерно 66% к 33%, а разница в доле просроченных кредитов по этим категориям будет составлять около 1,7%."
   ]
  },
  {
   "cell_type": "markdown",
   "id": "ef8de715",
   "metadata": {},
   "source": [
    "<div class=\"alert alert-success\">\n",
    "<b>Комментарий ревьюера №1</b> ✅\n",
    "    \n",
    "Хороший вывод\n",
    "</div>"
   ]
  },
  {
   "cell_type": "markdown",
   "id": "8c900cf1",
   "metadata": {
    "deletable": false,
    "editable": false,
    "id": "97be82ca"
   },
   "source": [
    "#### 3.2 Есть ли зависимость между семейным положением и возвратом кредита в срок?"
   ]
  },
  {
   "cell_type": "code",
   "execution_count": 25,
   "id": "7d8daef7",
   "metadata": {
    "deletable": false,
    "id": "dc3f7ee8"
   },
   "outputs": [
    {
     "data": {
      "text/html": [
       "<div>\n",
       "<style scoped>\n",
       "    .dataframe tbody tr th:only-of-type {\n",
       "        vertical-align: middle;\n",
       "    }\n",
       "\n",
       "    .dataframe tbody tr th {\n",
       "        vertical-align: top;\n",
       "    }\n",
       "\n",
       "    .dataframe thead th {\n",
       "        text-align: right;\n",
       "    }\n",
       "</style>\n",
       "<table border=\"1\" class=\"dataframe\">\n",
       "  <thead>\n",
       "    <tr style=\"text-align: right;\">\n",
       "      <th></th>\n",
       "      <th>count</th>\n",
       "      <th>sum</th>\n",
       "      <th>debt_overdue_fraction</th>\n",
       "    </tr>\n",
       "    <tr>\n",
       "      <th>family_status</th>\n",
       "      <th></th>\n",
       "      <th></th>\n",
       "      <th></th>\n",
       "    </tr>\n",
       "  </thead>\n",
       "  <tbody>\n",
       "    <tr>\n",
       "      <th>вдовец / вдова</th>\n",
       "      <td>951</td>\n",
       "      <td>63</td>\n",
       "      <td>0.066246</td>\n",
       "    </tr>\n",
       "    <tr>\n",
       "      <th>в разводе</th>\n",
       "      <td>1189</td>\n",
       "      <td>84</td>\n",
       "      <td>0.070648</td>\n",
       "    </tr>\n",
       "    <tr>\n",
       "      <th>женат / замужем</th>\n",
       "      <td>12261</td>\n",
       "      <td>927</td>\n",
       "      <td>0.075606</td>\n",
       "    </tr>\n",
       "    <tr>\n",
       "      <th>гражданский брак</th>\n",
       "      <td>4134</td>\n",
       "      <td>385</td>\n",
       "      <td>0.093130</td>\n",
       "    </tr>\n",
       "    <tr>\n",
       "      <th>Не женат / не замужем</th>\n",
       "      <td>2796</td>\n",
       "      <td>273</td>\n",
       "      <td>0.097639</td>\n",
       "    </tr>\n",
       "  </tbody>\n",
       "</table>\n",
       "</div>"
      ],
      "text/plain": [
       "                       count  sum  debt_overdue_fraction\n",
       "family_status                                           \n",
       "вдовец / вдова           951   63               0.066246\n",
       "в разводе               1189   84               0.070648\n",
       "женат / замужем        12261  927               0.075606\n",
       "гражданский брак        4134  385               0.093130\n",
       "Не женат / не замужем   2796  273               0.097639"
      ]
     },
     "execution_count": 25,
     "metadata": {},
     "output_type": "execute_result"
    }
   ],
   "source": [
    "# Посмотрим доли просроченных кредитов в зависимости от семейного положения.\n",
    "debts_grouped = data.groupby('family_status')['debt'].agg(['count', 'sum'])\n",
    "debts_grouped['debt_overdue_fraction'] = debts_grouped['sum'] / debts_grouped['count']\n",
    "debts_grouped.sort_values('debt_overdue_fraction', ascending=True)"
   ]
  },
  {
   "cell_type": "markdown",
   "id": "06fcb67d",
   "metadata": {},
   "source": [
    "<div class=\"alert alert-success\">\n",
    "<b>Комментарий ревьюера №1</b> ✅\n",
    "    \n",
    "В сортировке `ascending=True` можно не прописывать, по умолчанию сортировка по возрастанию\n",
    "</div>"
   ]
  },
  {
   "cell_type": "markdown",
   "id": "0160b440",
   "metadata": {
    "deletable": false,
    "id": "1cef7837"
   },
   "source": [
    "**Вывод:** \n",
    "- Из приведенных выше цифрм можно увидеть, что наиболее представлена группа заёмщиков состоящих в браке. При этом самая маленькая группа категории (\"вдовец/вдова\") представлена в количестве почти 1000 заёмщиков. Это хоть и небольшое число по сравнению с остальными категориями, однако можно с достаточной уверенностью полагаться на представительность этой выборки.\n",
    "- Из распределения доли просроченных кредитов можно заметить явное разделение на две макро-группы:\n",
    "    - Люди состоявшие в официальном браке когда-либо в прошлом (доля просроченных кредитов менее 7,5%).\n",
    "    - Люди не состоявшие в официальном браке (доля просроченных кредитов более 9,3%).\n",
    "- Из вышесказанного можем заключить, что <u>**зависимость между семейным положением и возвратом кредита в срок есть**</u>. В зависимости от этого фактора средняя доля просроченных кредитов может колебаться от 6,6% до 9,7%.\n"
   ]
  },
  {
   "cell_type": "markdown",
   "id": "5be53608",
   "metadata": {},
   "source": [
    "<div class=\"alert alert-success\">\n",
    "<b>Комментарий ревьюера №1</b> ✅\n",
    "    \n",
    "Для правильного округления значений можно использовать `round()`. Люди, побывавшие в официальном браке, наиболее надежны. Возможно, есть связь с возрастом\n",
    "</div>"
   ]
  },
  {
   "cell_type": "markdown",
   "id": "9dc36050",
   "metadata": {
    "deletable": false,
    "editable": false,
    "id": "1e8b2fca"
   },
   "source": [
    "#### 3.3 Есть ли зависимость между уровнем дохода и возвратом кредита в срок?"
   ]
  },
  {
   "cell_type": "code",
   "execution_count": 26,
   "id": "eb96db31",
   "metadata": {
    "deletable": false,
    "id": "cd7e3720",
    "scrolled": true
   },
   "outputs": [
    {
     "data": {
      "text/html": [
       "<div>\n",
       "<style scoped>\n",
       "    .dataframe tbody tr th:only-of-type {\n",
       "        vertical-align: middle;\n",
       "    }\n",
       "\n",
       "    .dataframe tbody tr th {\n",
       "        vertical-align: top;\n",
       "    }\n",
       "\n",
       "    .dataframe thead th {\n",
       "        text-align: right;\n",
       "    }\n",
       "</style>\n",
       "<table border=\"1\" class=\"dataframe\">\n",
       "  <thead>\n",
       "    <tr style=\"text-align: right;\">\n",
       "      <th></th>\n",
       "      <th>count</th>\n",
       "      <th>sum</th>\n",
       "      <th>debt_overdue_fraction</th>\n",
       "    </tr>\n",
       "    <tr>\n",
       "      <th>total_income_category</th>\n",
       "      <th></th>\n",
       "      <th></th>\n",
       "      <th></th>\n",
       "    </tr>\n",
       "  </thead>\n",
       "  <tbody>\n",
       "    <tr>\n",
       "      <th>A</th>\n",
       "      <td>25</td>\n",
       "      <td>2</td>\n",
       "      <td>0.080000</td>\n",
       "    </tr>\n",
       "    <tr>\n",
       "      <th>B</th>\n",
       "      <td>5014</td>\n",
       "      <td>354</td>\n",
       "      <td>0.070602</td>\n",
       "    </tr>\n",
       "    <tr>\n",
       "      <th>C</th>\n",
       "      <td>15921</td>\n",
       "      <td>1353</td>\n",
       "      <td>0.084982</td>\n",
       "    </tr>\n",
       "    <tr>\n",
       "      <th>D</th>\n",
       "      <td>349</td>\n",
       "      <td>21</td>\n",
       "      <td>0.060172</td>\n",
       "    </tr>\n",
       "    <tr>\n",
       "      <th>E</th>\n",
       "      <td>22</td>\n",
       "      <td>2</td>\n",
       "      <td>0.090909</td>\n",
       "    </tr>\n",
       "  </tbody>\n",
       "</table>\n",
       "</div>"
      ],
      "text/plain": [
       "                       count   sum  debt_overdue_fraction\n",
       "total_income_category                                    \n",
       "A                         25     2               0.080000\n",
       "B                       5014   354               0.070602\n",
       "C                      15921  1353               0.084982\n",
       "D                        349    21               0.060172\n",
       "E                         22     2               0.090909"
      ]
     },
     "execution_count": 26,
     "metadata": {},
     "output_type": "execute_result"
    }
   ],
   "source": [
    "# Посмотрим доли просроченных кредитов в зависимости от категории по уровню дохода.\n",
    "debts_grouped = data.groupby('total_income_category')['debt'].agg(['count', 'sum'])\n",
    "debts_grouped['debt_overdue_fraction'] = debts_grouped['sum'] / debts_grouped['count']\n",
    "debts_grouped.sort_values('total_income_category', ascending=True)"
   ]
  },
  {
   "cell_type": "code",
   "execution_count": 27,
   "id": "0ed0a109",
   "metadata": {},
   "outputs": [
    {
     "data": {
      "text/html": [
       "<div>\n",
       "<style scoped>\n",
       "    .dataframe tbody tr th:only-of-type {\n",
       "        vertical-align: middle;\n",
       "    }\n",
       "\n",
       "    .dataframe tbody tr th {\n",
       "        vertical-align: top;\n",
       "    }\n",
       "\n",
       "    .dataframe thead th {\n",
       "        text-align: right;\n",
       "    }\n",
       "</style>\n",
       "<table border=\"1\" class=\"dataframe\">\n",
       "  <thead>\n",
       "    <tr style=\"text-align: right;\">\n",
       "      <th></th>\n",
       "      <th>count</th>\n",
       "      <th>sum</th>\n",
       "      <th>debt_overdue_fraction</th>\n",
       "    </tr>\n",
       "    <tr>\n",
       "      <th>total_income_alt_category</th>\n",
       "      <th></th>\n",
       "      <th></th>\n",
       "      <th></th>\n",
       "    </tr>\n",
       "  </thead>\n",
       "  <tbody>\n",
       "    <tr>\n",
       "      <th>I</th>\n",
       "      <td>5039</td>\n",
       "      <td>356</td>\n",
       "      <td>0.070649</td>\n",
       "    </tr>\n",
       "    <tr>\n",
       "      <th>II</th>\n",
       "      <td>16292</td>\n",
       "      <td>1376</td>\n",
       "      <td>0.084459</td>\n",
       "    </tr>\n",
       "  </tbody>\n",
       "</table>\n",
       "</div>"
      ],
      "text/plain": [
       "                           count   sum  debt_overdue_fraction\n",
       "total_income_alt_category                                    \n",
       "I                           5039   356               0.070649\n",
       "II                         16292  1376               0.084459"
      ]
     },
     "execution_count": 27,
     "metadata": {},
     "output_type": "execute_result"
    }
   ],
   "source": [
    "def alt_categorize_income(income_category):\n",
    "    try:\n",
    "        if income_category == 'A' or income_category == 'B':\n",
    "            return 'I'\n",
    "        else:\n",
    "            return 'II'\n",
    "    except:\n",
    "        pass\n",
    "    \n",
    "data['total_income_alt_category'] = data['total_income_category'].apply(alt_categorize_income)\n",
    "debts_grouped = data.groupby('total_income_alt_category')['debt'].agg(['count', 'sum'])\n",
    "debts_grouped['debt_overdue_fraction'] = debts_grouped['sum'] / debts_grouped['count']\n",
    "debts_grouped.sort_values('total_income_alt_category', ascending=True)"
   ]
  },
  {
   "cell_type": "markdown",
   "id": "0a386b3c",
   "metadata": {
    "deletable": false,
    "id": "e8593def"
   },
   "source": [
    "**Вывод:** \n",
    "- Предоставленная условиями задачи категоризация по уровню дохода очень неравномерно делит выборку по категориям. Абсолютное большинство кредитов приходится на заёмщиков категорий С и B, при этом категории А, D и E непредставительны.\n",
    "- Разделение выборки на две представительные категории I и II с total_income более 200 000 (условно высокий доход) и менее 200 000 (условно низкий доход) соответственно даёт более определенный результат. Разница между долями просроченных кредитов между заёмщиками с высоким и низким доходом составляет около 1,3% в пользу заёмщиков с высоким доходом.\n",
    "- В итоге можно с большой степенью уверенности заключить, что на основе имеющихся данных <u>**уровень дохода влияет на вероятностью возврата кредита в срок. Чем больше доход заёмщика, тем меньше вероятность невыплаты кредита в срок.**</u>."
   ]
  },
  {
   "cell_type": "markdown",
   "id": "dfc17be8",
   "metadata": {},
   "source": [
    "<div class=\"alert alert-danger\">\n",
    "<b>Комментарий ревьюера №1</b> ❌\n",
    "    \n",
    "Здесь лучше делать выводы по двум самым крупным категориям - B и С. Чем выше доход, тем ниже доля должников. По остальным категориям данных недостаточно для корректных выводов, статпогрешность большая.\n",
    "</div>"
   ]
  },
  {
   "cell_type": "markdown",
   "id": "e061dbf3",
   "metadata": {},
   "source": [
    "<div class=\"alert alert-info\">\n",
    "<b>Комментарий студента</b>\n",
    "    \n",
    "Поправил с небольшой перегруппировкой категорий. См. 2-3 булеты.\n",
    "</div>"
   ]
  },
  {
   "cell_type": "markdown",
   "id": "b503397f",
   "metadata": {},
   "source": [
    "<div class=\"alert alert-success\">\n",
    "<b>Комментарий ревьюера №2</b> ✅\n",
    "    \n",
    "Дополнительно можно попробовать разбить всех клиентов на равные по количеству человек группы.  Для категоризации данных также можно использовать методы pd.cut() и pd.qcut(). Подробнее о них можно почитать здесь https://www.geeksforgeeks.org/how-to-use-pandas-cut-and-qcut/ или <a href=\"https://dfedorov.spb.ru/pandas/%D0%A0%D0%B0%D0%B7%D0%B4%D0%B5%D0%BB%D0%B5%D0%BD%D0%B8%D0%B5%20%D0%B4%D0%B0%D0%BD%D0%BD%D1%8B%D1%85%20%D0%B2%20Pandas%20%D1%81%20%D0%BF%D0%BE%D0%BC%D0%BE%D1%89%D1%8C%D1%8E%20qcut%20%D0%B8%20cut.html\">здесь</a>\n",
    "</div>"
   ]
  },
  {
   "cell_type": "markdown",
   "id": "b58941d8",
   "metadata": {
    "deletable": false,
    "editable": false,
    "id": "99ecbd1f"
   },
   "source": [
    "#### 3.4 Как разные цели кредита влияют на его возврат в срок?"
   ]
  },
  {
   "cell_type": "code",
   "execution_count": 28,
   "id": "b3d3c8d5",
   "metadata": {
    "deletable": false,
    "id": "2b687290"
   },
   "outputs": [
    {
     "data": {
      "text/html": [
       "<div>\n",
       "<style scoped>\n",
       "    .dataframe tbody tr th:only-of-type {\n",
       "        vertical-align: middle;\n",
       "    }\n",
       "\n",
       "    .dataframe tbody tr th {\n",
       "        vertical-align: top;\n",
       "    }\n",
       "\n",
       "    .dataframe thead th {\n",
       "        text-align: right;\n",
       "    }\n",
       "</style>\n",
       "<table border=\"1\" class=\"dataframe\">\n",
       "  <thead>\n",
       "    <tr style=\"text-align: right;\">\n",
       "      <th></th>\n",
       "      <th>count</th>\n",
       "      <th>sum</th>\n",
       "      <th>debt_overdue_fraction</th>\n",
       "    </tr>\n",
       "    <tr>\n",
       "      <th>purpose_category</th>\n",
       "      <th></th>\n",
       "      <th></th>\n",
       "      <th></th>\n",
       "    </tr>\n",
       "  </thead>\n",
       "  <tbody>\n",
       "    <tr>\n",
       "      <th>операции с недвижимостью</th>\n",
       "      <td>10751</td>\n",
       "      <td>780</td>\n",
       "      <td>0.072551</td>\n",
       "    </tr>\n",
       "    <tr>\n",
       "      <th>проведение свадьбы</th>\n",
       "      <td>2313</td>\n",
       "      <td>183</td>\n",
       "      <td>0.079118</td>\n",
       "    </tr>\n",
       "    <tr>\n",
       "      <th>получение образования</th>\n",
       "      <td>3988</td>\n",
       "      <td>369</td>\n",
       "      <td>0.092528</td>\n",
       "    </tr>\n",
       "    <tr>\n",
       "      <th>операции с автомобилем</th>\n",
       "      <td>4279</td>\n",
       "      <td>400</td>\n",
       "      <td>0.093480</td>\n",
       "    </tr>\n",
       "  </tbody>\n",
       "</table>\n",
       "</div>"
      ],
      "text/plain": [
       "                          count  sum  debt_overdue_fraction\n",
       "purpose_category                                           \n",
       "операции с недвижимостью  10751  780               0.072551\n",
       "проведение свадьбы         2313  183               0.079118\n",
       "получение образования      3988  369               0.092528\n",
       "операции с автомобилем     4279  400               0.093480"
      ]
     },
     "execution_count": 28,
     "metadata": {},
     "output_type": "execute_result"
    }
   ],
   "source": [
    "# Ваш код будет здесь. Вы можете создавать новые ячейки.\n",
    "debts_grouped = data.groupby('purpose_category')['debt'].agg(['count', 'sum'])\n",
    "debts_grouped['debt_overdue_fraction'] = debts_grouped['sum'] / debts_grouped['count']\n",
    "debts_grouped.sort_values('debt_overdue_fraction', ascending=True)"
   ]
  },
  {
   "cell_type": "code",
   "execution_count": 29,
   "id": "d51ee03d",
   "metadata": {},
   "outputs": [
    {
     "data": {
      "text/plain": [
       "'Разбос по категориям: 2.1%'"
      ]
     },
     "execution_count": 29,
     "metadata": {},
     "output_type": "execute_result"
    }
   ],
   "source": [
    "min_max_debt_overdue_fraction = debts_grouped['debt_overdue_fraction'].max() - debts_grouped['debt_overdue_fraction'].min()\n",
    "f'Разбос по категориям: {min_max_debt_overdue_fraction:.1%}'"
   ]
  },
  {
   "cell_type": "markdown",
   "id": "86578d4f",
   "metadata": {
    "deletable": false,
    "id": "b4bb2ce6"
   },
   "source": [
    "**Вывод:** \n",
    "- Кредиты выданные на оперцаии связанные с недвижимостью и проведением свадеб с большей вероятностью возвращают в срок. Кредиты на получение образования и на операции с автомобилем более рисковые. \n",
    "- Разница по категориям по доле просроченных кредитов не превышает 2,1%."
   ]
  },
  {
   "cell_type": "markdown",
   "id": "29fe0f8e",
   "metadata": {},
   "source": [
    "<div class=\"alert alert-success\">\n",
    "<b>Комментарий ревьюера №1</b> ✅ \n",
    "    \n",
    "Верно\n",
    "</div>"
   ]
  },
  {
   "cell_type": "markdown",
   "id": "8910d6fb",
   "metadata": {
    "deletable": false,
    "editable": false,
    "id": "09c3ac4c"
   },
   "source": [
    "#### 3.5 Приведите возможные причины появления пропусков в исходных данных."
   ]
  },
  {
   "cell_type": "markdown",
   "id": "3401d4d6",
   "metadata": {
    "deletable": false,
    "id": "9da2ceda"
   },
   "source": [
    "*Ответ:* \n",
    "- В оригинальных данных пропуски содержались только в столбцах days_employed и total_income. \n",
    "- Все эти пропуски содержатся в одних и тех же стоках. Т.е. если есть пропуск в days_employed, то есть пропуск и в total_income.\n",
    "- <u>**Из этого видится маловероятным, что данные появились вследствие человеческой ошибки. Наиболее вероятным можно предположить, что оригинальные данные были либо склеены из нескольких частей, в одной из которых данные по двум столбцам отсутствовали (например, клиенты могли не предоставить часть данных, либо эта информация не требовалась в момент сбора), либо произошел какой-то сбой при выгрузке/записи данных в файл/объединении таблиц.**</u>"
   ]
  },
  {
   "cell_type": "markdown",
   "id": "e1dced3b",
   "metadata": {},
   "source": [
    "<div class=\"alert alert-warning\">\n",
    "<b>Комментарий ревьюера №1</b> ⚠️\n",
    "    \n",
    "Тут важно отметить человеческий и технический факторы. Клиенты могли не предоставить данные. Возможно, эту информацию не требуют в некоторых случаях. Проблемы могли возникнуть на этапе загрузки и на этапе выгрузки данных. Неправильный запрос, объединение таблиц также может быть причиной.\n",
    "</div>"
   ]
  },
  {
   "cell_type": "markdown",
   "id": "2ace2d22",
   "metadata": {},
   "source": [
    "<div class=\"alert alert-info\">\n",
    "<b>Комментарий студента</b>\n",
    "    \n",
    "Дописал про клиентов и объединение таблиц. См. 3 буллет. Остальное, кажется, уже имелось.\n",
    "</div>"
   ]
  },
  {
   "cell_type": "code",
   "execution_count": 30,
   "id": "193148f1",
   "metadata": {},
   "outputs": [
    {
     "data": {
      "text/plain": [
       "(2174, 12)"
      ]
     },
     "execution_count": 30,
     "metadata": {},
     "output_type": "execute_result"
    }
   ],
   "source": [
    "# Посмотрим пропуски в days_employed.\n",
    "original_data = pd.read_csv('/datasets/data.csv')\n",
    "original_data[original_data['days_employed'].isna()].shape"
   ]
  },
  {
   "cell_type": "code",
   "execution_count": 31,
   "id": "d97631e4",
   "metadata": {},
   "outputs": [
    {
     "data": {
      "text/plain": [
       "(2174, 12)"
      ]
     },
     "execution_count": 31,
     "metadata": {},
     "output_type": "execute_result"
    }
   ],
   "source": [
    "# Посмотрим пропуски в total_income.\n",
    "original_data[original_data['total_income'].isna()].shape"
   ]
  },
  {
   "cell_type": "code",
   "execution_count": 32,
   "id": "bbd1ec16",
   "metadata": {},
   "outputs": [
    {
     "data": {
      "text/plain": [
       "(2174, 12)"
      ]
     },
     "execution_count": 32,
     "metadata": {},
     "output_type": "execute_result"
    }
   ],
   "source": [
    "# Посмотрим пропуски в days_employed и total_income.\n",
    "original_data[(original_data['total_income'].isna()) & (original_data['days_employed'].isna())].shape"
   ]
  },
  {
   "cell_type": "markdown",
   "id": "c9e9ed02",
   "metadata": {
    "deletable": false,
    "editable": false,
    "id": "7b0487d6"
   },
   "source": [
    "#### 3.6 Объясните, почему заполнить пропуски медианным значением — лучшее решение для количественных переменных."
   ]
  },
  {
   "cell_type": "markdown",
   "id": "4c4f7a8f",
   "metadata": {
    "deletable": false,
    "id": "7ecf2b8e"
   },
   "source": [
    "*Ответ:* \n",
    "- Потому такое усреднение менее подвержено выбросам, чем mean(). Как минимум это наиболее представительная величина для выборки так как представляет из себя ровно 50% перцентиль.\n",
    "- Допускаю, что для каких-то типов данных будет более полезно применять другие подходы."
   ]
  },
  {
   "cell_type": "markdown",
   "id": "c5ea98ed",
   "metadata": {},
   "source": [
    "<div class=\"alert alert-success\">\n",
    "<b>Комментарий ревьюера №1</b> ✅\n",
    "    \n",
    "Да, смотрим на наличие выбросов👍\n",
    "</div>"
   ]
  },
  {
   "cell_type": "markdown",
   "id": "d0699b96",
   "metadata": {
    "deletable": false,
    "editable": false,
    "id": "6db5255a"
   },
   "source": [
    "### Шаг 4: общий вывод."
   ]
  },
  {
   "cell_type": "markdown",
   "id": "fd67dcfb",
   "metadata": {
    "deletable": false,
    "id": "bad65432"
   },
   "source": [
    "- **Во время работы были загружены, изучены и предобработаные данные из кредитного отдела банка:**\n",
    "    - Выявлены пропуски в данных в столбцах total_income и days_employed. В связи со значительным числом таких пропусков они были заполнены медианными значениями в зависимости от типа занятости (этот фактор оказывает наибольшее влияние на эти солбцы по условиям задания). Пропуски, вероятно, появились в связи со сбоем  при выгрузке/записи данных, либо с отсутствием данных в одном из источников из которых был склеен итоговый файл.\n",
    "    - Вычищены аномалии в столбце children в размере 123 стокэ\n",
    "    - Удалены дубликаты с учётом регистра по столбцу education.\n",
    "\n",
    "\n",
    "\n",
    "- **Так же был выявлен ряд зависимостей в данных:**\n",
    "    - Зависимость между количеством детей и возвратом кредита в срок (большее количество детей снижает вероятность возвращения кредита в срок).\n",
    "    - Зависимость между семейным положением и возвратом кредита в срок (состояние в браке на момент взятия кредита или в прошлом повышает вероятность возвращения кредита в срок).\n",
    "    - Зависимость между целью кредита и возвратом кредита в срок (займы на оперцаии связанные с недвижимостью и проведением свадеб с большей вероятностью возвращают в срок, займы на получение образования и на операции с автомобилем более рисковые).\n",
    "    - Зависимость между уровнем дохода и возвратом кредита в срок (более высокий уровень дохода снижает вероятность просрочек по кредиту).\n",
    "    \n",
    "- **Рекомендации для банка, предоставившего данные:**\n",
    "    - Организовать работу по сбору данных таким образом, чтобы минимизировать человеческий и технический факторы:\n",
    "        - Минимизировать ручной ввод данных.\n",
    "        - Там где это невозможно - организовать выбор значений из заранее определенного списка.\n",
    "        - Применять двойной контроль при технической обработке данных перед тем как направлять сформированные данные на анализ. \n",
    "    - Учесть выводы работы по выявленным зависимостям при дальнейшем составлении скоринговой модели."
   ]
  },
  {
   "cell_type": "markdown",
   "id": "f43baf4a",
   "metadata": {},
   "source": [
    "<div class=\"alert alert-danger\">\n",
    "<b>Комментарий ревьюера №1</b> ❌\n",
    "    \n",
    "Можно пересмотреть выводы по доходу. Здесь также нужно добавить рекомендации банку-заказчику\n",
    "</div>"
   ]
  },
  {
   "cell_type": "markdown",
   "id": "05714598",
   "metadata": {},
   "source": [
    "<div class=\"alert alert-info\">\n",
    "<b>Комментарий студента</b>\n",
    "    \n",
    "Поправил вывод по уровню дохода (он теперь в среднем разделе последним буллетом). + дописал последним блоком рекомендации.\n",
    "</div>"
   ]
  },
  {
   "cell_type": "markdown",
   "id": "3728c805",
   "metadata": {},
   "source": [
    "<div class=\"alert alert-success\">\n",
    "<b>Комментарий ревьюера №2</b> ✅\n",
    "    \n",
    "В качестве рекомендаций можно предложить другую категоризацию по доходам. Или исследовать другие признаки, рассчитать другие метрики (отношение дохода к сумме выплат и др.)\n",
    "</div>"
   ]
  },
  {
   "cell_type": "markdown",
   "id": "1b202057",
   "metadata": {},
   "source": [
    "<div style=\"border:solid purple 2px; padding: 20px\"> \n",
    "<b> <font color='purple' >   \n",
    "    \n",
    "В целом, работа хорошая. У тебя отличные аналитические навыки, но остались небольшие доработки. Нужно проверить выводы по доходу и общий вывод. Доделывай и присылай на повторную проверку.\n",
    "        \n",
    "Жду твоих исправлений 😊\n",
    "</font></b>\n",
    "</div>"
   ]
  },
  {
   "cell_type": "markdown",
   "id": "e55c837c",
   "metadata": {},
   "source": [
    "<div class=\"alert alert-info\">\n",
    "<b>Комментарий студента</b>\n",
    "    \n",
    "🙏\n",
    "</div>"
   ]
  },
  {
   "cell_type": "markdown",
   "id": "3389ee27",
   "metadata": {},
   "source": [
    "<div style=\"border:solid purple 2px; padding: 20px\"> \n",
    "<b> <font color='purple' >   \n",
    "Отлично! Критических замечаний больше нет. Проект принят! 👏 Поздравляю и желаю удачи!\n",
    "</font></b>\n",
    "</div>"
   ]
  }
 ],
 "metadata": {
  "ExecuteTimeLog": [
   {
    "duration": 47,
    "start_time": "2023-10-09T06:37:27.783Z"
   },
   {
    "duration": 488,
    "start_time": "2023-10-09T06:37:37.809Z"
   },
   {
    "duration": 22,
    "start_time": "2023-10-09T06:37:38.298Z"
   },
   {
    "duration": 22,
    "start_time": "2023-10-09T06:37:38.322Z"
   },
   {
    "duration": 17,
    "start_time": "2023-10-09T06:37:38.346Z"
   },
   {
    "duration": 58,
    "start_time": "2023-10-09T06:37:38.364Z"
   },
   {
    "duration": 20,
    "start_time": "2023-10-09T06:37:38.424Z"
   },
   {
    "duration": 14,
    "start_time": "2023-10-09T06:37:38.446Z"
   },
   {
    "duration": 5,
    "start_time": "2023-10-09T06:37:38.462Z"
   },
   {
    "duration": 17,
    "start_time": "2023-10-09T06:37:38.468Z"
   },
   {
    "duration": 6,
    "start_time": "2023-10-09T06:37:38.487Z"
   },
   {
    "duration": 56,
    "start_time": "2023-10-09T06:37:38.494Z"
   },
   {
    "duration": 11,
    "start_time": "2023-10-09T06:37:38.552Z"
   },
   {
    "duration": 10,
    "start_time": "2023-10-09T06:37:38.565Z"
   },
   {
    "duration": 19,
    "start_time": "2023-10-09T06:37:38.577Z"
   },
   {
    "duration": 39,
    "start_time": "2023-10-09T06:37:38.598Z"
   },
   {
    "duration": 17,
    "start_time": "2023-10-09T06:37:38.639Z"
   },
   {
    "duration": 9,
    "start_time": "2023-10-09T06:37:38.658Z"
   },
   {
    "duration": 12,
    "start_time": "2023-10-09T06:37:38.668Z"
   },
   {
    "duration": 15,
    "start_time": "2023-10-09T06:37:38.682Z"
   },
   {
    "duration": 3,
    "start_time": "2023-10-09T06:37:38.699Z"
   },
   {
    "duration": 16,
    "start_time": "2023-10-09T06:37:38.704Z"
   },
   {
    "duration": 30,
    "start_time": "2023-10-09T06:37:38.722Z"
   },
   {
    "duration": 2,
    "start_time": "2023-10-09T06:37:38.754Z"
   },
   {
    "duration": 7,
    "start_time": "2023-10-09T06:37:38.757Z"
   },
   {
    "duration": 12,
    "start_time": "2023-10-09T06:37:38.765Z"
   },
   {
    "duration": 25,
    "start_time": "2023-10-09T06:38:57.525Z"
   },
   {
    "duration": 26,
    "start_time": "2023-10-09T06:40:47.479Z"
   },
   {
    "duration": 9,
    "start_time": "2023-10-09T06:40:49.066Z"
   },
   {
    "duration": 9,
    "start_time": "2023-10-09T06:41:05.728Z"
   },
   {
    "duration": 68,
    "start_time": "2023-10-09T06:42:52.269Z"
   },
   {
    "duration": 3,
    "start_time": "2023-10-09T06:43:38.434Z"
   },
   {
    "duration": 15,
    "start_time": "2023-10-09T06:43:42.422Z"
   },
   {
    "duration": 20,
    "start_time": "2023-10-09T06:43:51.951Z"
   },
   {
    "duration": 12,
    "start_time": "2023-10-09T06:56:13.954Z"
   },
   {
    "duration": 18,
    "start_time": "2023-10-09T06:56:24.942Z"
   },
   {
    "duration": 4,
    "start_time": "2023-10-09T06:57:31.332Z"
   },
   {
    "duration": 5,
    "start_time": "2023-10-09T06:58:20.000Z"
   },
   {
    "duration": 4,
    "start_time": "2023-10-09T06:58:50.203Z"
   },
   {
    "duration": 6,
    "start_time": "2023-10-09T06:58:55.895Z"
   },
   {
    "duration": 128,
    "start_time": "2023-10-09T07:03:34.861Z"
   },
   {
    "duration": 103,
    "start_time": "2023-10-09T07:04:08.507Z"
   },
   {
    "duration": 352,
    "start_time": "2023-10-09T07:05:22.783Z"
   },
   {
    "duration": 7,
    "start_time": "2023-10-09T07:05:33.462Z"
   },
   {
    "duration": 17,
    "start_time": "2023-10-09T07:05:40.293Z"
   },
   {
    "duration": 20,
    "start_time": "2023-10-09T07:05:57.063Z"
   },
   {
    "duration": 16,
    "start_time": "2023-10-09T07:06:34.862Z"
   },
   {
    "duration": 12,
    "start_time": "2023-10-09T07:07:10.125Z"
   },
   {
    "duration": 16,
    "start_time": "2023-10-09T07:07:12.076Z"
   },
   {
    "duration": 12,
    "start_time": "2023-10-09T07:08:34.016Z"
   },
   {
    "duration": 15,
    "start_time": "2023-10-09T07:08:35.154Z"
   },
   {
    "duration": 75,
    "start_time": "2023-10-09T07:12:08.180Z"
   },
   {
    "duration": 4,
    "start_time": "2023-10-09T07:12:13.977Z"
   },
   {
    "duration": 4,
    "start_time": "2023-10-09T07:12:25.393Z"
   },
   {
    "duration": 4,
    "start_time": "2023-10-09T07:12:33.660Z"
   },
   {
    "duration": 5,
    "start_time": "2023-10-09T07:12:44.442Z"
   },
   {
    "duration": 5,
    "start_time": "2023-10-09T07:13:27.954Z"
   },
   {
    "duration": 4,
    "start_time": "2023-10-09T07:13:37.563Z"
   },
   {
    "duration": 5,
    "start_time": "2023-10-09T08:08:04.003Z"
   },
   {
    "duration": 13,
    "start_time": "2023-10-09T08:09:09.671Z"
   },
   {
    "duration": 11,
    "start_time": "2023-10-09T08:09:48.683Z"
   },
   {
    "duration": 16,
    "start_time": "2023-10-09T08:26:44.974Z"
   },
   {
    "duration": 1841,
    "start_time": "2023-10-09T08:28:04.468Z"
   },
   {
    "duration": 13,
    "start_time": "2023-10-09T08:28:29.383Z"
   },
   {
    "duration": 12,
    "start_time": "2023-10-09T08:28:50.444Z"
   },
   {
    "duration": 10,
    "start_time": "2023-10-09T08:31:05.158Z"
   },
   {
    "duration": 12,
    "start_time": "2023-10-09T08:44:18.352Z"
   },
   {
    "duration": 11,
    "start_time": "2023-10-09T08:44:25.732Z"
   },
   {
    "duration": 713,
    "start_time": "2023-10-09T08:44:47.231Z"
   },
   {
    "duration": 140,
    "start_time": "2023-10-09T08:46:07.197Z"
   },
   {
    "duration": 275,
    "start_time": "2023-10-09T08:46:35.064Z"
   },
   {
    "duration": 225,
    "start_time": "2023-10-09T08:46:49.663Z"
   },
   {
    "duration": 299,
    "start_time": "2023-10-09T08:47:49.581Z"
   },
   {
    "duration": 22,
    "start_time": "2023-10-09T08:54:46.154Z"
   },
   {
    "duration": 13,
    "start_time": "2023-10-09T08:55:31.093Z"
   },
   {
    "duration": 16,
    "start_time": "2023-10-09T08:55:33.858Z"
   },
   {
    "duration": 13,
    "start_time": "2023-10-09T08:56:16.949Z"
   },
   {
    "duration": 14,
    "start_time": "2023-10-09T08:56:28.481Z"
   },
   {
    "duration": 11,
    "start_time": "2023-10-09T08:59:27.653Z"
   },
   {
    "duration": 4,
    "start_time": "2023-10-09T08:59:57.530Z"
   },
   {
    "duration": 159,
    "start_time": "2023-10-09T09:00:19.408Z"
   },
   {
    "duration": 89,
    "start_time": "2023-10-09T09:00:28.908Z"
   },
   {
    "duration": 138,
    "start_time": "2023-10-09T09:00:40.182Z"
   },
   {
    "duration": 110,
    "start_time": "2023-10-09T09:00:55.325Z"
   },
   {
    "duration": 172,
    "start_time": "2023-10-09T09:01:32.319Z"
   },
   {
    "duration": 4,
    "start_time": "2023-10-09T09:01:43.424Z"
   },
   {
    "duration": 5,
    "start_time": "2023-10-09T09:02:51.646Z"
   },
   {
    "duration": 9,
    "start_time": "2023-10-09T09:06:16.806Z"
   },
   {
    "duration": 83,
    "start_time": "2023-10-09T09:07:03.080Z"
   },
   {
    "duration": 90,
    "start_time": "2023-10-09T09:07:09.066Z"
   },
   {
    "duration": 76,
    "start_time": "2023-10-09T09:07:21.744Z"
   },
   {
    "duration": 76,
    "start_time": "2023-10-09T09:07:39.548Z"
   },
   {
    "duration": 6,
    "start_time": "2023-10-09T09:08:14.373Z"
   },
   {
    "duration": 5,
    "start_time": "2023-10-09T09:28:47.137Z"
   },
   {
    "duration": 5,
    "start_time": "2023-10-09T09:28:57.059Z"
   },
   {
    "duration": 7,
    "start_time": "2023-10-09T09:29:33.013Z"
   },
   {
    "duration": 5,
    "start_time": "2023-10-09T09:29:34.122Z"
   },
   {
    "duration": 5,
    "start_time": "2023-10-09T09:29:43.499Z"
   },
   {
    "duration": 451,
    "start_time": "2023-10-09T09:29:58.997Z"
   },
   {
    "duration": 22,
    "start_time": "2023-10-09T09:29:59.450Z"
   },
   {
    "duration": 25,
    "start_time": "2023-10-09T09:29:59.474Z"
   },
   {
    "duration": 33,
    "start_time": "2023-10-09T09:29:59.501Z"
   },
   {
    "duration": 53,
    "start_time": "2023-10-09T09:29:59.535Z"
   },
   {
    "duration": 37,
    "start_time": "2023-10-09T09:29:59.589Z"
   },
   {
    "duration": 42,
    "start_time": "2023-10-09T09:29:59.628Z"
   },
   {
    "duration": 29,
    "start_time": "2023-10-09T09:29:59.672Z"
   },
   {
    "duration": 55,
    "start_time": "2023-10-09T09:29:59.703Z"
   },
   {
    "duration": 15,
    "start_time": "2023-10-09T09:29:59.764Z"
   },
   {
    "duration": 113,
    "start_time": "2023-10-09T09:29:59.781Z"
   },
   {
    "duration": 10,
    "start_time": "2023-10-09T09:29:59.896Z"
   },
   {
    "duration": 18,
    "start_time": "2023-10-09T09:29:59.908Z"
   },
   {
    "duration": 44,
    "start_time": "2023-10-09T09:29:59.928Z"
   },
   {
    "duration": 208,
    "start_time": "2023-10-09T09:29:59.974Z"
   },
   {
    "duration": 64,
    "start_time": "2023-10-09T09:30:00.184Z"
   },
   {
    "duration": 14,
    "start_time": "2023-10-09T09:30:00.250Z"
   },
   {
    "duration": 86,
    "start_time": "2023-10-09T09:30:00.266Z"
   },
   {
    "duration": 66,
    "start_time": "2023-10-09T09:30:00.354Z"
   },
   {
    "duration": 72,
    "start_time": "2023-10-09T09:30:00.422Z"
   },
   {
    "duration": 223,
    "start_time": "2023-10-09T09:30:00.496Z"
   },
   {
    "duration": 62,
    "start_time": "2023-10-09T09:30:00.720Z"
   },
   {
    "duration": 57,
    "start_time": "2023-10-09T09:30:00.784Z"
   },
   {
    "duration": 55,
    "start_time": "2023-10-09T09:30:00.843Z"
   },
   {
    "duration": 107,
    "start_time": "2023-10-09T09:30:00.900Z"
   },
   {
    "duration": 103,
    "start_time": "2023-10-09T09:30:01.009Z"
   },
   {
    "duration": 96,
    "start_time": "2023-10-09T09:30:01.114Z"
   },
   {
    "duration": 976,
    "start_time": "2023-10-09T09:30:01.213Z"
   },
   {
    "duration": 270,
    "start_time": "2023-10-09T09:30:02.191Z"
   },
   {
    "duration": 15,
    "start_time": "2023-10-09T09:30:02.464Z"
   },
   {
    "duration": 53,
    "start_time": "2023-10-09T09:30:02.481Z"
   },
   {
    "duration": 101,
    "start_time": "2023-10-09T09:30:02.536Z"
   },
   {
    "duration": 6,
    "start_time": "2023-10-09T09:30:02.639Z"
   },
   {
    "duration": 40,
    "start_time": "2023-10-09T09:30:02.646Z"
   },
   {
    "duration": 477,
    "start_time": "2023-10-09T09:48:12.900Z"
   },
   {
    "duration": 23,
    "start_time": "2023-10-09T09:48:13.379Z"
   },
   {
    "duration": 16,
    "start_time": "2023-10-09T09:48:13.403Z"
   },
   {
    "duration": 35,
    "start_time": "2023-10-09T09:48:13.421Z"
   },
   {
    "duration": 66,
    "start_time": "2023-10-09T09:48:13.458Z"
   },
   {
    "duration": 10,
    "start_time": "2023-10-09T09:48:13.526Z"
   },
   {
    "duration": 28,
    "start_time": "2023-10-09T09:48:13.537Z"
   },
   {
    "duration": 68,
    "start_time": "2023-10-09T09:48:13.566Z"
   },
   {
    "duration": 47,
    "start_time": "2023-10-09T09:48:13.636Z"
   },
   {
    "duration": 29,
    "start_time": "2023-10-09T09:48:13.687Z"
   },
   {
    "duration": 99,
    "start_time": "2023-10-09T09:48:13.718Z"
   },
   {
    "duration": 47,
    "start_time": "2023-10-09T09:48:13.819Z"
   },
   {
    "duration": 45,
    "start_time": "2023-10-09T09:48:13.867Z"
   },
   {
    "duration": 84,
    "start_time": "2023-10-09T09:48:13.914Z"
   },
   {
    "duration": 57,
    "start_time": "2023-10-09T09:48:14.000Z"
   },
   {
    "duration": 26,
    "start_time": "2023-10-09T09:48:14.059Z"
   },
   {
    "duration": 10,
    "start_time": "2023-10-09T09:48:14.087Z"
   },
   {
    "duration": 29,
    "start_time": "2023-10-09T09:48:14.099Z"
   },
   {
    "duration": 34,
    "start_time": "2023-10-09T09:48:14.130Z"
   },
   {
    "duration": 35,
    "start_time": "2023-10-09T09:48:14.166Z"
   },
   {
    "duration": 66,
    "start_time": "2023-10-09T09:48:14.203Z"
   },
   {
    "duration": 60,
    "start_time": "2023-10-09T09:48:14.271Z"
   },
   {
    "duration": 24,
    "start_time": "2023-10-09T09:48:14.333Z"
   },
   {
    "duration": 12,
    "start_time": "2023-10-09T09:48:14.359Z"
   },
   {
    "duration": 33,
    "start_time": "2023-10-09T09:48:14.372Z"
   },
   {
    "duration": 12,
    "start_time": "2023-10-09T09:48:14.407Z"
   },
   {
    "duration": 55,
    "start_time": "2023-10-09T09:48:14.421Z"
   },
   {
    "duration": 535,
    "start_time": "2023-10-09T09:48:14.480Z"
   },
   {
    "duration": 236,
    "start_time": "2023-10-09T09:48:15.016Z"
   },
   {
    "duration": 13,
    "start_time": "2023-10-09T09:48:15.254Z"
   },
   {
    "duration": 16,
    "start_time": "2023-10-09T09:48:15.268Z"
   },
   {
    "duration": 100,
    "start_time": "2023-10-09T09:48:15.286Z"
   },
   {
    "duration": 5,
    "start_time": "2023-10-09T09:48:15.387Z"
   },
   {
    "duration": 49,
    "start_time": "2023-10-09T09:48:15.393Z"
   },
   {
    "duration": 1048,
    "start_time": "2023-10-09T09:55:31.848Z"
   },
   {
    "duration": 20,
    "start_time": "2023-10-09T09:55:32.897Z"
   },
   {
    "duration": 15,
    "start_time": "2023-10-09T09:55:32.918Z"
   },
   {
    "duration": 8,
    "start_time": "2023-10-09T09:55:32.934Z"
   },
   {
    "duration": 37,
    "start_time": "2023-10-09T09:55:32.943Z"
   },
   {
    "duration": 3,
    "start_time": "2023-10-09T09:55:32.981Z"
   },
   {
    "duration": 34,
    "start_time": "2023-10-09T09:55:32.986Z"
   },
   {
    "duration": 4,
    "start_time": "2023-10-09T09:55:33.022Z"
   },
   {
    "duration": 11,
    "start_time": "2023-10-09T09:55:33.028Z"
   },
   {
    "duration": 21,
    "start_time": "2023-10-09T09:55:33.041Z"
   },
   {
    "duration": 38,
    "start_time": "2023-10-09T09:55:33.063Z"
   },
   {
    "duration": 8,
    "start_time": "2023-10-09T09:55:33.102Z"
   },
   {
    "duration": 14,
    "start_time": "2023-10-09T09:55:33.112Z"
   },
   {
    "duration": 15,
    "start_time": "2023-10-09T09:55:33.128Z"
   },
   {
    "duration": 22,
    "start_time": "2023-10-09T09:55:33.145Z"
   },
   {
    "duration": 21,
    "start_time": "2023-10-09T09:55:33.168Z"
   },
   {
    "duration": 3,
    "start_time": "2023-10-09T09:55:33.190Z"
   },
   {
    "duration": 23,
    "start_time": "2023-10-09T09:55:33.195Z"
   },
   {
    "duration": 5,
    "start_time": "2023-10-09T09:55:33.220Z"
   },
   {
    "duration": 16,
    "start_time": "2023-10-09T09:55:33.226Z"
   },
   {
    "duration": 14,
    "start_time": "2023-10-09T09:55:33.243Z"
   },
   {
    "duration": 9,
    "start_time": "2023-10-09T09:55:33.259Z"
   },
   {
    "duration": 14,
    "start_time": "2023-10-09T09:55:33.269Z"
   },
   {
    "duration": 3,
    "start_time": "2023-10-09T09:55:33.284Z"
   },
   {
    "duration": 19,
    "start_time": "2023-10-09T09:55:33.288Z"
   },
   {
    "duration": 11,
    "start_time": "2023-10-09T09:55:33.308Z"
   },
   {
    "duration": 43,
    "start_time": "2023-10-09T09:55:33.320Z"
   },
   {
    "duration": 590,
    "start_time": "2023-10-09T09:55:33.365Z"
   },
   {
    "duration": 198,
    "start_time": "2023-10-09T09:55:33.957Z"
   },
   {
    "duration": 15,
    "start_time": "2023-10-09T09:55:34.156Z"
   },
   {
    "duration": 42,
    "start_time": "2023-10-09T09:55:34.172Z"
   },
   {
    "duration": 125,
    "start_time": "2023-10-09T09:55:34.215Z"
   },
   {
    "duration": 5,
    "start_time": "2023-10-09T09:55:34.341Z"
   },
   {
    "duration": 5,
    "start_time": "2023-10-09T09:55:34.347Z"
   },
   {
    "duration": 0,
    "start_time": "2023-10-09T11:00:20.891Z"
   },
   {
    "duration": 2121,
    "start_time": "2023-10-09T11:00:32.592Z"
   },
   {
    "duration": 3497,
    "start_time": "2023-10-09T11:00:37.309Z"
   },
   {
    "duration": 2661,
    "start_time": "2023-10-09T11:01:23.497Z"
   },
   {
    "duration": 2492,
    "start_time": "2023-10-09T11:01:35.970Z"
   },
   {
    "duration": 10,
    "start_time": "2023-10-09T11:01:51.191Z"
   },
   {
    "duration": 11,
    "start_time": "2023-10-09T11:01:57.274Z"
   },
   {
    "duration": 9,
    "start_time": "2023-10-09T11:02:50.312Z"
   },
   {
    "duration": 7,
    "start_time": "2023-10-09T11:03:32.297Z"
   },
   {
    "duration": 9,
    "start_time": "2023-10-09T11:03:53.696Z"
   },
   {
    "duration": 8,
    "start_time": "2023-10-09T11:03:58.399Z"
   },
   {
    "duration": 141,
    "start_time": "2023-10-09T11:04:10.582Z"
   },
   {
    "duration": 6,
    "start_time": "2023-10-09T11:05:18.675Z"
   },
   {
    "duration": 6,
    "start_time": "2023-10-09T11:05:44.173Z"
   },
   {
    "duration": 117,
    "start_time": "2023-10-09T11:10:13.394Z"
   },
   {
    "duration": 8,
    "start_time": "2023-10-09T11:18:55.635Z"
   },
   {
    "duration": 21,
    "start_time": "2023-10-09T11:19:13.476Z"
   },
   {
    "duration": 17,
    "start_time": "2023-10-09T11:19:50.140Z"
   },
   {
    "duration": 16,
    "start_time": "2023-10-09T11:27:19.079Z"
   },
   {
    "duration": 130,
    "start_time": "2023-10-09T11:29:22.448Z"
   },
   {
    "duration": 185,
    "start_time": "2023-10-09T11:46:30.107Z"
   },
   {
    "duration": 460,
    "start_time": "2023-10-09T11:48:15.280Z"
   },
   {
    "duration": 21,
    "start_time": "2023-10-09T11:48:15.742Z"
   },
   {
    "duration": 35,
    "start_time": "2023-10-09T11:48:15.764Z"
   },
   {
    "duration": 17,
    "start_time": "2023-10-09T11:48:15.801Z"
   },
   {
    "duration": 56,
    "start_time": "2023-10-09T11:48:15.820Z"
   },
   {
    "duration": 8,
    "start_time": "2023-10-09T11:48:15.878Z"
   },
   {
    "duration": 37,
    "start_time": "2023-10-09T11:48:15.887Z"
   },
   {
    "duration": 19,
    "start_time": "2023-10-09T11:48:15.926Z"
   },
   {
    "duration": 13,
    "start_time": "2023-10-09T11:48:15.946Z"
   },
   {
    "duration": 5,
    "start_time": "2023-10-09T11:48:15.963Z"
   },
   {
    "duration": 37,
    "start_time": "2023-10-09T11:48:15.970Z"
   },
   {
    "duration": 10,
    "start_time": "2023-10-09T11:48:16.008Z"
   },
   {
    "duration": 13,
    "start_time": "2023-10-09T11:48:16.019Z"
   },
   {
    "duration": 16,
    "start_time": "2023-10-09T11:48:16.033Z"
   },
   {
    "duration": 43,
    "start_time": "2023-10-09T11:48:16.051Z"
   },
   {
    "duration": 29,
    "start_time": "2023-10-09T11:48:16.096Z"
   },
   {
    "duration": 36,
    "start_time": "2023-10-09T11:48:16.126Z"
   },
   {
    "duration": 63,
    "start_time": "2023-10-09T11:48:16.164Z"
   },
   {
    "duration": 36,
    "start_time": "2023-10-09T11:48:16.229Z"
   },
   {
    "duration": 30,
    "start_time": "2023-10-09T11:48:16.267Z"
   },
   {
    "duration": 49,
    "start_time": "2023-10-09T11:48:16.298Z"
   },
   {
    "duration": 37,
    "start_time": "2023-10-09T11:48:16.348Z"
   },
   {
    "duration": 43,
    "start_time": "2023-10-09T11:48:16.386Z"
   },
   {
    "duration": 32,
    "start_time": "2023-10-09T11:48:16.431Z"
   },
   {
    "duration": 40,
    "start_time": "2023-10-09T11:48:16.464Z"
   },
   {
    "duration": 18,
    "start_time": "2023-10-09T11:48:16.506Z"
   },
   {
    "duration": 27,
    "start_time": "2023-10-09T11:48:16.526Z"
   },
   {
    "duration": 45,
    "start_time": "2023-10-09T11:48:16.557Z"
   },
   {
    "duration": 22,
    "start_time": "2023-10-09T11:48:16.604Z"
   },
   {
    "duration": 78,
    "start_time": "2023-10-09T11:48:16.628Z"
   },
   {
    "duration": 6,
    "start_time": "2023-10-09T11:48:16.708Z"
   },
   {
    "duration": 31,
    "start_time": "2023-10-09T11:48:16.715Z"
   },
   {
    "duration": 595,
    "start_time": "2023-10-09T12:09:06.181Z"
   },
   {
    "duration": 26,
    "start_time": "2023-10-09T12:09:06.779Z"
   },
   {
    "duration": 23,
    "start_time": "2023-10-09T12:09:06.807Z"
   },
   {
    "duration": 24,
    "start_time": "2023-10-09T12:09:06.833Z"
   },
   {
    "duration": 41,
    "start_time": "2023-10-09T12:09:06.859Z"
   },
   {
    "duration": 5,
    "start_time": "2023-10-09T12:09:06.902Z"
   },
   {
    "duration": 19,
    "start_time": "2023-10-09T12:09:06.909Z"
   },
   {
    "duration": 26,
    "start_time": "2023-10-09T12:09:06.931Z"
   },
   {
    "duration": 12,
    "start_time": "2023-10-09T12:09:06.960Z"
   },
   {
    "duration": 32,
    "start_time": "2023-10-09T12:09:06.976Z"
   },
   {
    "duration": 50,
    "start_time": "2023-10-09T12:09:07.011Z"
   },
   {
    "duration": 11,
    "start_time": "2023-10-09T12:09:07.063Z"
   },
   {
    "duration": 11,
    "start_time": "2023-10-09T12:09:07.076Z"
   },
   {
    "duration": 15,
    "start_time": "2023-10-09T12:09:07.088Z"
   },
   {
    "duration": 40,
    "start_time": "2023-10-09T12:09:07.104Z"
   },
   {
    "duration": 24,
    "start_time": "2023-10-09T12:09:07.145Z"
   },
   {
    "duration": 3,
    "start_time": "2023-10-09T12:09:07.171Z"
   },
   {
    "duration": 28,
    "start_time": "2023-10-09T12:09:07.176Z"
   },
   {
    "duration": 12,
    "start_time": "2023-10-09T12:09:07.205Z"
   },
   {
    "duration": 14,
    "start_time": "2023-10-09T12:09:07.219Z"
   },
   {
    "duration": 14,
    "start_time": "2023-10-09T12:09:07.234Z"
   },
   {
    "duration": 21,
    "start_time": "2023-10-09T12:09:07.250Z"
   },
   {
    "duration": 16,
    "start_time": "2023-10-09T12:09:07.273Z"
   },
   {
    "duration": 32,
    "start_time": "2023-10-09T12:09:07.291Z"
   },
   {
    "duration": 30,
    "start_time": "2023-10-09T12:09:07.324Z"
   },
   {
    "duration": 60,
    "start_time": "2023-10-09T12:09:07.356Z"
   },
   {
    "duration": 29,
    "start_time": "2023-10-09T12:09:07.418Z"
   },
   {
    "duration": 29,
    "start_time": "2023-10-09T12:09:07.450Z"
   },
   {
    "duration": 20,
    "start_time": "2023-10-09T12:09:07.480Z"
   },
   {
    "duration": 92,
    "start_time": "2023-10-09T12:09:07.501Z"
   },
   {
    "duration": 5,
    "start_time": "2023-10-09T12:09:07.595Z"
   },
   {
    "duration": 27,
    "start_time": "2023-10-09T12:09:07.602Z"
   },
   {
    "duration": 5,
    "start_time": "2023-10-09T12:10:39.980Z"
   },
   {
    "duration": 13,
    "start_time": "2023-10-09T12:10:44.531Z"
   },
   {
    "duration": 5,
    "start_time": "2023-10-09T12:10:47.169Z"
   },
   {
    "duration": 5,
    "start_time": "2023-10-09T12:10:55.204Z"
   },
   {
    "duration": 14,
    "start_time": "2023-10-09T12:12:00.315Z"
   },
   {
    "duration": 489,
    "start_time": "2023-10-09T12:12:54.205Z"
   },
   {
    "duration": 26,
    "start_time": "2023-10-09T12:12:54.696Z"
   },
   {
    "duration": 33,
    "start_time": "2023-10-09T12:12:54.723Z"
   },
   {
    "duration": 12,
    "start_time": "2023-10-09T12:12:54.759Z"
   },
   {
    "duration": 183,
    "start_time": "2023-10-09T12:12:54.773Z"
   },
   {
    "duration": 4,
    "start_time": "2023-10-09T12:12:54.958Z"
   },
   {
    "duration": 26,
    "start_time": "2023-10-09T12:12:54.963Z"
   },
   {
    "duration": 4,
    "start_time": "2023-10-09T12:12:54.991Z"
   },
   {
    "duration": 13,
    "start_time": "2023-10-09T12:12:54.997Z"
   },
   {
    "duration": 12,
    "start_time": "2023-10-09T12:12:55.014Z"
   },
   {
    "duration": 103,
    "start_time": "2023-10-09T12:12:55.028Z"
   },
   {
    "duration": 11,
    "start_time": "2023-10-09T12:12:55.133Z"
   },
   {
    "duration": 6,
    "start_time": "2023-10-09T12:12:55.146Z"
   },
   {
    "duration": 14,
    "start_time": "2023-10-09T12:12:55.154Z"
   },
   {
    "duration": 29,
    "start_time": "2023-10-09T12:12:55.170Z"
   },
   {
    "duration": 23,
    "start_time": "2023-10-09T12:12:55.201Z"
   },
   {
    "duration": 4,
    "start_time": "2023-10-09T12:12:55.226Z"
   },
   {
    "duration": 33,
    "start_time": "2023-10-09T12:12:55.232Z"
   },
   {
    "duration": 12,
    "start_time": "2023-10-09T12:12:55.266Z"
   },
   {
    "duration": 5,
    "start_time": "2023-10-09T12:12:55.280Z"
   },
   {
    "duration": 44,
    "start_time": "2023-10-09T12:12:55.287Z"
   },
   {
    "duration": 33,
    "start_time": "2023-10-09T12:12:55.333Z"
   },
   {
    "duration": 18,
    "start_time": "2023-10-09T12:12:55.367Z"
   },
   {
    "duration": 17,
    "start_time": "2023-10-09T12:12:55.387Z"
   },
   {
    "duration": 16,
    "start_time": "2023-10-09T12:12:55.406Z"
   },
   {
    "duration": 39,
    "start_time": "2023-10-09T12:12:55.424Z"
   },
   {
    "duration": 20,
    "start_time": "2023-10-09T12:12:55.466Z"
   },
   {
    "duration": 14,
    "start_time": "2023-10-09T12:12:55.489Z"
   },
   {
    "duration": 4,
    "start_time": "2023-10-09T12:12:55.505Z"
   },
   {
    "duration": 91,
    "start_time": "2023-10-09T12:12:55.510Z"
   },
   {
    "duration": 5,
    "start_time": "2023-10-09T12:12:55.603Z"
   },
   {
    "duration": 12,
    "start_time": "2023-10-09T12:12:55.609Z"
   }
  ],
  "colab": {
   "name": "dpp_template_part2.ipynb",
   "provenance": []
  },
  "kernelspec": {
   "display_name": "Python 3 (ipykernel)",
   "language": "python",
   "name": "python3"
  },
  "language_info": {
   "codemirror_mode": {
    "name": "ipython",
    "version": 3
   },
   "file_extension": ".py",
   "mimetype": "text/x-python",
   "name": "python",
   "nbconvert_exporter": "python",
   "pygments_lexer": "ipython3",
   "version": "3.9.5"
  },
  "toc": {
   "base_numbering": 1,
   "nav_menu": {},
   "number_sections": true,
   "sideBar": true,
   "skip_h1_title": true,
   "title_cell": "Table of Contents",
   "title_sidebar": "Contents",
   "toc_cell": false,
   "toc_position": {},
   "toc_section_display": true,
   "toc_window_display": false
  }
 },
 "nbformat": 4,
 "nbformat_minor": 5
}
