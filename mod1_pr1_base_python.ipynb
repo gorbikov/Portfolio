{
 "cells": [
  {
   "cell_type": "markdown",
   "metadata": {
    "deletable": false,
    "editable": false,
    "id": "E0vqbgi9ay0H"
   },
   "source": [
    "# Яндекс Музыка"
   ]
  },
  {
   "cell_type": "markdown",
   "metadata": {
    "deletable": false,
    "id": "VUC88oWjTJw2"
   },
   "source": [
    "Сравнение Москвы и Петербурга окружено мифами. Например:\n",
    " * Москва — мегаполис, подчинённый жёсткому ритму рабочей недели;\n",
    " * Петербург — культурная столица, со своими вкусами.\n",
    "\n",
    "На данных Яндекс Музыки необходимо сравнить поведение пользователей двух столиц.\n",
    "\n",
    "**Цель исследования** — проверить три гипотезы:\n",
    "1. Активность пользователей зависит от дня недели. Причём в Москве и Петербурге это проявляется по-разному.\n",
    "2. В понедельник утром в Москве преобладают одни жанры, а в Петербурге — другие. Так же и вечером пятницы преобладают разные жанры — в зависимости от города.\n",
    "3. Москва и Петербург предпочитают разные жанры музыки. В Москве чаще слушают поп-музыку, в Петербурге — русский рэп.\n",
    "\n",
    "**Ход исследования**\n",
    "\n",
    "Данные о поведении пользователей находятся в файле `yandex_music_project.csv`. О качестве данных ничего не известно. Поэтому перед проверкой гипотез понадобится обзор данных.\n",
    "\n",
    "Необходимо проверить данные на ошибки и оценить их влияние на исследование. Затем, на этапе предобработки необходимо исправить самые критичные ошибки данных.\n",
    "Таким образом, исследование пройдёт в три этапа:\n",
    " 1. Обзор данных.\n",
    " 2. Предобработка данных.\n",
    " 3. Проверка гипотез.\n",
    "\n"
   ]
  },
  {
   "cell_type": "markdown",
   "metadata": {
    "deletable": false,
    "id": "Ml1hmfXC_Zcs"
   },
   "source": [
    "## Обзор данных\n",
    "\n",
    "Первое представление о данных Яндекс Музыки.\n",
    "\n",
    "\n"
   ]
  },
  {
   "cell_type": "markdown",
   "metadata": {
    "deletable": false,
    "id": "57eAOGIz_Zcs",
    "tags": [
     "start_task"
    ]
   },
   "source": [
    "Импортируем `pandas`."
   ]
  },
  {
   "cell_type": "code",
   "execution_count": 1,
   "metadata": {
    "deletable": false,
    "id": "AXN7PHPN_Zcs"
   },
   "outputs": [],
   "source": [
    "# импорт библиотеки pandas\n",
    "import pandas as pd"
   ]
  },
  {
   "cell_type": "markdown",
   "metadata": {
    "deletable": false,
    "id": "SG23P8tt_Zcs",
    "tags": [
     "start_task"
    ]
   },
   "source": [
    "Читаем файл `yandex_music_project.csv` из папки `/datasets` и сохраняем его в переменной `df`:"
   ]
  },
  {
   "cell_type": "code",
   "execution_count": 2,
   "metadata": {
    "deletable": false,
    "id": "fFVu7vqh_Zct"
   },
   "outputs": [],
   "source": [
    "# чтение файла с данными и сохранение в df\n",
    "df = pd.read_csv('datasets/yandex_music_project.csv')"
   ]
  },
  {
   "cell_type": "markdown",
   "metadata": {
    "deletable": false,
    "editable": false,
    "id": "rDoOMd3uTqnZ",
    "tags": [
     "start_task"
    ]
   },
   "source": [
    "Выводим на экран первые десять строк таблицы:"
   ]
  },
  {
   "cell_type": "code",
   "execution_count": 3,
   "metadata": {
    "deletable": false,
    "id": "oWTVX3gW_Zct"
   },
   "outputs": [
    {
     "data": {
      "text/html": [
       "<div>\n",
       "<style scoped>\n",
       "    .dataframe tbody tr th:only-of-type {\n",
       "        vertical-align: middle;\n",
       "    }\n",
       "\n",
       "    .dataframe tbody tr th {\n",
       "        vertical-align: top;\n",
       "    }\n",
       "\n",
       "    .dataframe thead th {\n",
       "        text-align: right;\n",
       "    }\n",
       "</style>\n",
       "<table border=\"1\" class=\"dataframe\">\n",
       "  <thead>\n",
       "    <tr style=\"text-align: right;\">\n",
       "      <th></th>\n",
       "      <th>userID</th>\n",
       "      <th>Track</th>\n",
       "      <th>artist</th>\n",
       "      <th>genre</th>\n",
       "      <th>City</th>\n",
       "      <th>time</th>\n",
       "      <th>Day</th>\n",
       "    </tr>\n",
       "  </thead>\n",
       "  <tbody>\n",
       "    <tr>\n",
       "      <th>0</th>\n",
       "      <td>FFB692EC</td>\n",
       "      <td>Kamigata To Boots</td>\n",
       "      <td>The Mass Missile</td>\n",
       "      <td>rock</td>\n",
       "      <td>Saint-Petersburg</td>\n",
       "      <td>20:28:33</td>\n",
       "      <td>Wednesday</td>\n",
       "    </tr>\n",
       "    <tr>\n",
       "      <th>1</th>\n",
       "      <td>55204538</td>\n",
       "      <td>Delayed Because of Accident</td>\n",
       "      <td>Andreas Rönnberg</td>\n",
       "      <td>rock</td>\n",
       "      <td>Moscow</td>\n",
       "      <td>14:07:09</td>\n",
       "      <td>Friday</td>\n",
       "    </tr>\n",
       "    <tr>\n",
       "      <th>2</th>\n",
       "      <td>20EC38</td>\n",
       "      <td>Funiculì funiculà</td>\n",
       "      <td>Mario Lanza</td>\n",
       "      <td>pop</td>\n",
       "      <td>Saint-Petersburg</td>\n",
       "      <td>20:58:07</td>\n",
       "      <td>Wednesday</td>\n",
       "    </tr>\n",
       "    <tr>\n",
       "      <th>3</th>\n",
       "      <td>A3DD03C9</td>\n",
       "      <td>Dragons in the Sunset</td>\n",
       "      <td>Fire + Ice</td>\n",
       "      <td>folk</td>\n",
       "      <td>Saint-Petersburg</td>\n",
       "      <td>08:37:09</td>\n",
       "      <td>Monday</td>\n",
       "    </tr>\n",
       "    <tr>\n",
       "      <th>4</th>\n",
       "      <td>E2DC1FAE</td>\n",
       "      <td>Soul People</td>\n",
       "      <td>Space Echo</td>\n",
       "      <td>dance</td>\n",
       "      <td>Moscow</td>\n",
       "      <td>08:34:34</td>\n",
       "      <td>Monday</td>\n",
       "    </tr>\n",
       "    <tr>\n",
       "      <th>5</th>\n",
       "      <td>842029A1</td>\n",
       "      <td>Преданная</td>\n",
       "      <td>IMPERVTOR</td>\n",
       "      <td>rusrap</td>\n",
       "      <td>Saint-Petersburg</td>\n",
       "      <td>13:09:41</td>\n",
       "      <td>Friday</td>\n",
       "    </tr>\n",
       "    <tr>\n",
       "      <th>6</th>\n",
       "      <td>4CB90AA5</td>\n",
       "      <td>True</td>\n",
       "      <td>Roman Messer</td>\n",
       "      <td>dance</td>\n",
       "      <td>Moscow</td>\n",
       "      <td>13:00:07</td>\n",
       "      <td>Wednesday</td>\n",
       "    </tr>\n",
       "    <tr>\n",
       "      <th>7</th>\n",
       "      <td>F03E1C1F</td>\n",
       "      <td>Feeling This Way</td>\n",
       "      <td>Polina Griffith</td>\n",
       "      <td>dance</td>\n",
       "      <td>Moscow</td>\n",
       "      <td>20:47:49</td>\n",
       "      <td>Wednesday</td>\n",
       "    </tr>\n",
       "    <tr>\n",
       "      <th>8</th>\n",
       "      <td>8FA1D3BE</td>\n",
       "      <td>И вновь продолжается бой</td>\n",
       "      <td>NaN</td>\n",
       "      <td>ruspop</td>\n",
       "      <td>Moscow</td>\n",
       "      <td>09:17:40</td>\n",
       "      <td>Friday</td>\n",
       "    </tr>\n",
       "    <tr>\n",
       "      <th>9</th>\n",
       "      <td>E772D5C0</td>\n",
       "      <td>Pessimist</td>\n",
       "      <td>NaN</td>\n",
       "      <td>dance</td>\n",
       "      <td>Saint-Petersburg</td>\n",
       "      <td>21:20:49</td>\n",
       "      <td>Wednesday</td>\n",
       "    </tr>\n",
       "  </tbody>\n",
       "</table>\n",
       "</div>"
      ],
      "text/plain": [
       "     userID                        Track            artist   genre  \\\n",
       "0  FFB692EC            Kamigata To Boots  The Mass Missile    rock   \n",
       "1  55204538  Delayed Because of Accident  Andreas Rönnberg    rock   \n",
       "2    20EC38            Funiculì funiculà       Mario Lanza     pop   \n",
       "3  A3DD03C9        Dragons in the Sunset        Fire + Ice    folk   \n",
       "4  E2DC1FAE                  Soul People        Space Echo   dance   \n",
       "5  842029A1                    Преданная         IMPERVTOR  rusrap   \n",
       "6  4CB90AA5                         True      Roman Messer   dance   \n",
       "7  F03E1C1F             Feeling This Way   Polina Griffith   dance   \n",
       "8  8FA1D3BE     И вновь продолжается бой               NaN  ruspop   \n",
       "9  E772D5C0                    Pessimist               NaN   dance   \n",
       "\n",
       "             City        time        Day  \n",
       "0  Saint-Petersburg  20:28:33  Wednesday  \n",
       "1            Moscow  14:07:09     Friday  \n",
       "2  Saint-Petersburg  20:58:07  Wednesday  \n",
       "3  Saint-Petersburg  08:37:09     Monday  \n",
       "4            Moscow  08:34:34     Monday  \n",
       "5  Saint-Petersburg  13:09:41     Friday  \n",
       "6            Moscow  13:00:07  Wednesday  \n",
       "7            Moscow  20:47:49  Wednesday  \n",
       "8            Moscow  09:17:40     Friday  \n",
       "9  Saint-Petersburg  21:20:49  Wednesday  "
      ]
     },
     "execution_count": 3,
     "metadata": {},
     "output_type": "execute_result"
    }
   ],
   "source": [
    "# получение первых 10 строк таблицы df\n",
    "df.head(10)"
   ]
  },
  {
   "cell_type": "markdown",
   "metadata": {
    "deletable": false,
    "editable": false,
    "id": "EO73Kwic_Zct",
    "tags": [
     "start_task"
    ]
   },
   "source": [
    "Получаем общую информацию о таблице c помощью метода `info()`:"
   ]
  },
  {
   "cell_type": "code",
   "execution_count": 4,
   "metadata": {
    "deletable": false,
    "id": "DSf2kIb-_Zct"
   },
   "outputs": [
    {
     "name": "stdout",
     "output_type": "stream",
     "text": [
      "<class 'pandas.core.frame.DataFrame'>\n",
      "RangeIndex: 65079 entries, 0 to 65078\n",
      "Data columns (total 7 columns):\n",
      " #   Column    Non-Null Count  Dtype \n",
      "---  ------    --------------  ----- \n",
      " 0     userID  65079 non-null  object\n",
      " 1   Track     63848 non-null  object\n",
      " 2   artist    57876 non-null  object\n",
      " 3   genre     63881 non-null  object\n",
      " 4     City    65079 non-null  object\n",
      " 5   time      65079 non-null  object\n",
      " 6   Day       65079 non-null  object\n",
      "dtypes: object(7)\n",
      "memory usage: 3.5+ MB\n"
     ]
    }
   ],
   "source": [
    "# получение общей информации о данных в таблице df\n",
    "df.info()"
   ]
  },
  {
   "cell_type": "markdown",
   "metadata": {
    "deletable": false,
    "editable": false,
    "id": "TaQ2Iwbr_Zct"
   },
   "source": [
    "Итак, в таблице семь столбцов. Тип данных во всех столбцах — `object`.\n",
    "\n",
    "Согласно документации к данным:\n",
    "* `userID` — идентификатор пользователя;\n",
    "* `Track` — название трека;  \n",
    "* `artist` — имя исполнителя;\n",
    "* `genre` — название жанра;\n",
    "* `City` — город пользователя;\n",
    "* `time` — время начала прослушивания;\n",
    "* `Day` — день недели.\n",
    "\n",
    "Количество значений в столбцах различается. Значит, в данных есть пропущенные значения."
   ]
  },
  {
   "cell_type": "markdown",
   "metadata": {
    "deletable": false,
    "editable": false,
    "id": "4P0UCWzswgEm",
    "tags": [
     "start_task"
    ]
   },
   "source": [
    "В названиях колонок видны три нарушения стиля:\n",
    "1. Строчные буквы сочетаются с прописными.\n",
    "2. Встречаются пробелы.\n",
    "\n",
    "Лучше использовать snake case."
   ]
  },
  {
   "cell_type": "markdown",
   "metadata": {
    "deletable": false,
    "editable": false,
    "id": "MCB6-dXG_Zct"
   },
   "source": [
    "**Выводы**\n",
    "\n",
    "В каждой строке таблицы — данные о прослушанном треке. Часть колонок описывает саму композицию: название, исполнителя и жанр. Остальные данные рассказывают о пользователе: из какого он города, когда он слушал музыку.\n",
    "\n",
    "Предварительно можно утверждать, что данных достаточно для проверки гипотез. Но встречаются пропуски в данных, а в названиях колонок — расхождения с хорошим стилем.\n",
    "\n",
    "Чтобы двигаться дальше, нужно устранить проблемы в данных."
   ]
  },
  {
   "cell_type": "markdown",
   "metadata": {
    "deletable": false,
    "editable": false,
    "id": "SjYF6Ub9_Zct"
   },
   "source": [
    "## Предобработка данных\n",
    "Исправляем стиль в заголовках столбцов, исключаем пропуски. Затем проверим данные на дубликаты."
   ]
  },
  {
   "cell_type": "markdown",
   "metadata": {
    "deletable": false,
    "editable": false,
    "id": "dIaKXr29_Zct",
    "tags": [
     "start_task"
    ]
   },
   "source": [
    "### Стиль заголовков\n",
    "Выводим на экран названия столбцов:"
   ]
  },
  {
   "cell_type": "code",
   "execution_count": 5,
   "metadata": {
    "deletable": false,
    "id": "oKOTdF_Q_Zct"
   },
   "outputs": [
    {
     "data": {
      "text/plain": [
       "Index(['  userID', 'Track', 'artist', 'genre', '  City  ', 'time', 'Day'], dtype='object')"
      ]
     },
     "execution_count": 5,
     "metadata": {},
     "output_type": "execute_result"
    }
   ],
   "source": [
    "# перечень названий столбцов таблицы df\n",
    "df.columns"
   ]
  },
  {
   "cell_type": "markdown",
   "metadata": {
    "deletable": false,
    "editable": false,
    "id": "zj5534cv_Zct",
    "tags": [
     "start_task"
    ]
   },
   "source": [
    "Приводим названия в соответствие с хорошим стилем:\n",
    "* несколько слов в названии запишем в «змеином_регистре»,\n",
    "* все символы сделаем строчными,\n",
    "* устраним пробелы.\n",
    "\n",
    "Для этого переименуем колонки так:\n",
    "* `'  userID'` → `'user_id'`;\n",
    "* `'Track'` → `'track'`;\n",
    "* `'  City  '` → `'city'`;\n",
    "* `'Day'` → `'day'`."
   ]
  },
  {
   "cell_type": "code",
   "execution_count": 6,
   "metadata": {
    "deletable": false,
    "id": "ISlFqs5y_Zct"
   },
   "outputs": [],
   "source": [
    "# переименование столбцов\n",
    "df.rename(columns={'  userID':'user_id',\n",
    "                   'Track':'track',\n",
    "                   '  City  ':'city', \n",
    "                   'Day':'day'}, inplace=True)"
   ]
  },
  {
   "cell_type": "markdown",
   "metadata": {
    "deletable": false,
    "editable": false,
    "id": "1dqbh00J_Zct",
    "tags": [
     "start_task"
    ]
   },
   "source": [
    "Проверим результат. Для этого ещё раз выведем на экран названия столбцов:"
   ]
  },
  {
   "cell_type": "code",
   "execution_count": 7,
   "metadata": {
    "deletable": false,
    "id": "d4NOAmTW_Zct"
   },
   "outputs": [
    {
     "data": {
      "text/plain": [
       "Index(['user_id', 'track', 'artist', 'genre', 'city', 'time', 'day'], dtype='object')"
      ]
     },
     "execution_count": 7,
     "metadata": {},
     "output_type": "execute_result"
    }
   ],
   "source": [
    "# проверка результатов - перечень названий столбцов\n",
    "df.columns"
   ]
  },
  {
   "cell_type": "markdown",
   "metadata": {
    "deletable": false,
    "editable": false,
    "id": "5ISfbcfY_Zct",
    "tags": [
     "start_task"
    ]
   },
   "source": [
    "### Пропуски значений\n",
    "Сначала посчитаем, сколько в таблице пропущенных значений. Для этого достаточно двух методов `pandas`:"
   ]
  },
  {
   "cell_type": "code",
   "execution_count": 8,
   "metadata": {
    "deletable": false,
    "id": "RskX29qr_Zct"
   },
   "outputs": [
    {
     "data": {
      "text/plain": [
       "user_id       0\n",
       "track      1231\n",
       "artist     7203\n",
       "genre      1198\n",
       "city          0\n",
       "time          0\n",
       "day           0\n",
       "dtype: int64"
      ]
     },
     "execution_count": 8,
     "metadata": {},
     "output_type": "execute_result"
    }
   ],
   "source": [
    "# подсчёт пропусков\n",
    "df.isna().sum()"
   ]
  },
  {
   "cell_type": "markdown",
   "metadata": {
    "deletable": false,
    "editable": false,
    "id": "qubhgnlO_Zct"
   },
   "source": [
    "Не все пропущенные значения влияют на исследование. Так, в `track` и `artist` пропуски не важны для нашей работы. Достаточно заменить их явными обозначениями.\n",
    "\n",
    "Но пропуски в `genre` могут помешать сравнить музыкальные вкусы в Москве и Санкт-Петербурге. Было бы правильно установить причину пропусков и восстановить данные. Сейчас такой возможности у нас нет. Поэтому придётся:\n",
    "* заполнить и эти пропуски явными обозначениями;\n",
    "* оценить, насколько они повредят расчётам."
   ]
  },
  {
   "cell_type": "markdown",
   "metadata": {
    "deletable": false,
    "editable": false,
    "id": "fSv2laPA_Zct",
    "tags": [
     "start_task"
    ]
   },
   "source": [
    "Заменим пропущенные значения в столбцах `track`, `artist` и `genre` на строку `'unknown'`. Для этого создадим список `columns_to_replace`, переберем его элементы циклом `for` и для каждого столбца выполним замену пропущенных значений:"
   ]
  },
  {
   "cell_type": "code",
   "execution_count": 9,
   "metadata": {
    "deletable": false,
    "id": "KplB5qWs_Zct"
   },
   "outputs": [],
   "source": [
    "# перебор названий столбцов в цикле и замена пропущенных значений на 'unknown'\n",
    "columns_to_replace = ['track', 'artist', 'genre']\n",
    "for column in columns_to_replace:\n",
    "    df[column].fillna('unknown', inplace=True)"
   ]
  },
  {
   "cell_type": "markdown",
   "metadata": {
    "deletable": false,
    "editable": false,
    "id": "Ilsm-MZo_Zct",
    "tags": [
     "start_task"
    ]
   },
   "source": [
    "Убедимся, что в таблице не осталось пропусков. Для этого ещё раз посчитаем пропущенные значения."
   ]
  },
  {
   "cell_type": "code",
   "execution_count": 10,
   "metadata": {
    "deletable": false,
    "id": "Tq4nYRX4_Zct"
   },
   "outputs": [
    {
     "data": {
      "text/plain": [
       "user_id    0\n",
       "track      0\n",
       "artist     0\n",
       "genre      0\n",
       "city       0\n",
       "time       0\n",
       "day        0\n",
       "dtype: int64"
      ]
     },
     "execution_count": 10,
     "metadata": {},
     "output_type": "execute_result"
    }
   ],
   "source": [
    "# подсчёт пропусков\n",
    "df.isna().sum()"
   ]
  },
  {
   "cell_type": "markdown",
   "metadata": {
    "deletable": false,
    "editable": false,
    "id": "BWKRtBJ3_Zct",
    "tags": [
     "start_task"
    ]
   },
   "source": [
    "### Дубликаты\n",
    "Посчитаем явные дубликаты в таблице:"
   ]
  },
  {
   "cell_type": "code",
   "execution_count": 12,
   "metadata": {
    "deletable": false,
    "id": "36eES_S0_Zct"
   },
   "outputs": [
    {
     "data": {
      "text/plain": "3826"
     },
     "execution_count": 12,
     "metadata": {},
     "output_type": "execute_result"
    }
   ],
   "source": [
    "# подсчёт явных дубликатов\n",
    "df.duplicated().sum()"
   ]
  },
  {
   "cell_type": "markdown",
   "metadata": {
    "deletable": false,
    "editable": false,
    "id": "Ot25h6XR_Zct",
    "tags": [
     "start_task"
    ]
   },
   "source": [
    "Удалим явные дубликаты:"
   ]
  },
  {
   "cell_type": "code",
   "execution_count": 13,
   "metadata": {
    "deletable": false,
    "id": "exFHq6tt_Zct"
   },
   "outputs": [],
   "source": [
    "# удаление явных дубликатов\n",
    "df.drop_duplicates(inplace=True)"
   ]
  },
  {
   "cell_type": "markdown",
   "metadata": {
    "deletable": false,
    "editable": false,
    "id": "Im2YwBEG_Zct",
    "tags": [
     "start_task"
    ]
   },
   "source": [
    "Ещё раз посчитаем явные дубликаты в таблице — убедимся, что полностью от них избавились:"
   ]
  },
  {
   "cell_type": "code",
   "execution_count": 14,
   "metadata": {
    "deletable": false,
    "id": "-8PuNWQ0_Zct"
   },
   "outputs": [
    {
     "data": {
      "text/plain": "0"
     },
     "execution_count": 14,
     "metadata": {},
     "output_type": "execute_result"
    }
   ],
   "source": [
    "# проверка на отсутствие дубликатов\n",
    "df.duplicated().sum()"
   ]
  },
  {
   "cell_type": "markdown",
   "metadata": {
    "deletable": false,
    "editable": false,
    "id": "QlFBsxAr_Zct"
   },
   "source": [
    "Теперь избавимся от неявных дубликатов в колонке `genre`. Например, название одного и того же жанра может быть записано немного по-разному. Такие ошибки тоже повлияют на результат исследования."
   ]
  },
  {
   "cell_type": "markdown",
   "metadata": {
    "deletable": false,
    "editable": false,
    "id": "eSjWwsOh_Zct",
    "tags": [
     "start_task"
    ]
   },
   "source": [
    "Выведем на экран список уникальных названий жанров, отсортированный в алфавитном порядке:"
   ]
  },
  {
   "cell_type": "code",
   "execution_count": 15,
   "metadata": {
    "deletable": false,
    "id": "JIUcqzZN_Zct"
   },
   "outputs": [
    {
     "data": {
      "text/plain": "array(['acid', 'acoustic', 'action', 'adult', 'africa', 'afrikaans',\n       'alternative', 'alternativepunk', 'ambient', 'americana',\n       'animated', 'anime', 'arabesk', 'arabic', 'arena',\n       'argentinetango', 'art', 'audiobook', 'author', 'avantgarde',\n       'axé', 'baile', 'balkan', 'beats', 'bigroom', 'black', 'bluegrass',\n       'blues', 'bollywood', 'bossa', 'brazilian', 'breakbeat', 'breaks',\n       'broadway', 'cantautori', 'cantopop', 'canzone', 'caribbean',\n       'caucasian', 'celtic', 'chamber', 'chanson', 'children', 'chill',\n       'chinese', 'choral', 'christian', 'christmas', 'classical',\n       'classicmetal', 'club', 'colombian', 'comedy', 'conjazz',\n       'contemporary', 'country', 'cuban', 'dance', 'dancehall',\n       'dancepop', 'dark', 'death', 'deep', 'deutschrock', 'deutschspr',\n       'dirty', 'disco', 'dnb', 'documentary', 'downbeat', 'downtempo',\n       'drum', 'dub', 'dubstep', 'eastern', 'easy', 'electronic',\n       'electropop', 'emo', 'entehno', 'epicmetal', 'estrada', 'ethnic',\n       'eurofolk', 'european', 'experimental', 'extrememetal', 'fado',\n       'fairytail', 'film', 'fitness', 'flamenco', 'folk', 'folklore',\n       'folkmetal', 'folkrock', 'folktronica', 'forró', 'frankreich',\n       'französisch', 'french', 'funk', 'future', 'gangsta', 'garage',\n       'german', 'ghazal', 'gitarre', 'glitch', 'gospel', 'gothic',\n       'grime', 'grunge', 'gypsy', 'handsup', \"hard'n'heavy\", 'hardcore',\n       'hardstyle', 'hardtechno', 'hip', 'hip-hop', 'hiphop',\n       'historisch', 'holiday', 'hop', 'horror', 'house', 'hymn', 'idm',\n       'independent', 'indian', 'indie', 'indipop', 'industrial',\n       'inspirational', 'instrumental', 'international', 'irish', 'jam',\n       'japanese', 'jazz', 'jewish', 'jpop', 'jungle', 'k-pop',\n       'karadeniz', 'karaoke', 'kayokyoku', 'korean', 'laiko', 'latin',\n       'latino', 'leftfield', 'local', 'lounge', 'loungeelectronic',\n       'lovers', 'malaysian', 'mandopop', 'marschmusik', 'meditative',\n       'mediterranean', 'melodic', 'metal', 'metalcore', 'mexican',\n       'middle', 'minimal', 'miscellaneous', 'modern', 'mood', 'mpb',\n       'muslim', 'native', 'neoklassik', 'neue', 'new', 'newage',\n       'newwave', 'nu', 'nujazz', 'numetal', 'oceania', 'old', 'opera',\n       'orchestral', 'other', 'piano', 'podcasts', 'pop', 'popdance',\n       'popelectronic', 'popeurodance', 'poprussian', 'post',\n       'posthardcore', 'postrock', 'power', 'progmetal', 'progressive',\n       'psychedelic', 'punjabi', 'punk', 'quebecois', 'ragga', 'ram',\n       'rancheras', 'rap', 'rave', 'reggae', 'reggaeton', 'regional',\n       'relax', 'religious', 'retro', 'rhythm', 'rnb', 'rnr', 'rock',\n       'rockabilly', 'rockalternative', 'rockindie', 'rockother',\n       'romance', 'roots', 'ruspop', 'rusrap', 'rusrock', 'russian',\n       'salsa', 'samba', 'scenic', 'schlager', 'self', 'sertanejo',\n       'shanson', 'shoegazing', 'showtunes', 'singer', 'ska', 'skarock',\n       'slow', 'smooth', 'soft', 'soul', 'soulful', 'sound', 'soundtrack',\n       'southern', 'specialty', 'speech', 'spiritual', 'sport',\n       'stonerrock', 'surf', 'swing', 'synthpop', 'synthrock',\n       'sängerportrait', 'tango', 'tanzorchester', 'taraftar', 'tatar',\n       'tech', 'techno', 'teen', 'thrash', 'top', 'traditional',\n       'tradjazz', 'trance', 'tribal', 'trip', 'triphop', 'tropical',\n       'türk', 'türkçe', 'ukrrock', 'unknown', 'urban', 'uzbek',\n       'variété', 'vi', 'videogame', 'vocal', 'western', 'world',\n       'worldbeat', 'ïîï', 'электроника'], dtype=object)"
     },
     "execution_count": 15,
     "metadata": {},
     "output_type": "execute_result"
    }
   ],
   "source": [
    "# Просмотр уникальных названий жанров\n",
    "df['genre'].sort_values().unique()"
   ]
  },
  {
   "cell_type": "markdown",
   "metadata": {
    "deletable": false,
    "editable": false,
    "id": "qej-Qmuo_Zct",
    "tags": [
     "start_task"
    ]
   },
   "source": [
    "Видим следующие неявные дубликаты:\n",
    "* *hip*,\n",
    "* *hop*,\n",
    "* *hip-hop*.\n",
    "\n",
    "Устраним их:"
   ]
  },
  {
   "cell_type": "code",
   "execution_count": 16,
   "metadata": {
    "deletable": false,
    "id": "ErNDkmns_Zct"
   },
   "outputs": [],
   "source": [
    "# Устранение неявных дубликатов\n",
    "df['genre'].replace(['hip', 'hop', 'hip-hop'], 'hiphop', inplace=True)"
   ]
  },
  {
   "cell_type": "markdown",
   "metadata": {
    "deletable": false,
    "editable": false,
    "id": "zQKF16_RG15m",
    "tags": [
     "start_task"
    ]
   },
   "source": [
    "Проверим, что заменили неправильные названия:\n",
    "\n",
    "*   *hip*,\n",
    "*   *hop*,\n",
    "*   *hip-hop*.\n",
    "\n",
    "Выведем отсортированный список уникальных значений столбца `genre`:"
   ]
  },
  {
   "cell_type": "code",
   "execution_count": 17,
   "metadata": {
    "deletable": false,
    "id": "wvixALnFG15m"
   },
   "outputs": [
    {
     "data": {
      "text/plain": "array(['acid', 'acoustic', 'action', 'adult', 'africa', 'afrikaans',\n       'alternative', 'alternativepunk', 'ambient', 'americana',\n       'animated', 'anime', 'arabesk', 'arabic', 'arena',\n       'argentinetango', 'art', 'audiobook', 'author', 'avantgarde',\n       'axé', 'baile', 'balkan', 'beats', 'bigroom', 'black', 'bluegrass',\n       'blues', 'bollywood', 'bossa', 'brazilian', 'breakbeat', 'breaks',\n       'broadway', 'cantautori', 'cantopop', 'canzone', 'caribbean',\n       'caucasian', 'celtic', 'chamber', 'chanson', 'children', 'chill',\n       'chinese', 'choral', 'christian', 'christmas', 'classical',\n       'classicmetal', 'club', 'colombian', 'comedy', 'conjazz',\n       'contemporary', 'country', 'cuban', 'dance', 'dancehall',\n       'dancepop', 'dark', 'death', 'deep', 'deutschrock', 'deutschspr',\n       'dirty', 'disco', 'dnb', 'documentary', 'downbeat', 'downtempo',\n       'drum', 'dub', 'dubstep', 'eastern', 'easy', 'electronic',\n       'electropop', 'emo', 'entehno', 'epicmetal', 'estrada', 'ethnic',\n       'eurofolk', 'european', 'experimental', 'extrememetal', 'fado',\n       'fairytail', 'film', 'fitness', 'flamenco', 'folk', 'folklore',\n       'folkmetal', 'folkrock', 'folktronica', 'forró', 'frankreich',\n       'französisch', 'french', 'funk', 'future', 'gangsta', 'garage',\n       'german', 'ghazal', 'gitarre', 'glitch', 'gospel', 'gothic',\n       'grime', 'grunge', 'gypsy', 'handsup', \"hard'n'heavy\", 'hardcore',\n       'hardstyle', 'hardtechno', 'hiphop', 'historisch', 'holiday',\n       'horror', 'house', 'hymn', 'idm', 'independent', 'indian', 'indie',\n       'indipop', 'industrial', 'inspirational', 'instrumental',\n       'international', 'irish', 'jam', 'japanese', 'jazz', 'jewish',\n       'jpop', 'jungle', 'k-pop', 'karadeniz', 'karaoke', 'kayokyoku',\n       'korean', 'laiko', 'latin', 'latino', 'leftfield', 'local',\n       'lounge', 'loungeelectronic', 'lovers', 'malaysian', 'mandopop',\n       'marschmusik', 'meditative', 'mediterranean', 'melodic', 'metal',\n       'metalcore', 'mexican', 'middle', 'minimal', 'miscellaneous',\n       'modern', 'mood', 'mpb', 'muslim', 'native', 'neoklassik', 'neue',\n       'new', 'newage', 'newwave', 'nu', 'nujazz', 'numetal', 'oceania',\n       'old', 'opera', 'orchestral', 'other', 'piano', 'podcasts', 'pop',\n       'popdance', 'popelectronic', 'popeurodance', 'poprussian', 'post',\n       'posthardcore', 'postrock', 'power', 'progmetal', 'progressive',\n       'psychedelic', 'punjabi', 'punk', 'quebecois', 'ragga', 'ram',\n       'rancheras', 'rap', 'rave', 'reggae', 'reggaeton', 'regional',\n       'relax', 'religious', 'retro', 'rhythm', 'rnb', 'rnr', 'rock',\n       'rockabilly', 'rockalternative', 'rockindie', 'rockother',\n       'romance', 'roots', 'ruspop', 'rusrap', 'rusrock', 'russian',\n       'salsa', 'samba', 'scenic', 'schlager', 'self', 'sertanejo',\n       'shanson', 'shoegazing', 'showtunes', 'singer', 'ska', 'skarock',\n       'slow', 'smooth', 'soft', 'soul', 'soulful', 'sound', 'soundtrack',\n       'southern', 'specialty', 'speech', 'spiritual', 'sport',\n       'stonerrock', 'surf', 'swing', 'synthpop', 'synthrock',\n       'sängerportrait', 'tango', 'tanzorchester', 'taraftar', 'tatar',\n       'tech', 'techno', 'teen', 'thrash', 'top', 'traditional',\n       'tradjazz', 'trance', 'tribal', 'trip', 'triphop', 'tropical',\n       'türk', 'türkçe', 'ukrrock', 'unknown', 'urban', 'uzbek',\n       'variété', 'vi', 'videogame', 'vocal', 'western', 'world',\n       'worldbeat', 'ïîï', 'электроника'], dtype=object)"
     },
     "execution_count": 17,
     "metadata": {},
     "output_type": "execute_result"
    }
   ],
   "source": [
    "# Проверка на неявные дубликаты\n",
    "df['genre'].sort_values().unique()"
   ]
  },
  {
   "cell_type": "markdown",
   "metadata": {
    "deletable": false,
    "editable": false,
    "id": "jz6a9-7HQUDd"
   },
   "source": [
    "**Выводы**\n",
    "\n",
    "Предобработка обнаружила три проблемы в данных:\n",
    "\n",
    "- нарушения в стиле заголовков,\n",
    "- пропущенные значения,\n",
    "- дубликаты — явные и неявные.\n",
    "\n",
    "Мы исправили заголовки, чтобы упростить работу с таблицей. Без дубликатов исследование станет более точным.\n",
    "\n",
    "Пропущенные значения мы заменили на `'unknown'`. Ещё предстоит увидеть, не повредят ли исследованию пропуски в колонке `genre`.\n",
    "\n",
    "Теперь можно перейти к проверке гипотез."
   ]
  },
  {
   "cell_type": "markdown",
   "metadata": {
    "deletable": false,
    "editable": false,
    "id": "WttZHXH0SqKk"
   },
   "source": [
    "## Проверка гипотез"
   ]
  },
  {
   "cell_type": "markdown",
   "source": [
    "<div style=\"background-color:red\">\n",
    "<div style=\"background-color:red\">\n",
    "<b>Ниже не отредактировано!</b>\n",
    "</div>"
   ],
   "metadata": {
    "collapsed": false
   }
  },
  {
   "cell_type": "markdown",
   "metadata": {
    "deletable": false,
    "editable": false,
    "id": "Im936VVi_Zcu"
   },
   "source": [
    "### Сравнение поведения пользователей двух столиц"
   ]
  },
  {
   "cell_type": "markdown",
   "metadata": {
    "deletable": false,
    "editable": false,
    "id": "nwt_MuaL_Zcu"
   },
   "source": [
    "Первая гипотеза утверждает, что пользователи по-разному слушают музыку в Москве и Санкт-Петербурге. Проверьте это предположение по данным о трёх днях недели — понедельнике, среде и пятнице. Для этого:\n",
    "\n",
    "* Разделите пользователей Москвы и Санкт-Петербурга.\n",
    "* Сравните, сколько треков послушала каждая группа пользователей в понедельник, среду и пятницу.\n"
   ]
  },
  {
   "cell_type": "markdown",
   "metadata": {
    "deletable": false,
    "editable": false,
    "id": "8Dw_YMmT_Zcu",
    "tags": [
     "start_task"
    ]
   },
   "source": [
    "**Задание 18**\n",
    "\n",
    "Для тренировки сначала выполните каждый из расчётов по отдельности.\n",
    "\n",
    "Оцените активность пользователей в каждом городе. Сгруппируйте данные по городу и посчитайте прослушивания в каждой группе.\n",
    "\n"
   ]
  },
  {
   "cell_type": "code",
   "execution_count": 28,
   "metadata": {
    "deletable": false,
    "id": "0_Qs96oh_Zcu"
   },
   "outputs": [
    {
     "data": {
      "text/plain": [
       "city\n",
       "Moscow              42741\n",
       "Saint-Petersburg    18512\n",
       "Name: track, dtype: int64"
      ]
     },
     "execution_count": 28,
     "metadata": {},
     "output_type": "execute_result"
    }
   ],
   "source": [
    "# Подсчёт прослушиваний в каждом городе\n",
    "df.groupby('city')['track'].count()"
   ]
  },
  {
   "cell_type": "markdown",
   "metadata": {
    "deletable": false,
    "editable": false,
    "id": "dzli3w8o_Zcu",
    "tags": [
     "start_task"
    ]
   },
   "source": [
    "В Москве прослушиваний больше, чем в Петербурге. Из этого не следует, что московские пользователи чаще слушают музыку. Просто самих пользователей в Москве больше.\n",
    "\n",
    "**Задание 19**\n",
    "\n",
    "Теперь сгруппируйте данные по дню недели и посчитайте прослушивания в понедельник, среду и пятницу. Учтите, что в данных есть информация о прослушиваниях только за эти дни.\n"
   ]
  },
  {
   "cell_type": "code",
   "execution_count": 29,
   "metadata": {
    "deletable": false,
    "id": "uZMKjiJz_Zcu"
   },
   "outputs": [
    {
     "data": {
      "text/plain": [
       "day\n",
       "Friday       21840\n",
       "Monday       21354\n",
       "Wednesday    18059\n",
       "Name: track, dtype: int64"
      ]
     },
     "execution_count": 29,
     "metadata": {},
     "output_type": "execute_result"
    }
   ],
   "source": [
    "# Подсчёт прослушиваний в каждый из трёх дней\n",
    "df.groupby('day')['track'].count()"
   ]
  },
  {
   "cell_type": "markdown",
   "metadata": {
    "deletable": false,
    "editable": false,
    "id": "cC2tNrlL_Zcu"
   },
   "source": [
    "В среднем пользователи из двух городов менее активны по средам. Но картина может измениться, если рассмотреть каждый город в отдельности."
   ]
  },
  {
   "cell_type": "markdown",
   "metadata": {
    "deletable": false,
    "editable": false,
    "id": "POzs8bGa_Zcu",
    "tags": [
     "start_task"
    ]
   },
   "source": [
    "**Задание 20**\n",
    "\n",
    "\n",
    "Вы видели, как работает группировка по городу и по дням недели. Теперь напишите функцию, которая объединит два эти расчёта.\n",
    "\n",
    "Создайте функцию `number_tracks()`, которая посчитает прослушивания для заданного дня и города. Ей понадобятся два параметра:\n",
    "* день недели,\n",
    "* название города.\n",
    "\n",
    "В функции сохраните в переменную строки исходной таблицы, у которых значение:\n",
    "  * в колонке `day` равно параметру `day`,\n",
    "  * в колонке `city` равно параметру `city`.\n",
    "\n",
    "Для этого примените последовательную фильтрацию с логической индексацией (или сложные логические выражения в одну строку, если вы уже знакомы с ними).\n",
    "\n",
    "Затем посчитайте значения в столбце `user_id` получившейся таблицы. Результат сохраните в новую переменную. Верните эту переменную из функции."
   ]
  },
  {
   "cell_type": "code",
   "execution_count": 30,
   "metadata": {
    "deletable": false,
    "id": "Nz3GdQB1_Zcu"
   },
   "outputs": [],
   "source": [
    "# <создание функции number_tracks()>\n",
    "# Объявляется функция с двумя параметрами: day, city.\n",
    "def number_tracks(day, city):\n",
    "    # В переменной track_list сохраняются те строки таблицы df, для которых\n",
    "    # значение в столбце 'day' равно параметру day и одновременно значение\n",
    "    # в столбце 'city' равно параметру city (используйте последовательную фильтрацию\n",
    "    # с помощью логической индексации или сложные логические выражения в одну строку, если вы уже знакомы с ними).\n",
    "    track_list = df[(df['day'] == day) & (df['city'] == city)]\n",
    "    # В переменной track_list_count сохраняется число значений столбца 'user_id',\n",
    "    # рассчитанное методом count() для таблицы track_list.\n",
    "    track_list_count = track_list['user_id'].count()\n",
    "    # Функция возвращает число - значение track_list_count.\n",
    "    return track_list_count\n",
    "\n",
    "# Функция для подсчёта прослушиваний для конкретного города и дня.\n",
    "# С помощью последовательной фильтрации с логической индексацией она\n",
    "# сначала получит из исходной таблицы строки с нужным днём,\n",
    "# затем из результата отфильтрует строки с нужным городом,\n",
    "# методом count() посчитает количество значений в колонке user_id.\n",
    "# Это количество функция вернёт в качестве результата"
   ]
  },
  {
   "cell_type": "markdown",
   "metadata": {
    "deletable": false,
    "editable": false,
    "id": "ytf7xFrFJQ2r",
    "tags": [
     "start_task"
    ]
   },
   "source": [
    "**Задание 21**\n",
    "\n",
    "Вызовите `number_tracks()` шесть раз, меняя значение параметров — так, чтобы получить данные для каждого города в каждый из трёх дней."
   ]
  },
  {
   "cell_type": "code",
   "execution_count": 31,
   "metadata": {
    "deletable": false,
    "id": "rJcRATNQ_Zcu"
   },
   "outputs": [
    {
     "data": {
      "text/plain": [
       "15740"
      ]
     },
     "execution_count": 31,
     "metadata": {},
     "output_type": "execute_result"
    }
   ],
   "source": [
    "# количество прослушиваний в Москве по понедельникам\n",
    "number_tracks('Monday', 'Moscow')"
   ]
  },
  {
   "cell_type": "code",
   "execution_count": 32,
   "metadata": {
    "deletable": false,
    "id": "hq_ncZ5T_Zcu"
   },
   "outputs": [
    {
     "data": {
      "text/plain": [
       "5614"
      ]
     },
     "execution_count": 32,
     "metadata": {},
     "output_type": "execute_result"
    }
   ],
   "source": [
    "# количество прослушиваний в Санкт-Петербурге по понедельникам\n",
    "number_tracks('Monday', 'Saint-Petersburg')"
   ]
  },
  {
   "cell_type": "code",
   "execution_count": 33,
   "metadata": {
    "deletable": false,
    "id": "_NTy2VPU_Zcu"
   },
   "outputs": [
    {
     "data": {
      "text/plain": [
       "11056"
      ]
     },
     "execution_count": 33,
     "metadata": {},
     "output_type": "execute_result"
    }
   ],
   "source": [
    "# количество прослушиваний в Москве по средам\n",
    "number_tracks('Wednesday', 'Moscow')"
   ]
  },
  {
   "cell_type": "code",
   "execution_count": 34,
   "metadata": {
    "deletable": false,
    "id": "j2y3TAwo_Zcu"
   },
   "outputs": [
    {
     "data": {
      "text/plain": [
       "7003"
      ]
     },
     "execution_count": 34,
     "metadata": {},
     "output_type": "execute_result"
    }
   ],
   "source": [
    "# количество прослушиваний в Санкт-Петербурге по средам\n",
    "number_tracks('Wednesday', 'Saint-Petersburg')"
   ]
  },
  {
   "cell_type": "code",
   "execution_count": 35,
   "metadata": {
    "deletable": false,
    "id": "vYDw5u_K_Zcu"
   },
   "outputs": [
    {
     "data": {
      "text/plain": [
       "15945"
      ]
     },
     "execution_count": 35,
     "metadata": {},
     "output_type": "execute_result"
    }
   ],
   "source": [
    "# количество прослушиваний в Москве по пятницам\n",
    "number_tracks('Friday', 'Moscow')"
   ]
  },
  {
   "cell_type": "code",
   "execution_count": 36,
   "metadata": {
    "deletable": false,
    "id": "8_yzFtW3_Zcu"
   },
   "outputs": [
    {
     "data": {
      "text/plain": [
       "5895"
      ]
     },
     "execution_count": 36,
     "metadata": {},
     "output_type": "execute_result"
    }
   ],
   "source": [
    "# количество прослушиваний в Санкт-Петербурге по пятницам\n",
    "number_tracks('Friday', 'Saint-Petersburg')"
   ]
  },
  {
   "cell_type": "markdown",
   "metadata": {
    "deletable": false,
    "editable": false,
    "id": "7QXffbO-_Zcu",
    "tags": [
     "start_task"
    ]
   },
   "source": [
    "**Задание 22**\n",
    "\n",
    "С помощью конструктора `pd.DataFrame` создайте таблицу, где\n",
    "* названия колонок — `['city', 'monday', 'wednesday', 'friday']`;\n",
    "* данные — результаты, которые вы получили с помощью `number_tracks`."
   ]
  },
  {
   "cell_type": "code",
   "execution_count": 37,
   "metadata": {
    "deletable": false,
    "id": "APAcLpOr_Zcu"
   },
   "outputs": [
    {
     "data": {
      "text/html": [
       "<div>\n",
       "<style scoped>\n",
       "    .dataframe tbody tr th:only-of-type {\n",
       "        vertical-align: middle;\n",
       "    }\n",
       "\n",
       "    .dataframe tbody tr th {\n",
       "        vertical-align: top;\n",
       "    }\n",
       "\n",
       "    .dataframe thead th {\n",
       "        text-align: right;\n",
       "    }\n",
       "</style>\n",
       "<table border=\"1\" class=\"dataframe\">\n",
       "  <thead>\n",
       "    <tr style=\"text-align: right;\">\n",
       "      <th></th>\n",
       "      <th>city</th>\n",
       "      <th>monday</th>\n",
       "      <th>wednesday</th>\n",
       "      <th>friday</th>\n",
       "    </tr>\n",
       "  </thead>\n",
       "  <tbody>\n",
       "    <tr>\n",
       "      <th>0</th>\n",
       "      <td>Moscow</td>\n",
       "      <td>15740</td>\n",
       "      <td>11056</td>\n",
       "      <td>15945</td>\n",
       "    </tr>\n",
       "    <tr>\n",
       "      <th>1</th>\n",
       "      <td>Saint-Petersburg</td>\n",
       "      <td>5614</td>\n",
       "      <td>7003</td>\n",
       "      <td>5895</td>\n",
       "    </tr>\n",
       "  </tbody>\n",
       "</table>\n",
       "</div>"
      ],
      "text/plain": [
       "               city  monday  wednesday  friday\n",
       "0            Moscow   15740      11056   15945\n",
       "1  Saint-Petersburg    5614       7003    5895"
      ]
     },
     "execution_count": 37,
     "metadata": {},
     "output_type": "execute_result"
    }
   ],
   "source": [
    "# Таблица с результатами\n",
    "pd.DataFrame(columns=['city', \n",
    "                      'monday', \n",
    "                      'wednesday', 'friday'], \n",
    "             data = [['Moscow', \n",
    "                     number_tracks('Monday', 'Moscow'),\n",
    "                     number_tracks('Wednesday', 'Moscow'),\n",
    "                     number_tracks('Friday', 'Moscow')], \n",
    "                     ['Saint-Petersburg', \n",
    "                      number_tracks('Monday', 'Saint-Petersburg'), \n",
    "                     number_tracks('Wednesday', 'Saint-Petersburg'),\n",
    "                     number_tracks('Friday', 'Saint-Petersburg')]])"
   ]
  },
  {
   "cell_type": "markdown",
   "metadata": {
    "deletable": false,
    "editable": false,
    "id": "-EgPIHYu_Zcu"
   },
   "source": [
    "**Выводы**\n",
    "\n",
    "Данные показывают разницу поведения пользователей:\n",
    "\n",
    "- В Москве пик прослушиваний приходится на понедельник и пятницу, а в среду заметен спад.\n",
    "- В Петербурге, наоборот, больше слушают музыку по средам. Активность в понедельник и пятницу здесь почти в равной мере уступает среде.\n",
    "\n",
    "Значит, данные говорят в пользу первой гипотезы."
   ]
  },
  {
   "cell_type": "markdown",
   "metadata": {
    "deletable": false,
    "editable": false,
    "id": "atZAxtq4_Zcu"
   },
   "source": [
    "### Музыка в начале и в конце недели"
   ]
  },
  {
   "cell_type": "markdown",
   "metadata": {
    "deletable": false,
    "editable": false,
    "id": "eXrQqXFH_Zcu"
   },
   "source": [
    "Согласно второй гипотезе, утром в понедельник в Москве преобладают одни жанры, а в Петербурге — другие. Так же и вечером пятницы преобладают разные жанры — в зависимости от города."
   ]
  },
  {
   "cell_type": "markdown",
   "metadata": {
    "deletable": false,
    "editable": false,
    "id": "S8UcW6Hw_Zcu",
    "tags": [
     "start_task"
    ]
   },
   "source": [
    "**Задание 23**\n",
    "\n",
    "Сохраните таблицы с данными в две переменные:\n",
    "* по Москве — в `moscow_general`;\n",
    "* по Санкт-Петербургу — в `spb_general`."
   ]
  },
  {
   "cell_type": "code",
   "execution_count": 38,
   "metadata": {
    "deletable": false,
    "id": "qeaFfM_P_Zcu"
   },
   "outputs": [],
   "source": [
    "# получение таблицы moscow_general из тех строк таблицы df,\n",
    "# для которых значение в столбце 'city' равно 'Moscow'\n",
    "moscow_general = df[df['city'] == 'Moscow']"
   ]
  },
  {
   "cell_type": "code",
   "execution_count": 39,
   "metadata": {
    "deletable": false,
    "id": "ORaVRKto_Zcu"
   },
   "outputs": [],
   "source": [
    "# получение таблицы spb_general из тех строк таблицы df,\n",
    "# для которых значение в столбце 'city' равно 'Saint-Petersburg'\n",
    "spb_general = df[df['city'] == 'Saint-Petersburg']"
   ]
  },
  {
   "cell_type": "markdown",
   "metadata": {
    "deletable": false,
    "id": "MEJV-CX2_Zcu",
    "tags": [
     "start_task"
    ]
   },
   "source": [
    "**Задание 24**\n",
    "\n",
    "Создайте функцию `genre_weekday()` с четырьмя параметрами:\n",
    "* таблица (датафрейм) с данными,\n",
    "* день недели,\n",
    "* начальная временная метка в формате 'hh:mm',\n",
    "* последняя временная метка в формате 'hh:mm'.\n",
    "\n",
    "Функция должна вернуть информацию о топ-10 жанров тех треков, которые прослушивали в указанный день, в промежутке между двумя отметками времени."
   ]
  },
  {
   "cell_type": "code",
   "execution_count": 40,
   "metadata": {
    "deletable": false,
    "id": "laJT9BYl_Zcu"
   },
   "outputs": [],
   "source": [
    "# Объявление функции genre_weekday() с параметрами df, day, time1, time2,\n",
    "# которая возвращает информацию о самых популярных жанрах в указанный день в\n",
    "# заданное время:\n",
    "# 1) в переменную genre_df сохраняются те строки переданного датафрейма df, для\n",
    "#    которых одновременно:\n",
    "#    - значение в столбце day равно значению аргумента day\n",
    "#    - значение в столбце time больше значения аргумента time1\n",
    "#    - значение в столбце time меньше значения аргумента time2\n",
    "#    Используйте последовательную фильтрацию с помощью логической индексации.\n",
    "# 2) сгруппировать датафрейм genre_df по столбцу genre, взять один из его\n",
    "#    столбцов и посчитать методом count() количество записей для каждого из\n",
    "#    присутствующих жанров, получившийся Series записать в переменную\n",
    "#    genre_df_grouped\n",
    "# 3) отсортировать genre_df_grouped по убыванию встречаемости и сохранить\n",
    "#    в переменную genre_df_sorted\n",
    "# 4) вернуть Series из 10 первых значений genre_df_sorted, это будут топ-10\n",
    "#    популярных жанров (в указанный день, в заданное время)\n",
    "\n",
    "def genre_weekday(df, day, time1, time2):\n",
    "    # последовательная фильтрация\n",
    "    # оставляем в genre_df только те строки df, у которых день равен day\n",
    "    # genre_df = # ваш код здесь\n",
    "    # оставляем в genre_df только те строки genre_df, у которых время меньше time2\n",
    "    # genre_df = # ваш код здесь\n",
    "    # оставляем в genre_df только те строки genre_df, у которых время больше time1\n",
    "    # genre_df = # ваш код здесь\n",
    "    genre_df = df[(df['day'] == day) & (df['time'] > time1) & (df['time'] < time2)]\n",
    "    # сгруппируем отфильтрованный датафрейм по столбцу с названиями жанров, возьмём столбец genre и посчитаем кол-во строк для каждого жанра методом count()\n",
    "    genre_df_grouped = genre_df.groupby('genre')['genre'].count() # ваш код здесь\n",
    "    # отсортируем результат по убыванию (чтобы в начале Series оказались самые популярные жанры)\n",
    "    genre_df_sorted = genre_df_grouped.sort_values(ascending=False) # ваш код здесь\n",
    "    # вернём Series с 10 самыми популярными жанрами в указанный отрезок времени заданного дня\n",
    "    return genre_df_sorted[:10]"
   ]
  },
  {
   "cell_type": "markdown",
   "metadata": {
    "deletable": false,
    "editable": false,
    "id": "la2s2_PF_Zcu",
    "tags": [
     "start_task"
    ]
   },
   "source": [
    "**Задание 25**\n",
    "\n",
    "\n",
    "Cравните результаты функции `genre_weekday()` для Москвы и Санкт-Петербурга в понедельник утром (с 7:00 до 11:00) и в пятницу вечером (с 17:00 до 23:00):"
   ]
  },
  {
   "cell_type": "code",
   "execution_count": 41,
   "metadata": {
    "deletable": false,
    "id": "yz7itPUQ_Zcu"
   },
   "outputs": [
    {
     "data": {
      "text/plain": [
       "genre\n",
       "pop            781\n",
       "dance          549\n",
       "electronic     480\n",
       "rock           474\n",
       "hiphop         286\n",
       "ruspop         186\n",
       "world          181\n",
       "rusrap         175\n",
       "alternative    164\n",
       "unknown        161\n",
       "Name: genre, dtype: int64"
      ]
     },
     "execution_count": 41,
     "metadata": {},
     "output_type": "execute_result"
    }
   ],
   "source": [
    "# вызов функции для утра понедельника в Москве (вместо df — таблица moscow_general)\n",
    "# объекты, хранящие время, являются строками и сравниваются как строки\n",
    "# пример вызова: genre_weekday(moscow_general, 'Monday', '07:00', '11:00')\n",
    "genre_weekday(moscow_general, 'Monday', '07:00', '11:00')"
   ]
  },
  {
   "cell_type": "code",
   "execution_count": 42,
   "metadata": {
    "deletable": false,
    "id": "kwUcHPdy_Zcu"
   },
   "outputs": [
    {
     "data": {
      "text/plain": [
       "genre\n",
       "pop            218\n",
       "dance          182\n",
       "rock           162\n",
       "electronic     147\n",
       "hiphop          80\n",
       "ruspop          64\n",
       "alternative     58\n",
       "rusrap          55\n",
       "jazz            44\n",
       "classical       40\n",
       "Name: genre, dtype: int64"
      ]
     },
     "execution_count": 42,
     "metadata": {},
     "output_type": "execute_result"
    }
   ],
   "source": [
    "# вызов функции для утра понедельника в Петербурге (вместо df — таблица spb_general)\n",
    "genre_weekday(spb_general, 'Monday', '07:00', '11:00')"
   ]
  },
  {
   "cell_type": "code",
   "execution_count": 43,
   "metadata": {
    "deletable": false,
    "id": "EzXVRE1o_Zcu"
   },
   "outputs": [
    {
     "data": {
      "text/plain": [
       "genre\n",
       "pop            713\n",
       "rock           517\n",
       "dance          495\n",
       "electronic     482\n",
       "hiphop         273\n",
       "world          208\n",
       "ruspop         170\n",
       "alternative    163\n",
       "classical      163\n",
       "rusrap         142\n",
       "Name: genre, dtype: int64"
      ]
     },
     "execution_count": 43,
     "metadata": {},
     "output_type": "execute_result"
    }
   ],
   "source": [
    "# вызов функции для вечера пятницы в Москве\n",
    "genre_weekday(moscow_general, 'Friday', '17:00', '23:00')"
   ]
  },
  {
   "cell_type": "code",
   "execution_count": 44,
   "metadata": {
    "deletable": false,
    "id": "JZaEKu5v_Zcu"
   },
   "outputs": [
    {
     "data": {
      "text/plain": [
       "genre\n",
       "pop            256\n",
       "electronic     216\n",
       "rock           216\n",
       "dance          210\n",
       "hiphop          97\n",
       "alternative     63\n",
       "jazz            61\n",
       "classical       60\n",
       "rusrap          59\n",
       "world           54\n",
       "Name: genre, dtype: int64"
      ]
     },
     "execution_count": 44,
     "metadata": {},
     "output_type": "execute_result"
    }
   ],
   "source": [
    "# вызов функции для вечера пятницы в Петербурге\n",
    "genre_weekday(spb_general, 'Friday', '17:00', '23:00')"
   ]
  },
  {
   "cell_type": "markdown",
   "metadata": {
    "deletable": false,
    "editable": false,
    "id": "wrCe4MNX_Zcu"
   },
   "source": [
    "**Выводы**\n",
    "\n",
    "Если сравнить топ-10 жанров в понедельник утром, можно сделать такие выводы:\n",
    "\n",
    "1. В Москве и Петербурге слушают похожую музыку. Единственное различие — в московский рейтинг вошёл жанр “world”, а в петербургский — джаз и классика.\n",
    "\n",
    "2. В Москве пропущенных значений оказалось так много, что значение `'unknown'` заняло десятое место среди самых популярных жанров. Значит, пропущенные значения занимают существенную долю в данных и угрожают достоверности исследования.\n",
    "\n",
    "Вечер пятницы не меняет эту картину. Некоторые жанры поднимаются немного выше, другие спускаются, но в целом топ-10 остаётся тем же самым.\n",
    "\n",
    "Таким образом, вторая гипотеза подтвердилась лишь частично:\n",
    "* Пользователи слушают похожую музыку в начале недели и в конце.\n",
    "* Разница между Москвой и Петербургом не слишком выражена. В Москве чаще слушают русскую популярную музыку, в Петербурге — джаз.\n",
    "\n",
    "Однако пропуски в данных ставят под сомнение этот результат. В Москве их так много, что рейтинг топ-10 мог бы выглядеть иначе, если бы не утерянные  данные о жанрах."
   ]
  },
  {
   "cell_type": "markdown",
   "metadata": {
    "deletable": false,
    "editable": false,
    "id": "JolODAqr_Zcu"
   },
   "source": [
    "### Жанровые предпочтения в Москве и Петербурге\n",
    "\n",
    "Гипотеза: Петербург — столица рэпа, музыку этого жанра там слушают чаще, чем в Москве.  А Москва — город контрастов, в котором, тем не менее, преобладает поп-музыка."
   ]
  },
  {
   "cell_type": "markdown",
   "metadata": {
    "deletable": false,
    "editable": false,
    "id": "DlegSvaT_Zcu",
    "tags": [
     "start_task"
    ]
   },
   "source": [
    "**Задание 26**\n",
    "\n",
    "Сгруппируйте таблицу `moscow_general` по жанру и посчитайте прослушивания треков каждого жанра методом `count()`. Затем отсортируйте результат в порядке убывания и сохраните его в таблице `moscow_genres`."
   ]
  },
  {
   "cell_type": "code",
   "execution_count": 45,
   "metadata": {
    "deletable": false,
    "id": "r19lIPke_Zcu"
   },
   "outputs": [],
   "source": [
    "# одной строкой: группировка таблицы moscow_general по столбцу 'genre',\n",
    "# подсчёт числа значений 'genre' в этой группировке методом count(),\n",
    "# сортировка получившегося Series в порядке убывания и сохранение в moscow_genres\n",
    "moscow_genres = moscow_general.groupby('genre')['genre'].count().sort_values(ascending=False)"
   ]
  },
  {
   "cell_type": "markdown",
   "metadata": {
    "deletable": false,
    "editable": false,
    "id": "6kMuomxTiIr8",
    "tags": [
     "start_task"
    ]
   },
   "source": [
    "**Задание 27**\n",
    "\n",
    "Выведите на экран первые десять строк `moscow_genres`:"
   ]
  },
  {
   "cell_type": "code",
   "execution_count": 46,
   "metadata": {
    "deletable": false,
    "id": "WhCSooF8_Zcv"
   },
   "outputs": [
    {
     "data": {
      "text/plain": [
       "genre\n",
       "pop            5892\n",
       "dance          4435\n",
       "rock           3965\n",
       "electronic     3786\n",
       "hiphop         2096\n",
       "classical      1616\n",
       "world          1432\n",
       "alternative    1379\n",
       "ruspop         1372\n",
       "rusrap         1161\n",
       "Name: genre, dtype: int64"
      ]
     },
     "execution_count": 46,
     "metadata": {},
     "output_type": "execute_result"
    }
   ],
   "source": [
    "# просмотр первых 10 строк moscow_genres\n",
    "moscow_genres.head(10)"
   ]
  },
  {
   "cell_type": "markdown",
   "metadata": {
    "deletable": false,
    "editable": false,
    "id": "cnPG2vnN_Zcv",
    "tags": [
     "start_task"
    ]
   },
   "source": [
    "**Задание 28**\n",
    "\n",
    "\n",
    "Теперь повторите то же и для Петербурга.\n",
    "\n",
    "Сгруппируйте таблицу `spb_general` по жанру. Посчитайте прослушивания треков каждого жанра. Результат отсортируйте в порядке убывания и сохраните в таблице `spb_genres`:\n"
   ]
  },
  {
   "cell_type": "code",
   "execution_count": 47,
   "metadata": {
    "deletable": false,
    "id": "gluLIpE7_Zcv"
   },
   "outputs": [],
   "source": [
    "# одной строкой: группировка таблицы spb_general по столбцу 'genre',\n",
    "# подсчёт числа значений 'genre' в этой группировке методом count(),\n",
    "# сортировка получившегося Series в порядке убывания и сохранение в spb_genres\n",
    "spb_genres = spb_general.groupby('genre')['genre'].count().sort_values(ascending=False)"
   ]
  },
  {
   "cell_type": "markdown",
   "metadata": {
    "deletable": false,
    "editable": false,
    "id": "5Doha_ODgyQ8",
    "tags": [
     "start_task"
    ]
   },
   "source": [
    "**Задание 29**\n",
    "\n",
    "Выведите на экран первые десять строк `spb_genres`:"
   ]
  },
  {
   "cell_type": "code",
   "execution_count": 48,
   "metadata": {
    "deletable": false,
    "id": "uaGJHjVU_Zcv"
   },
   "outputs": [
    {
     "data": {
      "text/plain": [
       "genre\n",
       "pop            2431\n",
       "dance          1932\n",
       "rock           1879\n",
       "electronic     1736\n",
       "hiphop          960\n",
       "alternative     649\n",
       "classical       646\n",
       "rusrap          564\n",
       "ruspop          538\n",
       "world           515\n",
       "Name: genre, dtype: int64"
      ]
     },
     "execution_count": 48,
     "metadata": {},
     "output_type": "execute_result"
    }
   ],
   "source": [
    "# просмотр первых 10 строк spb_genres\n",
    "spb_genres.head(10)"
   ]
  },
  {
   "cell_type": "markdown",
   "metadata": {
    "deletable": false,
    "editable": false,
    "id": "RY51YJYu_Zcv"
   },
   "source": [
    "**Выводы**"
   ]
  },
  {
   "cell_type": "markdown",
   "metadata": {
    "deletable": false,
    "editable": false,
    "id": "nVhnJEm__Zcv"
   },
   "source": [
    "Гипотеза частично подтвердилась:\n",
    "* Поп-музыка — самый популярный жанр в Москве, как и предполагала гипотеза. Более того, в топ-10 жанров встречается близкий жанр — русская популярная музыка.\n",
    "* Вопреки ожиданиям, рэп одинаково популярен в Москве и Петербурге.\n"
   ]
  },
  {
   "cell_type": "markdown",
   "metadata": {
    "deletable": false,
    "editable": false,
    "id": "ykKQ0N65_Zcv"
   },
   "source": [
    "## Итоги исследования"
   ]
  },
  {
   "cell_type": "markdown",
   "metadata": {
    "deletable": false,
    "editable": false,
    "id": "tjUwbHb3_Zcv"
   },
   "source": [
    "Вы проверили три гипотезы и установили:\n",
    "\n",
    "1. День недели по-разному влияет на активность пользователей в Москве и Петербурге.\n",
    "\n",
    "Первая гипотеза полностью подтвердилась.\n",
    "\n",
    "2. Музыкальные предпочтения не сильно меняются в течение недели — будь то Москва или Петербург. Небольшие различия заметны в начале недели, по понедельникам:\n",
    "* в Москве слушают музыку жанра “world”,\n",
    "* в Петербурге — джаз и классику.\n",
    "\n",
    "Таким образом, вторая гипотеза подтвердилась лишь отчасти. Этот результат мог оказаться иным, если бы не пропуски в данных.\n",
    "\n",
    "3. Во вкусах пользователей Москвы и Петербурга больше общего, чем различий. Вопреки ожиданиям, предпочтения жанров в Петербурге напоминают московские.\n",
    "\n",
    "Третья гипотеза не подтвердилась. Если различия в предпочтениях и существуют, на основной массе пользователей они незаметны.\n",
    "\n",
    "**На практике исследования содержат проверки статистических гипотез.**\n",
    "Из данных одного сервиса не всегда можно сделать вывод о всех жителях города.\n",
    "Проверки статистических гипотез покажут, насколько они достоверны, исходя из имеющихся данных.\n",
    "С методами проверок гипотез вы ещё познакомитесь в следующих темах."
   ]
  }
 ],
 "metadata": {
  "ExecuteTimeLog": [
   {
    "duration": 406,
    "start_time": "2023-10-03T17:01:42.977Z"
   },
   {
    "duration": 220,
    "start_time": "2023-10-03T17:02:33.650Z"
   },
   {
    "duration": 174,
    "start_time": "2023-10-03T17:02:45.797Z"
   },
   {
    "duration": 11,
    "start_time": "2023-10-03T17:02:56.691Z"
   },
   {
    "duration": 33,
    "start_time": "2023-10-03T17:03:31.951Z"
   },
   {
    "duration": 4,
    "start_time": "2023-10-03T17:08:40.688Z"
   },
   {
    "duration": 17,
    "start_time": "2023-10-03T17:11:02.333Z"
   },
   {
    "duration": 5,
    "start_time": "2023-10-03T17:11:15.191Z"
   },
   {
    "duration": 4,
    "start_time": "2023-10-03T17:11:43.240Z"
   },
   {
    "duration": 3,
    "start_time": "2023-10-03T17:11:44.700Z"
   },
   {
    "duration": 28,
    "start_time": "2023-10-03T17:12:22.141Z"
   },
   {
    "duration": 28,
    "start_time": "2023-10-03T17:12:38.289Z"
   },
   {
    "duration": 18,
    "start_time": "2023-10-03T17:18:19.843Z"
   },
   {
    "duration": 27,
    "start_time": "2023-10-03T17:18:22.271Z"
   },
   {
    "duration": 67,
    "start_time": "2023-10-03T17:19:06.068Z"
   },
   {
    "duration": 65,
    "start_time": "2023-10-03T17:19:21.136Z"
   },
   {
    "duration": 66,
    "start_time": "2023-10-03T17:19:31.699Z"
   },
   {
    "duration": 104,
    "start_time": "2023-10-03T17:20:14.460Z"
   },
   {
    "duration": 94,
    "start_time": "2023-10-03T17:20:24.019Z"
   },
   {
    "duration": 62,
    "start_time": "2023-10-03T17:20:42.778Z"
   },
   {
    "duration": 9,
    "start_time": "2023-10-03T17:21:07.638Z"
   },
   {
    "duration": 10,
    "start_time": "2023-10-03T17:21:36.189Z"
   },
   {
    "duration": 16,
    "start_time": "2023-10-03T17:22:32.250Z"
   },
   {
    "duration": 10,
    "start_time": "2023-10-03T17:22:37.202Z"
   },
   {
    "duration": 14,
    "start_time": "2023-10-03T17:30:23.434Z"
   },
   {
    "duration": 9,
    "start_time": "2023-10-03T17:30:55.934Z"
   },
   {
    "duration": 13,
    "start_time": "2023-10-03T17:34:58.029Z"
   },
   {
    "duration": 11,
    "start_time": "2023-10-03T17:35:00.255Z"
   },
   {
    "duration": 14,
    "start_time": "2023-10-03T17:38:15.710Z"
   },
   {
    "duration": 14,
    "start_time": "2023-10-03T17:38:59.928Z"
   },
   {
    "duration": 47,
    "start_time": "2023-10-03T17:39:30.439Z"
   },
   {
    "duration": 13,
    "start_time": "2023-10-03T17:39:44.628Z"
   },
   {
    "duration": 7,
    "start_time": "2023-10-03T17:51:23.507Z"
   },
   {
    "duration": 4,
    "start_time": "2023-10-03T17:51:26.577Z"
   },
   {
    "duration": 14,
    "start_time": "2023-10-03T17:51:27.584Z"
   },
   {
    "duration": 13,
    "start_time": "2023-10-03T17:53:04.906Z"
   },
   {
    "duration": 17,
    "start_time": "2023-10-03T17:53:24.427Z"
   },
   {
    "duration": 12,
    "start_time": "2023-10-03T17:53:25.075Z"
   },
   {
    "duration": 3,
    "start_time": "2023-10-03T17:53:32.956Z"
   },
   {
    "duration": 11,
    "start_time": "2023-10-03T17:54:23.217Z"
   },
   {
    "duration": 12,
    "start_time": "2023-10-03T17:54:31.506Z"
   },
   {
    "duration": 398,
    "start_time": "2023-10-03T17:55:06.384Z"
   },
   {
    "duration": 195,
    "start_time": "2023-10-03T17:55:06.784Z"
   },
   {
    "duration": 17,
    "start_time": "2023-10-03T17:55:06.980Z"
   },
   {
    "duration": 53,
    "start_time": "2023-10-03T17:55:07.000Z"
   },
   {
    "duration": 4,
    "start_time": "2023-10-03T17:55:07.056Z"
   },
   {
    "duration": 18,
    "start_time": "2023-10-03T17:55:07.062Z"
   },
   {
    "duration": 11,
    "start_time": "2023-10-03T17:55:07.083Z"
   },
   {
    "duration": 20,
    "start_time": "2023-10-03T17:55:07.095Z"
   },
   {
    "duration": 42,
    "start_time": "2023-10-03T17:55:07.116Z"
   },
   {
    "duration": 24,
    "start_time": "2023-10-03T17:55:07.160Z"
   },
   {
    "duration": 47,
    "start_time": "2023-10-03T17:55:07.185Z"
   },
   {
    "duration": 75,
    "start_time": "2023-10-03T17:55:07.233Z"
   },
   {
    "duration": 81,
    "start_time": "2023-10-03T17:55:07.310Z"
   },
   {
    "duration": 72,
    "start_time": "2023-10-03T17:55:07.392Z"
   },
   {
    "duration": 11,
    "start_time": "2023-10-03T17:55:07.465Z"
   },
   {
    "duration": 13,
    "start_time": "2023-10-03T17:55:07.478Z"
   },
   {
    "duration": 21,
    "start_time": "2023-10-03T17:55:07.493Z"
   },
   {
    "duration": 34,
    "start_time": "2023-10-03T17:55:07.516Z"
   },
   {
    "duration": 15,
    "start_time": "2023-10-03T17:55:07.553Z"
   },
   {
    "duration": 15,
    "start_time": "2023-10-03T17:55:07.570Z"
   },
   {
    "duration": 29,
    "start_time": "2023-10-03T17:55:07.587Z"
   },
   {
    "duration": 17,
    "start_time": "2023-10-03T17:55:07.618Z"
   },
   {
    "duration": 49,
    "start_time": "2023-10-03T17:55:07.637Z"
   },
   {
    "duration": 19,
    "start_time": "2023-10-03T17:55:07.687Z"
   },
   {
    "duration": 23,
    "start_time": "2023-10-03T17:55:07.708Z"
   },
   {
    "duration": 22,
    "start_time": "2023-10-03T17:55:07.733Z"
   },
   {
    "duration": 12,
    "start_time": "2023-10-03T17:55:07.757Z"
   },
   {
    "duration": 4,
    "start_time": "2023-10-03T17:55:07.771Z"
   },
   {
    "duration": 6,
    "start_time": "2023-10-03T17:55:07.777Z"
   },
   {
    "duration": 91,
    "start_time": "2023-10-03T17:55:07.784Z"
   },
   {
    "duration": 0,
    "start_time": "2023-10-03T17:55:07.877Z"
   },
   {
    "duration": 0,
    "start_time": "2023-10-03T17:55:07.878Z"
   },
   {
    "duration": 0,
    "start_time": "2023-10-03T17:55:07.879Z"
   },
   {
    "duration": 1,
    "start_time": "2023-10-03T17:55:07.879Z"
   },
   {
    "duration": 0,
    "start_time": "2023-10-03T17:55:07.880Z"
   },
   {
    "duration": 0,
    "start_time": "2023-10-03T17:55:07.881Z"
   },
   {
    "duration": 0,
    "start_time": "2023-10-03T17:55:07.882Z"
   },
   {
    "duration": 0,
    "start_time": "2023-10-03T17:55:07.883Z"
   },
   {
    "duration": 74,
    "start_time": "2023-10-03T17:55:49.408Z"
   },
   {
    "duration": 17,
    "start_time": "2023-10-03T17:56:16.098Z"
   },
   {
    "duration": 15,
    "start_time": "2023-10-03T17:56:38.269Z"
   },
   {
    "duration": 18,
    "start_time": "2023-10-03T17:56:49.558Z"
   },
   {
    "duration": 14,
    "start_time": "2023-10-03T17:57:00.508Z"
   },
   {
    "duration": 16,
    "start_time": "2023-10-03T17:57:10.575Z"
   },
   {
    "duration": 14,
    "start_time": "2023-10-03T17:57:21.879Z"
   },
   {
    "duration": 400,
    "start_time": "2023-10-04T04:42:41.535Z"
   },
   {
    "duration": 254,
    "start_time": "2023-10-04T04:42:41.937Z"
   },
   {
    "duration": 18,
    "start_time": "2023-10-04T04:42:42.193Z"
   },
   {
    "duration": 42,
    "start_time": "2023-10-04T04:42:42.213Z"
   },
   {
    "duration": 27,
    "start_time": "2023-10-04T04:42:42.256Z"
   },
   {
    "duration": 21,
    "start_time": "2023-10-04T04:42:42.285Z"
   },
   {
    "duration": 15,
    "start_time": "2023-10-04T04:42:42.307Z"
   },
   {
    "duration": 40,
    "start_time": "2023-10-04T04:42:42.323Z"
   },
   {
    "duration": 133,
    "start_time": "2023-10-04T04:42:42.364Z"
   },
   {
    "duration": 51,
    "start_time": "2023-10-04T04:42:42.499Z"
   },
   {
    "duration": 73,
    "start_time": "2023-10-04T04:42:42.551Z"
   },
   {
    "duration": 235,
    "start_time": "2023-10-04T04:42:42.626Z"
   },
   {
    "duration": 78,
    "start_time": "2023-10-04T04:42:42.862Z"
   },
   {
    "duration": 67,
    "start_time": "2023-10-04T04:42:42.941Z"
   },
   {
    "duration": 10,
    "start_time": "2023-10-04T04:42:43.010Z"
   },
   {
    "duration": 32,
    "start_time": "2023-10-04T04:42:43.022Z"
   },
   {
    "duration": 28,
    "start_time": "2023-10-04T04:42:43.055Z"
   },
   {
    "duration": 36,
    "start_time": "2023-10-04T04:42:43.085Z"
   },
   {
    "duration": 209,
    "start_time": "2023-10-04T04:42:43.123Z"
   },
   {
    "duration": 44,
    "start_time": "2023-10-04T04:42:43.334Z"
   },
   {
    "duration": 38,
    "start_time": "2023-10-04T04:42:43.380Z"
   },
   {
    "duration": 40,
    "start_time": "2023-10-04T04:42:43.420Z"
   },
   {
    "duration": 43,
    "start_time": "2023-10-04T04:42:43.461Z"
   },
   {
    "duration": 34,
    "start_time": "2023-10-04T04:42:43.506Z"
   },
   {
    "duration": 34,
    "start_time": "2023-10-04T04:42:43.541Z"
   },
   {
    "duration": 20,
    "start_time": "2023-10-04T04:42:43.576Z"
   },
   {
    "duration": 24,
    "start_time": "2023-10-04T04:42:43.598Z"
   },
   {
    "duration": 21,
    "start_time": "2023-10-04T04:42:43.625Z"
   },
   {
    "duration": 22,
    "start_time": "2023-10-04T04:42:43.648Z"
   },
   {
    "duration": 116,
    "start_time": "2023-10-04T04:42:43.672Z"
   },
   {
    "duration": 0,
    "start_time": "2023-10-04T04:42:43.790Z"
   },
   {
    "duration": 0,
    "start_time": "2023-10-04T04:42:43.791Z"
   },
   {
    "duration": 0,
    "start_time": "2023-10-04T04:42:43.792Z"
   },
   {
    "duration": 0,
    "start_time": "2023-10-04T04:42:43.793Z"
   },
   {
    "duration": 0,
    "start_time": "2023-10-04T04:42:43.794Z"
   },
   {
    "duration": 0,
    "start_time": "2023-10-04T04:42:43.795Z"
   },
   {
    "duration": 0,
    "start_time": "2023-10-04T04:42:43.796Z"
   },
   {
    "duration": 0,
    "start_time": "2023-10-04T04:42:43.797Z"
   },
   {
    "duration": 76,
    "start_time": "2023-10-04T04:46:37.662Z"
   },
   {
    "duration": 11,
    "start_time": "2023-10-04T04:49:53.312Z"
   },
   {
    "duration": 36,
    "start_time": "2023-10-04T04:50:04.303Z"
   },
   {
    "duration": 20,
    "start_time": "2023-10-04T04:50:12.946Z"
   },
   {
    "duration": 12,
    "start_time": "2023-10-04T04:50:21.968Z"
   },
   {
    "duration": 9,
    "start_time": "2023-10-04T04:50:26.590Z"
   },
   {
    "duration": 4,
    "start_time": "2023-10-04T05:03:56.828Z"
   },
   {
    "duration": 67,
    "start_time": "2023-10-04T05:05:31.543Z"
   },
   {
    "duration": 19,
    "start_time": "2023-10-04T05:05:48.337Z"
   },
   {
    "duration": 17,
    "start_time": "2023-10-04T05:07:08.331Z"
   },
   {
    "duration": 14,
    "start_time": "2023-10-04T05:07:08.789Z"
   },
   {
    "duration": 21,
    "start_time": "2023-10-04T05:07:10.129Z"
   },
   {
    "duration": 13,
    "start_time": "2023-10-04T05:07:12.916Z"
   },
   {
    "duration": 11,
    "start_time": "2023-10-04T05:10:48.105Z"
   },
   {
    "duration": 6,
    "start_time": "2023-10-04T05:11:09.815Z"
   },
   {
    "duration": 8,
    "start_time": "2023-10-04T05:11:12.184Z"
   },
   {
    "duration": 5,
    "start_time": "2023-10-04T05:11:16.146Z"
   },
   {
    "duration": 9,
    "start_time": "2023-10-04T05:11:24.303Z"
   },
   {
    "duration": 4,
    "start_time": "2023-10-04T05:11:25.612Z"
   },
   {
    "duration": 6,
    "start_time": "2023-10-04T05:12:01.114Z"
   },
   {
    "duration": 3,
    "start_time": "2023-10-04T05:12:02.849Z"
   },
   {
    "duration": 6,
    "start_time": "2023-10-04T05:12:15.050Z"
   },
   {
    "duration": 391,
    "start_time": "2023-10-04T05:13:26.638Z"
   },
   {
    "duration": 178,
    "start_time": "2023-10-04T05:13:27.031Z"
   },
   {
    "duration": 17,
    "start_time": "2023-10-04T05:13:27.211Z"
   },
   {
    "duration": 70,
    "start_time": "2023-10-04T05:13:27.230Z"
   },
   {
    "duration": 14,
    "start_time": "2023-10-04T05:13:27.302Z"
   },
   {
    "duration": 37,
    "start_time": "2023-10-04T05:13:27.318Z"
   },
   {
    "duration": 12,
    "start_time": "2023-10-04T05:13:27.364Z"
   },
   {
    "duration": 28,
    "start_time": "2023-10-04T05:13:27.377Z"
   },
   {
    "duration": 55,
    "start_time": "2023-10-04T05:13:27.407Z"
   },
   {
    "duration": 50,
    "start_time": "2023-10-04T05:13:27.465Z"
   },
   {
    "duration": 69,
    "start_time": "2023-10-04T05:13:27.517Z"
   },
   {
    "duration": 96,
    "start_time": "2023-10-04T05:13:27.587Z"
   },
   {
    "duration": 180,
    "start_time": "2023-10-04T05:13:27.684Z"
   },
   {
    "duration": 127,
    "start_time": "2023-10-04T05:13:27.866Z"
   },
   {
    "duration": 35,
    "start_time": "2023-10-04T05:13:27.995Z"
   },
   {
    "duration": 48,
    "start_time": "2023-10-04T05:13:28.031Z"
   },
   {
    "duration": 43,
    "start_time": "2023-10-04T05:13:28.081Z"
   },
   {
    "duration": 21,
    "start_time": "2023-10-04T05:13:28.126Z"
   },
   {
    "duration": 26,
    "start_time": "2023-10-04T05:13:28.149Z"
   },
   {
    "duration": 26,
    "start_time": "2023-10-04T05:13:28.177Z"
   },
   {
    "duration": 78,
    "start_time": "2023-10-04T05:13:28.205Z"
   },
   {
    "duration": 23,
    "start_time": "2023-10-04T05:13:28.284Z"
   },
   {
    "duration": 50,
    "start_time": "2023-10-04T05:13:28.309Z"
   },
   {
    "duration": 25,
    "start_time": "2023-10-04T05:13:28.361Z"
   },
   {
    "duration": 43,
    "start_time": "2023-10-04T05:13:28.387Z"
   },
   {
    "duration": 16,
    "start_time": "2023-10-04T05:13:28.432Z"
   },
   {
    "duration": 84,
    "start_time": "2023-10-04T05:13:28.450Z"
   },
   {
    "duration": 14,
    "start_time": "2023-10-04T05:13:28.539Z"
   },
   {
    "duration": 20,
    "start_time": "2023-10-04T05:13:28.555Z"
   },
   {
    "duration": 40,
    "start_time": "2023-10-04T05:13:28.577Z"
   },
   {
    "duration": 71,
    "start_time": "2023-10-04T05:13:28.619Z"
   },
   {
    "duration": 16,
    "start_time": "2023-10-04T05:13:28.692Z"
   },
   {
    "duration": 33,
    "start_time": "2023-10-04T05:13:28.711Z"
   },
   {
    "duration": 71,
    "start_time": "2023-10-04T05:13:28.746Z"
   },
   {
    "duration": 35,
    "start_time": "2023-10-04T05:13:28.819Z"
   },
   {
    "duration": 31,
    "start_time": "2023-10-04T05:13:28.856Z"
   },
   {
    "duration": 53,
    "start_time": "2023-10-04T05:13:28.889Z"
   },
   {
    "duration": 45,
    "start_time": "2023-10-04T05:13:28.943Z"
   },
   {
    "duration": 464,
    "start_time": "2023-10-04T05:18:02.322Z"
   },
   {
    "duration": 192,
    "start_time": "2023-10-04T05:18:02.789Z"
   },
   {
    "duration": 24,
    "start_time": "2023-10-04T05:18:02.983Z"
   },
   {
    "duration": 78,
    "start_time": "2023-10-04T05:18:03.009Z"
   },
   {
    "duration": 19,
    "start_time": "2023-10-04T05:18:03.089Z"
   },
   {
    "duration": 45,
    "start_time": "2023-10-04T05:18:03.110Z"
   },
   {
    "duration": 153,
    "start_time": "2023-10-04T05:18:03.157Z"
   },
   {
    "duration": 72,
    "start_time": "2023-10-04T05:18:03.312Z"
   },
   {
    "duration": 96,
    "start_time": "2023-10-04T05:18:03.387Z"
   },
   {
    "duration": 91,
    "start_time": "2023-10-04T05:18:03.486Z"
   },
   {
    "duration": 106,
    "start_time": "2023-10-04T05:18:03.580Z"
   },
   {
    "duration": 115,
    "start_time": "2023-10-04T05:18:03.688Z"
   },
   {
    "duration": 74,
    "start_time": "2023-10-04T05:18:03.805Z"
   },
   {
    "duration": 82,
    "start_time": "2023-10-04T05:18:03.880Z"
   },
   {
    "duration": 93,
    "start_time": "2023-10-04T05:18:03.965Z"
   },
   {
    "duration": 0,
    "start_time": "2023-10-04T05:18:04.061Z"
   },
   {
    "duration": 0,
    "start_time": "2023-10-04T05:18:04.061Z"
   },
   {
    "duration": 0,
    "start_time": "2023-10-04T05:18:04.062Z"
   },
   {
    "duration": 0,
    "start_time": "2023-10-04T05:18:04.063Z"
   },
   {
    "duration": 0,
    "start_time": "2023-10-04T05:18:04.064Z"
   },
   {
    "duration": 0,
    "start_time": "2023-10-04T05:18:04.066Z"
   },
   {
    "duration": 0,
    "start_time": "2023-10-04T05:18:04.067Z"
   },
   {
    "duration": 0,
    "start_time": "2023-10-04T05:18:04.068Z"
   },
   {
    "duration": 0,
    "start_time": "2023-10-04T05:18:04.070Z"
   },
   {
    "duration": 0,
    "start_time": "2023-10-04T05:18:04.071Z"
   },
   {
    "duration": 0,
    "start_time": "2023-10-04T05:18:04.073Z"
   },
   {
    "duration": 0,
    "start_time": "2023-10-04T05:18:04.074Z"
   },
   {
    "duration": 0,
    "start_time": "2023-10-04T05:18:04.075Z"
   },
   {
    "duration": 0,
    "start_time": "2023-10-04T05:18:04.076Z"
   },
   {
    "duration": 0,
    "start_time": "2023-10-04T05:18:04.101Z"
   },
   {
    "duration": 0,
    "start_time": "2023-10-04T05:18:04.103Z"
   },
   {
    "duration": 0,
    "start_time": "2023-10-04T05:18:04.104Z"
   },
   {
    "duration": 0,
    "start_time": "2023-10-04T05:18:04.105Z"
   },
   {
    "duration": 0,
    "start_time": "2023-10-04T05:18:04.107Z"
   },
   {
    "duration": 0,
    "start_time": "2023-10-04T05:18:04.107Z"
   },
   {
    "duration": 0,
    "start_time": "2023-10-04T05:18:04.109Z"
   },
   {
    "duration": 0,
    "start_time": "2023-10-04T05:18:04.110Z"
   },
   {
    "duration": 1,
    "start_time": "2023-10-04T05:18:04.111Z"
   },
   {
    "duration": 18,
    "start_time": "2023-10-04T05:18:27.300Z"
   },
   {
    "duration": 71,
    "start_time": "2023-10-04T05:18:47.437Z"
   },
   {
    "duration": 14,
    "start_time": "2023-10-04T05:19:48.868Z"
   },
   {
    "duration": 10,
    "start_time": "2023-10-04T05:22:26.140Z"
   },
   {
    "duration": 46,
    "start_time": "2023-10-04T05:22:28.649Z"
   }
  ],
  "colab": {
   "collapsed_sections": [
    "E0vqbgi9ay0H",
    "VUC88oWjTJw2"
   ],
   "provenance": []
  },
  "kernelspec": {
   "display_name": "Python 3 (ipykernel)",
   "language": "python",
   "name": "python3"
  },
  "language_info": {
   "codemirror_mode": {
    "name": "ipython",
    "version": 3
   },
   "file_extension": ".py",
   "mimetype": "text/x-python",
   "name": "python",
   "nbconvert_exporter": "python",
   "pygments_lexer": "ipython3",
   "version": "3.9.18"
  },
  "toc": {
   "base_numbering": 1,
   "nav_menu": {
    "height": "215px",
    "width": "403px"
   },
   "number_sections": true,
   "sideBar": true,
   "skip_h1_title": true,
   "title_cell": "Table of Contents",
   "title_sidebar": "Contents",
   "toc_cell": false,
   "toc_position": {
    "height": "calc(100% - 180px)",
    "left": "10px",
    "top": "150px",
    "width": "285.825px"
   },
   "toc_section_display": true,
   "toc_window_display": false
  }
 },
 "nbformat": 4,
 "nbformat_minor": 1
}
