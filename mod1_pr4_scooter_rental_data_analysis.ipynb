{
 "cells": [
  {
   "cell_type": "markdown",
   "id": "48f6bad1",
   "metadata": {},
   "source": [
    "<div style=\"border:solid green 3px; padding: 20px\">\n",
    "\t\t\t\t\t\t\t\t\t\t\t\t\t\t\t\t\t\t\t\t\t\n",
    "<b>Привет!</b>\n",
    "\t\t\t\t\t\t\t\t\t\t\t\t\t\t\t\t\t\t\t\t\t\n",
    "Меня зовут Сороколетов Илья и я буду проверять твой проект. \n",
    "\t\t\t\t\t\t\t\t\t\t\t\t\t\t\t\t\t\t\t\t\t\n",
    "Предлагаю общаться на «**ты**», но если тебе будет комфортнее общаться на «**вы**», то сообщи об этом в комментариях)\n",
    "\t\t\t\t\t\t\t\t\t\t\t\t\t\t\t\t\t\t\t\t\t\n",
    "\t\t\t\t\t\t\t\t\t\t\t\t\t\t\t\t\t\t\t\t\t\n",
    "Для твоего удобства, я буду выделять свои комментарии следующим образом:\n",
    "\t\t\t\t\t\t\t\t\t\t\t\t\t\t\t\t\t\t\t\t\t\n",
    "<div class=\"alert alert-danger\">\n",
    "<b>❌ Комментарий ревьюера v1:</b> Самые важные замечания. Они указывают на ключевые моменты, которые влияют на конечный результат проекта. </div>\n",
    "\t\t\t\t\t\t\t\t\t\t\t\t\t\t\t\t\t\t\t\t\t\n",
    "<div class=\"alert alert-warning\">\n",
    "<b>⚠️ Комментарий ревьюера v1:</b> Советы или замечания, которые помогут сделать твою работу лучше, но необязательны к выполнению.\n",
    "\t\t\t\t\t\t\t\t\t\t\t\t\t\t\t\t\t\t\t\t\t\n",
    "</div>\n",
    "\t\t\t\t\t\t\t\t\t\t\t\t\t\t\t\t\t\t\t\t\t\n",
    "<div class=\"alert alert-success\">\n",
    "<b>✔️ Комментарий ревьюера v1:</b> Так я выделяю все остальные комментарии.</div>\n",
    "\t\t\t\t\t\t\t\t\t\t\t\t\t\t\t\t\t\t\t\t\t\n",
    "\t\t\t\t\t\t\t\t\t\t\t\t\t\t\t\t\t\t\t\t\t\n",
    "Пометками <b>v1-v2-v3-...</b> я буду отмечать версию проверки. Так ты сможешь быстро найти мои новые комментарии.\n",
    "\t\t\t\t\t\t\t\t\t\t\t\t\t\t\t\t\t\t\t\t\t\n",
    "Давай работать над проектом в диалоге: если ты что-то меняешь в проекте по моим рекомендациям — пиши об этом. Выбери для своих комментариев какой-то заметный цвет, так мне будет легче отследить изменения, например вот так:\n",
    "\t\t\t\t\t\t\t\t\t\t\t\t\t\t\t\t\t\t\t\t\t    \n",
    "<div class=\"alert alert-info\">\n",
    "<b>Комментарий студента:</b>\n",
    "<br>\n",
    "</div>\n",
    "\t\t\t\t\t\t\t\t\t\t\t\t\t\t\t\t\t\t\t\t\t\n",
    "<b>Пожалуйста, не перемещай, не изменяй и не удаляй мои комментарии.</b> Если ты оставляешь свои комментарии, то делай это под моими, чтобы сообщения были расположены в хронологическом порядке. Всё это поможет выполнить повторную проверку твоего проекта быстрее. \n",
    "\t\t\t\t\t\t\t\t\t\t\t\t\t\t\t\t\t\t\t\t\t\n",
    "Перед отправкой работы я рекомендую нажимать Kernel -> Restart & Run All. Это перезапустит ядро и по очереди выполнит все ячейки. Так ты сможешь проверить, что всё работает корректно. Кнопка Kernel находится в панели сверху\n",
    "\t\t\t\t\t\t\t\t\t\t\t\t\t\t\t\t\t\t\t\t\t\n",
    "Обязательно задавай вопросы если они возникнут, а я перехожу к проверке)\n",
    "\t\t\t\t\t\t\t\t\t\t\t\t\t\t\t\t\t\t\t\t\t\n",
    "P.S. На всякий случай, я оставлю пустой шаблон для твоих комментариев ниже. Кликни два раза на мой комментарий, скопируй последние четыре строчки кода и вставляй их в пустую ячейку там, где ты хочешь оставить комментарий. Не забудь только перед этим сменить тип ячейки на Markdown. Быстро это можно сделать так: кликнуть на ячейку - нажать ESC - нажать M. \n",
    "\t\t\t\t\t\t\t\t\t\t\t\t\t\t\t\t\t\t\t\t\t    \n",
    "\t\t\t\t\t\t\t\t\t\t\t\t\t\t\t\t\t\t\t\t\t    \n",
    "<div class=\"alert alert-info\">\n",
    "<b>Комментарий студента:</b>\n",
    "<br>Удали этот текст и вместо него напиши свой комментарий 🙂\n",
    "</div>"
   ]
  },
  {
   "cell_type": "markdown",
   "id": "562bc8ea",
   "metadata": {},
   "source": [
    "<div class=\"alert alert-danger\">\n",
    "<b>❌ Комментарий ревьюера v1:</b> \n",
    "<br>Важно оставлять перед проектом краткое описание задачи. Это поможет тебе быстро вспомнить о чем проект, если спустя время ты решишь к нему вернуться)\n",
    "</div>"
   ]
  },
  {
   "cell_type": "markdown",
   "id": "70aa72e3",
   "metadata": {},
   "source": [
    "<div class=\"alert alert-info\">\n",
    "<b>Комментарий студента:</b>\n",
    "<br>\n",
    "Добавил краткое описание ниже.\n",
    "</div>"
   ]
  },
  {
   "cell_type": "markdown",
   "id": "862e621b",
   "metadata": {},
   "source": [
    "### Описание проекта\n",
    "Проект по анализу данных популярного сервиса аренды самокатов GoFast. Данные содержат информацию о некоторых пользователях из нескольких городов, а также об их поездках. Чтобы совершать поездки по городу, пользователи сервиса GoFast пользуются мобильным приложением. Сервисом можно пользоваться как с подпиской, так и без неё.\n",
    "\n",
    "Нужно провести анализ данных и проверить ряд гипотез, которые могут помочь бизнесу вырасти.\n"
   ]
  },
  {
   "cell_type": "markdown",
   "id": "8efaafb7",
   "metadata": {},
   "source": [
    "<div class=\"alert alert-success\">\n",
    "<b>✔️ Комментарий ревьюера v2:</b>\n",
    "<br>Обе правки выполнены 👍\n",
    "</div>"
   ]
  },
  {
   "cell_type": "code",
   "execution_count": 1,
   "id": "72576667",
   "metadata": {},
   "outputs": [],
   "source": [
    "import pandas as pd\n",
    "import numpy as np\n",
    "import scipy.stats as st\n",
    "from scipy.stats import binom, norm\n",
    "from matplotlib import pyplot as plt"
   ]
  },
  {
   "cell_type": "markdown",
   "id": "b7c01ff9",
   "metadata": {},
   "source": [
    "<div class=\"alert alert-success\">\n",
    "<b>✔️ Комментарий ревьюера v1:</b> \n",
    "<br>Молодец, что импортируешь все библиотеки отдельно в первой ячейке. Это позволит тебе в любой момент добавить ещё одну библиотеку без перезаписи переменных.\n",
    "</div>"
   ]
  },
  {
   "cell_type": "code",
   "execution_count": 2,
   "id": "cbb9c90e",
   "metadata": {},
   "outputs": [],
   "source": [
    "# Настройки\n",
    "pd.set_option('display.max_columns', None)\n",
    "pd.set_option('display.max_rows', None)\n",
    "pd.set_option('display.float_format', '{:.2f}'.format)"
   ]
  },
  {
   "cell_type": "markdown",
   "id": "c42cbe00",
   "metadata": {},
   "source": [
    "#### Шаг 1. Загрузка данных"
   ]
  },
  {
   "cell_type": "code",
   "execution_count": 3,
   "id": "eff9f206",
   "metadata": {},
   "outputs": [
    {
     "data": {
      "text/plain": [
       "'Датасеты из Практикума загружены.'"
      ]
     },
     "metadata": {},
     "output_type": "display_data"
    }
   ],
   "source": [
    "try:\n",
    "    # Практикум\n",
    "    users_original_df = pd.read_csv('/datasets/users_go.csv')\n",
    "    rides_original_df = pd.read_csv('/datasets/rides_go.csv')\n",
    "    subs_original_df = pd.read_csv('/datasets/subscriptions_go.csv')\n",
    "    display('Датасеты из Практикума загружены.')\n",
    "except:\n",
    "    # Локальный проект\n",
    "    users_original_df = pd.read_csv('datasets/users_go.csv')\n",
    "    rides_original_df = pd.read_csv('datasets/rides_go.csv')\n",
    "    subs_original_df = pd.read_csv('datasets/subscriptions_go.csv')\n",
    "    display('Локальные датасеты загружены.')"
   ]
  },
  {
   "cell_type": "markdown",
   "id": "82d44a34",
   "metadata": {},
   "source": [
    "**Users:**\n",
    "* user_id\t- уникальный идентификатор пользователя\n",
    "* name - имя пользователя\n",
    "* age - возраст\n",
    "* city - город\n",
    "* subscription_type - тип подписки (free, ultra)"
   ]
  },
  {
   "cell_type": "code",
   "execution_count": 4,
   "id": "341e1fed",
   "metadata": {},
   "outputs": [
    {
     "data": {
      "text/html": [
       "<div>\n",
       "<style scoped>\n",
       "    .dataframe tbody tr th:only-of-type {\n",
       "        vertical-align: middle;\n",
       "    }\n",
       "\n",
       "    .dataframe tbody tr th {\n",
       "        vertical-align: top;\n",
       "    }\n",
       "\n",
       "    .dataframe thead th {\n",
       "        text-align: right;\n",
       "    }\n",
       "</style>\n",
       "<table border=\"1\" class=\"dataframe\">\n",
       "  <thead>\n",
       "    <tr style=\"text-align: right;\">\n",
       "      <th></th>\n",
       "      <th>user_id</th>\n",
       "      <th>name</th>\n",
       "      <th>age</th>\n",
       "      <th>city</th>\n",
       "      <th>subscription_type</th>\n",
       "    </tr>\n",
       "  </thead>\n",
       "  <tbody>\n",
       "    <tr>\n",
       "      <th>0</th>\n",
       "      <td>1</td>\n",
       "      <td>Кира</td>\n",
       "      <td>22</td>\n",
       "      <td>Тюмень</td>\n",
       "      <td>ultra</td>\n",
       "    </tr>\n",
       "    <tr>\n",
       "      <th>1</th>\n",
       "      <td>2</td>\n",
       "      <td>Станислав</td>\n",
       "      <td>31</td>\n",
       "      <td>Омск</td>\n",
       "      <td>ultra</td>\n",
       "    </tr>\n",
       "    <tr>\n",
       "      <th>2</th>\n",
       "      <td>3</td>\n",
       "      <td>Алексей</td>\n",
       "      <td>20</td>\n",
       "      <td>Москва</td>\n",
       "      <td>ultra</td>\n",
       "    </tr>\n",
       "    <tr>\n",
       "      <th>3</th>\n",
       "      <td>4</td>\n",
       "      <td>Константин</td>\n",
       "      <td>26</td>\n",
       "      <td>Ростов-на-Дону</td>\n",
       "      <td>ultra</td>\n",
       "    </tr>\n",
       "    <tr>\n",
       "      <th>4</th>\n",
       "      <td>5</td>\n",
       "      <td>Адель</td>\n",
       "      <td>28</td>\n",
       "      <td>Омск</td>\n",
       "      <td>ultra</td>\n",
       "    </tr>\n",
       "  </tbody>\n",
       "</table>\n",
       "</div>"
      ],
      "text/plain": [
       "   user_id        name  age            city subscription_type\n",
       "0        1        Кира   22          Тюмень             ultra\n",
       "1        2   Станислав   31            Омск             ultra\n",
       "2        3     Алексей   20          Москва             ultra\n",
       "3        4  Константин   26  Ростов-на-Дону             ultra\n",
       "4        5       Адель   28            Омск             ultra"
      ]
     },
     "execution_count": 4,
     "metadata": {},
     "output_type": "execute_result"
    }
   ],
   "source": [
    "users_original_df.head()"
   ]
  },
  {
   "cell_type": "code",
   "execution_count": 5,
   "id": "26037c76",
   "metadata": {},
   "outputs": [
    {
     "name": "stdout",
     "output_type": "stream",
     "text": [
      "<class 'pandas.core.frame.DataFrame'>\n",
      "RangeIndex: 1565 entries, 0 to 1564\n",
      "Data columns (total 5 columns):\n",
      " #   Column             Non-Null Count  Dtype \n",
      "---  ------             --------------  ----- \n",
      " 0   user_id            1565 non-null   int64 \n",
      " 1   name               1565 non-null   object\n",
      " 2   age                1565 non-null   int64 \n",
      " 3   city               1565 non-null   object\n",
      " 4   subscription_type  1565 non-null   object\n",
      "dtypes: int64(2), object(3)\n",
      "memory usage: 61.3+ KB\n"
     ]
    }
   ],
   "source": [
    "users_original_df.info()"
   ]
  },
  {
   "cell_type": "markdown",
   "id": "8ec341d4",
   "metadata": {},
   "source": [
    "**Rides:**\n",
    "* user_id - уникальный идентификатор пользователя\n",
    "* distance - расстояние, которое пользователь проехал в текущей сессии (в метрах)\n",
    "* duration - продолжительность сессии (в минутах) — время с того момента, как пользователь нажал кнопку «Начать поездку» до момента, как он нажал кнопку «Завершить поездку»\n",
    "* date - дата совершения поездки"
   ]
  },
  {
   "cell_type": "code",
   "execution_count": 6,
   "id": "5bbb0b4e",
   "metadata": {},
   "outputs": [
    {
     "data": {
      "text/html": [
       "<div>\n",
       "<style scoped>\n",
       "    .dataframe tbody tr th:only-of-type {\n",
       "        vertical-align: middle;\n",
       "    }\n",
       "\n",
       "    .dataframe tbody tr th {\n",
       "        vertical-align: top;\n",
       "    }\n",
       "\n",
       "    .dataframe thead th {\n",
       "        text-align: right;\n",
       "    }\n",
       "</style>\n",
       "<table border=\"1\" class=\"dataframe\">\n",
       "  <thead>\n",
       "    <tr style=\"text-align: right;\">\n",
       "      <th></th>\n",
       "      <th>user_id</th>\n",
       "      <th>distance</th>\n",
       "      <th>duration</th>\n",
       "      <th>date</th>\n",
       "    </tr>\n",
       "  </thead>\n",
       "  <tbody>\n",
       "    <tr>\n",
       "      <th>0</th>\n",
       "      <td>1</td>\n",
       "      <td>4409.92</td>\n",
       "      <td>25.60</td>\n",
       "      <td>2021-01-01</td>\n",
       "    </tr>\n",
       "    <tr>\n",
       "      <th>1</th>\n",
       "      <td>1</td>\n",
       "      <td>2617.59</td>\n",
       "      <td>15.82</td>\n",
       "      <td>2021-01-18</td>\n",
       "    </tr>\n",
       "    <tr>\n",
       "      <th>2</th>\n",
       "      <td>1</td>\n",
       "      <td>754.16</td>\n",
       "      <td>6.23</td>\n",
       "      <td>2021-04-20</td>\n",
       "    </tr>\n",
       "    <tr>\n",
       "      <th>3</th>\n",
       "      <td>1</td>\n",
       "      <td>2694.78</td>\n",
       "      <td>18.51</td>\n",
       "      <td>2021-08-11</td>\n",
       "    </tr>\n",
       "    <tr>\n",
       "      <th>4</th>\n",
       "      <td>1</td>\n",
       "      <td>4028.69</td>\n",
       "      <td>26.27</td>\n",
       "      <td>2021-08-28</td>\n",
       "    </tr>\n",
       "  </tbody>\n",
       "</table>\n",
       "</div>"
      ],
      "text/plain": [
       "   user_id  distance  duration        date\n",
       "0        1   4409.92     25.60  2021-01-01\n",
       "1        1   2617.59     15.82  2021-01-18\n",
       "2        1    754.16      6.23  2021-04-20\n",
       "3        1   2694.78     18.51  2021-08-11\n",
       "4        1   4028.69     26.27  2021-08-28"
      ]
     },
     "execution_count": 6,
     "metadata": {},
     "output_type": "execute_result"
    }
   ],
   "source": [
    "rides_original_df.head()"
   ]
  },
  {
   "cell_type": "code",
   "execution_count": 7,
   "id": "6830aa65",
   "metadata": {},
   "outputs": [
    {
     "name": "stdout",
     "output_type": "stream",
     "text": [
      "<class 'pandas.core.frame.DataFrame'>\n",
      "RangeIndex: 18068 entries, 0 to 18067\n",
      "Data columns (total 4 columns):\n",
      " #   Column    Non-Null Count  Dtype  \n",
      "---  ------    --------------  -----  \n",
      " 0   user_id   18068 non-null  int64  \n",
      " 1   distance  18068 non-null  float64\n",
      " 2   duration  18068 non-null  float64\n",
      " 3   date      18068 non-null  object \n",
      "dtypes: float64(2), int64(1), object(1)\n",
      "memory usage: 564.8+ KB\n"
     ]
    }
   ],
   "source": [
    "rides_original_df.info()"
   ]
  },
  {
   "cell_type": "markdown",
   "id": "8f18d286",
   "metadata": {},
   "source": [
    "**Subscriptions:**\n",
    "* subscription_type - тип подписки\n",
    "* minute_price - стоимость одной минуты поездки по данной подписке\n",
    "* start_ride_price - стоимость начала поездки\n",
    "* subscription_fee - стоимость ежемесячного платежа"
   ]
  },
  {
   "cell_type": "code",
   "execution_count": 8,
   "id": "236c5ebe",
   "metadata": {},
   "outputs": [
    {
     "data": {
      "text/html": [
       "<div>\n",
       "<style scoped>\n",
       "    .dataframe tbody tr th:only-of-type {\n",
       "        vertical-align: middle;\n",
       "    }\n",
       "\n",
       "    .dataframe tbody tr th {\n",
       "        vertical-align: top;\n",
       "    }\n",
       "\n",
       "    .dataframe thead th {\n",
       "        text-align: right;\n",
       "    }\n",
       "</style>\n",
       "<table border=\"1\" class=\"dataframe\">\n",
       "  <thead>\n",
       "    <tr style=\"text-align: right;\">\n",
       "      <th></th>\n",
       "      <th>subscription_type</th>\n",
       "      <th>minute_price</th>\n",
       "      <th>start_ride_price</th>\n",
       "      <th>subscription_fee</th>\n",
       "    </tr>\n",
       "  </thead>\n",
       "  <tbody>\n",
       "    <tr>\n",
       "      <th>0</th>\n",
       "      <td>free</td>\n",
       "      <td>8</td>\n",
       "      <td>50</td>\n",
       "      <td>0</td>\n",
       "    </tr>\n",
       "    <tr>\n",
       "      <th>1</th>\n",
       "      <td>ultra</td>\n",
       "      <td>6</td>\n",
       "      <td>0</td>\n",
       "      <td>199</td>\n",
       "    </tr>\n",
       "  </tbody>\n",
       "</table>\n",
       "</div>"
      ],
      "text/plain": [
       "  subscription_type  minute_price  start_ride_price  subscription_fee\n",
       "0              free             8                50                 0\n",
       "1             ultra             6                 0               199"
      ]
     },
     "execution_count": 8,
     "metadata": {},
     "output_type": "execute_result"
    }
   ],
   "source": [
    "subs_original_df.head()"
   ]
  },
  {
   "cell_type": "code",
   "execution_count": 9,
   "id": "fdf39e86",
   "metadata": {},
   "outputs": [
    {
     "name": "stdout",
     "output_type": "stream",
     "text": [
      "<class 'pandas.core.frame.DataFrame'>\n",
      "RangeIndex: 2 entries, 0 to 1\n",
      "Data columns (total 4 columns):\n",
      " #   Column             Non-Null Count  Dtype \n",
      "---  ------             --------------  ----- \n",
      " 0   subscription_type  2 non-null      object\n",
      " 1   minute_price       2 non-null      int64 \n",
      " 2   start_ride_price   2 non-null      int64 \n",
      " 3   subscription_fee   2 non-null      int64 \n",
      "dtypes: int64(3), object(1)\n",
      "memory usage: 192.0+ bytes\n"
     ]
    }
   ],
   "source": [
    "subs_original_df.info()"
   ]
  },
  {
   "cell_type": "markdown",
   "id": "78598e07",
   "metadata": {},
   "source": [
    "**Выводы по предварительному изучению данных:**\n",
    "* Во всех датасетах отсутствуют пропуски.\n",
    "* Все типы, кроме date определились корректно.\n",
    "* Названия столбцов в порядке."
   ]
  },
  {
   "cell_type": "markdown",
   "id": "bfb11a2b",
   "metadata": {},
   "source": [
    "<div class=\"alert alert-success\">\n",
    "<b>✔️ Комментарий ревьюера v1:</b> \n",
    "<br>Первичный анализ данных выполнен верно. Можем переходить к следующему этапу)\n",
    "</div>"
   ]
  },
  {
   "cell_type": "markdown",
   "id": "e95ebca7",
   "metadata": {},
   "source": [
    "#### Шаг 2. Предобработка данных"
   ]
  },
  {
   "cell_type": "code",
   "execution_count": 10,
   "id": "af6d202c",
   "metadata": {},
   "outputs": [],
   "source": [
    "# Делаем копии рабочих датасетов.\n",
    "users_df = users_original_df.copy()\n",
    "rides_df = rides_original_df.copy()\n",
    "subs_df = subs_original_df.copy()"
   ]
  },
  {
   "cell_type": "code",
   "execution_count": 11,
   "id": "8e9f6404",
   "metadata": {},
   "outputs": [
    {
     "data": {
      "text/plain": [
       "'Дубликатов в users: 31'"
      ]
     },
     "metadata": {},
     "output_type": "display_data"
    },
    {
     "data": {
      "text/plain": [
       "'Дубликатов в rides: 0'"
      ]
     },
     "metadata": {},
     "output_type": "display_data"
    }
   ],
   "source": [
    "# Смотрим на прямые дубликаты.\n",
    "display('Дубликатов в users: ' + str(users_df.duplicated().sum()))\n",
    "display('Дубликатов в rides: ' + str(rides_df.duplicated().sum()))"
   ]
  },
  {
   "cell_type": "code",
   "execution_count": 12,
   "id": "5476a51e",
   "metadata": {},
   "outputs": [
    {
     "data": {
      "text/plain": [
       "(1565, 5)"
      ]
     },
     "metadata": {},
     "output_type": "display_data"
    },
    {
     "data": {
      "text/plain": [
       "(1534, 5)"
      ]
     },
     "metadata": {},
     "output_type": "display_data"
    }
   ],
   "source": [
    "# Убираем дубликаты в users, эти данные не несут никакой смысловой нагрузки.\n",
    "display(users_df.shape)\n",
    "users_df.drop_duplicates(inplace=True)\n",
    "display(users_df.shape)"
   ]
  },
  {
   "cell_type": "markdown",
   "id": "2fcb96c3",
   "metadata": {},
   "source": [
    "<div class=\"alert alert-success\">\n",
    "<b>✔️ Комментарий ревьюера v1:</b>\n",
    "<br>Проверка на дубликаты выполнена!\n",
    "</div>"
   ]
  },
  {
   "cell_type": "code",
   "execution_count": 13,
   "id": "631774b3",
   "metadata": {},
   "outputs": [
    {
     "data": {
      "text/plain": [
       "0    2021-01-01\n",
       "1    2021-01-18\n",
       "2    2021-04-20\n",
       "3    2021-08-11\n",
       "4    2021-08-28\n",
       "Name: date, dtype: object"
      ]
     },
     "metadata": {},
     "output_type": "display_data"
    },
    {
     "data": {
      "text/plain": [
       "0   2021-01-01\n",
       "1   2021-01-18\n",
       "2   2021-04-20\n",
       "3   2021-08-11\n",
       "4   2021-08-28\n",
       "Name: date, dtype: datetime64[ns]"
      ]
     },
     "metadata": {},
     "output_type": "display_data"
    }
   ],
   "source": [
    "# Преобразуем date в rides в datetime.\n",
    "display(rides_df['date'].head())\n",
    "rides_df['date'] = pd.to_datetime(rides_df['date'], format='%Y-%m-%d')\n",
    "display(rides_df['date'].head())"
   ]
  },
  {
   "cell_type": "markdown",
   "id": "45e1037c",
   "metadata": {},
   "source": [
    "<div class=\"alert alert-success\">\n",
    "<b>✔️ Комментарий ревьюера v1:</b> \n",
    "<br>Тип данных изменён верно! \n",
    "</div>\n",
    "\n",
    "<div class=\"alert alert-warning\">\n",
    "<b>⚠️ Комментарий ревьюера v1:</b> \n",
    "<br>Если при загрузке данных добавить параметр parse_dates: parse_dates=['date'] то список столбцов автоматически переведется в даты. Подробнее про это можно прочитать по ссылке ниже\n",
    "\n",
    "\thttps://newtechaudit.ru/gruzi-daty-krasivo/\n",
    "</div>"
   ]
  },
  {
   "cell_type": "code",
   "execution_count": 14,
   "id": "90ae904f",
   "metadata": {},
   "outputs": [
    {
     "data": {
      "text/html": [
       "<div>\n",
       "<style scoped>\n",
       "    .dataframe tbody tr th:only-of-type {\n",
       "        vertical-align: middle;\n",
       "    }\n",
       "\n",
       "    .dataframe tbody tr th {\n",
       "        vertical-align: top;\n",
       "    }\n",
       "\n",
       "    .dataframe thead th {\n",
       "        text-align: right;\n",
       "    }\n",
       "</style>\n",
       "<table border=\"1\" class=\"dataframe\">\n",
       "  <thead>\n",
       "    <tr style=\"text-align: right;\">\n",
       "      <th></th>\n",
       "      <th>date</th>\n",
       "      <th>month</th>\n",
       "    </tr>\n",
       "  </thead>\n",
       "  <tbody>\n",
       "    <tr>\n",
       "      <th>0</th>\n",
       "      <td>2021-01-01</td>\n",
       "      <td>1</td>\n",
       "    </tr>\n",
       "    <tr>\n",
       "      <th>1</th>\n",
       "      <td>2021-01-18</td>\n",
       "      <td>1</td>\n",
       "    </tr>\n",
       "    <tr>\n",
       "      <th>2</th>\n",
       "      <td>2021-04-20</td>\n",
       "      <td>4</td>\n",
       "    </tr>\n",
       "    <tr>\n",
       "      <th>3</th>\n",
       "      <td>2021-08-11</td>\n",
       "      <td>8</td>\n",
       "    </tr>\n",
       "    <tr>\n",
       "      <th>4</th>\n",
       "      <td>2021-08-28</td>\n",
       "      <td>8</td>\n",
       "    </tr>\n",
       "  </tbody>\n",
       "</table>\n",
       "</div>"
      ],
      "text/plain": [
       "        date  month\n",
       "0 2021-01-01      1\n",
       "1 2021-01-18      1\n",
       "2 2021-04-20      4\n",
       "3 2021-08-11      8\n",
       "4 2021-08-28      8"
      ]
     },
     "execution_count": 14,
     "metadata": {},
     "output_type": "execute_result"
    }
   ],
   "source": [
    "# Создадим дополнительй столбец в rides с указанием месяца поездки.\n",
    "rides_df['month'] = rides_df['date'].dt.month\n",
    "rides_df[['date', 'month']].head()"
   ]
  },
  {
   "cell_type": "markdown",
   "id": "56b5942f",
   "metadata": {},
   "source": [
    "<div class=\"alert alert-success\">\n",
    "<b>✔️ Комментарий ревьюера v1:</b> \n",
    "<br>Новый столбец создан верно!\n",
    "</div>"
   ]
  },
  {
   "cell_type": "markdown",
   "id": "ebb0333f",
   "metadata": {},
   "source": [
    "Поищем непрямые дубликаты в данных."
   ]
  },
  {
   "cell_type": "code",
   "execution_count": 15,
   "id": "c69f36ea",
   "metadata": {},
   "outputs": [
    {
     "data": {
      "text/plain": [
       "array(['Тюмень', 'Омск', 'Москва', 'Ростов-на-Дону', 'Краснодар',\n",
       "       'Пятигорск', 'Екатеринбург', 'Сочи'], dtype=object)"
      ]
     },
     "execution_count": 15,
     "metadata": {},
     "output_type": "execute_result"
    }
   ],
   "source": [
    "users_df['city'].unique()  # С городами всё хорошо."
   ]
  },
  {
   "cell_type": "code",
   "execution_count": 16,
   "id": "e25e66ed",
   "metadata": {},
   "outputs": [
    {
     "data": {
      "text/plain": [
       "0"
      ]
     },
     "execution_count": 16,
     "metadata": {},
     "output_type": "execute_result"
    }
   ],
   "source": [
    "users_df['user_id'].duplicated().sum()  # Дублей в id пользователей нет."
   ]
  },
  {
   "cell_type": "code",
   "execution_count": 17,
   "id": "0fc9089f",
   "metadata": {},
   "outputs": [
    {
     "data": {
      "text/plain": [
       "count   1534.00\n",
       "mean      24.90\n",
       "std        4.57\n",
       "min       12.00\n",
       "25%       22.00\n",
       "50%       25.00\n",
       "75%       28.00\n",
       "max       43.00\n",
       "Name: age, dtype: float64"
      ]
     },
     "execution_count": 17,
     "metadata": {},
     "output_type": "execute_result"
    }
   ],
   "source": [
    "users_df['age'].describe()  # С возрастом всё хорошо. Пассажиры от 12 до 43 лет."
   ]
  },
  {
   "cell_type": "code",
   "execution_count": 18,
   "id": "4c162a71",
   "metadata": {},
   "outputs": [
    {
     "data": {
      "text/plain": [
       "free     835\n",
       "ultra    699\n",
       "Name: subscription_type, dtype: int64"
      ]
     },
     "execution_count": 18,
     "metadata": {},
     "output_type": "execute_result"
    }
   ],
   "source": [
    "users_df['subscription_type'].value_counts()  # Всё хорошо."
   ]
  },
  {
   "cell_type": "markdown",
   "id": "b029e312",
   "metadata": {},
   "source": [
    "**Выводы по предобработке данных:**\n",
    "* Удалены дубли по пользователям в количестве 31 штука.\n",
    "* Преобразован тип в столбце date на datetime и добавили столбце с указанем месяца поездки.\n",
    "* В остальном данные особой предобработки не требуют."
   ]
  },
  {
   "cell_type": "markdown",
   "id": "51419e65",
   "metadata": {},
   "source": [
    "<div class=\"alert alert-success\">\n",
    "<b>✔️ Комментарий ревьюера v1:</b> \n",
    "<br>С предобработкой закончили. Переходим к исследовательскому анализу!\n",
    "</div>"
   ]
  },
  {
   "cell_type": "markdown",
   "id": "212593c7",
   "metadata": {},
   "source": [
    "#### Шаг 3. Исследовательский анализ данных"
   ]
  },
  {
   "cell_type": "code",
   "execution_count": 19,
   "id": "e3a4274c",
   "metadata": {},
   "outputs": [
    {
     "data": {
      "text/plain": [
       "Пятигорск         219\n",
       "Екатеринбург      204\n",
       "Ростов-на-Дону    198\n",
       "Краснодар         193\n",
       "Сочи              189\n",
       "Омск              183\n",
       "Тюмень            180\n",
       "Москва            168\n",
       "Name: city, dtype: int64"
      ]
     },
     "execution_count": 19,
     "metadata": {},
     "output_type": "execute_result"
    }
   ],
   "source": [
    "# Изучим города, в которых пользователи используют сервис.\n",
    "users_df['city'].value_counts()"
   ]
  },
  {
   "cell_type": "code",
   "execution_count": 20,
   "id": "75044568",
   "metadata": {},
   "outputs": [
    {
     "data": {
      "image/png": "[encoded data removed]",
      "text/plain": [
       "<Figure size 1440x216 with 1 Axes>"
      ]
     },
     "metadata": {
      "needs_background": "light"
     },
     "output_type": "display_data"
    }
   ],
   "source": [
    "fig, ax = plt.subplots()\n",
    "ax.set_title('Разбивка пользователей по городам')\n",
    "ax.set_xlabel('Город')\n",
    "ax.set_ylabel('Количество, шт.')\n",
    "users_df['city'].value_counts().plot.bar(figsize=(20, 3))\n",
    "plt.show()"
   ]
  },
  {
   "cell_type": "markdown",
   "id": "9ea40fd5",
   "metadata": {},
   "source": [
    "**Города:**\n",
    "* Больше всего в исследуемой выборке пользователей из Пятигорска. Меньше всего из Москвы.\n",
    "* Каждый город представлен более-менее равномерно, вне зависимости от размеров."
   ]
  },
  {
   "cell_type": "markdown",
   "id": "b9569c62",
   "metadata": {},
   "source": [
    "<div class=\"alert alert-danger\">\n",
    "<b>❌ Комментарий ревьюера v1:</b> \n",
    "<br>По заданию тут нужно ещё добавить визуализацию\n",
    "</div>"
   ]
  },
  {
   "cell_type": "markdown",
   "id": "35bc61d4",
   "metadata": {},
   "source": [
    "<div class=\"alert alert-info\">\n",
    "<b>Комментарий студента:</b>\n",
    "<br>\n",
    "Добавил barplot выше. Оси, тайтл подписал.\n",
    "</div>"
   ]
  },
  {
   "cell_type": "markdown",
   "id": "b957addb",
   "metadata": {},
   "source": [
    "<div class=\"alert alert-success\">\n",
    "<b>✔️ Комментарий ревьюера v2:</b>\n",
    "<br>Обе правки выполнены 👍\n",
    "</div>"
   ]
  },
  {
   "cell_type": "code",
   "execution_count": 21,
   "id": "7b133816",
   "metadata": {},
   "outputs": [
    {
     "data": {
      "text/plain": [
       "free     835\n",
       "ultra    699\n",
       "Name: subscription_type, dtype: int64"
      ]
     },
     "metadata": {},
     "output_type": "display_data"
    },
    {
     "data": {
      "text/plain": [
       "city            subscription_type\n",
       "Екатеринбург    free                 112\n",
       "                ultra                 92\n",
       "Краснодар       free                 112\n",
       "                ultra                 81\n",
       "Москва          free                  84\n",
       "                ultra                 84\n",
       "Омск            free                  92\n",
       "                ultra                 91\n",
       "Пятигорск       free                 125\n",
       "                ultra                 94\n",
       "Ростов-на-Дону  free                 109\n",
       "                ultra                 89\n",
       "Сочи            free                 103\n",
       "                ultra                 86\n",
       "Тюмень          free                  98\n",
       "                ultra                 82\n",
       "Name: subscription_type, dtype: int64"
      ]
     },
     "execution_count": 21,
     "metadata": {},
     "output_type": "execute_result"
    }
   ],
   "source": [
    "# Подписки.\n",
    "display(users_df['subscription_type'].value_counts())\n",
    "users_df.groupby(['city', 'subscription_type'])['subscription_type'].count()"
   ]
  },
  {
   "cell_type": "code",
   "execution_count": 22,
   "id": "9976e35a",
   "metadata": {},
   "outputs": [
    {
     "data": {
      "image/png": "[encoded data removed]",
      "text/plain": [
       "<Figure size 1440x216 with 1 Axes>"
      ]
     },
     "metadata": {},
     "output_type": "display_data"
    }
   ],
   "source": [
    "fig, ax = plt.subplots()\n",
    "ax.set_title('Доли пользователей с подпиской и без неё')\n",
    "users_df['subscription_type'].value_counts().plot.pie(figsize=(20, 3), autopct='%.2f')\n",
    "ax.set_ylabel(None)\n",
    "plt.show()"
   ]
  },
  {
   "cell_type": "markdown",
   "id": "f538a831",
   "metadata": {},
   "source": [
    "**Подписки:**\n",
    "* В выборке представлены в большом количестве как пользователи с подпиской, так и без по каждому из городов.\n",
    "* Пользователей с подпиской немного меньше бесплатных пользователей."
   ]
  },
  {
   "cell_type": "markdown",
   "id": "91d14fea",
   "metadata": {},
   "source": [
    "<div class=\"alert alert-danger\">\n",
    "<b>❌ Комментарий ревьюера v1:</b> \n",
    "<br>Нет визуализации. Для этого хорошо пойдет круговая диаграмма\n",
    "</div>"
   ]
  },
  {
   "cell_type": "markdown",
   "id": "f95e8cb0",
   "metadata": {},
   "source": [
    "<div class=\"alert alert-info\">\n",
    "<b>Комментарий студента:</b>\n",
    "<br>\n",
    "Добавил пай выше.\n",
    "</div>"
   ]
  },
  {
   "cell_type": "markdown",
   "id": "3ef9bb82",
   "metadata": {},
   "source": [
    "<div class=\"alert alert-success\">\n",
    "<b>✔️ Комментарий ревьюера v2:</b>\n",
    "<br>Обе правки выполнены 👍\n",
    "</div>"
   ]
  },
  {
   "cell_type": "code",
   "execution_count": 23,
   "id": "5e21b79a",
   "metadata": {},
   "outputs": [
    {
     "data": {
      "text/plain": [
       "count   1534.00\n",
       "mean      24.90\n",
       "std        4.57\n",
       "min       12.00\n",
       "25%       22.00\n",
       "50%       25.00\n",
       "75%       28.00\n",
       "max       43.00\n",
       "Name: age, dtype: float64"
      ]
     },
     "execution_count": 23,
     "metadata": {},
     "output_type": "execute_result"
    }
   ],
   "source": [
    "# Возраст пользователей.\n",
    "users_df['age'].describe()"
   ]
  },
  {
   "cell_type": "code",
   "execution_count": 24,
   "id": "f1901b4b",
   "metadata": {},
   "outputs": [
    {
     "data": {
      "image/png": "[encoded data removed]",
      "text/plain": [
       "<Figure size 1440x216 with 1 Axes>"
      ]
     },
     "metadata": {
      "needs_background": "light"
     },
     "output_type": "display_data"
    }
   ],
   "source": [
    "fig, ax = plt.subplots()\n",
    "ax.set_title('Разбивка пользователей по возрастам')\n",
    "ax.set_xlabel('Возраст')\n",
    "ax.set_ylabel('Количество пользователей, шт.')\n",
    "users_df['age'].value_counts().sort_index().plot.bar(figsize=(20, 3))\n",
    "plt.show()"
   ]
  },
  {
   "cell_type": "markdown",
   "id": "370850d7",
   "metadata": {},
   "source": [
    "**Возраст:**\n",
    "* В выборке представлены пользователи от 12 до 43 лет.\n",
    "* Средний/медианный возраст пользователей ~25 лет."
   ]
  },
  {
   "cell_type": "markdown",
   "id": "f78702fc",
   "metadata": {},
   "source": [
    "<div class=\"alert alert-danger\">\n",
    "<b>❌ Комментарий ревьюера v1:</b> \n",
    "<br>Нет визуализации. \n",
    "</div>"
   ]
  },
  {
   "cell_type": "markdown",
   "id": "5008eb3c",
   "metadata": {},
   "source": [
    "<div class=\"alert alert-info\">\n",
    "<b>Комментарий студента:</b>\n",
    "<br>\n",
    "Добавил выше барплот, оси, тайтл прописал.\n",
    "</div>"
   ]
  },
  {
   "cell_type": "markdown",
   "id": "413b8f5b",
   "metadata": {},
   "source": [
    "<div class=\"alert alert-success\">\n",
    "<b>✔️ Комментарий ревьюера v2:</b>\n",
    "<br>Обе правки выполнены 👍\n",
    "</div>"
   ]
  },
  {
   "cell_type": "code",
   "execution_count": 25,
   "id": "21325dec",
   "metadata": {},
   "outputs": [
    {
     "data": {
      "text/html": [
       "<div>\n",
       "<style scoped>\n",
       "    .dataframe tbody tr th:only-of-type {\n",
       "        vertical-align: middle;\n",
       "    }\n",
       "\n",
       "    .dataframe tbody tr th {\n",
       "        vertical-align: top;\n",
       "    }\n",
       "\n",
       "    .dataframe thead th {\n",
       "        text-align: right;\n",
       "    }\n",
       "</style>\n",
       "<table border=\"1\" class=\"dataframe\">\n",
       "  <thead>\n",
       "    <tr style=\"text-align: right;\">\n",
       "      <th></th>\n",
       "      <th>count</th>\n",
       "      <th>mean</th>\n",
       "      <th>std</th>\n",
       "      <th>min</th>\n",
       "      <th>25%</th>\n",
       "      <th>50%</th>\n",
       "      <th>75%</th>\n",
       "      <th>max</th>\n",
       "    </tr>\n",
       "  </thead>\n",
       "  <tbody>\n",
       "    <tr>\n",
       "      <th>distance</th>\n",
       "      <td>18068.00</td>\n",
       "      <td>3070.66</td>\n",
       "      <td>1116.83</td>\n",
       "      <td>0.86</td>\n",
       "      <td>2543.23</td>\n",
       "      <td>3133.61</td>\n",
       "      <td>3776.22</td>\n",
       "      <td>7211.01</td>\n",
       "    </tr>\n",
       "    <tr>\n",
       "      <th>duration</th>\n",
       "      <td>18068.00</td>\n",
       "      <td>17.81</td>\n",
       "      <td>6.09</td>\n",
       "      <td>0.50</td>\n",
       "      <td>13.60</td>\n",
       "      <td>17.68</td>\n",
       "      <td>21.72</td>\n",
       "      <td>40.82</td>\n",
       "    </tr>\n",
       "  </tbody>\n",
       "</table>\n",
       "</div>"
      ],
      "text/plain": [
       "            count    mean     std  min     25%     50%     75%     max\n",
       "distance 18068.00 3070.66 1116.83 0.86 2543.23 3133.61 3776.22 7211.01\n",
       "duration 18068.00   17.81    6.09 0.50   13.60   17.68   21.72   40.82"
      ]
     },
     "execution_count": 25,
     "metadata": {},
     "output_type": "execute_result"
    }
   ],
   "source": [
    "# Продолжительность и дальность поездок.\n",
    "rides_df[['distance', 'duration']].describe().T"
   ]
  },
  {
   "cell_type": "code",
   "execution_count": 26,
   "id": "ef7c8286",
   "metadata": {},
   "outputs": [
    {
     "data": {
      "text/plain": [
       "<AxesSubplot:title={'center':'Распределение поездок по дальности'}, xlabel='Дальность, м', ylabel='Количество поездок, шт.'>"
      ]
     },
     "execution_count": 26,
     "metadata": {},
     "output_type": "execute_result"
    },
    {
     "data": {
      "image/png": "[encoded data removed]",
      "text/plain": [
       "<Figure size 1440x216 with 1 Axes>"
      ]
     },
     "metadata": {
      "needs_background": "light"
     },
     "output_type": "display_data"
    }
   ],
   "source": [
    "# Визуальный осмотр дальности.\n",
    "fig, ax = plt.subplots()\n",
    "ax.set_title('Распределение поездок по дальности')\n",
    "ax.set_xlabel('Дальность, м')\n",
    "ax.set_ylabel('Количество поездок, шт.')\n",
    "rides_df['distance'].hist(bins=200, figsize=(20, 3), ax=ax)"
   ]
  },
  {
   "cell_type": "code",
   "execution_count": 27,
   "id": "e3451839",
   "metadata": {},
   "outputs": [
    {
     "data": {
      "text/plain": [
       "<AxesSubplot:title={'center':'Распределение поездок по длительности'}, xlabel='Длительность, мин.', ylabel='Количество поездок, шт.'>"
      ]
     },
     "execution_count": 27,
     "metadata": {},
     "output_type": "execute_result"
    },
    {
     "data": {
      "image/png": "[encoded data removed]",
      "text/plain": [
       "<Figure size 1440x216 with 1 Axes>"
      ]
     },
     "metadata": {
      "needs_background": "light"
     },
     "output_type": "display_data"
    }
   ],
   "source": [
    "# Визуальный осмотр длительности.\n",
    "fig, ax = plt.subplots()\n",
    "ax.set_title('Распределение поездок по длительности')\n",
    "ax.set_xlabel('Длительность, мин.')\n",
    "ax.set_ylabel('Количество поездок, шт.')\n",
    "rides_df['duration'].hist(bins=200, figsize=(20, 3), ax=ax)"
   ]
  },
  {
   "cell_type": "code",
   "execution_count": 28,
   "id": "6e3b7487",
   "metadata": {},
   "outputs": [
    {
     "data": {
      "text/plain": [
       "'Количество поездок до 100 метров: 78'"
      ]
     },
     "execution_count": 28,
     "metadata": {},
     "output_type": "execute_result"
    },
    {
     "data": {
      "image/png": "[encoded data removed]",
      "text/plain": [
       "<Figure size 1440x216 with 1 Axes>"
      ]
     },
     "metadata": {
      "needs_background": "light"
     },
     "output_type": "display_data"
    }
   ],
   "source": [
    "# Поездки до 1,5 км.\n",
    "fig, ax = plt.subplots()\n",
    "ax.set_title('Распределение поездок до 1,5 км по дальности')\n",
    "ax.set_xlabel('Дальность, м')\n",
    "ax.set_ylabel('Количество поездок, шт.')\n",
    "rides_df['distance'].hist(ax=ax, bins=200, figsize=(20, 3), range=(0, 1500))\n",
    "\"Количество поездок до 100 метров: \" + str(rides_df.query('distance < 100').shape[0])"
   ]
  },
  {
   "cell_type": "markdown",
   "id": "b5ef1a87",
   "metadata": {},
   "source": [
    "<div class=\"alert alert-danger\">\n",
    "<b>❌ Комментарий ревьюера v1:</b> \n",
    "<br>Графики должны быть наглядным без контекста (т.к. в реальной практике ты будешь показывать презентацию или отчет заказчику). Необходимо проследить чтобы всегда был заголовок и подписаны оси. Этот комментарий относится ко всем графикам во всем проекте\n",
    "</div>"
   ]
  },
  {
   "cell_type": "markdown",
   "id": "cb78f1f5",
   "metadata": {},
   "source": [
    "<div class=\"alert alert-info\">\n",
    "<b>Комментарий студента:</b>\n",
    "<br>\n",
    "Заголовки и оси подписал на всех графиках.\n",
    "</div>"
   ]
  },
  {
   "cell_type": "markdown",
   "id": "9eb0d774",
   "metadata": {},
   "source": [
    "<div class=\"alert alert-success\">\n",
    "<b>✔️ Комментарий ревьюера v2:</b>\n",
    "<br>Обе правки выполнены 👍\n",
    "</div>"
   ]
  },
  {
   "cell_type": "markdown",
   "id": "2e07fe54",
   "metadata": {},
   "source": [
    "**Дальность поездки:**\n",
    "* Средняя дальность поездки составляет около 3,1 км. Максимальная - 7,2 км. Вполне реалистично.\n",
    "* Распределение поездок по дальности имеет 2 ярко-выраженных пика. Один в районе 0,8 км (короткие поездки), другой в районе 3,1 км (нормальные поездки).\n",
    "* Часть поездок - ультракороткие. 78 поездок до 100 метров. Вероятно - это случаи когда новые пользователи только знакомились с возможностями самокатов."
   ]
  },
  {
   "cell_type": "code",
   "execution_count": 29,
   "id": "a95673ec",
   "metadata": {},
   "outputs": [
    {
     "data": {
      "text/plain": [
       "'Количество поездок продолжительностью до 1 минуты: 95'"
      ]
     },
     "execution_count": 29,
     "metadata": {},
     "output_type": "execute_result"
    },
    {
     "data": {
      "image/png": "[encoded data removed]",
      "text/plain": [
       "<Figure size 1440x216 with 1 Axes>"
      ]
     },
     "metadata": {
      "needs_background": "light"
     },
     "output_type": "display_data"
    }
   ],
   "source": [
    "# Поездки до 1 минуты.\n",
    "fig, ax = plt.subplots()\n",
    "ax.set_title('Распределение поездок до 1 минуты по длительности')\n",
    "ax.set_xlabel('Длительность, мин.')\n",
    "ax.set_ylabel('Количество поездок, шт.')\n",
    "rides_df['duration'].hist(bins=200, figsize=(20, 3), range=(0, 1), ax=ax)\n",
    "'Количество поездок продолжительностью до 1 минуты: ' + str(rides_df.query('duration < 1').shape[0])"
   ]
  },
  {
   "cell_type": "code",
   "execution_count": 30,
   "id": "22b9c09f",
   "metadata": {},
   "outputs": [
    {
     "data": {
      "text/html": [
       "<div>\n",
       "<style scoped>\n",
       "    .dataframe tbody tr th:only-of-type {\n",
       "        vertical-align: middle;\n",
       "    }\n",
       "\n",
       "    .dataframe tbody tr th {\n",
       "        vertical-align: top;\n",
       "    }\n",
       "\n",
       "    .dataframe thead th {\n",
       "        text-align: right;\n",
       "    }\n",
       "</style>\n",
       "<table border=\"1\" class=\"dataframe\">\n",
       "  <thead>\n",
       "    <tr style=\"text-align: right;\">\n",
       "      <th></th>\n",
       "      <th>count</th>\n",
       "      <th>mean</th>\n",
       "      <th>std</th>\n",
       "      <th>min</th>\n",
       "      <th>25%</th>\n",
       "      <th>50%</th>\n",
       "      <th>75%</th>\n",
       "      <th>max</th>\n",
       "    </tr>\n",
       "  </thead>\n",
       "  <tbody>\n",
       "    <tr>\n",
       "      <th>user_id</th>\n",
       "      <td>95.00</td>\n",
       "      <td>1092.21</td>\n",
       "      <td>244.03</td>\n",
       "      <td>701.00</td>\n",
       "      <td>901.00</td>\n",
       "      <td>1069.00</td>\n",
       "      <td>1310.50</td>\n",
       "      <td>1524.00</td>\n",
       "    </tr>\n",
       "    <tr>\n",
       "      <th>distance</th>\n",
       "      <td>95.00</td>\n",
       "      <td>5113.18</td>\n",
       "      <td>658.25</td>\n",
       "      <td>4030.31</td>\n",
       "      <td>4611.51</td>\n",
       "      <td>5052.77</td>\n",
       "      <td>5488.46</td>\n",
       "      <td>7211.01</td>\n",
       "    </tr>\n",
       "    <tr>\n",
       "      <th>duration</th>\n",
       "      <td>95.00</td>\n",
       "      <td>0.50</td>\n",
       "      <td>0.00</td>\n",
       "      <td>0.50</td>\n",
       "      <td>0.50</td>\n",
       "      <td>0.50</td>\n",
       "      <td>0.50</td>\n",
       "      <td>0.50</td>\n",
       "    </tr>\n",
       "    <tr>\n",
       "      <th>month</th>\n",
       "      <td>95.00</td>\n",
       "      <td>6.48</td>\n",
       "      <td>3.71</td>\n",
       "      <td>1.00</td>\n",
       "      <td>3.00</td>\n",
       "      <td>6.00</td>\n",
       "      <td>10.00</td>\n",
       "      <td>12.00</td>\n",
       "    </tr>\n",
       "  </tbody>\n",
       "</table>\n",
       "</div>"
      ],
      "text/plain": [
       "          count    mean    std     min     25%     50%     75%     max\n",
       "user_id   95.00 1092.21 244.03  701.00  901.00 1069.00 1310.50 1524.00\n",
       "distance  95.00 5113.18 658.25 4030.31 4611.51 5052.77 5488.46 7211.01\n",
       "duration  95.00    0.50   0.00    0.50    0.50    0.50    0.50    0.50\n",
       "month     95.00    6.48   3.71    1.00    3.00    6.00   10.00   12.00"
      ]
     },
     "execution_count": 30,
     "metadata": {},
     "output_type": "execute_result"
    }
   ],
   "source": [
    "# Посмотрим на поездки до 1 минуты.\n",
    "rides_df.query('duration < 1').describe().T"
   ]
  },
  {
   "cell_type": "code",
   "execution_count": 31,
   "id": "b5b84738",
   "metadata": {},
   "outputs": [
    {
     "data": {
      "text/plain": [
       "95"
      ]
     },
     "metadata": {},
     "output_type": "display_data"
    },
    {
     "data": {
      "text/html": [
       "<div>\n",
       "<style scoped>\n",
       "    .dataframe tbody tr th:only-of-type {\n",
       "        vertical-align: middle;\n",
       "    }\n",
       "\n",
       "    .dataframe tbody tr th {\n",
       "        vertical-align: top;\n",
       "    }\n",
       "\n",
       "    .dataframe thead th {\n",
       "        text-align: right;\n",
       "    }\n",
       "</style>\n",
       "<table border=\"1\" class=\"dataframe\">\n",
       "  <thead>\n",
       "    <tr style=\"text-align: right;\">\n",
       "      <th></th>\n",
       "      <th>user_id</th>\n",
       "      <th>distance</th>\n",
       "      <th>duration</th>\n",
       "      <th>date</th>\n",
       "      <th>month</th>\n",
       "    </tr>\n",
       "  </thead>\n",
       "  <tbody>\n",
       "    <tr>\n",
       "      <th>6531</th>\n",
       "      <td>701</td>\n",
       "      <td>4196.45</td>\n",
       "      <td>NaN</td>\n",
       "      <td>2021-08-31</td>\n",
       "      <td>8</td>\n",
       "    </tr>\n",
       "    <tr>\n",
       "      <th>6570</th>\n",
       "      <td>704</td>\n",
       "      <td>4830.82</td>\n",
       "      <td>NaN</td>\n",
       "      <td>2021-10-14</td>\n",
       "      <td>10</td>\n",
       "    </tr>\n",
       "    <tr>\n",
       "      <th>6680</th>\n",
       "      <td>712</td>\n",
       "      <td>4684.00</td>\n",
       "      <td>NaN</td>\n",
       "      <td>2021-03-04</td>\n",
       "      <td>3</td>\n",
       "    </tr>\n",
       "    <tr>\n",
       "      <th>6695</th>\n",
       "      <td>713</td>\n",
       "      <td>5215.64</td>\n",
       "      <td>NaN</td>\n",
       "      <td>2021-02-25</td>\n",
       "      <td>2</td>\n",
       "    </tr>\n",
       "    <tr>\n",
       "      <th>6768</th>\n",
       "      <td>718</td>\n",
       "      <td>5197.44</td>\n",
       "      <td>NaN</td>\n",
       "      <td>2021-02-11</td>\n",
       "      <td>2</td>\n",
       "    </tr>\n",
       "  </tbody>\n",
       "</table>\n",
       "</div>"
      ],
      "text/plain": [
       "      user_id  distance  duration       date  month\n",
       "6531      701   4196.45       NaN 2021-08-31      8\n",
       "6570      704   4830.82       NaN 2021-10-14     10\n",
       "6680      712   4684.00       NaN 2021-03-04      3\n",
       "6695      713   5215.64       NaN 2021-02-25      2\n",
       "6768      718   5197.44       NaN 2021-02-11      2"
      ]
     },
     "execution_count": 31,
     "metadata": {},
     "output_type": "execute_result"
    },
    {
     "data": {
      "image/png": "[encoded data removed]",
      "text/plain": [
       "<Figure size 1440x216 with 1 Axes>"
      ]
     },
     "metadata": {
      "needs_background": "light"
     },
     "output_type": "display_data"
    }
   ],
   "source": [
    "# Заменим поездки длительностью 0,5 минуты пропусками.\n",
    "rides_df.loc[rides_df['duration'] < 1, ['duration']] = float('nan')\n",
    "display(rides_df['duration'].isna().sum())\n",
    "\n",
    "# Взглянем на распределение еще раз.\n",
    "fig, ax = plt.subplots()\n",
    "ax.set_title('Распределение поездок по длительности')\n",
    "ax.set_xlabel('Длительность, мин.')\n",
    "ax.set_ylabel('Количество поездок, шт.')\n",
    "rides_df['duration'].hist(bins=200, figsize=(20, 3), ax=ax)\n",
    "\n",
    "rides_df[rides_df['duration'].isna()].head()"
   ]
  },
  {
   "cell_type": "markdown",
   "id": "ad5cb3e7",
   "metadata": {},
   "source": [
    "**Продоложительность поездки:**\n",
    "* Средняя продолжительность поездки на самокате около 18 минут. Самая долгая поезда - 41 минута.\n",
    "* В данных есть 95 поездок длительностью ровно полминуты и с дистанцией от 4 до 7 км. Это явно ошибочные данные. Ввиду того, что 95 поездок может составлять до половины поездок по конкретному городу, а пока понять разбивку этих поездок по городам мы понять не можем - была сделана замена длительностей этих поездок на na. **Необходимо провести коммуникации с предоствившими данные сотрудниками.**"
   ]
  },
  {
   "cell_type": "markdown",
   "id": "4ef51331",
   "metadata": {},
   "source": [
    "#### Шаг 4. Объединение данных"
   ]
  },
  {
   "cell_type": "code",
   "execution_count": 32,
   "id": "035afeae",
   "metadata": {},
   "outputs": [
    {
     "name": "stdout",
     "output_type": "stream",
     "text": [
      "<class 'pandas.core.frame.DataFrame'>\n",
      "Int64Index: 18068 entries, 0 to 18067\n",
      "Data columns (total 12 columns):\n",
      " #   Column             Non-Null Count  Dtype         \n",
      "---  ------             --------------  -----         \n",
      " 0   user_id            18068 non-null  int64         \n",
      " 1   distance           18068 non-null  float64       \n",
      " 2   duration           17973 non-null  float64       \n",
      " 3   date               18068 non-null  datetime64[ns]\n",
      " 4   month              18068 non-null  int64         \n",
      " 5   name               18068 non-null  object        \n",
      " 6   age                18068 non-null  int64         \n",
      " 7   city               18068 non-null  object        \n",
      " 8   subscription_type  18068 non-null  object        \n",
      " 9   minute_price       18068 non-null  int64         \n",
      " 10  start_ride_price   18068 non-null  int64         \n",
      " 11  subscription_fee   18068 non-null  int64         \n",
      "dtypes: datetime64[ns](1), float64(2), int64(6), object(3)\n",
      "memory usage: 1.8+ MB\n"
     ]
    }
   ],
   "source": [
    "# На основе rides собираем данные в один датафрейм.\n",
    "df = rides_df.merge(users_df, how='left', on='user_id').merge(subs_df, how='left', on='subscription_type')\n",
    "df.info()"
   ]
  },
  {
   "cell_type": "markdown",
   "id": "61841ce9",
   "metadata": {},
   "source": [
    "<div class=\"alert alert-success\">\n",
    "<b>✔️ Комментарий ревьюера v1:</b>\n",
    "<br>Таблицы объединены верно\n",
    "</div>"
   ]
  },
  {
   "cell_type": "code",
   "execution_count": 33,
   "id": "129a3784",
   "metadata": {},
   "outputs": [],
   "source": [
    "free_df = df.query('subscription_type == \"free\"')\n",
    "ultra_df = df.query('subscription_type == \"ultra\"')"
   ]
  },
  {
   "cell_type": "code",
   "execution_count": 34,
   "id": "2d37bda4",
   "metadata": {},
   "outputs": [
    {
     "data": {
      "text/plain": [
       "'Начальное количество строк: 18068'"
      ]
     },
     "metadata": {},
     "output_type": "display_data"
    },
    {
     "data": {
      "text/plain": [
       "'Итоговое количество строк: 18068'"
      ]
     },
     "metadata": {},
     "output_type": "display_data"
    },
    {
     "data": {
      "text/plain": [
       "'Разделение на датафреймы прошло верно: True'"
      ]
     },
     "metadata": {},
     "output_type": "display_data"
    }
   ],
   "source": [
    "# Проверки\n",
    "display('Начальное количество строк: ' + str(rides_df.shape[0]))\n",
    "display('Итоговое количество строк: ' + str(df.shape[0]))\n",
    "display('Разделение на датафреймы прошло верно: ' + str(df.shape[0] == free_df.shape[0] + ultra_df.shape[0]))"
   ]
  },
  {
   "cell_type": "code",
   "execution_count": 35,
   "id": "a6e1168e",
   "metadata": {},
   "outputs": [
    {
     "data": {
      "text/html": [
       "<div>\n",
       "<style scoped>\n",
       "    .dataframe tbody tr th:only-of-type {\n",
       "        vertical-align: middle;\n",
       "    }\n",
       "\n",
       "    .dataframe tbody tr th {\n",
       "        vertical-align: top;\n",
       "    }\n",
       "\n",
       "    .dataframe thead th {\n",
       "        text-align: right;\n",
       "    }\n",
       "</style>\n",
       "<table border=\"1\" class=\"dataframe\">\n",
       "  <thead>\n",
       "    <tr style=\"text-align: right;\">\n",
       "      <th></th>\n",
       "      <th>count</th>\n",
       "      <th>mean</th>\n",
       "      <th>std</th>\n",
       "      <th>min</th>\n",
       "      <th>25%</th>\n",
       "      <th>50%</th>\n",
       "      <th>75%</th>\n",
       "      <th>max</th>\n",
       "    </tr>\n",
       "  </thead>\n",
       "  <tbody>\n",
       "    <tr>\n",
       "      <th>distance</th>\n",
       "      <td>11568.00</td>\n",
       "      <td>3045.50</td>\n",
       "      <td>1246.17</td>\n",
       "      <td>0.86</td>\n",
       "      <td>2366.56</td>\n",
       "      <td>3114.65</td>\n",
       "      <td>3905.70</td>\n",
       "      <td>7211.01</td>\n",
       "    </tr>\n",
       "    <tr>\n",
       "      <th>duration</th>\n",
       "      <td>11473.00</td>\n",
       "      <td>17.53</td>\n",
       "      <td>6.16</td>\n",
       "      <td>2.04</td>\n",
       "      <td>13.09</td>\n",
       "      <td>17.38</td>\n",
       "      <td>21.64</td>\n",
       "      <td>34.95</td>\n",
       "    </tr>\n",
       "  </tbody>\n",
       "</table>\n",
       "</div>"
      ],
      "text/plain": [
       "            count    mean     std  min     25%     50%     75%     max\n",
       "distance 11568.00 3045.50 1246.17 0.86 2366.56 3114.65 3905.70 7211.01\n",
       "duration 11473.00   17.53    6.16 2.04   13.09   17.38   21.64   34.95"
      ]
     },
     "execution_count": 35,
     "metadata": {},
     "output_type": "execute_result"
    }
   ],
   "source": [
    "# Анализ расстояний и времени поездок по free\n",
    "free_df[['distance', 'duration']].describe().T"
   ]
  },
  {
   "cell_type": "code",
   "execution_count": 36,
   "id": "1cd1b1e6",
   "metadata": {},
   "outputs": [
    {
     "data": {
      "text/html": [
       "<div>\n",
       "<style scoped>\n",
       "    .dataframe tbody tr th:only-of-type {\n",
       "        vertical-align: middle;\n",
       "    }\n",
       "\n",
       "    .dataframe tbody tr th {\n",
       "        vertical-align: top;\n",
       "    }\n",
       "\n",
       "    .dataframe thead th {\n",
       "        text-align: right;\n",
       "    }\n",
       "</style>\n",
       "<table border=\"1\" class=\"dataframe\">\n",
       "  <thead>\n",
       "    <tr style=\"text-align: right;\">\n",
       "      <th></th>\n",
       "      <th>count</th>\n",
       "      <th>mean</th>\n",
       "      <th>std</th>\n",
       "      <th>min</th>\n",
       "      <th>25%</th>\n",
       "      <th>50%</th>\n",
       "      <th>75%</th>\n",
       "      <th>max</th>\n",
       "    </tr>\n",
       "  </thead>\n",
       "  <tbody>\n",
       "    <tr>\n",
       "      <th>distance</th>\n",
       "      <td>6500.00</td>\n",
       "      <td>3115.45</td>\n",
       "      <td>836.90</td>\n",
       "      <td>244.21</td>\n",
       "      <td>2785.44</td>\n",
       "      <td>3148.64</td>\n",
       "      <td>3560.57</td>\n",
       "      <td>5699.77</td>\n",
       "    </tr>\n",
       "    <tr>\n",
       "      <th>duration</th>\n",
       "      <td>6500.00</td>\n",
       "      <td>18.54</td>\n",
       "      <td>5.57</td>\n",
       "      <td>3.76</td>\n",
       "      <td>14.52</td>\n",
       "      <td>18.18</td>\n",
       "      <td>21.88</td>\n",
       "      <td>40.82</td>\n",
       "    </tr>\n",
       "  </tbody>\n",
       "</table>\n",
       "</div>"
      ],
      "text/plain": [
       "           count    mean    std    min     25%     50%     75%     max\n",
       "distance 6500.00 3115.45 836.90 244.21 2785.44 3148.64 3560.57 5699.77\n",
       "duration 6500.00   18.54   5.57   3.76   14.52   18.18   21.88   40.82"
      ]
     },
     "execution_count": 36,
     "metadata": {},
     "output_type": "execute_result"
    }
   ],
   "source": [
    "# Анализ расстояний и времени поездок по ultra\n",
    "ultra_df[['distance', 'duration']].describe().T"
   ]
  },
  {
   "cell_type": "code",
   "execution_count": 37,
   "id": "eba95510",
   "metadata": {},
   "outputs": [
    {
     "data": {
      "image/png": "[encoded data removed]",
      "text/plain": [
       "<Figure size 432x288 with 1 Axes>"
      ]
     },
     "metadata": {
      "needs_background": "light"
     },
     "output_type": "display_data"
    }
   ],
   "source": [
    "# Сравним распределения по дальности для free и ultra.\n",
    "fig, ax = plt.subplots()\n",
    "ax.set_title('Распределение поездок по дальности')\n",
    "ax.set_xlabel('Дальность, м')\n",
    "ax.set_ylabel('Количество поездок, шт.')\n",
    "plt.hist([free_df['distance'], ultra_df['distance']], bins = 50, label=['free', 'ultra'])\n",
    "plt.legend()\n",
    "plt.show()"
   ]
  },
  {
   "cell_type": "code",
   "execution_count": 38,
   "id": "ffc846f4",
   "metadata": {},
   "outputs": [
    {
     "data": {
      "image/png": "[encoded data removed]",
      "text/plain": [
       "<Figure size 432x288 with 1 Axes>"
      ]
     },
     "metadata": {
      "needs_background": "light"
     },
     "output_type": "display_data"
    }
   ],
   "source": [
    "# Сравним распределения по длительности для free и ultra.\n",
    "fig, ax = plt.subplots()\n",
    "ax.set_title('Распределение поездок по длительность')\n",
    "ax.set_xlabel('Длительность, мин.')\n",
    "ax.set_ylabel('Количество поездок, шт.')\n",
    "plt.hist([free_df['duration'], ultra_df['duration']], bins = 50, label=['free', 'ultra'])\n",
    "plt.legend()\n",
    "plt.show()"
   ]
  },
  {
   "cell_type": "markdown",
   "id": "4542eb95",
   "metadata": {},
   "source": [
    "**Выводы по dsitance и duration в зависимости от статуса пользователей:**\n",
    "* Премиум пользователи совершают меньше коротких (до километра) поездок. При этом чаще прочих совершают поездки дальностью около 4км (пока не ясно в связи с чем).\n",
    "* Дисперсия по расстоянию поездки у премиум пользователей меньше.\n",
    "* В среднем дальность поездки у пользователей с разным статусом примерно одинакова.\n",
    "* Средняя продолжительность поездки у премиум-пользователей не сильно отличается от пользователей с бесплатным тарифом."
   ]
  },
  {
   "cell_type": "markdown",
   "id": "12dc74b9",
   "metadata": {},
   "source": [
    "<div class=\"alert alert-success\">\n",
    "<b>✔️ Комментарий ревьюера v1:</b>\n",
    "<br>Вывод верный!\n",
    "</div>\n",
    "\n",
    "<div class=\"alert alert-warning\">\n",
    "<b>⚠️ Комментарий ревьюера v1:</b> \n",
    "<br>Здесь можно было бы наложить графики распределений друг на друга, чтобы их было проще сравнить друг с другом\n",
    "</div>"
   ]
  },
  {
   "cell_type": "markdown",
   "id": "18a437bd",
   "metadata": {},
   "source": [
    "<div class=\"alert alert-info\">\n",
    "<b>Комментарий студента:</b>\n",
    "<br>\n",
    "Сделал.\n",
    "</div>"
   ]
  },
  {
   "cell_type": "markdown",
   "id": "bae0d7c2",
   "metadata": {},
   "source": [
    "<div class=\"alert alert-success\">\n",
    "<b>✔️ Комментарий ревьюера v2:</b>\n",
    "<br>Красота!\n",
    "</div>"
   ]
  },
  {
   "cell_type": "markdown",
   "id": "402d620f",
   "metadata": {},
   "source": [
    "#### Шаг 5. Подсчёт выручки"
   ]
  },
  {
   "cell_type": "code",
   "execution_count": 39,
   "id": "53049e0a",
   "metadata": {},
   "outputs": [
    {
     "data": {
      "text/html": [
       "<div>\n",
       "<style scoped>\n",
       "    .dataframe tbody tr th:only-of-type {\n",
       "        vertical-align: middle;\n",
       "    }\n",
       "\n",
       "    .dataframe tbody tr th {\n",
       "        vertical-align: top;\n",
       "    }\n",
       "\n",
       "    .dataframe thead th {\n",
       "        text-align: right;\n",
       "    }\n",
       "</style>\n",
       "<table border=\"1\" class=\"dataframe\">\n",
       "  <thead>\n",
       "    <tr style=\"text-align: right;\">\n",
       "      <th></th>\n",
       "      <th>user_id</th>\n",
       "      <th>subscription_type</th>\n",
       "      <th>month</th>\n",
       "      <th>distance_sum</th>\n",
       "      <th>rides_count</th>\n",
       "      <th>duration_sum</th>\n",
       "      <th>duration_ceiled_sum</th>\n",
       "    </tr>\n",
       "  </thead>\n",
       "  <tbody>\n",
       "    <tr>\n",
       "      <th>0</th>\n",
       "      <td>1</td>\n",
       "      <td>ultra</td>\n",
       "      <td>1</td>\n",
       "      <td>7027.51</td>\n",
       "      <td>2</td>\n",
       "      <td>41.42</td>\n",
       "      <td>42.00</td>\n",
       "    </tr>\n",
       "    <tr>\n",
       "      <th>1</th>\n",
       "      <td>1</td>\n",
       "      <td>ultra</td>\n",
       "      <td>4</td>\n",
       "      <td>754.16</td>\n",
       "      <td>1</td>\n",
       "      <td>6.23</td>\n",
       "      <td>7.00</td>\n",
       "    </tr>\n",
       "    <tr>\n",
       "      <th>2</th>\n",
       "      <td>1</td>\n",
       "      <td>ultra</td>\n",
       "      <td>8</td>\n",
       "      <td>6723.47</td>\n",
       "      <td>2</td>\n",
       "      <td>44.78</td>\n",
       "      <td>46.00</td>\n",
       "    </tr>\n",
       "    <tr>\n",
       "      <th>3</th>\n",
       "      <td>1</td>\n",
       "      <td>ultra</td>\n",
       "      <td>10</td>\n",
       "      <td>5809.91</td>\n",
       "      <td>2</td>\n",
       "      <td>31.58</td>\n",
       "      <td>32.00</td>\n",
       "    </tr>\n",
       "    <tr>\n",
       "      <th>4</th>\n",
       "      <td>1</td>\n",
       "      <td>ultra</td>\n",
       "      <td>11</td>\n",
       "      <td>7003.50</td>\n",
       "      <td>3</td>\n",
       "      <td>53.40</td>\n",
       "      <td>56.00</td>\n",
       "    </tr>\n",
       "  </tbody>\n",
       "</table>\n",
       "</div>"
      ],
      "text/plain": [
       "   user_id subscription_type  month  distance_sum  rides_count  duration_sum  \\\n",
       "0        1             ultra      1       7027.51            2         41.42   \n",
       "1        1             ultra      4        754.16            1          6.23   \n",
       "2        1             ultra      8       6723.47            2         44.78   \n",
       "3        1             ultra     10       5809.91            2         31.58   \n",
       "4        1             ultra     11       7003.50            3         53.40   \n",
       "\n",
       "   duration_ceiled_sum  \n",
       "0                42.00  \n",
       "1                 7.00  \n",
       "2                46.00  \n",
       "3                32.00  \n",
       "4                56.00  "
      ]
     },
     "execution_count": 39,
     "metadata": {},
     "output_type": "execute_result"
    }
   ],
   "source": [
    "# Создаём таблицу с группировкой по юзерам и месяцам, подтягиваем subs_type и делаем расчёт для времени оплаты.\n",
    "agg_by_user_and_month_df = df.groupby(['user_id', 'subscription_type', 'month']).agg(\n",
    "    {'distance': ['sum', 'count'], 'duration': ['sum', lambda x: np.ceil(x).sum()]})\n",
    "# Заменяем комплексный индекс на обычный и обновляем названия столбцов.\n",
    "agg_by_user_and_month_df.reset_index(drop=False, inplace=True)\n",
    "agg_by_user_and_month_df.columns = ['user_id', 'subscription_type', 'month', 'distance_sum', 'rides_count',\n",
    "                                    'duration_sum', 'duration_ceiled_sum']\n",
    "agg_by_user_and_month_df.head()"
   ]
  },
  {
   "cell_type": "code",
   "execution_count": 40,
   "id": "98a30422",
   "metadata": {},
   "outputs": [],
   "source": [
    "# Сохраняем тариф в переменные\n",
    "minute_price_free = subs_original_df[subs_original_df['subscription_type'] == 'free']['minute_price'][0]\n",
    "minute_price_ultra = subs_original_df[subs_original_df['subscription_type'] == 'ultra']['minute_price'][1]\n",
    "start_ride_price_free = subs_original_df[subs_original_df['subscription_type'] == 'free']['start_ride_price'][0]\n",
    "start_ride_price_ultra = subs_original_df[subs_original_df['subscription_type'] == 'ultra']['start_ride_price'][1]\n",
    "subs_fee_free = subs_original_df[subs_original_df['subscription_type'] == 'free']['subscription_fee'][0]\n",
    "subs_fee_ultra = subs_original_df[subs_original_df['subscription_type'] == 'ultra']['subscription_fee'][1]\n",
    "\n",
    "\n",
    "# Проверка\n",
    "# display(minute_price_free)\n",
    "# display(minute_price_ultra)\n",
    "# display(start_ride_price_free)\n",
    "# display(start_ride_price_ultra)\n",
    "# display(subs_fee_free)\n",
    "# display(subs_fee_ultra)\n",
    "\n",
    "# Пишем функцию для расчёта выручки.\n",
    "def revenue_calculator(s):\n",
    "    if s['subscription_type'] == 'free':\n",
    "        return subs_fee_free + s['duration_ceiled_sum'] * minute_price_free + s['rides_count'] * start_ride_price_free\n",
    "    else:\n",
    "        return subs_fee_ultra + s['duration_ceiled_sum'] * minute_price_ultra + s[\n",
    "            'rides_count'] * start_ride_price_ultra"
   ]
  },
  {
   "cell_type": "markdown",
   "id": "de8e4c24",
   "metadata": {},
   "source": [
    "<div class=\"alert alert-success\">\n",
    "<b>✔️ Комментарий ревьюера v1:</b>\n",
    "<br>Молодец, что создаешь функцию для расчета выручки\n",
    "</div>"
   ]
  },
  {
   "cell_type": "code",
   "execution_count": 41,
   "id": "8177283d",
   "metadata": {},
   "outputs": [
    {
     "data": {
      "text/plain": [
       "subscription_type\n",
       "free    328.53\n",
       "ultra   362.79\n",
       "Name: revenue, dtype: float64"
      ]
     },
     "execution_count": 41,
     "metadata": {},
     "output_type": "execute_result"
    }
   ],
   "source": [
    "# Применяем функцию для расчёта выручки\n",
    "agg_by_user_and_month_df['revenue'] = agg_by_user_and_month_df.apply(revenue_calculator, axis='columns')\n",
    "\n",
    "# Проверка\n",
    "# display(agg_by_user_and_month_df.query('subscription_type == \"ultra\"'))\n",
    "# display(agg_by_user_and_month_df.query('subscription_type == \"free\"'))\n",
    "\n",
    "agg_by_user_and_month_df.groupby('subscription_type')['revenue'].mean()"
   ]
  },
  {
   "cell_type": "markdown",
   "id": "a6c08b53",
   "metadata": {},
   "source": [
    "**Выводы:**\n",
    "* Произведен расчёт выручки помесячно для каждого пользователя.\n",
    "* Премиальные пользователи в среднем в месяц приносят больше выручи, чем бесплатные."
   ]
  },
  {
   "cell_type": "markdown",
   "id": "e08ce23e",
   "metadata": {},
   "source": [
    "<div class=\"alert alert-success\">\n",
    "<b>✔️ Комментарий ревьюера v1:</b>\n",
    "<br>Выручка расчитана верно!\n",
    "</div>"
   ]
  },
  {
   "cell_type": "markdown",
   "id": "41545ac0",
   "metadata": {},
   "source": [
    "#### Шаг 6. Проверка гипотез"
   ]
  },
  {
   "cell_type": "markdown",
   "id": "bc188ad8",
   "metadata": {},
   "source": [
    "**Н0:** Пользователи с подпиской тратят столько же времени на поездки, сколько и пользователи без подписки.\n",
    "**Н1:** Пользователи с подпиской тратят больше времени на поездки, чем пользователи без подписки."
   ]
  },
  {
   "cell_type": "markdown",
   "id": "6ef8c62c",
   "metadata": {},
   "source": [
    "<div class=\"alert alert-success\">\n",
    "<b>✔️ Комментарий ревьюера v1:</b>\n",
    "<br>Гипотезы сформулированы верно\n",
    "</div>"
   ]
  },
  {
   "cell_type": "code",
   "execution_count": 42,
   "id": "25c91906",
   "metadata": {},
   "outputs": [
    {
     "data": {
      "text/plain": [
       "'Pvalue:4.704468074453899e-28'"
      ]
     },
     "metadata": {},
     "output_type": "display_data"
    },
    {
     "data": {
      "text/plain": [
       "'Отвергаем нулевую гипотезу.'"
      ]
     },
     "metadata": {},
     "output_type": "display_data"
    }
   ],
   "source": [
    "alpha = 0.01\n",
    "result = st.ttest_ind(ultra_df['duration'].dropna(), free_df['duration'].dropna(), alternative='greater')\n",
    "display('Pvalue:' + str(result.pvalue))\n",
    "if result.pvalue > alpha:\n",
    "    display('Нет оснований отвергать нулевую гипотезу.')\n",
    "else:\n",
    "    display('Отвергаем нулевую гипотезу.')"
   ]
  },
  {
   "cell_type": "markdown",
   "id": "a0fecc7b",
   "metadata": {},
   "source": [
    "**Вывод:**\n",
    "* Пользователи с подпиской тратят больше времени на поездки, чем пользователи без подписки."
   ]
  },
  {
   "cell_type": "markdown",
   "id": "6a198563",
   "metadata": {},
   "source": [
    "<div class=\"alert alert-success\">\n",
    "<b>✔️ Комментарий ревьюера v1:</b>\n",
    "<br>Вывод верный\n",
    "</div>"
   ]
  },
  {
   "cell_type": "markdown",
   "id": "9097b6ac",
   "metadata": {},
   "source": [
    "**Н0:** Среднее расстояние, которое за одну поездку проезжают пользователи с подпиской равно 3130 метров.\n",
    "**Н1:** Среднее расстояние, которое за одну поездку проезжают пользователи с подпиской более 3130 метров."
   ]
  },
  {
   "cell_type": "code",
   "execution_count": 43,
   "id": "93bc65e6",
   "metadata": {},
   "outputs": [
    {
     "data": {
      "text/plain": [
       "'Pvalue:0.9195368847849785'"
      ]
     },
     "metadata": {},
     "output_type": "display_data"
    },
    {
     "data": {
      "text/plain": [
       "'Нет оснований отвергать нулевую гипотезу.'"
      ]
     },
     "metadata": {},
     "output_type": "display_data"
    }
   ],
   "source": [
    "alpha = 0.01\n",
    "mean_dist = 3130\n",
    "result = st.ttest_1samp(ultra_df['distance'].dropna(), mean_dist, alternative='greater')\n",
    "display('Pvalue:' + str(result.pvalue))\n",
    "if result.pvalue > alpha:\n",
    "    display('Нет оснований отвергать нулевую гипотезу.')\n",
    "else:\n",
    "    display('Отвергаем нулевую гипотезу.')"
   ]
  },
  {
   "cell_type": "markdown",
   "id": "b3838cf3",
   "metadata": {},
   "source": [
    "<div class=\"alert alert-danger\">\n",
    "<b>❌ Комментарий ревьюера v1:</b> \n",
    "<br>В данном случае нужно использовать параметр alternative = 'greater'. Поскольку оптимальное расстояние по износу составляет 3130 м, значит большее расстояние приводит к повышенному износу самоката. Следовательно, имеет смысл сформулировать альтернативную гипотезу \"Подписчики в среднем проезжают расстояние больше оптимального\"\n",
    "</div>"
   ]
  },
  {
   "cell_type": "markdown",
   "id": "44130ed0",
   "metadata": {},
   "source": [
    "<div class=\"alert alert-info\">\n",
    "<b>Комментарий студента:</b>\n",
    "<br>\n",
    "Поправил.\n",
    "</div>"
   ]
  },
  {
   "cell_type": "markdown",
   "id": "6e7f79bd",
   "metadata": {},
   "source": [
    "<div class=\"alert alert-success\">\n",
    "<b>✔️ Комментарий ревьюера v2:</b>\n",
    "<br>Обе правки выполнены 👍\n",
    "</div>"
   ]
  },
  {
   "cell_type": "markdown",
   "id": "e3b105a6",
   "metadata": {},
   "source": [
    "**Вывод:**\n",
    "* Нет оснований полагать, что среднее расстояние, которое за одну поездку проезжают пользователи с подпиской больше 3130 метров."
   ]
  },
  {
   "cell_type": "markdown",
   "id": "6b5e659a",
   "metadata": {},
   "source": [
    "**Н0:** Средняя помесячная выручка от пользователей с подпиской равна средней помесячной выручке от пользователей без подписки.\n",
    "**Н1:** Средняя помесячная выручка от пользователей с подпиской больше средней помесячной выручке от пользователей без подписки."
   ]
  },
  {
   "cell_type": "markdown",
   "id": "469baf03",
   "metadata": {},
   "source": [
    "<div class=\"alert alert-success\">\n",
    "<b>✔️ Комментарий ревьюера v1:</b>\n",
    "<br>Гипотезы сформулированы верно\n",
    "</div>"
   ]
  },
  {
   "cell_type": "code",
   "execution_count": 44,
   "id": "4ed20ee0",
   "metadata": {},
   "outputs": [
    {
     "data": {
      "text/plain": [
       "'Pvalue:1.234097181482016e-31'"
      ]
     },
     "metadata": {},
     "output_type": "display_data"
    },
    {
     "data": {
      "text/plain": [
       "'Отвергаем нулевую гипотезу.'"
      ]
     },
     "metadata": {},
     "output_type": "display_data"
    }
   ],
   "source": [
    "alpha = 0.01\n",
    "result = st.ttest_ind(\n",
    "    agg_by_user_and_month_df[agg_by_user_and_month_df['subscription_type'] == 'ultra']['revenue'].dropna(),\n",
    "    agg_by_user_and_month_df[agg_by_user_and_month_df['subscription_type'] == 'free']['revenue'].dropna(),\n",
    "    alternative='greater')\n",
    "display('Pvalue:' + str(result.pvalue))\n",
    "if result.pvalue > alpha:\n",
    "    display('Нет оснований отвергать нулевую гипотезу.')\n",
    "else:\n",
    "    display('Отвергаем нулевую гипотезу.')"
   ]
  },
  {
   "cell_type": "markdown",
   "id": "95f641e9",
   "metadata": {},
   "source": [
    "**Выводы:**\n",
    "* Средняя помесячная выручка от пользователей с подпиской больше средней помесячной выручки от пользователей без подписки."
   ]
  },
  {
   "cell_type": "markdown",
   "id": "ae4dff47",
   "metadata": {},
   "source": [
    "<div class=\"alert alert-success\">\n",
    "<b>✔️ Комментарий ревьюера v1:</b>\n",
    "<br>Вывод верный\n",
    "</div>"
   ]
  },
  {
   "cell_type": "markdown",
   "id": "9f4f00c3",
   "metadata": {},
   "source": [
    "**Проверка гипотезы о снижении обращений в техподдержку:**\n",
    "* Для проверки такой гипотезы потребуется проверка гипотезы равенства среднего по парным выборкам.\n",
    "* Необходимо будет использовать тест scipy.stats.ttest_rel(before, after)."
   ]
  },
  {
   "cell_type": "markdown",
   "id": "1cc51076",
   "metadata": {},
   "source": [
    "<div class=\"alert alert-success\">\n",
    "<b>✔️ Комментарий ревьюера v1:</b>\n",
    "<br>Метод выбран верно!\n",
    "</div>"
   ]
  },
  {
   "cell_type": "markdown",
   "id": "61213c5e",
   "metadata": {},
   "source": [
    "#### Шаг 7. Распределения"
   ]
  },
  {
   "cell_type": "markdown",
   "id": "a8a40ddd",
   "metadata": {},
   "source": [
    "**Задача:**\n",
    "Отделу маркетинга GoFast поставили задачу: нужно провести акцию с раздачей промокодов на один бесплатный месяц подписки, в рамках которой как минимум 100 существующих клиентов должны продлить эту подписку. То есть по завершении периода действия подписки пользователь может либо отказаться от неё, либо продлить, совершив соответствующий платёж. Эта акция уже проводилась ранее и по итогу выяснилось, что после бесплатного пробного периода подписку продлевают 10% пользователей.\n",
    "\n",
    "Выясните, какое минимальное количество промокодов нужно разослать, чтобы вероятность не выполнить план была примерно 5%. Подберите параметры распределения, описывающего эту ситуацию, постройте график распределения и сформулируйте ответ на вопрос о количестве промокодов."
   ]
  },
  {
   "cell_type": "code",
   "execution_count": 45,
   "id": "a85b67db",
   "metadata": {},
   "outputs": [
    {
     "data": {
      "text/plain": [
       "'Вероятность получить меньше 100 дополнительных подписчиков при раздаче 1172 промокодов составляет: 4.95%'"
      ]
     },
     "metadata": {},
     "output_type": "display_data"
    },
    {
     "data": {
      "image/png": "[encoded data removed]",
      "text/plain": [
       "<Figure size 432x288 with 1 Axes>"
      ]
     },
     "metadata": {
      "needs_background": "light"
     },
     "output_type": "display_data"
    }
   ],
   "source": [
    "# Необходимо построить биномиальное распределение.\n",
    "p = 0.1\n",
    "new_clients_required = 100\n",
    "# Диапазон для графика.\n",
    "n_min= 1160\n",
    "n_max = 1190\n",
    "p_plan = 0.05\n",
    "\n",
    "dots = []\n",
    "\n",
    "# Строим график вароятности получить меньше 100 клиентов.\n",
    "for i in range(n_min, n_max + 1):\n",
    "    dots.append(binom.cdf(new_clients_required, i, p))\n",
    "\n",
    "plt.bar(range(n_min, n_max + 1), dots)\n",
    "\n",
    "# Определяем на глаз значение под p_plan.\n",
    "display(f'Вероятность получить меньше 100 дополнительных подписчиков при раздаче 1172 промокодов составляет: {binom.cdf(new_clients_required, 1172, p):.2%}')"
   ]
  },
  {
   "cell_type": "markdown",
   "id": "c7ee9ca8",
   "metadata": {},
   "source": [
    "**Вывод:** Для получения минимум 100 новых подписчиков с вероятностью более 95% необходимо раздать минимум 1172 промокода."
   ]
  },
  {
   "cell_type": "markdown",
   "id": "33c72b19",
   "metadata": {},
   "source": [
    "**Задача:**\n",
    "Отдел маркетинга рассылает клиентам push-уведомления в мобильном приложении. Клиенты могут открыть его или не открывать. Известно, что уведомления открывают около 40% получивших клиентов. Отдел планирует разослать 1 млн уведомлений. С помощью аппроксимации постройте примерный график распределения и оцените вероятность того, что уведомление откроют не более 399,5 тыс. пользователей."
   ]
  },
  {
   "cell_type": "code",
   "execution_count": 46,
   "id": "4b56da91",
   "metadata": {},
   "outputs": [
    {
     "data": {
      "text/plain": [
       "'Можно аппроксимировать нормальным распределением?'"
      ]
     },
     "metadata": {},
     "output_type": "display_data"
    },
    {
     "data": {
      "text/plain": [
       "True"
      ]
     },
     "metadata": {},
     "output_type": "display_data"
    },
    {
     "data": {
      "text/plain": [
       "True"
      ]
     },
     "metadata": {},
     "output_type": "display_data"
    },
    {
     "data": {
      "text/plain": [
       "'Вероятность получить менее 399,5 тыс. открытых уведомлений: 15.37%'"
      ]
     },
     "metadata": {},
     "output_type": "display_data"
    }
   ],
   "source": [
    "# Параметры биномиального распределения\n",
    "p = 0.4\n",
    "n = 10 ** 6\n",
    "mu = n * p\n",
    "sigma = (n * p * (1 - p)) ** 0.5\n",
    "\n",
    "# Проверим диапазон mu +- 3 *sigma.\n",
    "display('Можно аппроксимировать нормальным распределением?', (mu - 3 * sigma > 0), (mu + 3 * sigma < n))\n",
    "\n",
    "distr = norm(mu, sigma)\n",
    "\n",
    "new_clients_required = 399_500\n",
    "new_clients_required_for_norm = (399_500 - mu) / sigma\n",
    "\n",
    "display(f'Вероятность получить менее 399,5 тыс. открытых уведомлений: {norm.cdf(new_clients_required_for_norm):.2%}')"
   ]
  },
  {
   "cell_type": "markdown",
   "id": "60c2c9aa",
   "metadata": {},
   "source": [
    "**Вывод:** Вероятность получить менее 399,5 тыс. открытых уведомлений составляет 15,37%."
   ]
  },
  {
   "cell_type": "markdown",
   "id": "4ad093d1",
   "metadata": {},
   "source": [
    "<div class=\"alert alert-success\">\n",
    "<b>✔️ Комментарий ревьюера v1:</b>\n",
    "<br>Дополнительное задание выполнено верно!\n",
    "</div>"
   ]
  },
  {
   "cell_type": "markdown",
   "id": "b069b584",
   "metadata": {},
   "source": [
    "<div class=\"alert alert-danger\">\n",
    "<b>❌ Комментарий ревьюера v1:</b> \n",
    "<br>Обязательно нужно написать общий вывод после проделанной работы. Хорошей практикой является написание в общем выводе всех твоих действий (кратко) по проекту. А после этого нужно написать общий вывод использую информацию из промежуточных выводов после каждого раздела. В нашем исследовании основной вопрос это \"Являются ли подписчики более выгодными для компании?\"  Не забудь ответить на него\n",
    "</div>"
   ]
  },
  {
   "cell_type": "markdown",
   "id": "2c1be590",
   "metadata": {},
   "source": [
    "<div class=\"alert alert-info\">\n",
    "<b>Комментарий студента:</b>\n",
    "<br>\n",
    "Добавил ниже.\n",
    "</div>"
   ]
  },
  {
   "cell_type": "markdown",
   "id": "2e8b3c67",
   "metadata": {},
   "source": [
    "<div class=\"alert alert-success\">\n",
    "<b>✔️ Комментарий ревьюера v2:</b>\n",
    "<br>Обе правки выполнены 👍 Не забывай про это в следующих проектах)\n",
    "</div>"
   ]
  },
  {
   "cell_type": "markdown",
   "id": "0fd3bf4e",
   "metadata": {},
   "source": [
    "### Выводы по проекту\n",
    "* Во время работы проведена обработка и анализ предоставленных сервисом данных.\n",
    "* Выявлен предположительно ряд ошибочных данных по продолжительности поездки в размере 95 семлов. Команде сервиса рекомендуется выяснить по какой причине появились странные значения длительности поездок ровно 0.5 минуты.\n",
    "* Выборка довольно равномерно распределена по 8 городам, пользователям с подпиской и без. Средний возраст пользователей составляет около 25 лет. Среди поездок можно выделить 2 группы: короткие (до 1,5 км) и дальние (до 7,5 км). Средняя поездка составляет около 18 минут.\n",
    "* Средняя продолжительность и дальность поездок пользователей с премиальным аккаунтом и непремиальным отличаются несильно.\n",
    "* Расчёт помесячной выручки для пользователей показал, что премиальные пользователи в среднем в месяц приносят больше выручи, чем бесплатные.\n",
    "* Проверка гипотез привела к следующим выводам:\n",
    "    * Пользователи с подпиской тратят больше времени на поездки, чем пользователи без подписки.\n",
    "    * Нет оснований полагать, что среднее расстояние, которое за одну поездку проезжают пользователи с подпиской больше 3130 метров.\n",
    "    * Средняя помесячная выручка от пользователей с подпиской больше средней помесячной выручки от пользователей без подписки.\n",
    "* **Таким образом статистически обоснован вывод о том, то премиальные подписчики являются более выгодными клиентами для компании, чем беслатные подписчики.**\n",
    "* В завершающей части работы проведено изучение 2 биномиальных распределений в рамках которых решены 2 абстрактные задачи."
   ]
  },
  {
   "cell_type": "markdown",
   "id": "5826301a",
   "metadata": {},
   "source": [
    "<div class=\"alert alert-danger\">\n",
    "<b>❌ Итоговый комментарий ревьюера v1:</b> \n",
    "<br>Необходимо поправить:\n",
    "<br>- добавить описание задачи в начале проекта\n",
    "<br>- добавить графики в шаге 3\n",
    "<br>- проверить наличие подписей у каждого графика\n",
    "<br>- корректно проверить вторую гипотезу\n",
    "<br>- написать общий вывод\n",
    "\n",
    "<br>После всех внесённых правок не забудь поправить выводы там, где это необходимо\n",
    "</div>"
   ]
  },
  {
   "cell_type": "markdown",
   "id": "bc042813",
   "metadata": {},
   "source": [
    "<div class=\"alert alert-info\">\n",
    "<b>Комментарий студента:</b>\n",
    "<br>\n",
    "Кажется, что всё сделал.\n",
    "</div>"
   ]
  },
  {
   "cell_type": "markdown",
   "id": "3826586e",
   "metadata": {},
   "source": [
    "<div class=\"alert alert-success\">\n",
    "<b>✔️ Итоговый комментарий ревьюера v2:</b>\n",
    "<br>Все правки выполнены. Молодец!\n",
    "<br>Я рад был поработать над проверкой твоей работы) В качестве дополнительного материала для изучения могу порекомендовать следующие материалы:\n",
    "\n",
    "    Курс \"Вероятность и статистика\" | Глеб Михайлов (free): https://www.youtube.com/playlist?list=PLQJ7ptkRY-xbHLLI66KdscKp_FJt0FsIi\n",
    "\n",
    "    Методы обнаружения выбросов: https://youtu.be/TOK7Kq7x0yc\n",
    "\n",
    "<br>Поздравляю со сдачей проекта и желаю удачи в дальнейшем обучении! 😉    \n",
    "</div>"
   ]
  }
 ],
 "metadata": {
  "ExecuteTimeLog": [
   {
    "duration": 1180,
    "start_time": "2023-11-01T10:26:19.925Z"
   },
   {
    "duration": 4,
    "start_time": "2023-11-01T10:26:21.107Z"
   },
   {
    "duration": 298,
    "start_time": "2023-11-01T10:26:21.112Z"
   },
   {
    "duration": 14,
    "start_time": "2023-11-01T10:26:21.413Z"
   },
   {
    "duration": 58,
    "start_time": "2023-11-01T10:26:21.430Z"
   },
   {
    "duration": 17,
    "start_time": "2023-11-01T10:26:21.489Z"
   },
   {
    "duration": 17,
    "start_time": "2023-11-01T10:26:21.508Z"
   },
   {
    "duration": 11,
    "start_time": "2023-11-01T10:26:21.526Z"
   },
   {
    "duration": 17,
    "start_time": "2023-11-01T10:26:21.538Z"
   },
   {
    "duration": 13,
    "start_time": "2023-11-01T10:26:21.559Z"
   },
   {
    "duration": 48,
    "start_time": "2023-11-01T10:26:21.574Z"
   },
   {
    "duration": 19,
    "start_time": "2023-11-01T10:26:21.624Z"
   },
   {
    "duration": 18,
    "start_time": "2023-11-01T10:26:21.646Z"
   },
   {
    "duration": 24,
    "start_time": "2023-11-01T10:26:21.666Z"
   },
   {
    "duration": 7,
    "start_time": "2023-11-01T10:26:21.692Z"
   },
   {
    "duration": 19,
    "start_time": "2023-11-01T10:26:21.701Z"
   },
   {
    "duration": 22,
    "start_time": "2023-11-01T10:26:21.722Z"
   },
   {
    "duration": 30,
    "start_time": "2023-11-01T10:26:21.746Z"
   },
   {
    "duration": 25,
    "start_time": "2023-11-01T10:26:21.778Z"
   },
   {
    "duration": 32,
    "start_time": "2023-11-01T10:26:21.805Z"
   },
   {
    "duration": 40,
    "start_time": "2023-11-01T10:26:21.838Z"
   },
   {
    "duration": 39,
    "start_time": "2023-11-01T10:26:21.880Z"
   },
   {
    "duration": 805,
    "start_time": "2023-11-01T10:26:21.921Z"
   },
   {
    "duration": 444,
    "start_time": "2023-11-01T10:26:22.728Z"
   },
   {
    "duration": 520,
    "start_time": "2023-11-01T10:26:23.174Z"
   },
   {
    "duration": 31,
    "start_time": "2023-11-01T10:26:23.696Z"
   },
   {
    "duration": 469,
    "start_time": "2023-11-01T10:26:23.728Z"
   },
   {
    "duration": 31,
    "start_time": "2023-11-01T10:26:24.206Z"
   },
   {
    "duration": 13,
    "start_time": "2023-11-01T10:26:24.240Z"
   },
   {
    "duration": 8,
    "start_time": "2023-11-01T10:26:24.255Z"
   },
   {
    "duration": 787,
    "start_time": "2023-11-01T10:26:24.264Z"
   },
   {
    "duration": 890,
    "start_time": "2023-11-01T10:26:25.053Z"
   },
   {
    "duration": 2248,
    "start_time": "2023-11-01T10:26:25.945Z"
   },
   {
    "duration": 13,
    "start_time": "2023-11-01T10:26:28.195Z"
   },
   {
    "duration": 198,
    "start_time": "2023-11-01T10:26:28.210Z"
   },
   {
    "duration": 9,
    "start_time": "2023-11-01T10:26:28.409Z"
   },
   {
    "duration": 8,
    "start_time": "2023-11-01T10:26:28.422Z"
   },
   {
    "duration": 16,
    "start_time": "2023-11-01T10:26:28.432Z"
   },
   {
    "duration": 200,
    "start_time": "2023-11-01T10:26:28.450Z"
   },
   {
    "duration": 9,
    "start_time": "2023-11-01T10:26:28.651Z"
   },
   {
    "duration": 1087,
    "start_time": "2023-11-01T11:18:39.723Z"
   },
   {
    "duration": 4,
    "start_time": "2023-11-01T11:18:40.812Z"
   },
   {
    "duration": 145,
    "start_time": "2023-11-01T11:18:40.818Z"
   },
   {
    "duration": 10,
    "start_time": "2023-11-01T11:18:40.965Z"
   },
   {
    "duration": 11,
    "start_time": "2023-11-01T11:18:40.978Z"
   },
   {
    "duration": 8,
    "start_time": "2023-11-01T11:18:40.991Z"
   },
   {
    "duration": 16,
    "start_time": "2023-11-01T11:18:41.001Z"
   },
   {
    "duration": 10,
    "start_time": "2023-11-01T11:18:41.019Z"
   },
   {
    "duration": 21,
    "start_time": "2023-11-01T11:18:41.030Z"
   },
   {
    "duration": 4,
    "start_time": "2023-11-01T11:18:41.053Z"
   },
   {
    "duration": 14,
    "start_time": "2023-11-01T11:18:41.059Z"
   },
   {
    "duration": 34,
    "start_time": "2023-11-01T11:18:41.074Z"
   },
   {
    "duration": 16,
    "start_time": "2023-11-01T11:18:41.110Z"
   },
   {
    "duration": 11,
    "start_time": "2023-11-01T11:18:41.129Z"
   },
   {
    "duration": 30,
    "start_time": "2023-11-01T11:18:41.141Z"
   },
   {
    "duration": 7,
    "start_time": "2023-11-01T11:18:41.172Z"
   },
   {
    "duration": 10,
    "start_time": "2023-11-01T11:18:41.181Z"
   },
   {
    "duration": 17,
    "start_time": "2023-11-01T11:18:41.192Z"
   },
   {
    "duration": 41,
    "start_time": "2023-11-01T11:18:41.211Z"
   },
   {
    "duration": 24,
    "start_time": "2023-11-01T11:18:41.255Z"
   },
   {
    "duration": 13,
    "start_time": "2023-11-01T11:18:41.281Z"
   },
   {
    "duration": 20,
    "start_time": "2023-11-01T11:18:41.296Z"
   },
   {
    "duration": 812,
    "start_time": "2023-11-01T11:18:41.318Z"
   },
   {
    "duration": 414,
    "start_time": "2023-11-01T11:18:42.133Z"
   },
   {
    "duration": 510,
    "start_time": "2023-11-01T11:18:42.550Z"
   },
   {
    "duration": 21,
    "start_time": "2023-11-01T11:18:43.061Z"
   },
   {
    "duration": 451,
    "start_time": "2023-11-01T11:18:43.083Z"
   },
   {
    "duration": 31,
    "start_time": "2023-11-01T11:18:43.536Z"
   },
   {
    "duration": 10,
    "start_time": "2023-11-01T11:18:43.568Z"
   },
   {
    "duration": 28,
    "start_time": "2023-11-01T11:18:43.580Z"
   },
   {
    "duration": 828,
    "start_time": "2023-11-01T11:18:43.610Z"
   },
   {
    "duration": 871,
    "start_time": "2023-11-01T11:18:44.440Z"
   },
   {
    "duration": 2250,
    "start_time": "2023-11-01T11:18:45.313Z"
   },
   {
    "duration": 10,
    "start_time": "2023-11-01T11:18:47.565Z"
   },
   {
    "duration": 226,
    "start_time": "2023-11-01T11:18:47.577Z"
   },
   {
    "duration": 9,
    "start_time": "2023-11-01T11:18:47.806Z"
   },
   {
    "duration": 50,
    "start_time": "2023-11-01T11:18:47.817Z"
   },
   {
    "duration": 28,
    "start_time": "2023-11-01T11:18:47.869Z"
   },
   {
    "duration": 181,
    "start_time": "2023-11-01T11:18:47.899Z"
   },
   {
    "duration": 9,
    "start_time": "2023-11-01T11:18:48.081Z"
   },
   {
    "duration": 1133,
    "start_time": "2023-11-01T11:21:41.175Z"
   },
   {
    "duration": 3,
    "start_time": "2023-11-01T11:21:42.311Z"
   },
   {
    "duration": 146,
    "start_time": "2023-11-01T11:21:42.316Z"
   },
   {
    "duration": 10,
    "start_time": "2023-11-01T11:21:42.464Z"
   },
   {
    "duration": 16,
    "start_time": "2023-11-01T11:21:42.476Z"
   },
   {
    "duration": 33,
    "start_time": "2023-11-01T11:21:42.494Z"
   },
   {
    "duration": 37,
    "start_time": "2023-11-01T11:21:42.529Z"
   },
   {
    "duration": 24,
    "start_time": "2023-11-01T11:21:42.568Z"
   },
   {
    "duration": 28,
    "start_time": "2023-11-01T11:21:42.593Z"
   },
   {
    "duration": 19,
    "start_time": "2023-11-01T11:21:42.623Z"
   },
   {
    "duration": 33,
    "start_time": "2023-11-01T11:21:42.644Z"
   },
   {
    "duration": 21,
    "start_time": "2023-11-01T11:21:42.678Z"
   },
   {
    "duration": 31,
    "start_time": "2023-11-01T11:21:42.700Z"
   },
   {
    "duration": 23,
    "start_time": "2023-11-01T11:21:42.734Z"
   },
   {
    "duration": 20,
    "start_time": "2023-11-01T11:21:42.759Z"
   },
   {
    "duration": 26,
    "start_time": "2023-11-01T11:21:42.781Z"
   },
   {
    "duration": 47,
    "start_time": "2023-11-01T11:21:42.809Z"
   },
   {
    "duration": 53,
    "start_time": "2023-11-01T11:21:42.858Z"
   },
   {
    "duration": 32,
    "start_time": "2023-11-01T11:21:42.913Z"
   },
   {
    "duration": 25,
    "start_time": "2023-11-01T11:21:42.947Z"
   },
   {
    "duration": 41,
    "start_time": "2023-11-01T11:21:42.974Z"
   },
   {
    "duration": 44,
    "start_time": "2023-11-01T11:21:43.017Z"
   },
   {
    "duration": 786,
    "start_time": "2023-11-01T11:21:43.063Z"
   },
   {
    "duration": 436,
    "start_time": "2023-11-01T11:21:43.851Z"
   },
   {
    "duration": 502,
    "start_time": "2023-11-01T11:21:44.288Z"
   },
   {
    "duration": 32,
    "start_time": "2023-11-01T11:21:44.792Z"
   },
   {
    "duration": 434,
    "start_time": "2023-11-01T11:21:44.826Z"
   },
   {
    "duration": 97,
    "start_time": "2023-11-01T11:21:45.262Z"
   },
   {
    "duration": 0,
    "start_time": "2023-11-01T11:21:45.361Z"
   },
   {
    "duration": 0,
    "start_time": "2023-11-01T11:21:45.362Z"
   },
   {
    "duration": 0,
    "start_time": "2023-11-01T11:21:45.363Z"
   },
   {
    "duration": 0,
    "start_time": "2023-11-01T11:21:45.364Z"
   },
   {
    "duration": 0,
    "start_time": "2023-11-01T11:21:45.365Z"
   },
   {
    "duration": 0,
    "start_time": "2023-11-01T11:21:45.366Z"
   },
   {
    "duration": 0,
    "start_time": "2023-11-01T11:21:45.367Z"
   },
   {
    "duration": 0,
    "start_time": "2023-11-01T11:21:45.368Z"
   },
   {
    "duration": 0,
    "start_time": "2023-11-01T11:21:45.369Z"
   },
   {
    "duration": 0,
    "start_time": "2023-11-01T11:21:45.370Z"
   },
   {
    "duration": 0,
    "start_time": "2023-11-01T11:21:45.371Z"
   },
   {
    "duration": 0,
    "start_time": "2023-11-01T11:21:45.372Z"
   },
   {
    "duration": 0,
    "start_time": "2023-11-01T11:21:45.373Z"
   },
   {
    "duration": 31,
    "start_time": "2023-11-01T11:21:51.411Z"
   },
   {
    "duration": 12,
    "start_time": "2023-11-01T11:21:52.445Z"
   },
   {
    "duration": 9,
    "start_time": "2023-11-01T11:21:52.838Z"
   },
   {
    "duration": 829,
    "start_time": "2023-11-01T11:21:56.869Z"
   },
   {
    "duration": 880,
    "start_time": "2023-11-01T11:21:57.700Z"
   },
   {
    "duration": 2158,
    "start_time": "2023-11-01T11:22:53.012Z"
   },
   {
    "duration": 10,
    "start_time": "2023-11-01T11:22:55.173Z"
   },
   {
    "duration": 2044,
    "start_time": "2023-11-01T11:23:01.293Z"
   },
   {
    "duration": 10,
    "start_time": "2023-11-01T11:23:03.340Z"
   },
   {
    "duration": 227,
    "start_time": "2023-11-01T11:23:03.352Z"
   },
   {
    "duration": 1424,
    "start_time": "2023-11-01T11:23:09.718Z"
   },
   {
    "duration": 10,
    "start_time": "2023-11-01T11:23:46.659Z"
   },
   {
    "duration": 9,
    "start_time": "2023-11-01T11:24:34.309Z"
   },
   {
    "duration": 46,
    "start_time": "2023-11-01T11:24:54.022Z"
   },
   {
    "duration": 3,
    "start_time": "2023-11-01T11:25:00.666Z"
   },
   {
    "duration": 9,
    "start_time": "2023-11-01T11:25:24.218Z"
   },
   {
    "duration": 13,
    "start_time": "2023-11-01T11:25:31.440Z"
   },
   {
    "duration": 172,
    "start_time": "2023-11-01T11:25:54.528Z"
   },
   {
    "duration": 12,
    "start_time": "2023-11-01T11:25:56.255Z"
   },
   {
    "duration": 1088,
    "start_time": "2023-11-01T17:27:55.308Z"
   },
   {
    "duration": 3,
    "start_time": "2023-11-01T17:27:56.398Z"
   },
   {
    "duration": 154,
    "start_time": "2023-11-01T17:27:56.403Z"
   },
   {
    "duration": 10,
    "start_time": "2023-11-01T17:27:56.558Z"
   },
   {
    "duration": 21,
    "start_time": "2023-11-01T17:27:56.570Z"
   },
   {
    "duration": 21,
    "start_time": "2023-11-01T17:27:56.593Z"
   },
   {
    "duration": 23,
    "start_time": "2023-11-01T17:27:56.615Z"
   },
   {
    "duration": 6,
    "start_time": "2023-11-01T17:27:56.639Z"
   },
   {
    "duration": 11,
    "start_time": "2023-11-01T17:27:56.646Z"
   },
   {
    "duration": 7,
    "start_time": "2023-11-01T17:27:56.659Z"
   },
   {
    "duration": 15,
    "start_time": "2023-11-01T17:27:56.670Z"
   },
   {
    "duration": 6,
    "start_time": "2023-11-01T17:27:56.687Z"
   },
   {
    "duration": 12,
    "start_time": "2023-11-01T17:27:56.707Z"
   },
   {
    "duration": 9,
    "start_time": "2023-11-01T17:27:56.722Z"
   },
   {
    "duration": 4,
    "start_time": "2023-11-01T17:27:56.733Z"
   },
   {
    "duration": 5,
    "start_time": "2023-11-01T17:27:56.739Z"
   },
   {
    "duration": 13,
    "start_time": "2023-11-01T17:27:56.746Z"
   },
   {
    "duration": 6,
    "start_time": "2023-11-01T17:27:56.761Z"
   },
   {
    "duration": 39,
    "start_time": "2023-11-01T17:27:56.769Z"
   },
   {
    "duration": 192,
    "start_time": "2023-11-01T17:27:56.810Z"
   },
   {
    "duration": 11,
    "start_time": "2023-11-01T17:27:57.004Z"
   },
   {
    "duration": 81,
    "start_time": "2023-11-01T17:27:57.017Z"
   },
   {
    "duration": 8,
    "start_time": "2023-11-01T17:27:57.106Z"
   },
   {
    "duration": 286,
    "start_time": "2023-11-01T17:27:57.116Z"
   },
   {
    "duration": 20,
    "start_time": "2023-11-01T17:27:57.407Z"
   },
   {
    "duration": 415,
    "start_time": "2023-11-01T17:27:57.428Z"
   },
   {
    "duration": 389,
    "start_time": "2023-11-01T17:27:57.845Z"
   },
   {
    "duration": 434,
    "start_time": "2023-11-01T17:27:58.236Z"
   },
   {
    "duration": 369,
    "start_time": "2023-11-01T17:27:58.672Z"
   },
   {
    "duration": 21,
    "start_time": "2023-11-01T17:27:59.043Z"
   },
   {
    "duration": 399,
    "start_time": "2023-11-01T17:27:59.065Z"
   },
   {
    "duration": 26,
    "start_time": "2023-11-01T17:27:59.465Z"
   },
   {
    "duration": 22,
    "start_time": "2023-11-01T17:27:59.493Z"
   },
   {
    "duration": 13,
    "start_time": "2023-11-01T17:27:59.517Z"
   },
   {
    "duration": 17,
    "start_time": "2023-11-01T17:27:59.531Z"
   },
   {
    "duration": 19,
    "start_time": "2023-11-01T17:27:59.549Z"
   },
   {
    "duration": 299,
    "start_time": "2023-11-01T17:27:59.570Z"
   },
   {
    "duration": 416,
    "start_time": "2023-11-01T17:27:59.870Z"
   },
   {
    "duration": 1831,
    "start_time": "2023-11-01T17:28:00.288Z"
   },
   {
    "duration": 9,
    "start_time": "2023-11-01T17:28:02.121Z"
   },
   {
    "duration": 238,
    "start_time": "2023-11-01T17:28:02.133Z"
   },
   {
    "duration": 7,
    "start_time": "2023-11-01T17:28:02.372Z"
   },
   {
    "duration": 35,
    "start_time": "2023-11-01T17:28:02.381Z"
   },
   {
    "duration": 25,
    "start_time": "2023-11-01T17:28:02.417Z"
   },
   {
    "duration": 176,
    "start_time": "2023-11-01T17:28:02.444Z"
   },
   {
    "duration": 8,
    "start_time": "2023-11-01T17:28:02.622Z"
   }
  ],
  "kernelspec": {
   "display_name": "Python 3 (ipykernel)",
   "language": "python",
   "name": "python3"
  },
  "language_info": {
   "codemirror_mode": {
    "name": "ipython",
    "version": 3
   },
   "file_extension": ".py",
   "mimetype": "text/x-python",
   "name": "python",
   "nbconvert_exporter": "python",
   "pygments_lexer": "ipython3",
   "version": "3.9.5"
  },
  "toc": {
   "base_numbering": 1,
   "nav_menu": {},
   "number_sections": true,
   "sideBar": true,
   "skip_h1_title": true,
   "title_cell": "Table of Contents",
   "title_sidebar": "Contents",
   "toc_cell": false,
   "toc_position": {},
   "toc_section_display": true,
   "toc_window_display": false
  }
 },
 "nbformat": 4,
 "nbformat_minor": 5
}
